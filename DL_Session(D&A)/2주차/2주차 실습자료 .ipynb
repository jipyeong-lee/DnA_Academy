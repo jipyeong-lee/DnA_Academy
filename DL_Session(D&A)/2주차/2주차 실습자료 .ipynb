{
 "cells": [
  {
   "cell_type": "markdown",
   "metadata": {},
   "source": [
    "# MLP with MNIST data \n",
    "\n",
    "<font color = \"#CC3D3D\"><p>\n",
    "- [Module Import](#Module-Import)\n",
    "- [Device Checking](#Device-Checking)\n",
    "- [Data Downloading](#Data-Downloading)\n",
    "- [Build Model](#Build-Model)\n",
    "- [Model Train, Test](#Model-Train,-Test)\n",
    "- [참고](#참고:-함수-정의를-하지-않고-train,-test-구현-+-model-저장)"
   ]
  },
  {
   "cell_type": "markdown",
   "metadata": {},
   "source": [
    "## Module Import"
   ]
  },
  {
   "cell_type": "code",
   "execution_count": 7,
   "metadata": {},
   "outputs": [],
   "source": [
    "import numpy as np\n",
    "import matplotlib.pyplot as plt\n",
    "\n",
    "import torch\n",
    "import torch.nn as nn\n",
    "import torch.nn.functional as F \n",
    "from torchvision import transforms, datasets\n",
    "import torch.nn.init as init\n",
    "import random"
   ]
  },
  {
   "cell_type": "markdown",
   "metadata": {},
   "source": [
    "## Device Checking "
   ]
  },
  {
   "cell_type": "code",
   "execution_count": 8,
   "metadata": {},
   "outputs": [
    {
     "name": "stdout",
     "output_type": "stream",
     "text": [
      "Using PyTorch version:  1.8.0 DEVICE: cuda\n"
     ]
    }
   ],
   "source": [
    "if torch.cuda.is_available():\n",
    "    DEVICE = torch.device('cuda')\n",
    "else:\n",
    "    DEVICE = torch.device('cpu')\n",
    "print('Using PyTorch version: ', torch.__version__, 'DEVICE:', DEVICE)"
   ]
  },
  {
   "cell_type": "code",
   "execution_count": 9,
   "metadata": {},
   "outputs": [],
   "source": [
    "# 한줄로 구현하기 \n",
    "DEVICE = 'cuda' if torch.cuda.is_available() else 'cpu'"
   ]
  },
  {
   "cell_type": "code",
   "execution_count": 10,
   "metadata": {},
   "outputs": [],
   "source": [
    "# for reproducibility\n",
    "random.seed(111)\n",
    "torch.manual_seed(777)\n",
    "if DEVICE == 'cuda':\n",
    "    torch.cuda.manual_seed_all(777)"
   ]
  },
  {
   "cell_type": "markdown",
   "metadata": {},
   "source": [
    "## Data Downloading "
   ]
  },
  {
   "cell_type": "code",
   "execution_count": 11,
   "metadata": {},
   "outputs": [],
   "source": [
    "BATCH_SIZE = 32\n",
    "EPOCHS = 10"
   ]
  },
  {
   "cell_type": "code",
   "execution_count": 13,
   "metadata": {
    "scrolled": true
   },
   "outputs": [
    {
     "name": "stdout",
     "output_type": "stream",
     "text": [
      "Using downloaded and verified file: ../data/MNIST\\MNIST\\raw\\train-images-idx3-ubyte.gz\n",
      "Extracting ../data/MNIST\\MNIST\\raw\\train-images-idx3-ubyte.gz to ../data/MNIST\\MNIST\\raw\n",
      "Using downloaded and verified file: ../data/MNIST\\MNIST\\raw\\train-labels-idx1-ubyte.gz\n",
      "Extracting ../data/MNIST\\MNIST\\raw\\train-labels-idx1-ubyte.gz to ../data/MNIST\\MNIST\\raw\n",
      "Using downloaded and verified file: ../data/MNIST\\MNIST\\raw\\t10k-images-idx3-ubyte.gz\n",
      "Extracting ../data/MNIST\\MNIST\\raw\\t10k-images-idx3-ubyte.gz to ../data/MNIST\\MNIST\\raw\n",
      "Downloading http://yann.lecun.com/exdb/mnist/t10k-labels-idx1-ubyte.gz to ../data/MNIST\\MNIST\\raw\\t10k-labels-idx1-ubyte.gz\n"
     ]
    },
    {
     "data": {
      "application/vnd.jupyter.widget-view+json": {
       "model_id": "5677eb1832374efda940ad82c06c4292",
       "version_major": 2,
       "version_minor": 0
      },
      "text/plain": [
       "HBox(children=(HTML(value=''), FloatProgress(value=0.0, max=4542.0), HTML(value='')))"
      ]
     },
     "metadata": {},
     "output_type": "display_data"
    },
    {
     "name": "stdout",
     "output_type": "stream",
     "text": [
      "\n",
      "Extracting ../data/MNIST\\MNIST\\raw\\t10k-labels-idx1-ubyte.gz to ../data/MNIST\\MNIST\\raw\n",
      "Processing...\n"
     ]
    },
    {
     "name": "stderr",
     "output_type": "stream",
     "text": [
      "C:\\Users\\leeji\\anaconda3\\lib\\site-packages\\torchvision\\datasets\\mnist.py:479: UserWarning: The given NumPy array is not writeable, and PyTorch does not support non-writeable tensors. This means you can write to the underlying (supposedly non-writeable) NumPy array using the tensor. You may want to copy the array to protect its data or make it writeable before converting it to a tensor. This type of warning will be suppressed for the rest of this program. (Triggered internally at  ..\\torch\\csrc\\utils\\tensor_numpy.cpp:143.)\n",
      "  return torch.from_numpy(parsed.astype(m[2], copy=False)).view(*s)\n"
     ]
    },
    {
     "name": "stdout",
     "output_type": "stream",
     "text": [
      "Done!\n"
     ]
    }
   ],
   "source": [
    "train_dataset = datasets.MNIST(root = \"../data/MNIST\", # 데이터를 다운받을 폴더 생성\n",
    "                               train = True,    # train데이터로 다운 \n",
    "                               download = True, # download 받을지 여부 결정 \n",
    "                               transform = transforms.ToTensor()) # 데이터를 텐서 형태로 transforms\n",
    "\n",
    "test_dataset = datasets.MNIST(root = \"../data/MNIST\",\n",
    "                              train = False, # test 데이터로 다운 \n",
    "                              transform = transforms.ToTensor())\n",
    "\n",
    "train_loader = torch.utils.data.DataLoader(dataset = train_dataset,\n",
    "                                           batch_size = BATCH_SIZE,\n",
    "                                           shuffle = True) # 데이터를 섞어서 불러올지 여부\n",
    "\n",
    "test_loader = torch.utils.data.DataLoader(dataset = test_dataset,\n",
    "                                          batch_size = BATCH_SIZE,\n",
    "                                          shuffle = False)"
   ]
  },
  {
   "cell_type": "markdown",
   "metadata": {},
   "source": [
    "#### 데이터가 잘 다운로딩 되었는지 확인! "
   ]
  },
  {
   "cell_type": "code",
   "execution_count": 14,
   "metadata": {},
   "outputs": [
    {
     "name": "stdout",
     "output_type": "stream",
     "text": [
      "X_train: torch.Size([32, 1, 28, 28]) type: torch.FloatTensor\n",
      "y_train: torch.Size([32]) type: torch.LongTensor\n"
     ]
    }
   ],
   "source": [
    "for (X_train, y_train) in train_loader:\n",
    "    print('X_train:', X_train.size(), 'type:', X_train.type())\n",
    "    print('y_train:', y_train.size(), 'type:', y_train.type())\n",
    "    break"
   ]
  },
  {
   "cell_type": "markdown",
   "metadata": {},
   "source": [
    "#### 실제 MLP 데이터 확인"
   ]
  },
  {
   "cell_type": "code",
   "execution_count": 15,
   "metadata": {},
   "outputs": [
    {
     "data": {
      "image/png": "[encoded data removed]",
      "text/plain": [
       "<Figure size 720x72 with 10 Axes>"
      ]
     },
     "metadata": {
      "needs_background": "light"
     },
     "output_type": "display_data"
    }
   ],
   "source": [
    "pltsize = 1\n",
    "plt.figure(figsize=(10 * pltsize, pltsize))\n",
    "for i in range(10):\n",
    "    plt.subplot(1, 10, i + 1)\n",
    "    plt.axis('off')\n",
    "    plt.imshow(X_train[i, :, :, :].numpy().reshape(28, 28), cmap = \"gray_r\")\n",
    "    plt.title('Class: ' + str(y_train[i].item()))"
   ]
  },
  {
   "cell_type": "markdown",
   "metadata": {},
   "source": [
    "## Build Model "
   ]
  },
  {
   "cell_type": "code",
   "execution_count": 16,
   "metadata": {},
   "outputs": [],
   "source": [
    "class Net(nn.Module):\n",
    "    def __init__(self):\n",
    "        super(Net, self).__init__()\n",
    "        self.fc1 = nn.Linear(28 * 28, 512)\n",
    "        self.batch_norm1 = nn.BatchNorm1d(512) # 데이터 정규화 \n",
    "        \n",
    "        self.fc2 = nn.Linear(512, 256)\n",
    "        self.batch_norm2 = nn.BatchNorm1d(256)\n",
    "        \n",
    "        self.fc3 = nn.Linear(256, 10)\n",
    "        \n",
    "        self.dropout_prob = 0.5 # 과적합을 막기위한 방법 중 하나 \n",
    "        \n",
    "        \n",
    "\n",
    "    def forward(self, x):\n",
    "        x = x.view(-1, 28 * 28) # reshape\n",
    "        x = self.fc1(x)\n",
    "        x = self.batch_norm1(x)\n",
    "        x = F.relu(x) # 활성화 함수 \n",
    "        x = F.dropout(x, training = self.training, p = self.dropout_prob)\n",
    "        \n",
    "        x = self.fc2(x)\n",
    "        x = self.batch_norm2(x)\n",
    "        x = F.relu(x)\n",
    "        x = F.dropout(x, training = self.training, p = self.dropout_prob)\n",
    "        \n",
    "        x = self.fc3(x)\n",
    "        x = F.log_softmax(x, dim = 1)\n",
    "        return x"
   ]
  },
  {
   "cell_type": "code",
   "execution_count": 17,
   "metadata": {},
   "outputs": [
    {
     "name": "stdout",
     "output_type": "stream",
     "text": [
      "Net(\n",
      "  (fc1): Linear(in_features=784, out_features=512, bias=True)\n",
      "  (batch_norm1): BatchNorm1d(512, eps=1e-05, momentum=0.1, affine=True, track_running_stats=True)\n",
      "  (fc2): Linear(in_features=512, out_features=256, bias=True)\n",
      "  (batch_norm2): BatchNorm1d(256, eps=1e-05, momentum=0.1, affine=True, track_running_stats=True)\n",
      "  (fc3): Linear(in_features=256, out_features=10, bias=True)\n",
      ")\n"
     ]
    }
   ],
   "source": [
    "# Optimizer, Objective Function, weight init 설정 \n",
    "\n",
    "def weight_init(m):\n",
    "    if isinstance(m, nn.Linear):\n",
    "        init.kaiming_uniform_(m.weight.data)\n",
    "\n",
    "model = Net().to(DEVICE)\n",
    "model.apply(weight_init)\n",
    "optimizer = torch.optim.Adam(model.parameters(), lr = 0.01) # 옵티마이저 \n",
    "criterion = nn.CrossEntropyLoss() # 비용함수 \n",
    "\n",
    "print(model)"
   ]
  },
  {
   "cell_type": "markdown",
   "metadata": {},
   "source": [
    "## Model Train, Test "
   ]
  },
  {
   "cell_type": "markdown",
   "metadata": {},
   "source": [
    "#### 학습하는 함수를 정의한다. "
   ]
  },
  {
   "cell_type": "code",
   "execution_count": 18,
   "metadata": {},
   "outputs": [],
   "source": [
    "def train(model, train_loader, optimizer, log_interval):\n",
    "    model.train() # train을 하겠다고 선언해준다. \n",
    "    \n",
    "    for batch_idx, (image, label) in enumerate(train_loader):\n",
    "        # image 와 label 을 장치에 할당해줌\n",
    "        image = image.to(DEVICE)\n",
    "        label = label.to(DEVICE)\n",
    "        \n",
    "        # zero the parameter gradients \n",
    "        optimizer.zero_grad()\n",
    "        \n",
    "        # forward + backward + optimize \n",
    "        output = model(image)\n",
    "        loss = criterion(output, label)\n",
    "        loss.backward()\n",
    "        optimizer.step() # 업데이트한 가중치 적용한다는 느낌\n",
    "\n",
    "        if batch_idx % log_interval == 0:\n",
    "            print(\"Train Epoch: {} [{}/{} ({:.0f}%)]\\tTrain Loss: {:.6f}\".format(\n",
    "                epoch, batch_idx * len(image), \n",
    "                len(train_loader.dataset), 100. * batch_idx / len(train_loader), \n",
    "                loss.item()))"
   ]
  },
  {
   "cell_type": "markdown",
   "metadata": {},
   "source": [
    "#### 테스트하는 함수를 정의한다. "
   ]
  },
  {
   "cell_type": "code",
   "execution_count": 19,
   "metadata": {},
   "outputs": [],
   "source": [
    "def evaluate(model, test_loader):\n",
    "    model.eval() # 평가를 한다고 선언해준다. \n",
    "    test_loss = 0\n",
    "    correct = 0\n",
    "\n",
    "    with torch.no_grad(): # gradient를 업데이트 하지 않음을 설정 \n",
    "        for image, label in test_loader:\n",
    "            image = image.to(DEVICE)\n",
    "            label = label.to(DEVICE)\n",
    "            output = model(image)\n",
    "            test_loss += criterion(output, label).item()\n",
    "            prediction = output.max(1, keepdim = True)[1]\n",
    "            correct += prediction.eq(label.view_as(prediction)).sum().item()\n",
    "            # prediction.eq(label) --> 예측값과 정답이 같으면 1, 다르면 0 출력\n",
    "            # label.view_as(prediction) --> 정답의 형태를 예측값의 형태로 만들어줌\n",
    "            # .item() --> 스칼라 값을 출력해줌.\n",
    "            \n",
    "    test_loss /= len(test_loader.dataset)\n",
    "    test_accuracy = 100. * correct / len(test_loader.dataset)\n",
    "    return test_loss, test_accuracy"
   ]
  },
  {
   "cell_type": "markdown",
   "metadata": {},
   "source": [
    "#### 학습, 테스트 진행 "
   ]
  },
  {
   "cell_type": "code",
   "execution_count": 20,
   "metadata": {
    "scrolled": true
   },
   "outputs": [
    {
     "name": "stdout",
     "output_type": "stream",
     "text": [
      "Train Epoch: 1 [0/60000 (0%)]\tTrain Loss: 3.118372\n",
      "Train Epoch: 1 [6400/60000 (11%)]\tTrain Loss: 0.338720\n",
      "Train Epoch: 1 [12800/60000 (21%)]\tTrain Loss: 0.211605\n",
      "Train Epoch: 1 [19200/60000 (32%)]\tTrain Loss: 0.156303\n",
      "Train Epoch: 1 [25600/60000 (43%)]\tTrain Loss: 0.248946\n",
      "Train Epoch: 1 [32000/60000 (53%)]\tTrain Loss: 0.206331\n",
      "Train Epoch: 1 [38400/60000 (64%)]\tTrain Loss: 0.268376\n",
      "Train Epoch: 1 [44800/60000 (75%)]\tTrain Loss: 0.327343\n",
      "Train Epoch: 1 [51200/60000 (85%)]\tTrain Loss: 0.215126\n",
      "Train Epoch: 1 [57600/60000 (96%)]\tTrain Loss: 0.311527\n",
      "\n",
      "[EPOCH: 1], \tTest Loss: 0.0042, \tTest Accuracy: 96.04 % \n",
      "\n",
      "Train Epoch: 2 [0/60000 (0%)]\tTrain Loss: 0.111723\n",
      "Train Epoch: 2 [6400/60000 (11%)]\tTrain Loss: 0.432717\n",
      "Train Epoch: 2 [12800/60000 (21%)]\tTrain Loss: 0.069159\n",
      "Train Epoch: 2 [19200/60000 (32%)]\tTrain Loss: 0.162361\n",
      "Train Epoch: 2 [25600/60000 (43%)]\tTrain Loss: 0.578344\n",
      "Train Epoch: 2 [32000/60000 (53%)]\tTrain Loss: 0.364064\n",
      "Train Epoch: 2 [38400/60000 (64%)]\tTrain Loss: 0.116240\n",
      "Train Epoch: 2 [44800/60000 (75%)]\tTrain Loss: 0.120828\n",
      "Train Epoch: 2 [51200/60000 (85%)]\tTrain Loss: 0.068844\n",
      "Train Epoch: 2 [57600/60000 (96%)]\tTrain Loss: 0.366615\n",
      "\n",
      "[EPOCH: 2], \tTest Loss: 0.0033, \tTest Accuracy: 96.92 % \n",
      "\n",
      "Train Epoch: 3 [0/60000 (0%)]\tTrain Loss: 0.088796\n",
      "Train Epoch: 3 [6400/60000 (11%)]\tTrain Loss: 0.461559\n",
      "Train Epoch: 3 [12800/60000 (21%)]\tTrain Loss: 0.062077\n",
      "Train Epoch: 3 [19200/60000 (32%)]\tTrain Loss: 0.276069\n",
      "Train Epoch: 3 [25600/60000 (43%)]\tTrain Loss: 0.210375\n",
      "Train Epoch: 3 [32000/60000 (53%)]\tTrain Loss: 0.121619\n",
      "Train Epoch: 3 [38400/60000 (64%)]\tTrain Loss: 0.069495\n",
      "Train Epoch: 3 [44800/60000 (75%)]\tTrain Loss: 0.118315\n",
      "Train Epoch: 3 [51200/60000 (85%)]\tTrain Loss: 0.188181\n",
      "Train Epoch: 3 [57600/60000 (96%)]\tTrain Loss: 0.507867\n",
      "\n",
      "[EPOCH: 3], \tTest Loss: 0.0028, \tTest Accuracy: 97.12 % \n",
      "\n",
      "Train Epoch: 4 [0/60000 (0%)]\tTrain Loss: 0.139916\n",
      "Train Epoch: 4 [6400/60000 (11%)]\tTrain Loss: 0.134143\n",
      "Train Epoch: 4 [12800/60000 (21%)]\tTrain Loss: 0.395019\n",
      "Train Epoch: 4 [19200/60000 (32%)]\tTrain Loss: 0.168593\n",
      "Train Epoch: 4 [25600/60000 (43%)]\tTrain Loss: 0.076850\n",
      "Train Epoch: 4 [32000/60000 (53%)]\tTrain Loss: 0.147992\n",
      "Train Epoch: 4 [38400/60000 (64%)]\tTrain Loss: 0.459432\n",
      "Train Epoch: 4 [44800/60000 (75%)]\tTrain Loss: 0.189171\n",
      "Train Epoch: 4 [51200/60000 (85%)]\tTrain Loss: 0.527775\n",
      "Train Epoch: 4 [57600/60000 (96%)]\tTrain Loss: 0.533569\n",
      "\n",
      "[EPOCH: 4], \tTest Loss: 0.0029, \tTest Accuracy: 97.14 % \n",
      "\n",
      "Train Epoch: 5 [0/60000 (0%)]\tTrain Loss: 0.134606\n",
      "Train Epoch: 5 [6400/60000 (11%)]\tTrain Loss: 0.125299\n",
      "Train Epoch: 5 [12800/60000 (21%)]\tTrain Loss: 0.240795\n",
      "Train Epoch: 5 [19200/60000 (32%)]\tTrain Loss: 0.091376\n",
      "Train Epoch: 5 [25600/60000 (43%)]\tTrain Loss: 0.550659\n",
      "Train Epoch: 5 [32000/60000 (53%)]\tTrain Loss: 0.087891\n",
      "Train Epoch: 5 [38400/60000 (64%)]\tTrain Loss: 0.073037\n",
      "Train Epoch: 5 [44800/60000 (75%)]\tTrain Loss: 0.248297\n",
      "Train Epoch: 5 [51200/60000 (85%)]\tTrain Loss: 0.108070\n",
      "Train Epoch: 5 [57600/60000 (96%)]\tTrain Loss: 0.258980\n",
      "\n",
      "[EPOCH: 5], \tTest Loss: 0.0025, \tTest Accuracy: 97.65 % \n",
      "\n",
      "Train Epoch: 6 [0/60000 (0%)]\tTrain Loss: 0.437042\n",
      "Train Epoch: 6 [6400/60000 (11%)]\tTrain Loss: 0.416084\n",
      "Train Epoch: 6 [12800/60000 (21%)]\tTrain Loss: 0.337174\n",
      "Train Epoch: 6 [19200/60000 (32%)]\tTrain Loss: 0.321385\n",
      "Train Epoch: 6 [25600/60000 (43%)]\tTrain Loss: 0.061590\n",
      "Train Epoch: 6 [32000/60000 (53%)]\tTrain Loss: 0.434347\n",
      "Train Epoch: 6 [38400/60000 (64%)]\tTrain Loss: 0.430020\n",
      "Train Epoch: 6 [44800/60000 (75%)]\tTrain Loss: 0.214530\n",
      "Train Epoch: 6 [51200/60000 (85%)]\tTrain Loss: 0.050680\n",
      "Train Epoch: 6 [57600/60000 (96%)]\tTrain Loss: 0.155236\n",
      "\n",
      "[EPOCH: 6], \tTest Loss: 0.0025, \tTest Accuracy: 97.67 % \n",
      "\n",
      "Train Epoch: 7 [0/60000 (0%)]\tTrain Loss: 0.142336\n",
      "Train Epoch: 7 [6400/60000 (11%)]\tTrain Loss: 0.076439\n",
      "Train Epoch: 7 [12800/60000 (21%)]\tTrain Loss: 0.088169\n",
      "Train Epoch: 7 [19200/60000 (32%)]\tTrain Loss: 0.138067\n",
      "Train Epoch: 7 [25600/60000 (43%)]\tTrain Loss: 0.346571\n",
      "Train Epoch: 7 [32000/60000 (53%)]\tTrain Loss: 0.045560\n",
      "Train Epoch: 7 [38400/60000 (64%)]\tTrain Loss: 0.214442\n",
      "Train Epoch: 7 [44800/60000 (75%)]\tTrain Loss: 0.226187\n",
      "Train Epoch: 7 [51200/60000 (85%)]\tTrain Loss: 0.110718\n",
      "Train Epoch: 7 [57600/60000 (96%)]\tTrain Loss: 0.093109\n",
      "\n",
      "[EPOCH: 7], \tTest Loss: 0.0024, \tTest Accuracy: 97.68 % \n",
      "\n",
      "Train Epoch: 8 [0/60000 (0%)]\tTrain Loss: 0.138532\n",
      "Train Epoch: 8 [6400/60000 (11%)]\tTrain Loss: 0.404206\n",
      "Train Epoch: 8 [12800/60000 (21%)]\tTrain Loss: 0.230518\n",
      "Train Epoch: 8 [19200/60000 (32%)]\tTrain Loss: 0.154425\n",
      "Train Epoch: 8 [25600/60000 (43%)]\tTrain Loss: 0.109278\n",
      "Train Epoch: 8 [32000/60000 (53%)]\tTrain Loss: 0.203210\n",
      "Train Epoch: 8 [38400/60000 (64%)]\tTrain Loss: 0.365178\n",
      "Train Epoch: 8 [44800/60000 (75%)]\tTrain Loss: 0.212740\n",
      "Train Epoch: 8 [51200/60000 (85%)]\tTrain Loss: 0.241663\n",
      "Train Epoch: 8 [57600/60000 (96%)]\tTrain Loss: 0.084931\n",
      "\n",
      "[EPOCH: 8], \tTest Loss: 0.0023, \tTest Accuracy: 97.73 % \n",
      "\n",
      "Train Epoch: 9 [0/60000 (0%)]\tTrain Loss: 0.131617\n",
      "Train Epoch: 9 [6400/60000 (11%)]\tTrain Loss: 0.301785\n",
      "Train Epoch: 9 [12800/60000 (21%)]\tTrain Loss: 0.174947\n",
      "Train Epoch: 9 [19200/60000 (32%)]\tTrain Loss: 0.238862\n",
      "Train Epoch: 9 [25600/60000 (43%)]\tTrain Loss: 0.295780\n",
      "Train Epoch: 9 [32000/60000 (53%)]\tTrain Loss: 0.071390\n",
      "Train Epoch: 9 [38400/60000 (64%)]\tTrain Loss: 0.103378\n",
      "Train Epoch: 9 [44800/60000 (75%)]\tTrain Loss: 0.058157\n",
      "Train Epoch: 9 [51200/60000 (85%)]\tTrain Loss: 0.109133\n",
      "Train Epoch: 9 [57600/60000 (96%)]\tTrain Loss: 0.287677\n",
      "\n",
      "[EPOCH: 9], \tTest Loss: 0.0022, \tTest Accuracy: 97.86 % \n",
      "\n",
      "Train Epoch: 10 [0/60000 (0%)]\tTrain Loss: 0.330440\n",
      "Train Epoch: 10 [6400/60000 (11%)]\tTrain Loss: 0.091896\n",
      "Train Epoch: 10 [12800/60000 (21%)]\tTrain Loss: 0.175891\n",
      "Train Epoch: 10 [19200/60000 (32%)]\tTrain Loss: 0.113597\n",
      "Train Epoch: 10 [25600/60000 (43%)]\tTrain Loss: 0.030820\n",
      "Train Epoch: 10 [32000/60000 (53%)]\tTrain Loss: 0.295069\n",
      "Train Epoch: 10 [38400/60000 (64%)]\tTrain Loss: 0.084219\n",
      "Train Epoch: 10 [44800/60000 (75%)]\tTrain Loss: 0.271592\n",
      "Train Epoch: 10 [51200/60000 (85%)]\tTrain Loss: 0.085763\n",
      "Train Epoch: 10 [57600/60000 (96%)]\tTrain Loss: 0.087672\n",
      "\n",
      "[EPOCH: 10], \tTest Loss: 0.0021, \tTest Accuracy: 98.14 % \n",
      "\n"
     ]
    }
   ],
   "source": [
    "for epoch in range(1, EPOCHS + 1):\n",
    "    train(model, train_loader, optimizer, log_interval = 200)\n",
    "    test_loss, test_accuracy = evaluate(model, test_loader)\n",
    "    print(\"\\n[EPOCH: {}], \\tTest Loss: {:.4f}, \\tTest Accuracy: {:.2f} % \\n\".format(\n",
    "        epoch, test_loss, test_accuracy))"
   ]
  },
  {
   "cell_type": "markdown",
   "metadata": {},
   "source": [
    "##  참고: 함수 정의를 하지 않고 train, test 구현 + model 저장"
   ]
  },
  {
   "cell_type": "code",
   "execution_count": 21,
   "metadata": {},
   "outputs": [],
   "source": [
    "def acc_check(net, test_set, epoch, save=1):\n",
    "    correct = 0\n",
    "    total = 0\n",
    "    with torch.no_grad():\n",
    "        for data in test_set:\n",
    "            images, labels = data\n",
    "            images = images.to(device)\n",
    "            labels = labels.to(device)\n",
    "            outputs = net(images)\n",
    "\n",
    "            _, predicted = torch.max(outputs.data, 1)\n",
    "\n",
    "            total += labels.size(0)\n",
    "            correct += (predicted == labels).sum().item()\n",
    "    \n",
    "    acc = (100 * correct / total)\n",
    "    print('Accuracy of the network on the 10000 test images: %d %%' % acc)\n",
    "    if save:\n",
    "        torch.save(net.state_dict(), \"./model/model_epoch_{}_acc_{}.pth\".format(epoch, int(acc)))\n",
    "    return acc"
   ]
  },
  {
   "cell_type": "code",
   "execution_count": 23,
   "metadata": {},
   "outputs": [
    {
     "name": "stdout",
     "output_type": "stream",
     "text": [
      "1875\n"
     ]
    },
    {
     "ename": "NameError",
     "evalue": "name 'trainloader' is not defined",
     "output_type": "error",
     "traceback": [
      "\u001b[1;31m---------------------------------------------------------------------------\u001b[0m",
      "\u001b[1;31mNameError\u001b[0m                                 Traceback (most recent call last)",
      "\u001b[1;32m<ipython-input-23-f28b8849311f>\u001b[0m in \u001b[0;36m<module>\u001b[1;34m\u001b[0m\n\u001b[0;32m      5\u001b[0m \u001b[1;33m\u001b[0m\u001b[0m\n\u001b[0;32m      6\u001b[0m     \u001b[0mrunning_loss\u001b[0m \u001b[1;33m=\u001b[0m \u001b[1;36m0.0\u001b[0m\u001b[1;33m\u001b[0m\u001b[1;33m\u001b[0m\u001b[0m\n\u001b[1;32m----> 7\u001b[1;33m     \u001b[1;32mfor\u001b[0m \u001b[0mi\u001b[0m\u001b[1;33m,\u001b[0m \u001b[1;33m(\u001b[0m\u001b[0mimage\u001b[0m\u001b[1;33m,\u001b[0m\u001b[0mlabels\u001b[0m\u001b[1;33m)\u001b[0m \u001b[1;32min\u001b[0m \u001b[0menumerate\u001b[0m\u001b[1;33m(\u001b[0m\u001b[0mtrainloader\u001b[0m\u001b[1;33m,\u001b[0m \u001b[1;36m0\u001b[0m\u001b[1;33m)\u001b[0m\u001b[1;33m:\u001b[0m\u001b[1;33m\u001b[0m\u001b[1;33m\u001b[0m\u001b[0m\n\u001b[0m\u001b[0;32m      8\u001b[0m         \u001b[1;31m# get the inputs\u001b[0m\u001b[1;33m\u001b[0m\u001b[1;33m\u001b[0m\u001b[1;33m\u001b[0m\u001b[0m\n\u001b[0;32m      9\u001b[0m         \u001b[0mimages\u001b[0m \u001b[1;33m=\u001b[0m \u001b[0mimages\u001b[0m\u001b[1;33m.\u001b[0m\u001b[0mto\u001b[0m\u001b[1;33m(\u001b[0m\u001b[0mDEVICE\u001b[0m\u001b[1;33m)\u001b[0m\u001b[1;33m\u001b[0m\u001b[1;33m\u001b[0m\u001b[0m\n",
      "\u001b[1;31mNameError\u001b[0m: name 'trainloader' is not defined"
     ]
    }
   ],
   "source": [
    "print(len(trainloader))\n",
    "epochs = 150\n",
    "\n",
    "for epoch in range(EPOCHS):  # loop over the dataset multiple times\n",
    "\n",
    "    running_loss = 0.0\n",
    "    for i, (image,labels) in enumerate(trainloader, 0):\n",
    "        # get the inputs\n",
    "        images = images.to(DEVICE)\n",
    "        labels = labels.to(DEVICE)\n",
    "\n",
    "        # zero the parameter gradients\n",
    "        optimizer.zero_grad()\n",
    "\n",
    "        # forward + backward + optimize\n",
    "        outputs = model(images)\n",
    "        loss = criterion(outputs, labels)\n",
    "        loss.backward()\n",
    "        optimizer.step()\n",
    "\n",
    "        # print statistics\n",
    "        running_loss += loss.item() # loss.item() 은 loss 의 스칼라 값 \n",
    "        if i % 30 == 29:    # print every 30 mini-batches\n",
    "            print('[%d, %5d] loss: %.3f' %\n",
    "                  (epoch + 1, i + 1, running_loss / 30))\n",
    "            running_loss = 0.0\n",
    "    \n",
    "    #Check Accuracy\n",
    "    acc = acc_check(model, testloader, epoch, save=1)\n",
    "    \n",
    "\n",
    "print('Finished Training')"
   ]
  },
  {
   "cell_type": "code",
   "execution_count": null,
   "metadata": {},
   "outputs": [],
   "source": [
    "correct = 0\n",
    "total = 0\n",
    "\n",
    "with torch.no_grad():\n",
    "    for data in testloader:\n",
    "        images, labels = data\n",
    "        images = images.to(DEVICE)\n",
    "        labels = labels.to(DEVICE)\n",
    "        outputs = model(images)\n",
    "        \n",
    "        _, predicted = torch.max(outputs.data, 1)\n",
    "        \n",
    "        total += labels.size(0)\n",
    "        \n",
    "        correct += (predicted == labels).sum().item()\n",
    "\n",
    "print('Accuracy of the network on the 10000 test images: %d %%' % (\n",
    "    100 * correct / total))"
   ]
  }
 ],
 "metadata": {
  "kernelspec": {
   "display_name": "Python 3",
   "language": "python",
   "name": "python3"
  },
  "language_info": {
   "codemirror_mode": {
    "name": "ipython",
    "version": 3
   },
   "file_extension": ".py",
   "mimetype": "text/x-python",
   "name": "python",
   "nbconvert_exporter": "python",
   "pygments_lexer": "ipython3",
   "version": "3.8.5"
  }
 },
 "nbformat": 4,
 "nbformat_minor": 4
}
