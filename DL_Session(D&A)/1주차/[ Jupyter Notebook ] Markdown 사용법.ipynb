{
 "cells": [
  {
   "cell_type": "markdown",
   "metadata": {},
   "source": [
    "# Markdown\n",
    "\n",
    "Markdown은 텍스트 기반의 마크업언어로 2004년 존그루버에 의해 만들어졌다.  \n",
    "쉽게 쓰고 읽을 수 있고 HTML로 변환이 가능하며 github에서 가독성이 좋아 자주 쓰이면서 각광받기 시작했다."
   ]
  },
  {
   "cell_type": "markdown",
   "metadata": {},
   "source": [
    "**마크다운의 장점**\n",
    "\n",
    "1. 간결하다.\n",
    "2. 별도의 도구없이 작성가능하다.\n",
    "3. 다양한 형태로 변환이 가능하다.\n",
    "3. 텍스트(Text)로 저장되기 때문에 용량이 적어 보관이 용이하다.\n",
    "4. 텍스트파일이기 때문에 버전관리시스템을 이용하여 변경이력을 관리할 수 있다.\n",
    "5. 지원하는 프로그램과 플랫폼이 다양하다."
   ]
  },
  {
   "cell_type": "markdown",
   "metadata": {},
   "source": [
    "**마크다운의 단점**\n",
    "\n",
    "1. 표준이 없다.\n",
    "2. 표준이 없기 때문에 도구에 따라서 변환방식이나 생성물이 다르다.\n",
    "3. 모든 HTML 마크업을 대신하지 못한다."
   ]
  },
  {
   "cell_type": "markdown",
   "metadata": {},
   "source": [
    "## <font color = \"#CC3D3D\">0. 바로가기\n",
    "클릭해서 해당부분으로 바로가는 링크를 만들어준다.  \n",
    "두번째 괄호 안에 #(시작)과 -(글자 사이)를 꼭 넣어줘야 한다.\n",
    "```\n",
    "* [1. 제목](#1.-제목)\n",
    "* [2. 줄바꿈](#2.-줄바꿈)\n",
    "* [3. 목록](#3.-목록)\n",
    "* [4. 수평선](#4.-수평선)\n",
    "* [5. 강조](#5.-강조)\n",
    "* [6. 블록인용](#6.-블록인용)\n",
    "* [7. 코드블록](#7.-코드블록)\n",
    "* [8. 링크](#8.-링크)\n",
    "* [9. 이미지](#9.-이미지)\n",
    "* [10. 수식](#10.-수식)\n",
    "* [11. 테이블 만들기](#11.-테이블-만들기)\n",
    "* [12. 텍스트 색](#12.-텍스트-색)\n",
    "* [13. 체크리스트](#13.-체크리스트)\n",
    "```"
   ]
  },
  {
   "cell_type": "markdown",
   "metadata": {},
   "source": [
    "* [1. 제목](#1.-제목)\n",
    "* [2. 줄바꿈](#2.-줄바꿈)\n",
    "* [3. 목록](#3.-목록)\n",
    "* [4. 수평선](#4.-수평선)\n",
    "* [5. 강조](#5.-강조)\n",
    "* [6. 블록인용](#6.-블록인용)\n",
    "* [7. 코드블록](#7.-코드블록)\n",
    "* [8. 링크](#8.-링크)\n",
    "* [9. 이미지](#9.-이미지)\n",
    "* [10. 수식](#10.-수식)\n",
    "* [11. 테이블 만들기](#11.-테이블-만들기)\n",
    "* [12. 텍스트 색](#12.-텍스트-색)\n",
    "* [13. 체크리스트](#13.-체크리스트)"
   ]
  },
  {
   "cell_type": "markdown",
   "metadata": {},
   "source": [
    "## <font color = \"#CC3D3D\">1. 제목  \n",
    "마크다운에서는 #을 사용해서 6가지의 제목을 나타낸다.  \n",
    "html에서 제목을 다루는 태그는 `<h1>, <h2>, <h3>, <h4>, <h5>, <h6>` 이다."
   ]
  },
  {
   "cell_type": "markdown",
   "metadata": {},
   "source": [
    "# 첫번째 큰 제목\n",
    "## 두번째 큰 제목\n",
    "### 세번째 큰 제목\n",
    "#### 네번째 큰 제목\n",
    "##### 다섯번째 큰 제목\n",
    "###### 여섯번째 큰 제목"
   ]
  },
  {
   "cell_type": "markdown",
   "metadata": {},
   "source": [
    "큰 제목을 써줄 때는 문서 아래에 = 기호를 사용한다.  \n",
    "작은 제목을 써줄 때는 문서 아래에 - 기호를 사용한다."
   ]
  },
  {
   "cell_type": "markdown",
   "metadata": {},
   "source": [
    "제목\n",
    "=====\n",
    "부제목\n",
    "------------"
   ]
  },
  {
   "cell_type": "markdown",
   "metadata": {},
   "source": [
    "## <font color = \"#CC3D3D\">2. 줄바꿈\n",
    "마크다운에서는 간단하게 `띄어쓰기 두 번을 하고 enter`을 누르면 줄을 바꿀 수 있다.  \n",
    "html에서는 `<br>` 태그를 이용해서 줄바꿈을 사용할 수 있다."
   ]
  },
  {
   "cell_type": "markdown",
   "metadata": {},
   "source": [
    "첫번째 문장입니다.  \n",
    "두번째 문장입니다."
   ]
  },
  {
   "cell_type": "markdown",
   "metadata": {},
   "source": [
    "## <font color = \"#CC3D3D\">3. 목록  \n",
    "숫자와 함께 쓰면 순서가 있는 목록이 되고, 글머리 기호와 함께 쓰면 순서가 없는 목록이 된다. (`+, -, *` 지원)  \n",
    "글머리 기호를 쓴 후 내용을 쓸 때 `띄어쓰기`를 해야한다.  "
   ]
  },
  {
   "cell_type": "markdown",
   "metadata": {},
   "source": [
    "+ 첫번째\n",
    "- 두번째\n",
    "* 세번째"
   ]
  },
  {
   "cell_type": "markdown",
   "metadata": {},
   "source": [
    "목록 안의 목록을 쓰고 싶다면 tab을 한 번 해주고, 쓰면 된다.   \n",
    "tab을 각각 해주면 색이 바뀌는 것을 볼 수 있다."
   ]
  },
  {
   "cell_type": "markdown",
   "metadata": {},
   "source": [
    "+ 첫번째\n",
    "    - 두번째\n",
    "        * 세번째"
   ]
  },
  {
   "cell_type": "markdown",
   "metadata": {},
   "source": [
    "## <font color = \"#CC3D3D\">4. 수평선\n",
    "`*`와 `-`로 수평선을 만들 수 있다.  \n",
    "개수와 상관없이 색이 검은색에서 회색으로 바뀌는 시점까지 써주면 된다.  \n",
    "html에서 제목을 다루는 태그는 `<hr/>`이다."
   ]
  },
  {
   "cell_type": "markdown",
   "metadata": {},
   "source": [
    "***\n",
    "* * *\n",
    "---\n",
    "- - -"
   ]
  },
  {
   "cell_type": "markdown",
   "metadata": {},
   "source": [
    "## <font color = \"#CC3D3D\">5. 강조\n",
    "굵은 글, 기울여진 글, 줄이 그어진 글 등을 사용할 수 있다.  \n",
    "배경색을 채우려면 `(ESC아래)를 써주면 된다.\n",
    "    \n",
    "```\n",
    "`배경색`\n",
    "*이탤릭체*  \n",
    "_이탤릭체_  \n",
    "**볼드체**  \n",
    "__볼드체__  \n",
    "~취소선~\n",
    "~~취소선~~\n",
    "```"
   ]
  },
  {
   "cell_type": "markdown",
   "metadata": {},
   "source": [
    "`배경색`  \n",
    "*이탤릭체*  \n",
    "_이탤릭체_  \n",
    "**볼드체**  \n",
    "__볼드체__  \n",
    "~취소선~  \n",
    "~~취소선~~  "
   ]
  },
  {
   "cell_type": "markdown",
   "metadata": {},
   "source": [
    "html 언어로 표현하기\n",
    "```\n",
    "<em>이탤릭체</em>\n",
    "<del>취소선</del>\n",
    "<strike>취소선</strike>  \n",
    "<u>밑줄</u>  \n",
    "윗첨자<sup>윗첨자<sup>  \n",
    "아랫첨자<sub>아랫첨자</sub>  \n",
    "```"
   ]
  },
  {
   "cell_type": "markdown",
   "metadata": {},
   "source": [
    "<em>이탤릭체</em>  \n",
    "<del>취소선</del>  \n",
    "<strike>취소선</strike>  \n",
    "<u>밑줄</u>  \n",
    "윗첨자<sup>윗첨자<sup>  \n",
    "아랫첨자<sub>아랫첨자</sub>  "
   ]
  },
  {
   "cell_type": "markdown",
   "metadata": {},
   "source": [
    "## <font color = \"#CC3D3D\">6. 블록인용\n",
    "이메일에서 사용하는 `>` 블럭인용문자를 이용한다."
   ]
  },
  {
   "cell_type": "markdown",
   "metadata": {},
   "source": [
    "> This is a first blockqute.\n",
    ">\t> This is a second blockqute.\n",
    ">\t>\t> This is a third blockqute."
   ]
  },
  {
   "cell_type": "markdown",
   "metadata": {},
   "source": [
    "## <font color = \"#CC3D3D\">7. 코드블록\n",
    "코드 블록은 ```을 사용한다.  \n",
    "코드 블록 안에 파이썬 코드를 작성하고자 할 때는 `python`을 써주면 된다."
   ]
  },
  {
   "cell_type": "markdown",
   "metadata": {},
   "source": [
    "```\n",
    "public class BootSpringBootApplication {\n",
    "  public static void main(String[] args) {\n",
    "    System.out.println(\"Hello, Honeymon\");\n",
    "  }\n",
    "}\n",
    "```"
   ]
  },
  {
   "cell_type": "markdown",
   "metadata": {},
   "source": [
    "```python\n",
    "public class BootSpringBootApplication {\n",
    "  public static void main(String[] args) {\n",
    "    System.out.println(\"Hello, Honeymon\");\n",
    "  }\n",
    "}\n",
    "```"
   ]
  },
  {
   "cell_type": "markdown",
   "metadata": {},
   "source": [
    "## <font color = \"#CC3D3D\">8. 링크"
   ]
  },
  {
   "cell_type": "markdown",
   "metadata": {},
   "source": [
    "**자동연결**  \n",
    "일반적인 URL 혹은 이메일주소인 경우 적절한 형식으로 링크를 형성한다.\n",
    "* 외부링크: <http://example.com/>\n",
    "* 이메일링크: <address@example.com>"
   ]
  },
  {
   "cell_type": "markdown",
   "metadata": {},
   "source": [
    "**외부링크**  \n",
    "링크를 쓸 때는 그냥 주소를 넣어도 하이퍼링크가 동작하지만, 링크 주소를 설명하고 싶다면 [] 안에 링크 설명을 쓰고 ()에 링크주소를 입력하면 된다.  \n",
    "[]와 () 사이에 띄어쓰기가 없어야 하며, 뒤에는 링크 이름을 적을 수 있다.\n",
    "```\n",
    "Link: [Google](https://google.com, \"google link\")\n",
    "```\n",
    "Link: [Google](https://google.com, \"google link\")"
   ]
  },
  {
   "cell_type": "markdown",
   "metadata": {},
   "source": [
    "**참조링크**  \n",
    "링크를 참조하여 쓸 때 사용하며 참조링크를 쓸 때 들여쓰기를 해야된다.\n",
    "```\n",
    "Link: [Google][googlelink]  \n",
    "[googlelink]: https://google.com \"Go google\"\n",
    "```\n",
    "Link: [Google][googlelink]  \n",
    "\n",
    "[googlelink]: https://google.com \"Go google\""
   ]
  },
  {
   "cell_type": "markdown",
   "metadata": {},
   "source": [
    "## <font color = \"#CC3D3D\">9. 이미지\n",
    "이미지를 가져오고 싶을 때는 `![이미지 이름](저장경로)`를 써주면 된다.  \n",
    "`img src`는 이미지 저장경로, `align`은 정렬, `width`는 너비, `height`는 높이, `titile`은 제목을 의미한다."
   ]
  },
  {
   "cell_type": "markdown",
   "metadata": {},
   "source": [
    "```    \n",
    "![오리 꽥꽥](/path/to/img.jpg)\n",
    "```\n",
    "![오리 꽥꽥](duck.jfif)"
   ]
  },
  {
   "cell_type": "markdown",
   "metadata": {},
   "source": [
    "```    \n",
    "<img src=\"duck.jfif\" align=\"left\" width=\"450px\" height=\"300px\" title=\"오리 꽥꽥\">\n",
    "```\n",
    "<img src=\"duck.jfif\" align=\"left\" width=\"450px\" height=\"300px\" title=\"오리 꽥꽥\">"
   ]
  },
  {
   "cell_type": "markdown",
   "metadata": {},
   "source": [
    "## <font color = \"#CC3D3D\">10. 수식\n",
    "수식을 쓸 때는 `$`로 감싸준다.  \n",
    "`$$`로 감싸주면 가운데 정렬이 된다.  \n",
    "문자 앞에는 `\\`를 붙여준다.  \n",
    "\n",
    "Name|\tSymbol|\tCommand\n",
    "---|---|---\n",
    "Alpha|\tαA|      \\alpha A\n",
    "Beta|\tβB|      \\beta B\n",
    "Gamma|   γΓ|      \\gamma \\Gamma\n",
    "Delta|   δΔ|\t\\delta \\Delta\n",
    "Epsilon|\tϵE|\t\\epsilon E\n",
    "Zeta|\tζZ|\t\\zeta Z\n",
    "Eta|\tηE|\t\\eta E\n",
    "Theta|\tθΘ|\t\\theta \\Theta\n",
    "Iota|\tιI|\t\\iota I\n",
    "Kappa|\tκK|\t\\kappa K\n",
    "Lambda|\tλΛ|\t\\lambda \\Lambda\n",
    "Mu|\tμM\t\\mu| M\n",
    "Nu|\tνN\t\\nu| N\n",
    "Omicron|\tοO|\t\\omicron O\n",
    "Pi|\tπΠ|\t\\pi \\Pi\n",
    "Rho|\tρR|\t\\rho R\n",
    "Sigma|\tσΣ|\t\\sigma \\Sigma\n",
    "Tau|\tτT|\t\\tau T\n",
    "Upsilon|\tυΥ|\t\\upsilon \\Upsilon\n",
    "Phi|\tϕΦ|\t\\phi \\Phi\n",
    "Chi|\tχX|\t\\chi X\n",
    "Psi|\tψΨ|\t\\psi \\Psi\n",
    "Omega|\tωΩ|\t\\omega \\Omega"
   ]
  },
  {
   "cell_type": "markdown",
   "metadata": {},
   "source": [
    "$$x=y+10$$"
   ]
  },
  {
   "cell_type": "markdown",
   "metadata": {},
   "source": [
    "$$RMSE=\\sqrt {\\sum_{i} (Y_{i} - \\hat Y_{i})^2}$$"
   ]
  },
  {
   "cell_type": "markdown",
   "metadata": {},
   "source": [
    "## <font color = \"#CC3D3D\">11. 테이블 만들기\n",
    "`|`를 구분자로 데이터 프레임을 입력하면 테이블 형태의 데이터 프레임을 만들 수 있다.  \n",
    "두번째 줄의 표현은 표의 정렬 기준이다.    \n",
    "--- 정렬하지 않음\n",
    ":--- 왼쪽으로 정렬\n",
    "---: 오른쪽으로 정렬\n",
    ":---: 가운데 정렬\n",
    "```\n",
    "index | 변수1 | 변수2 | 변수3\n",
    "---|---|---|---\n",
    "1 | v1 | v2 | v3\n",
    "2 | v11 | v22 | v33\n",
    "```"
   ]
  },
  {
   "cell_type": "markdown",
   "metadata": {},
   "source": [
    "index | 변수1 | 변수2 | 변수3\n",
    "---|---|---|---\n",
    "1 | v1 | v2 | v3\n",
    "2 | v11 | v22 | v33"
   ]
  },
  {
   "cell_type": "markdown",
   "metadata": {},
   "source": [
    "## <font color = \"#CC3D3D\">12. 텍스트 색\n",
    "```\n",
    "<font color = blue> 텍스트\n",
    "<font color = \"#CC3D3D\"> 텍스트\n",
    "```"
   ]
  },
  {
   "cell_type": "markdown",
   "metadata": {},
   "source": [
    "<font color=blue>텍스트  \n",
    "<font color=red>텍스트  \n",
    "<font color=green>텍스트  \n",
    "<font color=pink>텍스트  \n",
    "<font color=yellow>텍스트  "
   ]
  },
  {
   "cell_type": "markdown",
   "metadata": {},
   "source": [
    "## <font color = \"#CC3D3D\">13. 체크리스트\n",
    "`- [ ]` 를 입력하고 text를 쓰면 체크박스가 만들어진다.  \n",
    "띄어쓰기를 꼭 해줘야 되며 체크박스가 채워지려면 대괄호 안에 x를 넣어준다.\n",
    "    \n",
    "```\n",
    "- [ ] 체크박스(false)\n",
    "- [x] 체크박스(true)\n",
    "```"
   ]
  },
  {
   "cell_type": "markdown",
   "metadata": {},
   "source": [
    "- [ ] 체크박스(false)\n",
    "- [x] 체크박스(true)"
   ]
  }
 ],
 "metadata": {
  "kernelspec": {
   "display_name": "Python 3",
   "language": "python",
   "name": "python3"
  },
  "language_info": {
   "codemirror_mode": {
    "name": "ipython",
    "version": 3
   },
   "file_extension": ".py",
   "mimetype": "text/x-python",
   "name": "python",
   "nbconvert_exporter": "python",
   "pygments_lexer": "ipython3",
   "version": "3.8.5"
  }
 },
 "nbformat": 4,
 "nbformat_minor": 4
}
