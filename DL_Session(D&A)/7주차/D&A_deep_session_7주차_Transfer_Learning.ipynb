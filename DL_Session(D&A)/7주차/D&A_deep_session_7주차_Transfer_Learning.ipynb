{
 "cells": [
  {
   "cell_type": "code",
   "execution_count": null,
   "metadata": {
    "id": "T10cf98KBEjx"
   },
   "outputs": [],
   "source": [
    "import numpy as np\n",
    "import matplotlib.pyplot as plt\n",
    "\n",
    "import torch\n",
    "import torch.nn as nn\n",
    "import torch.nn.functional as F\n",
    "from torchvision import transforms, datasets"
   ]
  },
  {
   "cell_type": "code",
   "execution_count": null,
   "metadata": {
    "colab": {
     "base_uri": "https://localhost:8080/"
    },
    "executionInfo": {
     "elapsed": 983,
     "status": "ok",
     "timestamp": 1620014555652,
     "user": {
      "displayName": "­김예원[경영학부]",
      "photoUrl": "",
      "userId": "14158101873835711559"
     },
     "user_tz": -540
    },
    "id": "9T1ofuU5BGrv",
    "outputId": "9285a305-0f1e-44a8-a10a-df7b3889ea7a"
   },
   "outputs": [
    {
     "name": "stdout",
     "output_type": "stream",
     "text": [
      "Using PyTorch version: 1.8.1+cu101  Device: cuda\n"
     ]
    }
   ],
   "source": [
    "if torch.cuda.is_available():\n",
    "    DEVICE = torch.device('cuda')\n",
    "else:\n",
    "    DEVICE = torch.device('cpu')\n",
    "print('Using PyTorch version:', torch.__version__, ' Device:', DEVICE)"
   ]
  },
  {
   "cell_type": "code",
   "execution_count": null,
   "metadata": {
    "id": "t0E6pMsXBNgd"
   },
   "outputs": [],
   "source": [
    "BATCH_SIZE = 32\n",
    "EPOCHS = 10"
   ]
  },
  {
   "cell_type": "code",
   "execution_count": null,
   "metadata": {
    "id": "Dvrtal7tBR1y"
   },
   "outputs": [],
   "source": [
    "data_transforms = {\n",
    "    'train': transforms.Compose([\n",
    "        transforms.RandomResizedCrop(224),\n",
    "        transforms.RandomHorizontalFlip(),\n",
    "        transforms.ToTensor(),\n",
    "        transforms.Normalize([0.5, 0.5, 0.5], [0.5, 0.5, 0.5])\n",
    "    ]),\n",
    "    'val': transforms.Compose([\n",
    "        transforms.CenterCrop(224),\n",
    "        transforms.Resize(256),\n",
    "        transforms.ToTensor(),\n",
    "        transforms.Normalize([0.5, 0.5, 0.5], [0.5, 0.5, 0.5])\n",
    "    ]),\n",
    "}\n",
    "\n",
    "image_datasets = {x: datasets.ImageFolder(\"/content/drive/MyDrive/data/hymenoptera_data\", data_transforms[x]) for x in ['train', 'val']}\n",
    "dataloaders = {x: torch.utils.data.DataLoader(image_datasets[x], batch_size = BATCH_SIZE, num_workers = 0, shuffle = True) for x in ['train', 'val']}"
   ]
  },
  {
   "cell_type": "code",
   "execution_count": null,
   "metadata": {
    "id": "AvLHMx10BxL5"
   },
   "outputs": [],
   "source": [
    "def train(model, train_loader, optimizer, log_interval):\n",
    "    model.train()\n",
    "    for batch_idx, (image, label) in enumerate(train_loader):\n",
    "        image = image.to(DEVICE)\n",
    "        label = label.to(DEVICE)\n",
    "        optimizer.zero_grad()\n",
    "        output = model(image)\n",
    "        loss = criterion(output, label)\n",
    "        loss.backward()\n",
    "        optimizer.step()\n",
    "\n",
    "        if batch_idx % log_interval == 0:\n",
    "            print(\"Train Epoch: {} [{}/{} ({:.0f}%)]\\tTrain Loss: {:.6f}\".format(\n",
    "                epoch, batch_idx * len(image), \n",
    "                len(train_loader.dataset), 100. * batch_idx / len(train_loader), \n",
    "                loss.item()))"
   ]
  },
  {
   "cell_type": "code",
   "execution_count": null,
   "metadata": {
    "id": "pxFfW5S5BzvN"
   },
   "outputs": [],
   "source": [
    "def evaluate(model, test_loader):\n",
    "    model.eval()\n",
    "    test_loss = 0\n",
    "    correct = 0\n",
    "\n",
    "    with torch.no_grad():\n",
    "        for image, label in test_loader:\n",
    "            image = image.to(DEVICE)\n",
    "            label = label.to(DEVICE)\n",
    "            output = model(image)\n",
    "            test_loss += criterion(output, label).item()\n",
    "            prediction = output.max(1, keepdim = True)[1]\n",
    "            correct += prediction.eq(label.view_as(prediction)).sum().item()\n",
    "    \n",
    "    test_loss /= len(test_loader.dataset)\n",
    "    test_accuracy = 100. * correct / len(test_loader.dataset)\n",
    "    return test_loss, test_accuracy"
   ]
  },
  {
   "cell_type": "code",
   "execution_count": null,
   "metadata": {
    "id": "H6hqMJZAB2mD"
   },
   "outputs": [],
   "source": [
    "import torchvision.models as models\n",
    "model = models.resnet18(pretrained = False).cuda()\n",
    "num_ftrs = model.fc.in_features\n",
    "model.fc = nn.Linear(num_ftrs, 2)\n",
    "model = model.cuda()"
   ]
  },
  {
   "cell_type": "code",
   "execution_count": null,
   "metadata": {
    "colab": {
     "base_uri": "https://localhost:8080/"
    },
    "executionInfo": {
     "elapsed": 778,
     "status": "ok",
     "timestamp": 1620014589344,
     "user": {
      "displayName": "­김예원[경영학부]",
      "photoUrl": "",
      "userId": "14158101873835711559"
     },
     "user_tz": -540
    },
    "id": "VfUltIAAB7jG",
    "outputId": "3199f7ce-b2bb-4dd3-9145-9e0c1b905ac4"
   },
   "outputs": [
    {
     "name": "stdout",
     "output_type": "stream",
     "text": [
      "ResNet(\n",
      "  (conv1): Conv2d(3, 64, kernel_size=(7, 7), stride=(2, 2), padding=(3, 3), bias=False)\n",
      "  (bn1): BatchNorm2d(64, eps=1e-05, momentum=0.1, affine=True, track_running_stats=True)\n",
      "  (relu): ReLU(inplace=True)\n",
      "  (maxpool): MaxPool2d(kernel_size=3, stride=2, padding=1, dilation=1, ceil_mode=False)\n",
      "  (layer1): Sequential(\n",
      "    (0): BasicBlock(\n",
      "      (conv1): Conv2d(64, 64, kernel_size=(3, 3), stride=(1, 1), padding=(1, 1), bias=False)\n",
      "      (bn1): BatchNorm2d(64, eps=1e-05, momentum=0.1, affine=True, track_running_stats=True)\n",
      "      (relu): ReLU(inplace=True)\n",
      "      (conv2): Conv2d(64, 64, kernel_size=(3, 3), stride=(1, 1), padding=(1, 1), bias=False)\n",
      "      (bn2): BatchNorm2d(64, eps=1e-05, momentum=0.1, affine=True, track_running_stats=True)\n",
      "    )\n",
      "    (1): BasicBlock(\n",
      "      (conv1): Conv2d(64, 64, kernel_size=(3, 3), stride=(1, 1), padding=(1, 1), bias=False)\n",
      "      (bn1): BatchNorm2d(64, eps=1e-05, momentum=0.1, affine=True, track_running_stats=True)\n",
      "      (relu): ReLU(inplace=True)\n",
      "      (conv2): Conv2d(64, 64, kernel_size=(3, 3), stride=(1, 1), padding=(1, 1), bias=False)\n",
      "      (bn2): BatchNorm2d(64, eps=1e-05, momentum=0.1, affine=True, track_running_stats=True)\n",
      "    )\n",
      "  )\n",
      "  (layer2): Sequential(\n",
      "    (0): BasicBlock(\n",
      "      (conv1): Conv2d(64, 128, kernel_size=(3, 3), stride=(2, 2), padding=(1, 1), bias=False)\n",
      "      (bn1): BatchNorm2d(128, eps=1e-05, momentum=0.1, affine=True, track_running_stats=True)\n",
      "      (relu): ReLU(inplace=True)\n",
      "      (conv2): Conv2d(128, 128, kernel_size=(3, 3), stride=(1, 1), padding=(1, 1), bias=False)\n",
      "      (bn2): BatchNorm2d(128, eps=1e-05, momentum=0.1, affine=True, track_running_stats=True)\n",
      "      (downsample): Sequential(\n",
      "        (0): Conv2d(64, 128, kernel_size=(1, 1), stride=(2, 2), bias=False)\n",
      "        (1): BatchNorm2d(128, eps=1e-05, momentum=0.1, affine=True, track_running_stats=True)\n",
      "      )\n",
      "    )\n",
      "    (1): BasicBlock(\n",
      "      (conv1): Conv2d(128, 128, kernel_size=(3, 3), stride=(1, 1), padding=(1, 1), bias=False)\n",
      "      (bn1): BatchNorm2d(128, eps=1e-05, momentum=0.1, affine=True, track_running_stats=True)\n",
      "      (relu): ReLU(inplace=True)\n",
      "      (conv2): Conv2d(128, 128, kernel_size=(3, 3), stride=(1, 1), padding=(1, 1), bias=False)\n",
      "      (bn2): BatchNorm2d(128, eps=1e-05, momentum=0.1, affine=True, track_running_stats=True)\n",
      "    )\n",
      "  )\n",
      "  (layer3): Sequential(\n",
      "    (0): BasicBlock(\n",
      "      (conv1): Conv2d(128, 256, kernel_size=(3, 3), stride=(2, 2), padding=(1, 1), bias=False)\n",
      "      (bn1): BatchNorm2d(256, eps=1e-05, momentum=0.1, affine=True, track_running_stats=True)\n",
      "      (relu): ReLU(inplace=True)\n",
      "      (conv2): Conv2d(256, 256, kernel_size=(3, 3), stride=(1, 1), padding=(1, 1), bias=False)\n",
      "      (bn2): BatchNorm2d(256, eps=1e-05, momentum=0.1, affine=True, track_running_stats=True)\n",
      "      (downsample): Sequential(\n",
      "        (0): Conv2d(128, 256, kernel_size=(1, 1), stride=(2, 2), bias=False)\n",
      "        (1): BatchNorm2d(256, eps=1e-05, momentum=0.1, affine=True, track_running_stats=True)\n",
      "      )\n",
      "    )\n",
      "    (1): BasicBlock(\n",
      "      (conv1): Conv2d(256, 256, kernel_size=(3, 3), stride=(1, 1), padding=(1, 1), bias=False)\n",
      "      (bn1): BatchNorm2d(256, eps=1e-05, momentum=0.1, affine=True, track_running_stats=True)\n",
      "      (relu): ReLU(inplace=True)\n",
      "      (conv2): Conv2d(256, 256, kernel_size=(3, 3), stride=(1, 1), padding=(1, 1), bias=False)\n",
      "      (bn2): BatchNorm2d(256, eps=1e-05, momentum=0.1, affine=True, track_running_stats=True)\n",
      "    )\n",
      "  )\n",
      "  (layer4): Sequential(\n",
      "    (0): BasicBlock(\n",
      "      (conv1): Conv2d(256, 512, kernel_size=(3, 3), stride=(2, 2), padding=(1, 1), bias=False)\n",
      "      (bn1): BatchNorm2d(512, eps=1e-05, momentum=0.1, affine=True, track_running_stats=True)\n",
      "      (relu): ReLU(inplace=True)\n",
      "      (conv2): Conv2d(512, 512, kernel_size=(3, 3), stride=(1, 1), padding=(1, 1), bias=False)\n",
      "      (bn2): BatchNorm2d(512, eps=1e-05, momentum=0.1, affine=True, track_running_stats=True)\n",
      "      (downsample): Sequential(\n",
      "        (0): Conv2d(256, 512, kernel_size=(1, 1), stride=(2, 2), bias=False)\n",
      "        (1): BatchNorm2d(512, eps=1e-05, momentum=0.1, affine=True, track_running_stats=True)\n",
      "      )\n",
      "    )\n",
      "    (1): BasicBlock(\n",
      "      (conv1): Conv2d(512, 512, kernel_size=(3, 3), stride=(1, 1), padding=(1, 1), bias=False)\n",
      "      (bn1): BatchNorm2d(512, eps=1e-05, momentum=0.1, affine=True, track_running_stats=True)\n",
      "      (relu): ReLU(inplace=True)\n",
      "      (conv2): Conv2d(512, 512, kernel_size=(3, 3), stride=(1, 1), padding=(1, 1), bias=False)\n",
      "      (bn2): BatchNorm2d(512, eps=1e-05, momentum=0.1, affine=True, track_running_stats=True)\n",
      "    )\n",
      "  )\n",
      "  (avgpool): AdaptiveAvgPool2d(output_size=(1, 1))\n",
      "  (fc): Linear(in_features=512, out_features=2, bias=True)\n",
      ")\n"
     ]
    }
   ],
   "source": [
    "optimizer = torch.optim.Adam(model.parameters(), lr = 0.0001)\n",
    "criterion = nn.CrossEntropyLoss()\n",
    "\n",
    "print(model)"
   ]
  },
  {
   "cell_type": "code",
   "execution_count": null,
   "metadata": {
    "colab": {
     "base_uri": "https://localhost:8080/"
    },
    "executionInfo": {
     "elapsed": 163230,
     "status": "ok",
     "timestamp": 1620014758611,
     "user": {
      "displayName": "­김예원[경영학부]",
      "photoUrl": "",
      "userId": "14158101873835711559"
     },
     "user_tz": -540
    },
    "id": "BUI7UaBIB9qP",
    "outputId": "d2a76b1e-6709-4064-96ad-cb13e6abbd16"
   },
   "outputs": [
    {
     "name": "stdout",
     "output_type": "stream",
     "text": [
      "Train Epoch: 1 [0/397 (0%)]\tTrain Loss: 0.661970\n",
      "Train Epoch: 1 [160/397 (38%)]\tTrain Loss: 0.832303\n",
      "Train Epoch: 1 [320/397 (77%)]\tTrain Loss: 0.720373\n",
      "\n",
      "[EPOCH: 1], \tTest Loss: 0.0220, \tTest Accuracy: 60.20 % \n",
      "\n",
      "Train Epoch: 2 [0/397 (0%)]\tTrain Loss: 0.612502\n",
      "Train Epoch: 2 [160/397 (38%)]\tTrain Loss: 0.643379\n",
      "Train Epoch: 2 [320/397 (77%)]\tTrain Loss: 0.767263\n",
      "\n",
      "[EPOCH: 2], \tTest Loss: 0.0218, \tTest Accuracy: 59.45 % \n",
      "\n",
      "Train Epoch: 3 [0/397 (0%)]\tTrain Loss: 0.625953\n",
      "Train Epoch: 3 [160/397 (38%)]\tTrain Loss: 0.482991\n",
      "Train Epoch: 3 [320/397 (77%)]\tTrain Loss: 0.633768\n",
      "\n",
      "[EPOCH: 3], \tTest Loss: 0.0216, \tTest Accuracy: 63.73 % \n",
      "\n",
      "Train Epoch: 4 [0/397 (0%)]\tTrain Loss: 0.624910\n",
      "Train Epoch: 4 [160/397 (38%)]\tTrain Loss: 0.602476\n",
      "Train Epoch: 4 [320/397 (77%)]\tTrain Loss: 0.703433\n",
      "\n",
      "[EPOCH: 4], \tTest Loss: 0.0216, \tTest Accuracy: 59.95 % \n",
      "\n",
      "Train Epoch: 5 [0/397 (0%)]\tTrain Loss: 0.819259\n",
      "Train Epoch: 5 [160/397 (38%)]\tTrain Loss: 0.599229\n",
      "Train Epoch: 5 [320/397 (77%)]\tTrain Loss: 0.670239\n",
      "\n",
      "[EPOCH: 5], \tTest Loss: 0.0231, \tTest Accuracy: 58.94 % \n",
      "\n",
      "Train Epoch: 6 [0/397 (0%)]\tTrain Loss: 0.689082\n",
      "Train Epoch: 6 [160/397 (38%)]\tTrain Loss: 0.598927\n",
      "Train Epoch: 6 [320/397 (77%)]\tTrain Loss: 0.604127\n",
      "\n",
      "[EPOCH: 6], \tTest Loss: 0.0210, \tTest Accuracy: 64.48 % \n",
      "\n",
      "Train Epoch: 7 [0/397 (0%)]\tTrain Loss: 0.622185\n",
      "Train Epoch: 7 [160/397 (38%)]\tTrain Loss: 0.576611\n",
      "Train Epoch: 7 [320/397 (77%)]\tTrain Loss: 0.836115\n",
      "\n",
      "[EPOCH: 7], \tTest Loss: 0.0243, \tTest Accuracy: 61.46 % \n",
      "\n",
      "Train Epoch: 8 [0/397 (0%)]\tTrain Loss: 0.812043\n",
      "Train Epoch: 8 [160/397 (38%)]\tTrain Loss: 0.635953\n",
      "Train Epoch: 8 [320/397 (77%)]\tTrain Loss: 0.556303\n",
      "\n",
      "[EPOCH: 8], \tTest Loss: 0.0198, \tTest Accuracy: 68.26 % \n",
      "\n",
      "Train Epoch: 9 [0/397 (0%)]\tTrain Loss: 0.535925\n",
      "Train Epoch: 9 [160/397 (38%)]\tTrain Loss: 0.643648\n",
      "Train Epoch: 9 [320/397 (77%)]\tTrain Loss: 0.699251\n",
      "\n",
      "[EPOCH: 9], \tTest Loss: 0.0235, \tTest Accuracy: 62.72 % \n",
      "\n",
      "Train Epoch: 10 [0/397 (0%)]\tTrain Loss: 0.699478\n",
      "Train Epoch: 10 [160/397 (38%)]\tTrain Loss: 0.589587\n",
      "Train Epoch: 10 [320/397 (77%)]\tTrain Loss: 0.705851\n",
      "\n",
      "[EPOCH: 10], \tTest Loss: 0.0199, \tTest Accuracy: 65.99 % \n",
      "\n"
     ]
    }
   ],
   "source": [
    "for epoch in range(1, EPOCHS + 1):\n",
    "    train(model, dataloaders[\"train\"], optimizer, log_interval = 5)\n",
    "    test_loss, test_accuracy = evaluate(model, dataloaders[\"val\"])\n",
    "    print(\"\\n[EPOCH: {}], \\tTest Loss: {:.4f}, \\tTest Accuracy: {:.2f} % \\n\".format(\n",
    "        epoch, test_loss, test_accuracy))"
   ]
  },
  {
   "cell_type": "code",
   "execution_count": null,
   "metadata": {
    "colab": {
     "base_uri": "https://localhost:8080/",
     "height": 1000,
     "referenced_widgets": [
      "384b49622b5e4936baf9b0e1c8d9358f",
      "f14e8a90ee6642b69b48adc91cfa8132",
      "662485788cf74359add9a9933f867e2e",
      "8d559266c917434ea2ff757ae6d9e634",
      "b653ecad277548b087897ea7c54be371",
      "f2c1463e482c401c98441fff1f431acc",
      "a8f4cf25e89a4d1fa41f575fd82a656c",
      "9534ee90561f4b77b462cb70c16ceb70"
     ]
    },
    "executionInfo": {
     "elapsed": 71766,
     "status": "ok",
     "timestamp": 1620014853980,
     "user": {
      "displayName": "­김예원[경영학부]",
      "photoUrl": "",
      "userId": "14158101873835711559"
     },
     "user_tz": -540
    },
    "id": "JABpzH5ECEdn",
    "outputId": "b9a18fae-c7f9-4177-853b-7a1a59006df5"
   },
   "outputs": [
    {
     "name": "stderr",
     "output_type": "stream",
     "text": [
      "Downloading: \"https://download.pytorch.org/models/resnet18-5c106cde.pth\" to /root/.cache/torch/hub/checkpoints/resnet18-5c106cde.pth\n"
     ]
    },
    {
     "data": {
      "application/vnd.jupyter.widget-view+json": {
       "model_id": "384b49622b5e4936baf9b0e1c8d9358f",
       "version_major": 2,
       "version_minor": 0
      },
      "text/plain": [
       "HBox(children=(FloatProgress(value=0.0, max=46827520.0), HTML(value='')))"
      ]
     },
     "metadata": {
      "tags": []
     },
     "output_type": "display_data"
    },
    {
     "name": "stdout",
     "output_type": "stream",
     "text": [
      "\n",
      "Train Epoch: 1 [0/397 (0%)]\tTrain Loss: 0.907907\n",
      "Train Epoch: 1 [160/397 (38%)]\tTrain Loss: 0.667259\n",
      "Train Epoch: 1 [320/397 (77%)]\tTrain Loss: 0.734559\n",
      "\n",
      "[EPOCH: 1], \tTest Loss: 0.0209, \tTest Accuracy: 64.99 % \n",
      "\n",
      "Train Epoch: 2 [0/397 (0%)]\tTrain Loss: 0.556805\n",
      "Train Epoch: 2 [160/397 (38%)]\tTrain Loss: 0.508806\n",
      "Train Epoch: 2 [320/397 (77%)]\tTrain Loss: 0.475531\n",
      "\n",
      "[EPOCH: 2], \tTest Loss: 0.0158, \tTest Accuracy: 78.34 % \n",
      "\n",
      "Train Epoch: 3 [0/397 (0%)]\tTrain Loss: 0.412044\n",
      "Train Epoch: 3 [160/397 (38%)]\tTrain Loss: 0.443350\n",
      "Train Epoch: 3 [320/397 (77%)]\tTrain Loss: 0.412454\n",
      "\n",
      "[EPOCH: 3], \tTest Loss: 0.0130, \tTest Accuracy: 86.15 % \n",
      "\n",
      "Train Epoch: 4 [0/397 (0%)]\tTrain Loss: 0.366188\n",
      "Train Epoch: 4 [160/397 (38%)]\tTrain Loss: 0.300205\n",
      "Train Epoch: 4 [320/397 (77%)]\tTrain Loss: 0.458015\n",
      "\n",
      "[EPOCH: 4], \tTest Loss: 0.0114, \tTest Accuracy: 87.41 % \n",
      "\n",
      "Train Epoch: 5 [0/397 (0%)]\tTrain Loss: 0.536917\n",
      "Train Epoch: 5 [160/397 (38%)]\tTrain Loss: 0.316361\n",
      "Train Epoch: 5 [320/397 (77%)]\tTrain Loss: 0.274540\n",
      "\n",
      "[EPOCH: 5], \tTest Loss: 0.0092, \tTest Accuracy: 89.92 % \n",
      "\n",
      "Train Epoch: 6 [0/397 (0%)]\tTrain Loss: 0.269750\n",
      "Train Epoch: 6 [160/397 (38%)]\tTrain Loss: 0.276520\n",
      "Train Epoch: 6 [320/397 (77%)]\tTrain Loss: 0.330140\n",
      "\n",
      "[EPOCH: 6], \tTest Loss: 0.0074, \tTest Accuracy: 92.44 % \n",
      "\n",
      "Train Epoch: 7 [0/397 (0%)]\tTrain Loss: 0.349532\n",
      "Train Epoch: 7 [160/397 (38%)]\tTrain Loss: 0.329908\n",
      "Train Epoch: 7 [320/397 (77%)]\tTrain Loss: 0.357025\n",
      "\n",
      "[EPOCH: 7], \tTest Loss: 0.0060, \tTest Accuracy: 96.98 % \n",
      "\n",
      "Train Epoch: 8 [0/397 (0%)]\tTrain Loss: 0.247012\n",
      "Train Epoch: 8 [160/397 (38%)]\tTrain Loss: 0.175139\n",
      "Train Epoch: 8 [320/397 (77%)]\tTrain Loss: 0.279663\n",
      "\n",
      "[EPOCH: 8], \tTest Loss: 0.0061, \tTest Accuracy: 94.46 % \n",
      "\n",
      "Train Epoch: 9 [0/397 (0%)]\tTrain Loss: 0.145814\n",
      "Train Epoch: 9 [160/397 (38%)]\tTrain Loss: 0.132949\n",
      "Train Epoch: 9 [320/397 (77%)]\tTrain Loss: 0.225472\n",
      "\n",
      "[EPOCH: 9], \tTest Loss: 0.0049, \tTest Accuracy: 95.21 % \n",
      "\n",
      "Train Epoch: 10 [0/397 (0%)]\tTrain Loss: 0.077980\n",
      "Train Epoch: 10 [160/397 (38%)]\tTrain Loss: 0.075190\n",
      "Train Epoch: 10 [320/397 (77%)]\tTrain Loss: 0.147117\n",
      "\n",
      "[EPOCH: 10], \tTest Loss: 0.0045, \tTest Accuracy: 95.72 % \n",
      "\n"
     ]
    }
   ],
   "source": [
    "model = models.resnet18(pretrained = True)\n",
    "num_ftrs = model.fc.in_features\n",
    "model.fc = nn.Linear(num_ftrs, 2)\n",
    "model = model.cuda()\n",
    "\n",
    "optimizer = torch.optim.Adam(model.parameters(), lr = 0.0001)\n",
    "EPOCHS = 10\n",
    "for epoch in range(1, EPOCHS + 1):\n",
    "    train(model, dataloaders[\"train\"], optimizer, log_interval = 5)\n",
    "    valid_loss, valid_accuracy = evaluate(model, dataloaders[\"val\"])\n",
    "    print(\"\\n[EPOCH: {}], \\tTest Loss: {:.4f}, \\tTest Accuracy: {:.2f} % \\n\".format(\n",
    "        epoch, valid_loss, valid_accuracy))"
   ]
  }
 ],
 "metadata": {
  "accelerator": "GPU",
  "colab": {
   "authorship_tag": "ABX9TyOBCtdRmF4NNZr1BHgOSH8Z",
   "collapsed_sections": [],
   "mount_file_id": "1_Q9t1e-1T18VCZQ6acyd5Ct0myuuZBf1",
   "name": "D&A_deep_session_7주차_Transfer_Learning",
   "provenance": []
  },
  "kernelspec": {
   "display_name": "Python 3",
   "language": "python",
   "name": "python3"
  },
  "language_info": {
   "codemirror_mode": {
    "name": "ipython",
    "version": 3
   },
   "file_extension": ".py",
   "mimetype": "text/x-python",
   "name": "python",
   "nbconvert_exporter": "python",
   "pygments_lexer": "ipython3",
   "version": "3.8.5"
  },
  "widgets": {
   "application/vnd.jupyter.widget-state+json": {
    "384b49622b5e4936baf9b0e1c8d9358f": {
     "model_module": "@jupyter-widgets/controls",
     "model_name": "HBoxModel",
     "state": {
      "_dom_classes": [],
      "_model_module": "@jupyter-widgets/controls",
      "_model_module_version": "1.5.0",
      "_model_name": "HBoxModel",
      "_view_count": null,
      "_view_module": "@jupyter-widgets/controls",
      "_view_module_version": "1.5.0",
      "_view_name": "HBoxView",
      "box_style": "",
      "children": [
       "IPY_MODEL_662485788cf74359add9a9933f867e2e",
       "IPY_MODEL_8d559266c917434ea2ff757ae6d9e634"
      ],
      "layout": "IPY_MODEL_f14e8a90ee6642b69b48adc91cfa8132"
     }
    },
    "662485788cf74359add9a9933f867e2e": {
     "model_module": "@jupyter-widgets/controls",
     "model_name": "FloatProgressModel",
     "state": {
      "_dom_classes": [],
      "_model_module": "@jupyter-widgets/controls",
      "_model_module_version": "1.5.0",
      "_model_name": "FloatProgressModel",
      "_view_count": null,
      "_view_module": "@jupyter-widgets/controls",
      "_view_module_version": "1.5.0",
      "_view_name": "ProgressView",
      "bar_style": "success",
      "description": "100%",
      "description_tooltip": null,
      "layout": "IPY_MODEL_f2c1463e482c401c98441fff1f431acc",
      "max": 46827520,
      "min": 0,
      "orientation": "horizontal",
      "style": "IPY_MODEL_b653ecad277548b087897ea7c54be371",
      "value": 46827520
     }
    },
    "8d559266c917434ea2ff757ae6d9e634": {
     "model_module": "@jupyter-widgets/controls",
     "model_name": "HTMLModel",
     "state": {
      "_dom_classes": [],
      "_model_module": "@jupyter-widgets/controls",
      "_model_module_version": "1.5.0",
      "_model_name": "HTMLModel",
      "_view_count": null,
      "_view_module": "@jupyter-widgets/controls",
      "_view_module_version": "1.5.0",
      "_view_name": "HTMLView",
      "description": "",
      "description_tooltip": null,
      "layout": "IPY_MODEL_9534ee90561f4b77b462cb70c16ceb70",
      "placeholder": "​",
      "style": "IPY_MODEL_a8f4cf25e89a4d1fa41f575fd82a656c",
      "value": " 44.7M/44.7M [00:00&lt;00:00, 138MB/s]"
     }
    },
    "9534ee90561f4b77b462cb70c16ceb70": {
     "model_module": "@jupyter-widgets/base",
     "model_name": "LayoutModel",
     "state": {
      "_model_module": "@jupyter-widgets/base",
      "_model_module_version": "1.2.0",
      "_model_name": "LayoutModel",
      "_view_count": null,
      "_view_module": "@jupyter-widgets/base",
      "_view_module_version": "1.2.0",
      "_view_name": "LayoutView",
      "align_content": null,
      "align_items": null,
      "align_self": null,
      "border": null,
      "bottom": null,
      "display": null,
      "flex": null,
      "flex_flow": null,
      "grid_area": null,
      "grid_auto_columns": null,
      "grid_auto_flow": null,
      "grid_auto_rows": null,
      "grid_column": null,
      "grid_gap": null,
      "grid_row": null,
      "grid_template_areas": null,
      "grid_template_columns": null,
      "grid_template_rows": null,
      "height": null,
      "justify_content": null,
      "justify_items": null,
      "left": null,
      "margin": null,
      "max_height": null,
      "max_width": null,
      "min_height": null,
      "min_width": null,
      "object_fit": null,
      "object_position": null,
      "order": null,
      "overflow": null,
      "overflow_x": null,
      "overflow_y": null,
      "padding": null,
      "right": null,
      "top": null,
      "visibility": null,
      "width": null
     }
    },
    "a8f4cf25e89a4d1fa41f575fd82a656c": {
     "model_module": "@jupyter-widgets/controls",
     "model_name": "DescriptionStyleModel",
     "state": {
      "_model_module": "@jupyter-widgets/controls",
      "_model_module_version": "1.5.0",
      "_model_name": "DescriptionStyleModel",
      "_view_count": null,
      "_view_module": "@jupyter-widgets/base",
      "_view_module_version": "1.2.0",
      "_view_name": "StyleView",
      "description_width": ""
     }
    },
    "b653ecad277548b087897ea7c54be371": {
     "model_module": "@jupyter-widgets/controls",
     "model_name": "ProgressStyleModel",
     "state": {
      "_model_module": "@jupyter-widgets/controls",
      "_model_module_version": "1.5.0",
      "_model_name": "ProgressStyleModel",
      "_view_count": null,
      "_view_module": "@jupyter-widgets/base",
      "_view_module_version": "1.2.0",
      "_view_name": "StyleView",
      "bar_color": null,
      "description_width": "initial"
     }
    },
    "f14e8a90ee6642b69b48adc91cfa8132": {
     "model_module": "@jupyter-widgets/base",
     "model_name": "LayoutModel",
     "state": {
      "_model_module": "@jupyter-widgets/base",
      "_model_module_version": "1.2.0",
      "_model_name": "LayoutModel",
      "_view_count": null,
      "_view_module": "@jupyter-widgets/base",
      "_view_module_version": "1.2.0",
      "_view_name": "LayoutView",
      "align_content": null,
      "align_items": null,
      "align_self": null,
      "border": null,
      "bottom": null,
      "display": null,
      "flex": null,
      "flex_flow": null,
      "grid_area": null,
      "grid_auto_columns": null,
      "grid_auto_flow": null,
      "grid_auto_rows": null,
      "grid_column": null,
      "grid_gap": null,
      "grid_row": null,
      "grid_template_areas": null,
      "grid_template_columns": null,
      "grid_template_rows": null,
      "height": null,
      "justify_content": null,
      "justify_items": null,
      "left": null,
      "margin": null,
      "max_height": null,
      "max_width": null,
      "min_height": null,
      "min_width": null,
      "object_fit": null,
      "object_position": null,
      "order": null,
      "overflow": null,
      "overflow_x": null,
      "overflow_y": null,
      "padding": null,
      "right": null,
      "top": null,
      "visibility": null,
      "width": null
     }
    },
    "f2c1463e482c401c98441fff1f431acc": {
     "model_module": "@jupyter-widgets/base",
     "model_name": "LayoutModel",
     "state": {
      "_model_module": "@jupyter-widgets/base",
      "_model_module_version": "1.2.0",
      "_model_name": "LayoutModel",
      "_view_count": null,
      "_view_module": "@jupyter-widgets/base",
      "_view_module_version": "1.2.0",
      "_view_name": "LayoutView",
      "align_content": null,
      "align_items": null,
      "align_self": null,
      "border": null,
      "bottom": null,
      "display": null,
      "flex": null,
      "flex_flow": null,
      "grid_area": null,
      "grid_auto_columns": null,
      "grid_auto_flow": null,
      "grid_auto_rows": null,
      "grid_column": null,
      "grid_gap": null,
      "grid_row": null,
      "grid_template_areas": null,
      "grid_template_columns": null,
      "grid_template_rows": null,
      "height": null,
      "justify_content": null,
      "justify_items": null,
      "left": null,
      "margin": null,
      "max_height": null,
      "max_width": null,
      "min_height": null,
      "min_width": null,
      "object_fit": null,
      "object_position": null,
      "order": null,
      "overflow": null,
      "overflow_x": null,
      "overflow_y": null,
      "padding": null,
      "right": null,
      "top": null,
      "visibility": null,
      "width": null
     }
    }
   }
  }
 },
 "nbformat": 4,
 "nbformat_minor": 1
}
