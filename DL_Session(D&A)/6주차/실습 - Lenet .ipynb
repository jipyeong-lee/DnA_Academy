{
 "cells": [
  {
   "cell_type": "code",
   "execution_count": 1,
   "metadata": {
    "id": "w2ZssmTXoGmg"
   },
   "outputs": [],
   "source": [
    "''' 1. Module Import'''\n",
    "import numpy as np\n",
    "import matplotlib.pyplot as plt\n",
    "import torch \n",
    "import torch.nn as nn \n",
    "import torch.nn.functional as F \n",
    "import torchvision\n",
    "from torchvision import transforms, datasets"
   ]
  },
  {
   "cell_type": "code",
   "execution_count": 2,
   "metadata": {
    "colab": {
     "base_uri": "https://localhost:8080/"
    },
    "id": "rvWRpZs2pRkS",
    "outputId": "6c6b72f8-6413-4c4b-eda3-06d1ea63fbcf"
   },
   "outputs": [
    {
     "name": "stdout",
     "output_type": "stream",
     "text": [
      "Using PyTorch version: 1.8.1, Device: cuda\n"
     ]
    }
   ],
   "source": [
    "''' 2. 딥러닝 모델을 설계할 때 활용하는 장비 확인 '''\n",
    "DEVICE = 'cuda' if torch.cuda.is_available() else 'cpu'\n",
    "print(f'Using PyTorch version: {torch.__version__}, Device: {DEVICE}')\n",
    "BATCH_SIZE = 32\n",
    "EPOCHS = 10"
   ]
  },
  {
   "cell_type": "code",
   "execution_count": 3,
   "metadata": {
    "colab": {
     "base_uri": "https://localhost:8080/"
    },
    "id": "mwGIdEX5pUCb",
    "outputId": "32f08f81-3e79-4bf1-ffe6-9a44d38ca92d"
   },
   "outputs": [],
   "source": [
    "train_dataset = datasets.MNIST(root = \"../data/MNIST\",\n",
    "                               train = True,   \n",
    "                               download = True,\n",
    "                               transform = transforms.ToTensor())\n",
    "\n",
    "test_dataset = datasets.MNIST(root = \"../data/MNIST\",\n",
    "                              train = False, \n",
    "                              transform = transforms.ToTensor())\n",
    "\n",
    "train_loader = torch.utils.data.DataLoader(dataset = train_dataset,\n",
    "                                           batch_size = BATCH_SIZE,\n",
    "                                           shuffle = True) \n",
    "\n",
    "test_loader = torch.utils.data.DataLoader(dataset = test_dataset,\n",
    "                                          batch_size = BATCH_SIZE,\n",
    "                                          shuffle = False)"
   ]
  },
  {
   "cell_type": "code",
   "execution_count": 4,
   "metadata": {
    "id": "zgATSoZlpbTB"
   },
   "outputs": [],
   "source": [
    "train_loader = torch.utils.data.DataLoader(dataset = train_dataset,\n",
    "                                           batch_size = BATCH_SIZE,\n",
    "                                           shuffle = True)\n",
    "                                                \n",
    "test_loader = torch.utils.data.DataLoader(dataset = test_dataset,\n",
    "                                           batch_size = BATCH_SIZE,\n",
    "                                           shuffle = True)"
   ]
  },
  {
   "cell_type": "code",
   "execution_count": 5,
   "metadata": {
    "colab": {
     "base_uri": "https://localhost:8080/"
    },
    "id": "PsH7X970peAv",
    "outputId": "6aee321e-eca3-4fc3-a76c-c9c1745f7cd4"
   },
   "outputs": [
    {
     "name": "stdout",
     "output_type": "stream",
     "text": [
      "X_train: torch.Size([32, 1, 28, 28]), type: torch.FloatTensor\n",
      "y_train: torch.Size([32]), type: torch.LongTensor\n"
     ]
    }
   ],
   "source": [
    "''' 4. 데이터 확인하기 (1) '''\n",
    "for (X_train, y_train) in train_loader:\n",
    "    print(f'X_train: {X_train.size()}, type: {X_train.type()}')\n",
    "    print(f'y_train: {y_train.size()}, type: {y_train.type()}')\n",
    "    break"
   ]
  },
  {
   "cell_type": "code",
   "execution_count": 6,
   "metadata": {
    "colab": {
     "base_uri": "https://localhost:8080/",
     "height": 94
    },
    "id": "yJ6pWvWApfDN",
    "outputId": "867df9a7-c22d-43f4-daa9-e89f3c956a20"
   },
   "outputs": [
    {
     "data": {
      "image/png": "[encoded data removed]",
      "text/plain": [
       "<Figure size 720x72 with 10 Axes>"
      ]
     },
     "metadata": {
      "needs_background": "light"
     },
     "output_type": "display_data"
    }
   ],
   "source": [
    "# 시각화 코드. 자신의 스타일대로 바꾸어도 됨. 이 부분도 찾아보면 코드 많음\n",
    "''' 5. 데이터 확인하기 (2) '''\n",
    "pltsize = 1\n",
    "plt.figure(figsize = (10 * pltsize, pltsize))\n",
    "for i in range(10):\n",
    "    plt.subplot(1, 10, i + 1)\n",
    "    plt.axis('off')\n",
    "    plt.imshow(np.transpose(X_train[i], (1, 2, 0)))\n",
    "    plt.title(f'Class: {str(y_train[i].item())}')"
   ]
  },
  {
   "cell_type": "code",
   "execution_count": 7,
   "metadata": {
    "id": "Zifp4-TdpgJ5"
   },
   "outputs": [],
   "source": [
    "''' 6. Lenet 모델 설계하기 '''\n",
    "class Lenet(nn.Module):\n",
    "  def __init__(self):\n",
    "    super(Lenet, self).__init__()\n",
    "    # MNIST 데이터를 32 * 32의 중앙에 올리기 위해 Padding = 2 를 줌.\n",
    "    # Activation func: Sigmoid \n",
    "    self.conv1 = nn.Conv2d(1, 6, kernel_size = 5, padding = 2) \n",
    "    self.conv2 = nn.Conv2d(6, 16, kernel_size = 5)\n",
    "    self.fc1 = nn.Linear(16*5*5, 120)\n",
    "    self.fc2 = nn.Linear(120, 84)\n",
    "    self.fc3 = nn.Linear(84, 10)\n",
    "\n",
    "  def forward(self, x):\n",
    "    x = F.sigmoid(self.conv1(x)) # output_size : [32,6,28,28]\n",
    "    x = F.avg_pool2d(x, 2)       # output_size : [32,6,14,14]\n",
    "    x = F.sigmoid(self.conv2(x)) # output_size : [32,16,10,10]\n",
    "    x = F.avg_pool2d(x, 2)       # output_size : [32,16,5,5]\n",
    "    x = x.view(x.size(0), -1)    # output_size : [32,16*5*5]\n",
    "    x = F.sigmoid(self.fc1(x))   # output_size : [32,120]\n",
    "    x = F.sigmoid(self.fc2(x))   # output_size : [32,84]\n",
    "    x = self.fc3(x)              # output_size : [32,10]\n",
    "    \n",
    "    return x"
   ]
  },
  {
   "cell_type": "code",
   "execution_count": 8,
   "metadata": {
    "colab": {
     "base_uri": "https://localhost:8080/"
    },
    "id": "igK_2vo5p1bL",
    "outputId": "0b0b84b3-4469-461b-a29c-442b4480f660"
   },
   "outputs": [
    {
     "name": "stdout",
     "output_type": "stream",
     "text": [
      "Lenet(\n",
      "  (conv1): Conv2d(1, 6, kernel_size=(5, 5), stride=(1, 1), padding=(2, 2))\n",
      "  (conv2): Conv2d(6, 16, kernel_size=(5, 5), stride=(1, 1))\n",
      "  (fc1): Linear(in_features=400, out_features=120, bias=True)\n",
      "  (fc2): Linear(in_features=120, out_features=84, bias=True)\n",
      "  (fc3): Linear(in_features=84, out_features=10, bias=True)\n",
      ")\n"
     ]
    }
   ],
   "source": [
    "''' 7. Optimizer, Objective function 설정하기 ''' \n",
    "model = Lenet().to(DEVICE)\n",
    "optimizer = torch.optim.Adam(model.parameters(), lr = 0.001)\n",
    "criterion = nn.CrossEntropyLoss()\n",
    "print(model)"
   ]
  },
  {
   "cell_type": "code",
   "execution_count": 9,
   "metadata": {
    "id": "eko7OsZVqeL4"
   },
   "outputs": [],
   "source": [
    "''' 8. MLP 모델 학습을 진행하며 학습 데이터에 대한 모델 성능을 확인하는 함수 정의 '''\n",
    "def train(model, train_loader, optimizer, log_interval):\n",
    "    model.train() \n",
    "    for batch_idx, (image, label) in enumerate(train_loader):\n",
    "        image = image.to(DEVICE)\n",
    "        label = label.to(DEVICE)\n",
    "        # ------------- forward propagation\n",
    "        optimizer.zero_grad()\n",
    "        output = model(image)\n",
    "        # ------------- backward propagation\n",
    "        loss = criterion(output, label)\n",
    "        loss.backward() \n",
    "        optimizer.step() \n",
    "        \n",
    "        if batch_idx % log_interval == 0:\n",
    "            print(f'Train Epoch: {Epoch} \\\n",
    "                    [{batch_idx * len(image)} / {len(train_loader.dataset)}] ({batch_idx / len(train_loader) * 100:.0f}%) \\\n",
    "                    Train Loss: {loss.item():.6f}')"
   ]
  },
  {
   "cell_type": "code",
   "execution_count": 10,
   "metadata": {
    "id": "BIhYiuvrqmpk"
   },
   "outputs": [],
   "source": [
    "''' 9. 학습되는 과정 속에서 검증 데이터에 대한 모델 성능을 확인하는 함수 정의 '''\n",
    "def evaluate(model, test_loader):\n",
    "    model.eval() \n",
    "    test_loss = 0 \n",
    "    correct = 0 \n",
    "    \n",
    "    with torch.no_grad():\n",
    "        for image, label in test_loader:\n",
    "            image = image.to(DEVICE)\n",
    "            label = label.to(DEVICE)\n",
    "            output = model(image)\n",
    "            \n",
    "            test_loss += criterion(output, label).item() \n",
    "            prediction = output.max(1, keepdim=True)[1]\n",
    "            correct += prediction.eq(label.view_as(prediction)).sum().item()\n",
    "    test_loss /= len(test_loader.dataset)\n",
    "    test_accuracy = correct / len(test_loader.dataset) * 100\n",
    "    return test_loss, test_accuracy"
   ]
  },
  {
   "cell_type": "code",
   "execution_count": 11,
   "metadata": {
    "colab": {
     "base_uri": "https://localhost:8080/"
    },
    "id": "MiE1JH1nqoPN",
    "outputId": "6c055bcb-8019-4009-ed9c-5f4f840d5cce",
    "scrolled": false
   },
   "outputs": [
    {
     "name": "stderr",
     "output_type": "stream",
     "text": [
      "C:\\Users\\leeji\\anaconda3\\lib\\site-packages\\torch\\nn\\functional.py:1709: UserWarning: nn.functional.sigmoid is deprecated. Use torch.sigmoid instead.\n",
      "  warnings.warn(\"nn.functional.sigmoid is deprecated. Use torch.sigmoid instead.\")\n"
     ]
    },
    {
     "name": "stdout",
     "output_type": "stream",
     "text": [
      "Train Epoch: 1                     [0 / 60000] (0%)                     Train Loss: 2.345363\n",
      "Train Epoch: 1                     [6400 / 60000] (11%)                     Train Loss: 2.283514\n",
      "Train Epoch: 1                     [12800 / 60000] (21%)                     Train Loss: 1.262778\n",
      "Train Epoch: 1                     [19200 / 60000] (32%)                     Train Loss: 0.777737\n",
      "Train Epoch: 1                     [25600 / 60000] (43%)                     Train Loss: 0.495341\n",
      "Train Epoch: 1                     [32000 / 60000] (53%)                     Train Loss: 0.309500\n",
      "Train Epoch: 1                     [38400 / 60000] (64%)                     Train Loss: 0.400494\n",
      "Train Epoch: 1                     [44800 / 60000] (75%)                     Train Loss: 0.129877\n",
      "Train Epoch: 1                     [51200 / 60000] (85%)                     Train Loss: 0.167337\n",
      "Train Epoch: 1                     [57600 / 60000] (96%)                     Train Loss: 0.098449\n",
      "[EPOCH: 1, Test Loss: 0.0080, Test Accuracy: 92.02]\n",
      "Train Epoch: 2                     [0 / 60000] (0%)                     Train Loss: 0.169360\n",
      "Train Epoch: 2                     [6400 / 60000] (11%)                     Train Loss: 0.236054\n",
      "Train Epoch: 2                     [12800 / 60000] (21%)                     Train Loss: 0.277287\n",
      "Train Epoch: 2                     [19200 / 60000] (32%)                     Train Loss: 0.301007\n",
      "Train Epoch: 2                     [25600 / 60000] (43%)                     Train Loss: 0.221431\n",
      "Train Epoch: 2                     [32000 / 60000] (53%)                     Train Loss: 0.368782\n",
      "Train Epoch: 2                     [38400 / 60000] (64%)                     Train Loss: 0.174197\n",
      "Train Epoch: 2                     [44800 / 60000] (75%)                     Train Loss: 0.091386\n",
      "Train Epoch: 2                     [51200 / 60000] (85%)                     Train Loss: 0.082883\n",
      "Train Epoch: 2                     [57600 / 60000] (96%)                     Train Loss: 0.052648\n",
      "[EPOCH: 2, Test Loss: 0.0045, Test Accuracy: 95.69]\n",
      "Train Epoch: 3                     [0 / 60000] (0%)                     Train Loss: 0.091713\n",
      "Train Epoch: 3                     [6400 / 60000] (11%)                     Train Loss: 0.151951\n",
      "Train Epoch: 3                     [12800 / 60000] (21%)                     Train Loss: 0.060671\n",
      "Train Epoch: 3                     [19200 / 60000] (32%)                     Train Loss: 0.127448\n",
      "Train Epoch: 3                     [25600 / 60000] (43%)                     Train Loss: 0.077843\n",
      "Train Epoch: 3                     [32000 / 60000] (53%)                     Train Loss: 0.077324\n",
      "Train Epoch: 3                     [38400 / 60000] (64%)                     Train Loss: 0.039701\n",
      "Train Epoch: 3                     [44800 / 60000] (75%)                     Train Loss: 0.034757\n",
      "Train Epoch: 3                     [51200 / 60000] (85%)                     Train Loss: 0.044893\n",
      "Train Epoch: 3                     [57600 / 60000] (96%)                     Train Loss: 0.022057\n",
      "[EPOCH: 3, Test Loss: 0.0033, Test Accuracy: 96.80]\n",
      "Train Epoch: 4                     [0 / 60000] (0%)                     Train Loss: 0.026821\n",
      "Train Epoch: 4                     [6400 / 60000] (11%)                     Train Loss: 0.092602\n",
      "Train Epoch: 4                     [12800 / 60000] (21%)                     Train Loss: 0.050744\n",
      "Train Epoch: 4                     [19200 / 60000] (32%)                     Train Loss: 0.099964\n",
      "Train Epoch: 4                     [25600 / 60000] (43%)                     Train Loss: 0.134298\n",
      "Train Epoch: 4                     [32000 / 60000] (53%)                     Train Loss: 0.109766\n",
      "Train Epoch: 4                     [38400 / 60000] (64%)                     Train Loss: 0.170411\n",
      "Train Epoch: 4                     [44800 / 60000] (75%)                     Train Loss: 0.045304\n",
      "Train Epoch: 4                     [51200 / 60000] (85%)                     Train Loss: 0.011609\n",
      "Train Epoch: 4                     [57600 / 60000] (96%)                     Train Loss: 0.066574\n",
      "[EPOCH: 4, Test Loss: 0.0026, Test Accuracy: 97.51]\n",
      "Train Epoch: 5                     [0 / 60000] (0%)                     Train Loss: 0.010289\n",
      "Train Epoch: 5                     [6400 / 60000] (11%)                     Train Loss: 0.020759\n",
      "Train Epoch: 5                     [12800 / 60000] (21%)                     Train Loss: 0.006749\n",
      "Train Epoch: 5                     [19200 / 60000] (32%)                     Train Loss: 0.218321\n",
      "Train Epoch: 5                     [25600 / 60000] (43%)                     Train Loss: 0.030305\n",
      "Train Epoch: 5                     [32000 / 60000] (53%)                     Train Loss: 0.038285\n",
      "Train Epoch: 5                     [38400 / 60000] (64%)                     Train Loss: 0.124832\n",
      "Train Epoch: 5                     [44800 / 60000] (75%)                     Train Loss: 0.053213\n",
      "Train Epoch: 5                     [51200 / 60000] (85%)                     Train Loss: 0.095098\n",
      "Train Epoch: 5                     [57600 / 60000] (96%)                     Train Loss: 0.033400\n",
      "[EPOCH: 5, Test Loss: 0.0023, Test Accuracy: 97.63]\n",
      "Train Epoch: 6                     [0 / 60000] (0%)                     Train Loss: 0.055798\n",
      "Train Epoch: 6                     [6400 / 60000] (11%)                     Train Loss: 0.193346\n",
      "Train Epoch: 6                     [12800 / 60000] (21%)                     Train Loss: 0.051461\n",
      "Train Epoch: 6                     [19200 / 60000] (32%)                     Train Loss: 0.080835\n",
      "Train Epoch: 6                     [25600 / 60000] (43%)                     Train Loss: 0.137673\n",
      "Train Epoch: 6                     [32000 / 60000] (53%)                     Train Loss: 0.148408\n",
      "Train Epoch: 6                     [38400 / 60000] (64%)                     Train Loss: 0.019094\n",
      "Train Epoch: 6                     [44800 / 60000] (75%)                     Train Loss: 0.042038\n",
      "Train Epoch: 6                     [51200 / 60000] (85%)                     Train Loss: 0.043682\n",
      "Train Epoch: 6                     [57600 / 60000] (96%)                     Train Loss: 0.006267\n",
      "[EPOCH: 6, Test Loss: 0.0025, Test Accuracy: 97.55]\n",
      "Train Epoch: 7                     [0 / 60000] (0%)                     Train Loss: 0.005068\n",
      "Train Epoch: 7                     [6400 / 60000] (11%)                     Train Loss: 0.075809\n",
      "Train Epoch: 7                     [12800 / 60000] (21%)                     Train Loss: 0.063438\n",
      "Train Epoch: 7                     [19200 / 60000] (32%)                     Train Loss: 0.043061\n",
      "Train Epoch: 7                     [25600 / 60000] (43%)                     Train Loss: 0.141512\n",
      "Train Epoch: 7                     [32000 / 60000] (53%)                     Train Loss: 0.004894\n",
      "Train Epoch: 7                     [38400 / 60000] (64%)                     Train Loss: 0.018832\n",
      "Train Epoch: 7                     [44800 / 60000] (75%)                     Train Loss: 0.068851\n",
      "Train Epoch: 7                     [51200 / 60000] (85%)                     Train Loss: 0.016627\n",
      "Train Epoch: 7                     [57600 / 60000] (96%)                     Train Loss: 0.032155\n",
      "[EPOCH: 7, Test Loss: 0.0017, Test Accuracy: 98.32]\n",
      "Train Epoch: 8                     [0 / 60000] (0%)                     Train Loss: 0.029808\n",
      "Train Epoch: 8                     [6400 / 60000] (11%)                     Train Loss: 0.049711\n",
      "Train Epoch: 8                     [12800 / 60000] (21%)                     Train Loss: 0.028891\n",
      "Train Epoch: 8                     [19200 / 60000] (32%)                     Train Loss: 0.076334\n",
      "Train Epoch: 8                     [25600 / 60000] (43%)                     Train Loss: 0.123617\n",
      "Train Epoch: 8                     [32000 / 60000] (53%)                     Train Loss: 0.090527\n",
      "Train Epoch: 8                     [38400 / 60000] (64%)                     Train Loss: 0.149720\n",
      "Train Epoch: 8                     [44800 / 60000] (75%)                     Train Loss: 0.069697\n",
      "Train Epoch: 8                     [51200 / 60000] (85%)                     Train Loss: 0.007573\n",
      "Train Epoch: 8                     [57600 / 60000] (96%)                     Train Loss: 0.024817\n",
      "[EPOCH: 8, Test Loss: 0.0016, Test Accuracy: 98.47]\n",
      "Train Epoch: 9                     [0 / 60000] (0%)                     Train Loss: 0.136143\n"
     ]
    },
    {
     "name": "stdout",
     "output_type": "stream",
     "text": [
      "Train Epoch: 9                     [6400 / 60000] (11%)                     Train Loss: 0.013195\n",
      "Train Epoch: 9                     [12800 / 60000] (21%)                     Train Loss: 0.066122\n",
      "Train Epoch: 9                     [19200 / 60000] (32%)                     Train Loss: 0.073140\n",
      "Train Epoch: 9                     [25600 / 60000] (43%)                     Train Loss: 0.016783\n",
      "Train Epoch: 9                     [32000 / 60000] (53%)                     Train Loss: 0.042643\n",
      "Train Epoch: 9                     [38400 / 60000] (64%)                     Train Loss: 0.036589\n",
      "Train Epoch: 9                     [44800 / 60000] (75%)                     Train Loss: 0.002185\n",
      "Train Epoch: 9                     [51200 / 60000] (85%)                     Train Loss: 0.019681\n",
      "Train Epoch: 9                     [57600 / 60000] (96%)                     Train Loss: 0.005721\n",
      "[EPOCH: 9, Test Loss: 0.0015, Test Accuracy: 98.47]\n",
      "Train Epoch: 10                     [0 / 60000] (0%)                     Train Loss: 0.011322\n",
      "Train Epoch: 10                     [6400 / 60000] (11%)                     Train Loss: 0.011521\n",
      "Train Epoch: 10                     [12800 / 60000] (21%)                     Train Loss: 0.015647\n",
      "Train Epoch: 10                     [19200 / 60000] (32%)                     Train Loss: 0.005472\n",
      "Train Epoch: 10                     [25600 / 60000] (43%)                     Train Loss: 0.009455\n",
      "Train Epoch: 10                     [32000 / 60000] (53%)                     Train Loss: 0.019517\n",
      "Train Epoch: 10                     [38400 / 60000] (64%)                     Train Loss: 0.051595\n",
      "Train Epoch: 10                     [44800 / 60000] (75%)                     Train Loss: 0.027664\n",
      "Train Epoch: 10                     [51200 / 60000] (85%)                     Train Loss: 0.041294\n",
      "Train Epoch: 10                     [57600 / 60000] (96%)                     Train Loss: 0.034111\n",
      "[EPOCH: 10, Test Loss: 0.0018, Test Accuracy: 98.29]\n"
     ]
    }
   ],
   "source": [
    "''' 10. MLP 학습을 실행하며 Train, Test set의 Loss 및 Test set Accuracy 확인하기 '''\n",
    "for Epoch in range(1, EPOCHS + 1):\n",
    "    train(model, train_loader, optimizer, log_interval = 200)\n",
    "    test_loss, test_accuracy = evaluate(model, test_loader)\n",
    "    print(f'[EPOCH: {Epoch}, Test Loss: {test_loss:.4f}, Test Accuracy: {test_accuracy:.2f}]')"
   ]
  },
  {
   "cell_type": "markdown",
   "metadata": {
    "id": "v6MhWxLa3gqM"
   },
   "source": [
    "# 훈련 결과 확인"
   ]
  },
  {
   "cell_type": "code",
   "execution_count": 12,
   "metadata": {
    "id": "FvLl3zlmtKOM"
   },
   "outputs": [],
   "source": [
    "# 라벨(숫자) -> 단어(문자)로 변환하기 위한 dictionary생성\n",
    "classes = (0,1,2,3,4,5,6,7,8,9)"
   ]
  },
  {
   "cell_type": "code",
   "execution_count": 13,
   "metadata": {
    "id": "SoSMkzZx5T99"
   },
   "outputs": [],
   "source": [
    "# 이미지 생성 함수 \n",
    "def imshow(img):\n",
    "    plt.imshow(np.transpose(img, (1, 2, 0)))\n",
    "    plt.show()"
   ]
  },
  {
   "cell_type": "code",
   "execution_count": 14,
   "metadata": {
    "colab": {
     "base_uri": "https://localhost:8080/",
     "height": 258
    },
    "id": "IH7-XMxw31aX",
    "outputId": "a9199701-c84e-48f1-ba73-439da8e32191"
   },
   "outputs": [
    {
     "data": {
      "image/png": "[encoded data removed]",
      "text/plain": [
       "<Figure size 432x288 with 1 Axes>"
      ]
     },
     "metadata": {
      "needs_background": "light"
     },
     "output_type": "display_data"
    },
    {
     "name": "stdout",
     "output_type": "stream",
     "text": [
      "Truth:      4     7     0     2     8     0     4     2     6     0     8     3     8     8     0     7     1     9     1     4     2     6     6     1     8     5     3     8     6     8     8     4\n"
     ]
    }
   ],
   "source": [
    "# 테스트를 위해 test 데이터에서 image와 label 일부 가져옴 \n",
    "dataiter = iter(test_loader)\n",
    "images, labels = dataiter.next()\n",
    "\n",
    "# 이미지를 출력합니다.\n",
    "imshow(torchvision.utils.make_grid(images))\n",
    "print('Truth: ', ' '.join('%5s' % classes[labels[j]] for j in range(32)))"
   ]
  },
  {
   "cell_type": "code",
   "execution_count": 15,
   "metadata": {
    "cellView": "code",
    "colab": {
     "base_uri": "https://localhost:8080/"
    },
    "id": "GpfdFKwks0WT",
    "outputId": "3211b5b7-9f1d-443b-d5ca-c278e6e7fec7"
   },
   "outputs": [
    {
     "name": "stdout",
     "output_type": "stream",
     "text": [
      "Predicted:      4     7     0     2     8     0     4     2     6     0     0     3     4     8     0     7     1     9     1     4     2     6     6     1     2     5     3     8     6     8     8     4\n"
     ]
    }
   ],
   "source": [
    "# 훈련된 모델에 추출한 이미지 넣기\n",
    "outputs = model(images.to(DEVICE))\n",
    "\n",
    "# 예측값 (라벨) 뽑기\n",
    "_, predicted = torch.max(outputs, 1)\n",
    "\n",
    "# 'Truth'와 predicted 비교 ( = 실제와 예측 비교 )\n",
    "print('Predicted: ', ' '.join('%5s' % classes[predicted[j]]\n",
    "                              for j in range(32)))"
   ]
  },
  {
   "cell_type": "code",
   "execution_count": 16,
   "metadata": {
    "colab": {
     "base_uri": "https://localhost:8080/"
    },
    "id": "g7BlzjI-yqP3",
    "outputId": "78cfdb9c-dda1-41d3-ff81-48694d0d3376",
    "scrolled": true
   },
   "outputs": [
    {
     "name": "stdout",
     "output_type": "stream",
     "text": [
      "Accuracy of     0 : 99 %\n",
      "Accuracy of     1 : 100 %\n",
      "Accuracy of     2 : 98 %\n",
      "Accuracy of     3 : 95 %\n",
      "Accuracy of     4 : 100 %\n",
      "Accuracy of     5 : 98 %\n",
      "Accuracy of     6 : 100 %\n",
      "Accuracy of     7 : 97 %\n",
      "Accuracy of     8 : 98 %\n",
      "Accuracy of     9 : 99 %\n"
     ]
    }
   ],
   "source": [
    "# 각 라벨별 정확도를 산출\n",
    "class_correct = list(0. for i in range(10))\n",
    "class_total = list(0. for i in range(10))\n",
    "with torch.no_grad():\n",
    "    for data in test_loader:\n",
    "        images, labels = data\n",
    "        images = images.to(DEVICE)\n",
    "        labels = labels.to(DEVICE)\n",
    "        outputs = model(images)\n",
    "        _, predicted = torch.max(outputs, 1)\n",
    "        c = (predicted == labels).squeeze()\n",
    "        for i in range(4):\n",
    "            label = labels[i]\n",
    "            class_correct[label] += c[i].item()\n",
    "            class_total[label] += 1\n",
    "\n",
    "\n",
    "for i in range(10):\n",
    "    print('Accuracy of %5s : %2d %%' % (\n",
    "        classes[i], 100 * class_correct[i] / class_total[i]))"
   ]
  },
  {
   "cell_type": "code",
   "execution_count": null,
   "metadata": {},
   "outputs": [],
   "source": []
  }
 ],
 "metadata": {
  "accelerator": "GPU",
  "colab": {
   "collapsed_sections": [],
   "name": "Lenet.ipynb",
   "provenance": []
  },
  "kernelspec": {
   "display_name": "Python 3",
   "language": "python",
   "name": "python3"
  },
  "language_info": {
   "codemirror_mode": {
    "name": "ipython",
    "version": 3
   },
   "file_extension": ".py",
   "mimetype": "text/x-python",
   "name": "python",
   "nbconvert_exporter": "python",
   "pygments_lexer": "ipython3",
   "version": "3.8.5"
  }
 },
 "nbformat": 4,
 "nbformat_minor": 1
}
