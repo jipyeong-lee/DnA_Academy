{
 "cells": [
  {
   "cell_type": "code",
   "execution_count": 41,
   "metadata": {},
   "outputs": [],
   "source": [
    "import requests    #패키지 불러오기\n",
    "from bs4 import BeautifulSoup"
   ]
  },
  {
   "cell_type": "code",
   "execution_count": 93,
   "metadata": {},
   "outputs": [],
   "source": [
    "keywords = ['python', 'deep learning', 'sql','health','sports','school','life','food','technology','money']\n",
    "\n",
    "#10개 키워드로 검색 > 20권씩 추출\n",
    "#키워드는 임의로 선택\n",
    "#직접 검색어를 입력받아서 추출하는 것도 가능 > input 사용 \n",
    "#ex) \n",
    "keywords = []\n",
    "for i in range(0,10):\n",
    "    keyword =  input('검색어를 입력하세요:')\n",
    "    keywords.append(keyword)\n",
    "print(keywords)\n",
    "#검색어가 한글인 경우 이미지 파일의 다운로드가 안되는 오류가 발생...한글처리를 따로 해야되는듯"
   ]
  },
  {
   "cell_type": "code",
   "execution_count": 77,
   "metadata": {},
   "outputs": [
    {
     "name": "stdout",
     "output_type": "stream",
     "text": [
      "------------------ python ------------------이미지 다운 완료!\n",
      "------------------ deep learning ------------------이미지 다운 완료!\n",
      "------------------ sql ------------------이미지 다운 완료!\n",
      "------------------ health ------------------이미지 다운 완료!\n",
      "------------------ sports ------------------이미지 다운 완료!\n",
      "------------------ school ------------------이미지 다운 완료!\n",
      "------------------ life ------------------이미지 다운 완료!\n",
      "------------------ food ------------------이미지 다운 완료!\n",
      "------------------ technology ------------------이미지 다운 완료!\n",
      "------------------ money ------------------이미지 다운 완료!\n"
     ]
    }
   ],
   "source": [
    "n = 1 #이미지 파일을 다운받을 때 파일명의 중복을 막기위함, 이코드가 없을 시 이미지파일이 마지막 하나만 저장됨.\n",
    "for keyword in keywords:\n",
    "    print(f'------------------ {keyword} ------------------' + '이미지 다운 완료!')\n",
    "    req = requests.get('http://www.yes24.com/searchcorner/Search?keywordAd=&keyword=&domain=ALL&qdomain=%C0%FC%C3%BC&query=' + keyword)\n",
    "    soup = BeautifulSoup(req.text, 'html.parser')\n",
    "    books = soup.select('td.goods_img')\n",
    "    for book in books[:20]:\n",
    "        img = book.select_one('a.img_bdr img').attrs['src']\n",
    "        urlretrieve(img, str(n)+'.png') \n",
    "        n += 1\n",
    "        "
   ]
  },
  {
   "cell_type": "code",
   "execution_count": 52,
   "metadata": {},
   "outputs": [
    {
     "name": "stdout",
     "output_type": "stream",
     "text": [
      "------------------ python ------------------\n",
      "Do it! 점프 투 파이썬, 박응용, 16,920원,정보없음,64,9.6,http://www.yes24.com/Product/Goods/74419916?OzSrank=1\n",
      "혼자 공부하는 파이썬, 윤인성, 16,200원,정보없음,46,9.4,http://www.yes24.com/Product/Goods/74269975?OzSrank=2\n",
      "혼자 공부하는 머신러닝+딥러닝, 박해선, 23,400원,정보없음,8,10.0,http://www.yes24.com/Product/Goods/96024871?OzSrank=3\n",
      "두근두근 파이썬, 천인국, 22,800원,정보없음,6,10.0,http://www.yes24.com/Product/Goods/35279965?OzSrank=4\n",
      "파이썬 for Beginner, 우재남, 23,000원,정보없음,3,9.4,http://www.yes24.com/Product/Goods/83849188?OzSrank=5\n",
      "이것이 취업을 위한 코딩 테스트다 with 파이썬 , 나동빈, 30,600원,정보없음,11,9.5,http://www.yes24.com/Product/Goods/91433923?OzSrank=6\n",
      "밑바닥부터 시작하는 딥러닝 , 사이토 고키, 21,600원,정보없음,25,9.5,http://www.yes24.com/Product/Goods/34970929?OzSrank=7\n",
      "파이썬 증권 데이터 분석 , 김황후, 28,800원,정보없음,18,9.6,http://www.yes24.com/Product/Goods/90578506?OzSrank=8\n",
      "핸즈온 머신러닝, 오렐리앙 제롱, 49,500원,정보없음,13,9.1,http://www.yes24.com/Product/Goods/89959711?OzSrank=9\n",
      "파이썬을 이용한 비트코인 자동매매, 조대표, 24,300원,정보없음,정보없음,정보없음,http://www.yes24.com/Product/Goods/98135876?OzSrank=10\n",
      "파이썬 머신러닝 완벽 가이드, 권철민, 34,200원,정보없음,4,9.6,http://www.yes24.com/Product/Goods/87044746?OzSrank=11\n",
      "파이썬으로 배우는 컴퓨팅 사고, 김완섭, 17,000원,정보없음,1,4.0,http://www.yes24.com/Product/Goods/70749127?OzSrank=12\n",
      "Do it! 파이썬 생활 프로그래밍, 김창현, 18,000원,정보없음,17,9.6,http://www.yes24.com/Product/Goods/91437485?OzSrank=13\n",
      "Do it! 점프 투 파이썬 + Do it! 파이썬 생활 프로그래밍, 박응용, 34,920원,정보없음,83,9.6,http://www.yes24.com/Product/Goods/91446225?OzSrank=14\n",
      "어서와 파이썬은 처음이지!, 천인국, 29,000원,정보없음,정보없음,정보없음,http://www.yes24.com/Product/Goods/30575427?OzSrank=15\n",
      "파이썬 알고리즘 인터뷰, 박상길, 34,200원,정보없음,12,8.9,http://www.yes24.com/Product/Goods/91084402?OzSrank=16\n",
      "Do it! 자료구조와 함께 배우는 알고리즘 입문 : 파이썬 편, 시바타 보요, 19,800원,정보없음,8,9.8,http://www.yes24.com/Product/Goods/91219874?OzSrank=17\n",
      "Do it! 점프 투 파이썬 + Do it! 자료구조와 함께 배우는 알고리즘 입문 : 파이썬 편 + Do it! 파이썬 생활 프로그래밍, 박응용, 54,720원,정보없음,89,9.6,http://www.yes24.com/Product/Goods/91446242?OzSrank=18\n",
      "쓰면서 익히는 알고리즘과 자료구조, 윤대석, 23,400원,정보없음,정보없음,정보없음,http://www.yes24.com/Product/Goods/98828718?OzSrank=19\n",
      "파워 유저를 위한 파이썬 EXPRESS, 천인국, 30,000원,정보없음,정보없음,정보없음,http://www.yes24.com/Product/Goods/95784557?OzSrank=20\n",
      "------------------ deep learning ------------------\n",
      "밑바닥부터 시작하는 딥러닝 , 사이토 고키, 21,600원,정보없음,25,9.5,http://www.yes24.com/Product/Goods/34970929?OzSrank=1\n",
      "핸즈온 머신러닝, 오렐리앙 제롱, 49,500원,정보없음,13,9.1,http://www.yes24.com/Product/Goods/89959711?OzSrank=2\n",
      "파이썬 딥러닝 파이토치 (Python Deep Learning PyTorch), 이경택, 22,500원,정보없음,21,9.7,http://www.yes24.com/Product/Goods/93376077?OzSrank=3\n",
      "밑바닥부터 시작하는 딥러닝 2, 사이토 고키, 26,100원,정보없음,12,9.8,http://www.yes24.com/Product/Goods/72173703?OzSrank=4\n",
      "파이썬 딥러닝 파이토치 (Python Deep Learning PyTorch), 이경택, 17,000원,정보없음,정보없음,정보없음,http://www.yes24.com/Product/Goods/95785880?OzSrank=5\n",
      "케라스 창시자에게 배우는 딥러닝, 프랑소와 숄레, 29,700원,정보없음,8,8.9,http://www.yes24.com/Product/Goods/65050162?OzSrank=6\n",
      "Neural Networks and Deep Learning, Springer-Verlag New York Inc, 69,000원,정보없음,정보없음,정보없음,http://www.yes24.com/Product/Goods/61373350?OzSrank=7\n",
      "Deep Learning, Ian Goodfellow, 69,000원,정보없음,3,9.4,http://www.yes24.com/Product/Goods/28959219?OzSrank=8\n",
      "Deep Reinforcement Learning Hands-On, 2/E, Maxim Lapan, 55,000원,정보없음,정보없음,정보없음,http://www.yes24.com/Product/Goods/87753436?OzSrank=9\n",
      "Deep Learning Javaプログラミング 深層學習の理論と實裝, 스고모리 유우스케, 47,380원,정보없음,정보없음,정보없음,http://www.yes24.com/Product/Goods/32537847?OzSrank=10\n",
      "Explainable Ai: Interpreting, Explaining and Visualizing Deep Learning, Springer, 115,400원,정보없음,정보없음,정보없음,http://www.yes24.com/Product/Goods/78755923?OzSrank=11\n",
      "Hands-On Deep Learning for IoT, Packt Publishing, 35,000원,정보없음,정보없음,정보없음,http://www.yes24.com/Product/Goods/76708613?OzSrank=12\n",
      "Artificial Intelligence Engines: A Tutorial Introduction to the Mathematics of Deep Learning, Sebtel Press, 34,980원,정보없음,정보없음,정보없음,http://www.yes24.com/Product/Goods/72014657?OzSrank=13\n",
      "Data Orchestration in Deep Learning Accelerators, Morgan & Claypool, 89,700원,정보없음,정보없음,정보없음,http://www.yes24.com/Product/Goods/92373799?OzSrank=14\n",
      "Hands-On Mathematics for Deep Learning, Jay Dawani, 39,000원,정보없음,정보없음,정보없음,http://www.yes24.com/Product/Goods/91015947?OzSrank=15\n",
      "2020 미국 연구개발 테마 총서 Vol.05. 딥 러닝(Deep Learning), 씨에치오얼라이언스(CHO Alliance), 270,000원,정보없음,정보없음,정보없음,http://www.yes24.com/Product/Goods/97247096?OzSrank=16\n",
      "Deep Learning for Coders with Fastai and Pytorch: AI Applications Without a PhD, Oreilly & Associates Inc, 81,770원,정보없음,정보없음,정보없음,http://www.yes24.com/Product/Goods/76134431?OzSrank=17\n",
      "Advanced Deep Learning with Tensorflow and Keras, 2/E, Rowel Atienza, 50,000원,정보없음,정보없음,정보없음,http://www.yes24.com/Product/Goods/90601333?OzSrank=18\n",
      "Generative Deep Learning: Teaching Machines to Paint, Write, Compose, and Play, Oreilly & Associates Inc, 81,770원,정보없음,정보없음,정보없음,http://www.yes24.com/Product/Goods/69635044?OzSrank=19\n",
      "The Deep Learning Revolution, 테런스 J. 세즈노스키, 25,000원,정보없음,정보없음,정보없음,http://www.yes24.com/Product/Goods/51185784?OzSrank=20\n",
      "------------------ sql ------------------\n",
      "SQL 자격검정 실전문제, 한국데이터진흥원, 18,000원,정보없음,22,8.7,http://www.yes24.com/Product/Goods/33524934?OzSrank=1\n",
      "이기적 SQL 개발자 이론서+기출문제, 임호진, 19,800원,정보없음,28,9.1,http://www.yes24.com/Product/Goods/90036034?OzSrank=2\n",
      "모두의 SQL, 김도연, 16,200원,정보없음,8,9.4,http://www.yes24.com/Product/Goods/64434562?OzSrank=3\n",
      "SQL 전문가 가이드, 한국데이터산업진흥원, 50,000원,정보없음,2,8.0,http://www.yes24.com/Product/Goods/90613346?OzSrank=4\n",
      "오라클로 배우는 데이터베이스 개론과 실습, 박우창, 29,000원,정보없음,정보없음,정보없음,http://www.yes24.com/Product/Goods/91452369?OzSrank=5\n",
      "친절한 SQL 튜닝, 조시형, 36,100원,정보없음,5,9.0,http://www.yes24.com/Product/Goods/61254539?OzSrank=6\n",
      "러닝 SQL, 앨런 볼리외, 27,000원,정보없음,정보없음,정보없음,http://www.yes24.com/Product/Goods/98388711?OzSrank=7\n",
      "몽고DB 완벽 가이드, 크리스티나 초도로, 32,400원,정보없음,정보없음,정보없음,http://www.yes24.com/Product/Goods/97980005?OzSrank=8\n",
      "칼퇴족 김 대리는 알고 나만 모르는 SQL, 김지훈, 9,900원,정보없음,4,8.8,http://www.yes24.com/Product/Goods/14306016?OzSrank=9\n",
      "SQL 첫걸음, 아사이 아츠시, 19,800원,정보없음,10,8.6,http://www.yes24.com/Product/Goods/22744867?OzSrank=10\n",
      "손에 잡히는 10분 SQL, 벤 포터, 16,200원,정보없음,정보없음,정보없음,http://www.yes24.com/Product/Goods/93511233?OzSrank=11\n",
      "초보자를 위한 SQL 200제 (PL/SQL), 유연수, 22,500원,정보없음,10,9.9,http://www.yes24.com/Product/Goods/90226600?OzSrank=12\n",
      "데이터 분석을 위한 SQL 레시피, 가사키 나가토, 32,400원,정보없음,2,8.0,http://www.yes24.com/Product/Goods/59411396?OzSrank=13\n",
      "실습으로 배우는 SQL injection, 한승협, 0원,정보없음,정보없음,정보없음,http://www.yes24.com/Product/Goods/74215631?OzSrank=14\n",
      "모두를 위한 PostgreSQL, 정승호, 25,200원,정보없음,2,9.0,http://www.yes24.com/Product/Goods/97174758?OzSrank=15\n",
      "데이터 분석과 시각화: SQL로 분석하고 Tableau로 시각화하자, 모원서, 23,400원,정보없음,7,9.2,http://www.yes24.com/Product/Goods/94062191?OzSrank=16\n",
      "모두의 SQL, 김도연, 12,600원,정보없음,정보없음,정보없음,http://www.yes24.com/Product/Goods/65574396?OzSrank=17\n",
      "오라클 SQL과 PL/SQL, 서진수, 32,000원,정보없음,1,10.0,http://www.yes24.com/Product/Goods/46218018?OzSrank=18\n",
      "한번에 이해되는 Oracle SQL & PL/SQL, 김수환, 25,200원,정보없음,정보없음,정보없음,http://www.yes24.com/Product/Goods/13766643?OzSrank=19\n",
      "데이터 분석가와 개발자를 위한MS SQL Server 기본에서 실무까지, 김정현, 23,750원,정보없음,정보없음,정보없음,http://www.yes24.com/Product/Goods/92574397?OzSrank=20\n",
      "------------------ health ------------------\n",
      "헬스장에서 불끈불끈, 남친 몰래 젖어버려, sanku, 500원,정보없음,정보없음,정보없음,http://www.yes24.com/Product/Goods/94446708?OzSrank=1\n",
      "넛지, 리처드 탈러, 16,200원,정보없음,28,8.8,http://www.yes24.com/Product/Goods/67094876?OzSrank=2\n",
      "자연치유 불변의 법칙, 하비 다이아몬드, 14,400원,정보없음,9,9.8,http://www.yes24.com/Product/Goods/90954116?OzSrank=3\n",
      "무조건 살 빠지는 다이어트, 김미경, 12,420원,정보없음,19,9.7,http://www.yes24.com/Product/Goods/97587793?OzSrank=4\n",
      "포스트 팬데믹 시대 체외진단 및 헬스케어산업 유망기술 시장분석, R&D정보센터, 361,000원,정보없음,정보없음,정보없음,http://www.yes24.com/Product/Goods/99000772?OzSrank=5\n",
      "건강과 치유의 비밀 , 안드레아스 모리츠, 34,200원,정보없음,5,9.8,http://www.yes24.com/Product/Goods/94874915?OzSrank=6\n",
      "헬스의 정석 : 이론편 (2019 개정판), 수피, 22,500원,정보없음,정보없음,정보없음,http://www.yes24.com/Product/Goods/80314020?OzSrank=7\n",
      "헬스의 정석 : 근력운동편, 수피, 22,500원,정보없음,17,9.6,http://www.yes24.com/Product/Goods/28744550?OzSrank=8\n",
      "호오포노포노의 비밀, 조 비테일, 11,700원,정보없음,16,8.4,http://www.yes24.com/Product/Goods/5981007?OzSrank=9\n",
      "맨즈헬스 Men's Health 한국판 D형 (월간) : 4월 [2021], 메커니즘, 9,020원,정보없음,정보없음,정보없음,http://www.yes24.com/Product/Goods/98808059?OzSrank=10\n",
      "헬스의 정석 : 이론편 (2019 개정판) + 근력운동편, 수피, 45,000원,정보없음,18,9.5,http://www.yes24.com/Product/Goods/80487530?OzSrank=11\n",
      "맨즈헬스 Men's Health 한국판 B형 (월간) : 4월 [2021], 메커니즘, 7,600원,정보없음,정보없음,정보없음,http://www.yes24.com/Product/Goods/98808049?OzSrank=12\n",
      "디지털 헬스케어, 최윤섭, 31,500원,정보없음,5,10.0,http://www.yes24.com/Product/Goods/86019319?OzSrank=13\n",
      "21세기 영양과 건강 이야기, 최혜미, 19,000원,정보없음,정보없음,정보없음,http://www.yes24.com/Product/Goods/30742294?OzSrank=14\n",
      "맨즈헬스 Men's Health 한국판 C형 (월간) : 4월 [2021], 메커니즘, 8,070원,정보없음,정보없음,정보없음,http://www.yes24.com/Product/Goods/98808056?OzSrank=15\n",
      "맨즈헬스 Men's Health 한국판 A형 (월간) : 4월 [2021], 메커니즘, 7,120원,정보없음,정보없음,정보없음,http://www.yes24.com/Product/Goods/98808045?OzSrank=16\n",
      "위암 수술 후 식사 가이드, 연세 세브란스병원 위암클리닉, 20,520원,정보없음,3,9.7,http://www.yes24.com/Product/Goods/4501885?OzSrank=17\n",
      "우리 몸 연대기, 대니얼 리버먼, 19,800원,정보없음,36,9.0,http://www.yes24.com/Product/Goods/61197887?OzSrank=18\n",
      "의사와 수의사가 만나다, 바버라 내터슨-호러위츠, 19,800원,정보없음,4,10.0,http://www.yes24.com/Product/Goods/43838137?OzSrank=19\n",
      "자연치유 불변의 법칙, 하비 다이아몬드, 9,000원,정보없음,1,10.0,http://www.yes24.com/Product/Goods/90966401?OzSrank=20\n",
      "------------------ sports ------------------\n"
     ]
    },
    {
     "name": "stdout",
     "output_type": "stream",
     "text": [
      "2021 에듀윌 스포츠지도사 필기 한권끝장, 정수봉, 26,100원,정보없음,7,10.0,http://www.yes24.com/Product/Goods/94192857?OzSrank=1\n",
      "2021 성피티의 생활스포츠지도사 2급 필기 합격공식, 정빛나, 26,100원,정보없음,7,10.0,http://www.yes24.com/Product/Goods/96376857?OzSrank=2\n",
      "하이큐!! 37, 후루다테 하루이치, 4,500원,정보없음,33,9.6,http://www.yes24.com/Product/Goods/76655756?OzSrank=3\n",
      "만능스포츠 소녀 로시, 영상공감, 22,700원,정보없음,정보없음,정보없음,http://www.yes24.com/Product/Goods/97058185?OzSrank=4\n",
      "엘리와 포코 만능 스포츠맨 (1Disc) , 영상공감, 22,700원,정보없음,정보없음,정보없음,http://www.yes24.com/Product/Goods/93387794?OzSrank=5\n",
      "하이큐!! 35, 후루다테 하루이치, 4,500원,정보없음,39,9.5,http://www.yes24.com/Product/Goods/73364347?OzSrank=6\n",
      "하이큐!! 36, 후루다테 하루이치, 4,500원,정보없음,36,9.1,http://www.yes24.com/Product/Goods/74406355?OzSrank=7\n",
      "스포츠 멘탈, 박영곤, 18,000원,정보없음,정보없음,정보없음,http://www.yes24.com/Product/Goods/98983732?OzSrank=8\n",
      "Highlights 인기 주제별 숨은그림찾기 특별보급판 4권 세트, 하이라이츠 어린이, 10,440원,정보없음,12,9.1,http://www.yes24.com/Product/Goods/78224413?OzSrank=9\n",
      "2021 M 스포츠지도사 필기 한권 완전정복, 문개성, 28,800원,정보없음,4,10.0,http://www.yes24.com/Product/Goods/93509706?OzSrank=10\n",
      "2021 스포츠지도사 단박에 오름 기본편, 전지혁, 26,100원,정보없음,5,10.0,http://www.yes24.com/Product/Goods/96262150?OzSrank=11\n",
      "10대와 통하는 스포츠 이야기, 탁민혁, 11,700원,정보없음,2,10.0,http://www.yes24.com/Product/Goods/73326868?OzSrank=12\n",
      "ACSM's 운동검사 운동처방지침, ACSM, 26,000원,정보없음,정보없음,정보없음,http://www.yes24.com/Product/Goods/61252505?OzSrank=13\n",
      "2021 에듀윌 스포츠지도사 실기+구술 한권끝장 보디빌딩, 정수봉, 19,800원,정보없음,4,10.0,http://www.yes24.com/Product/Goods/97692492?OzSrank=14\n",
      "2021 M스포츠경영관리사 필기+실기 한권 완전정복 , 문개성, 21,600원,정보없음,3,9.0,http://www.yes24.com/Product/Goods/95335104?OzSrank=15\n",
      "인체해부학 , Frederic H.Martini, 32,000원,정보없음,1,10.0,http://www.yes24.com/Product/Goods/36601346?OzSrank=16\n",
      "2021 생활스포츠지도사 초단기완성 , 스포츠지도사연구소, 27,000원,정보없음,1,10.0,http://www.yes24.com/Product/Goods/93377351?OzSrank=17\n",
      "[BL] 애니멀스(ANIMALS), 테하누, 3,500원,정보없음,502,9.3,http://www.yes24.com/Product/Goods/92808104?OzSrank=18\n",
      "2021 스포츠지도사 단박에오름 벼락치기 실전모의고사편, 전지혁, 19,800원,정보없음,정보없음,정보없음,http://www.yes24.com/Product/Goods/97247125?OzSrank=19\n",
      "스포츠지도사 필기 한권으로 끝내기, 정상훈, 26,100원,정보없음,5,10.0,http://www.yes24.com/Product/Goods/93398571?OzSrank=20\n",
      "------------------ school ------------------\n",
      "이상한 과자 가게 전천당 10, 히로시마 레이코, 10,800원,정보없음,28,9.8,http://www.yes24.com/Product/Goods/97665161?OzSrank=1\n",
      "이상한 과자 가게 전천당 9, 히로시마 레이코, 10,800원,정보없음,54,9.8,http://www.yes24.com/Product/Goods/95791680?OzSrank=2\n",
      "이상한 과자 가게 전천당 1, 히로시마 레이코, 10,800원,정보없음,156,9.5,http://www.yes24.com/Product/Goods/75217405?OzSrank=3\n",
      "기적의 계산법 3학년 세트, 기적의학습서연구회, 12,600원,정보없음,50,9.6,http://www.yes24.com/Product/Goods/43335051?OzSrank=4\n",
      "이상한 과자 가게 전천당 2, 히로시마 레이코, 10,800원,정보없음,52,9.4,http://www.yes24.com/Product/Goods/75217436?OzSrank=5\n",
      "이상한 과자 가게 전천당 1~2권 세트, 히로시마 레이코, 21,600원,정보없음,223,9.5,http://www.yes24.com/Product/Goods/75229762?OzSrank=6\n",
      "기적의 계산법 2학년 세트, 기적의학습서연구회, 12,600원,정보없음,78,9.3,http://www.yes24.com/Product/Goods/43335018?OzSrank=7\n",
      "기적의 계산법 4학년 세트, 기적의학습서연구회, 12,600원,정보없음,52,9.8,http://www.yes24.com/Product/Goods/43335111?OzSrank=8\n",
      "이상한 과자 가게 전천당 3, 히로시마 레이코, 10,800원,정보없음,53,9.6,http://www.yes24.com/Product/Goods/81696651?OzSrank=9\n",
      "이상한 과자 가게 전천당 4, 히로시마 레이코, 10,800원,정보없음,39,9.5,http://www.yes24.com/Product/Goods/81696832?OzSrank=10\n",
      "이상한 과자 가게 전천당 1~4권 입문 세트 , 히로시마 레이코, 43,200원,정보없음,303,9.5,http://www.yes24.com/Product/Goods/81719590?OzSrank=11\n",
      "기적의 계산법 1학년 세트, 기적의학습서연구회, 12,600원,정보없음,52,9.6,http://www.yes24.com/Product/Goods/43334932?OzSrank=12\n",
      "이상한 과자 가게 전천당 8 , 히로시마 레이코, 10,800원,정보없음,58,9.8,http://www.yes24.com/Product/Goods/92153169?OzSrank=13\n",
      "세상에서 제일 재밌는 종이접기, 이원표, 12,600원,정보없음,100,9.6,http://www.yes24.com/Product/Goods/63592662?OzSrank=14\n",
      "이상한 과자 가게 전천당 7, 히로시마 레이코, 10,800원,정보없음,57,9.9,http://www.yes24.com/Product/Goods/90864629?OzSrank=15\n",
      "기적의 계산법 5학년 세트, 기적의학습서연구회, 12,600원,정보없음,34,9.4,http://www.yes24.com/Product/Goods/43335189?OzSrank=16\n",
      "EBS랑 홈스쿨 초등 영문법 1, 한국교육방송공사, 6,480원,정보없음,8,9.6,http://www.yes24.com/Product/Goods/95913621?OzSrank=17\n",
      "이상한 과자 가게 전천당 5, 히로시마 레이코, 10,800원,정보없음,56,9.8,http://www.yes24.com/Product/Goods/89377661?OzSrank=18\n",
      "알파벳 무작정 따라하기, 이은주, 10,800원,정보없음,32,10.0,http://www.yes24.com/Product/Goods/96021830?OzSrank=19\n",
      "이상한 과자 가게 전천당 6, 히로시마 레이코, 10,800원,정보없음,46,9.8,http://www.yes24.com/Product/Goods/89377679?OzSrank=20\n",
      "------------------ life ------------------\n",
      "질서 너머, 조던 B. 피터슨, 16,020원,정보없음,4,10.0,http://www.yes24.com/Product/Goods/97948340?OzSrank=1\n",
      "마지막 몰입 : 나를 넘어서는 힘, 짐 퀵, 15,120원,정보없음,69,9.6,http://www.yes24.com/Product/Goods/97522081?OzSrank=2\n",
      "12가지 인생의 법칙 (30만 부 기념 오리지널 디자인 리커버), 조던 B. 피터슨, 15,120원,정보없음,149,9.0,http://www.yes24.com/Product/Goods/66360714?OzSrank=3\n",
      "초등 자기주도 공부법, 이은경, 15,120원,정보없음,16,9.8,http://www.yes24.com/Product/Goods/96001838?OzSrank=4\n",
      "생각의 각도, 이민규, 14,220원,정보없음,9,9.4,http://www.yes24.com/Product/Goods/97641248?OzSrank=5\n",
      "자존감 수업, 윤홍균, 12,600원,정보없음,331,8.9,http://www.yes24.com/Product/Goods/30548474?OzSrank=6\n",
      "오은영의 화해 + 자존감 수업, 윤홍균, 27,000원,정보없음,401,9.1,http://www.yes24.com/Product/Goods/67882622?OzSrank=7\n",
      "5년 후 나에게 Q&A a day + 자존감 수업, 윤홍균, 27,720원,정보없음,759,9.1,http://www.yes24.com/Product/Goods/82956820?OzSrank=8\n",
      "아르센 벵거 자서전 My Life in Red and White, 아르센 벵거, 19,800원,정보없음,8,9.6,http://www.yes24.com/Product/Goods/97797108?OzSrank=9\n",
      "어린이를 위한 초등 자기주도 공부법×배움공책 , 이은경, 13,320원,정보없음,정보없음,정보없음,http://www.yes24.com/Product/Goods/98474173?OzSrank=10\n",
      "여기가 끝이 아니다, 린 그라본, 18,000원,정보없음,1,10.0,http://www.yes24.com/Product/Goods/98397983?OzSrank=11\n",
      "아이가 원하는 세상의 모든 그림 그리기, 허민영, 11,520원,정보없음,13,9.8,http://www.yes24.com/Product/Goods/98808093?OzSrank=12\n",
      "나도 손글씨 바르게 쓰면 소원이 없겠네, 유한빈, 10,800원,정보없음,38,9.6,http://www.yes24.com/Product/Goods/80085341?OzSrank=13\n",
      "하나를 비우니 모든 게 달라졌다, 이초아, 13,050원,정보없음,3,8.6,http://www.yes24.com/Product/Goods/98796153?OzSrank=14\n",
      "더 이상한 수학책, 벤 올린, 19,800원,정보없음,7,10.0,http://www.yes24.com/Product/Goods/97642611?OzSrank=15\n",
      "하루 한 장 365 인문학 달력, 김종원, 14,400원,정보없음,26,9.9,http://www.yes24.com/Product/Goods/95881918?OzSrank=16\n",
      "언스크립티드, 엠제이 드마코, 17,820원,정보없음,79,8.7,http://www.yes24.com/Product/Goods/57958368?OzSrank=17\n",
      "하루 3줄 초등 글쓰기의 기적, 윤희솔, 13,050원,정보없음,65,9.7,http://www.yes24.com/Product/Goods/86591861?OzSrank=18\n",
      "사실은 사랑받고 싶었어, 박재연, 13,320원,정보없음,2,10.0,http://www.yes24.com/Product/Goods/97665183?OzSrank=19\n",
      "마지막 몰입 : 나를 넘어서는 힘, 짐 퀵, 11,760원,정보없음,2,7.5,http://www.yes24.com/Product/Goods/97568909?OzSrank=20\n",
      "------------------ food ------------------\n",
      "맛있는 수채화 캘리그라피, 이명선, 3,240원,정보없음,20,9.8,http://www.yes24.com/Product/Goods/67078797?OzSrank=1\n",
      "THE FOOD LAB 더 푸드 랩, J. 켄지 로페즈-알트, 49,500원,정보없음,28,9.2,http://www.yes24.com/Product/Goods/42787367?OzSrank=2\n",
      "장순필푸드 가마솥 순대탕 5봉+양념장5봉, 정보없음, 15,900원,정보없음,39,9.5,http://www.yes24.com/Product/Goods/73417361?OzSrank=3\n",
      "FOOD CHEMISTRY 식품화학, 윤석권, 27,000원,정보없음,1,8.0,http://www.yes24.com/Product/Goods/89484387?OzSrank=4\n",
      "카페 & 푸드 컬러링북 + 아르누보 36색 색연필 세트 , 이수현, 10,000원,정보없음,36,9.2,http://www.yes24.com/Product/Goods/23505267?OzSrank=5\n",
      "존 로빈스의 음식혁명, 존 로빈스, 13,500원,정보없음,4,9.6,http://www.yes24.com/Product/Goods/5417657?OzSrank=6\n",
      "FOOD SCIENCE 푸드 사이언스 150, 브라이언 레, 16,200원,정보없음,10,9.8,http://www.yes24.com/Product/Goods/97190763?OzSrank=7\n",
      "브레인 푸드, 리사 모스코니, 19,800원,정보없음,20,9.5,http://www.yes24.com/Product/Goods/84924328?OzSrank=8\n",
      "[BL] 정크 푸드, 정크 이터(Junk Food, Junk Eater), 숨나기, 5,000원,정보없음,273,9.4,http://www.yes24.com/Product/Goods/93185893?OzSrank=9\n",
      "백년식사, 주영하, 18,000원,정보없음,14,9.6,http://www.yes24.com/Product/Goods/94492971?OzSrank=10\n",
      "음식과 요리 , 해럴드 맥기, 79,200원,정보없음,4,9.6,http://www.yes24.com/Product/Goods/36921296?OzSrank=11\n",
      "참 쉬운 핑거푸드, 노고은, 12,420원,정보없음,2,10.0,http://www.yes24.com/Product/Goods/97295278?OzSrank=12\n",
      "문숙의 자연식, 문숙, 14,400원,정보없음,17,9.4,http://www.yes24.com/Product/Goods/18865628?OzSrank=13\n",
      "The Food Lab: Better Home Cooking Through Science, J. 켄지 로페즈-알트, 51,840원,정보없음,2,10.0,http://www.yes24.com/Product/Goods/16750895?OzSrank=14\n",
      "음식의 언어, 댄 주래프스키, 15,300원,정보없음,34,8.1,http://www.yes24.com/Product/Goods/17285603?OzSrank=15\n",
      "드로잉 앤 더 푸드 Drawing and the Food, 박정아, 8,820원,정보없음,12,9.6,http://www.yes24.com/Product/Goods/34902736?OzSrank=16\n",
      "Free Food for Millionaires, Min Jin Lee, 14,550원,정보없음,정보없음,정보없음,http://www.yes24.com/Product/Goods/58990979?OzSrank=17\n",
      "Chew on This: Everything You Don't Want to Know about Fast Food, Houghton Mifflin, 10,400원,정보없음,2,10.0,http://www.yes24.com/Product/Goods/2256928?OzSrank=18\n",
      "먹거리의 미래 ( The Future Of Food, 2004 ), 와이드미디어, 22,700원,정보없음,정보없음,정보없음,http://www.yes24.com/Product/Goods/36148949?OzSrank=19\n",
      "FOOD SCIENCE 푸드 사이언스 150, 브라이언 레, 12,600원,정보없음,정보없음,정보없음,http://www.yes24.com/Product/Goods/97961432?OzSrank=20\n",
      "------------------ technology ------------------\n"
     ]
    },
    {
     "name": "stdout",
     "output_type": "stream",
     "text": [
      "그것의 존재를 알아차리는 순간, 최형섭, 14,400원,정보없음,정보없음,정보없음,http://www.yes24.com/Product/Goods/98831634?OzSrank=1\n",
      "모빌리티 생활세계학, 고민경, 15,300원,정보없음,정보없음,정보없음,http://www.yes24.com/Product/Goods/98861758?OzSrank=2\n",
      "Chemistry, 10/E, Steven S. Zumdahl, 57,000원,정보없음,정보없음,정보없음,http://www.yes24.com/Product/Goods/69726358?OzSrank=3\n",
      "영화 속의 바이오 테크놀로지, 박태현, 11,700원,정보없음,3,9.4,http://www.yes24.com/Product/Goods/17944641?OzSrank=4\n",
      "Swipe to Unlock: The Primer on Technology and Business Strategy, 파스 디트로자, 31,290원,정보없음,정보없음,정보없음,http://www.yes24.com/Product/Goods/52293699?OzSrank=5\n",
      "노동의 시대는 끝났다, 대니얼 서스킨드, 16,200원,정보없음,25,9.0,http://www.yes24.com/Product/Goods/89521817?OzSrank=6\n",
      "MIT Technology Review (격월간) : 2020년 11/12월, The Massachusetts Institute of Technology., 15,200원,정보없음,정보없음,정보없음,http://www.yes24.com/Product/Goods/94406378?OzSrank=7\n",
      "E-Commerce 2020-2021: Business, Technology and Society, Kenneth C Laudon, 49,000원,정보없음,정보없음,정보없음,http://www.yes24.com/Product/Goods/90025060?OzSrank=8\n",
      "Oxford English for Careers : Technology 1 : Student's Book, Eric Glendinning, 25,000원,정보없음,정보없음,정보없음,http://www.yes24.com/Product/Goods/2719990?OzSrank=9\n",
      "Biomedical Instrumentation : Technology and Applications, McGraw-Hill, 49,000원,정보없음,정보없음,정보없음,http://www.yes24.com/Product/Goods/85433153?OzSrank=10\n",
      "Foundations of Educational Technology, Taylor & Francis, 46,940원,정보없음,정보없음,정보없음,http://www.yes24.com/Product/Goods/17816134?OzSrank=11\n",
      "A Gift of Fire: Social, Legal, and Ethical Issues for Computing Technology, Pearson, 177,840원,정보없음,정보없음,정보없음,http://www.yes24.com/Product/Goods/36934453?OzSrank=12\n",
      "Wild Oceans: A Pop-Up Book with Revolutionary Technology, Lucio Santoro, 38,540원,정보없음,1,10.0,http://www.yes24.com/Product/Goods/3298304?OzSrank=13\n",
      "Business Driven Technology, 8/E, Paige Baltzan, 48,000원,정보없음,정보없음,정보없음,http://www.yes24.com/Product/Goods/89554134?OzSrank=14\n",
      "English for Information Technology 1 Course Book + Cd-rom, Pearson Education(ELT)(원서공급사), 19,800원,정보없음,정보없음,정보없음,http://www.yes24.com/Product/Goods/6879536?OzSrank=15\n",
      "Technology Enhanced Language Learning, Aisha Walker, 36,900원,정보없음,정보없음,정보없음,http://www.yes24.com/Product/Goods/14024813?OzSrank=16\n",
      "MIT Technology Review (격월간) : 2020년 09/10월, The Massachusetts Institute of Technology., 15,200원,정보없음,정보없음,정보없음,http://www.yes24.com/Product/Goods/92293182?OzSrank=17\n",
      "MIT Technology Review (격월간) : 2018년 11/12월, The Massachusetts Institute of Technology., 15,200원,정보없음,정보없음,정보없음,http://www.yes24.com/Product/Goods/66533816?OzSrank=18\n",
      "Technology Review (격월간) : 2017년 No.76, The Massachusetts Institute of Technology., 15,200원,정보없음,정보없음,정보없음,http://www.yes24.com/Product/Goods/50328305?OzSrank=19\n",
      "Appropriate Technology Institutions, Intermediate Technology, 23,300원,정보없음,정보없음,정보없음,http://www.yes24.com/Product/Goods/63814062?OzSrank=20\n",
      "------------------ money ------------------\n",
      "L'OFFICIEL 로피시엘 옴므 (반년간) : S/S [2021], 머니투데이, 9,970원,정보없음,정보없음,정보없음,http://www.yes24.com/Product/Goods/98796705?OzSrank=1\n",
      "L'OFFICIEL 로피시엘 팜므 (반년간) : S/S [2021], 머니투데이, 9,970원,정보없음,정보없음,정보없음,http://www.yes24.com/Product/Goods/98796678?OzSrank=2\n",
      "돈의 심리학, 모건 하우절, 17,820원,정보없음,43,9.2,http://www.yes24.com/Product/Goods/96547408?OzSrank=3\n",
      "천일문 기본 베이직 1001 SENTENCES Basic ver.3.0, 김기훈, 12,600원,정보없음,140,9.4,http://www.yes24.com/Product/Goods/14923396?OzSrank=4\n",
      "배덕한 어머니, 레시아, 지혜리, 1,350원,정보없음,104,7.5,http://www.yes24.com/Product/Goods/97807656?OzSrank=5\n",
      "[예스리커버] 이상하고 자유로운 할머니가 되고 싶어, 무루, 12,600원,정보없음,64,9.4,http://www.yes24.com/Product/Goods/90184140?OzSrank=6\n",
      "천일문 입문, 김기훈, 10,800원,정보없음,67,9.4,http://www.yes24.com/Product/Goods/22791986?OzSrank=7\n",
      "기록하기로 했습니다, 김신지, 12,600원,정보없음,16,9.3,http://www.yes24.com/Product/Goods/97032664?OzSrank=8\n",
      "열두 살에 부자가 된 키라, 보도 섀퍼, 11,700원,정보없음,147,9.7,http://www.yes24.com/Product/Goods/14972137?OzSrank=9\n",
      "초등영문법 777 1권, 마더텅, 6,930원,정보없음,52,9.7,http://www.yes24.com/Product/Goods/71967578?OzSrank=10\n",
      "천일문 완성 3.0 1001 SENTENCES Master, 김기훈, 12,600원,정보없음,63,9.5,http://www.yes24.com/Product/Goods/15615715?OzSrank=11\n",
      "천일문 핵심 이센셜 500 SENTENCES Essential ver.2.0, 김기훈, 10,800원,정보없음,33,9.2,http://www.yes24.com/Product/Goods/14923400?OzSrank=12\n",
      "초등영문법 777 0권, 마더텅 편집부, 6,930원,정보없음,38,9.8,http://www.yes24.com/Product/Goods/89482553?OzSrank=13\n",
      "돈으로 살 수 없는 것들, 마이클 샌델, 14,400원,정보없음,136,8.9,http://www.yes24.com/Product/Goods/6779868?OzSrank=14\n",
      "페이크, 로버트 기요사키, 16,200원,정보없음,47,8.9,http://www.yes24.com/Product/Goods/75729801?OzSrank=15\n",
      "초등영문법 777 2권, 마더텅, 6,930원,정보없음,30,9.8,http://www.yes24.com/Product/Goods/71967613?OzSrank=16\n",
      "오늘부터 300일, 김신지, 14,850원,정보없음,정보없음,정보없음,http://www.yes24.com/Product/Goods/97978751?OzSrank=17\n",
      "최고의 주식 최적의 타이밍, 윌리엄 J. 오닐, 17,820원,정보없음,19,8.8,http://www.yes24.com/Product/Goods/7240183?OzSrank=18\n",
      "천일문 기본 문제집, 김기훈, 12,600원,정보없음,16,9.1,http://www.yes24.com/Product/Goods/51194740?OzSrank=19\n",
      "초등영문법 777 3권, 마더텅, 6,930원,정보없음,16,9.8,http://www.yes24.com/Product/Goods/71967634?OzSrank=20\n"
     ]
    }
   ],
   "source": [
    "for keyword in keywords:\n",
    "    print(f'------------------ {keyword} ------------------')\n",
    "    req = requests.get('http://www.yes24.com/searchcorner/Search?keywordAd=&keyword=&domain=ALL&qdomain=%C0%FC%C3%BC&query=' + keyword)\n",
    "    soup = BeautifulSoup(req.text, 'html.parser')\n",
    "    books = soup.select('td.goods_infogrp')\n",
    "    for book in books[:20]:\n",
    "        title = book.select_one('p.goods_name a').text\n",
    "        try:\n",
    "            writer = book.select_one('div.goods_info a').text\n",
    "        except:\n",
    "            writer = '정보없음'\n",
    "        price = book.select_one('div.goods_price em').text + '원'\n",
    "        try:\n",
    "            price_rate = book.select_one('div.goods_rating > span.gd_reviewCount>text').text\n",
    "        except:\n",
    "            price_rate = '정보없음'\n",
    "        try:\n",
    "            review = book.select_one('div.goods_rating > span.gd_reviewCount > a em.txC_blue').text\n",
    "        except:\n",
    "            review = '정보없음'\n",
    "        try:\n",
    "            star_score = book.select_one('div.goods_rating > span.gd_rating > em.yes_b').text\n",
    "        except:\n",
    "            star_score = '정보없음'\n",
    "        link = 'http://www.yes24.com' + book.select_one('p.goods_name.goods_icon a').attrs['href']\n",
    "        print(f'{title}, {writer}, {price},{price_rate},{review},{star_score},{link}')\n",
    "        \n",
    "#책 제목 제외하고 모든 데이터에 없는 데이터가 존재."
   ]
  },
  {
   "cell_type": "code",
   "execution_count": 107,
   "metadata": {},
   "outputs": [
    {
     "name": "stdout",
     "output_type": "stream",
     "text": [
      "Collecting selenium\n",
      "  Downloading selenium-3.141.0-py2.py3-none-any.whl (904 kB)\n",
      "Requirement already satisfied: urllib3 in c:\\users\\sangw\\anaconda3\\lib\\site-packages (from selenium) (1.24.1)\n",
      "Installing collected packages: selenium\n",
      "Successfully installed selenium-3.141.0\n",
      "Note: you may need to restart the kernel to use updated packages.\n"
     ]
    }
   ],
   "source": [
    "pip install selenium #selenium"
   ]
  },
  {
   "cell_type": "code",
   "execution_count": 1,
   "metadata": {},
   "outputs": [],
   "source": [
    "from selenium import webdriver"
   ]
  },
  {
   "cell_type": "code",
   "execution_count": 28,
   "metadata": {},
   "outputs": [],
   "source": [
    "dr = webdriver.Chrome('./chromedriver.exe') #경로 설정 주의"
   ]
  },
  {
   "cell_type": "code",
   "execution_count": 29,
   "metadata": {},
   "outputs": [],
   "source": [
    "dr.get('http://www.yes24.com/main/default.aspx')"
   ]
  },
  {
   "cell_type": "code",
   "execution_count": 32,
   "metadata": {},
   "outputs": [],
   "source": [
    "keyword = dr.find_element_by_css_selector('span.schIpt > label input')\n",
    "keyword.send_keys('파이썬')"
   ]
  },
  {
   "cell_type": "code",
   "execution_count": 33,
   "metadata": {},
   "outputs": [],
   "source": [
    "search = dr.find_element_by_css_selector('button')\n",
    "search.click()"
   ]
  },
  {
   "cell_type": "code",
   "execution_count": 34,
   "metadata": {},
   "outputs": [
    {
     "data": {
      "text/plain": [
       "94"
      ]
     },
     "execution_count": 34,
     "metadata": {},
     "output_type": "execute_result"
    }
   ],
   "source": [
    "books = dr.find_elements_by_css_selector('tr')\n",
    "\n",
    "len(books)"
   ]
  },
  {
   "cell_type": "code",
   "execution_count": 35,
   "metadata": {},
   "outputs": [],
   "source": [
    "dr.close()"
   ]
  },
  {
   "cell_type": "code",
   "execution_count": null,
   "metadata": {},
   "outputs": [],
   "source": [
    "#파일저장하기.csv"
   ]
  },
  {
   "cell_type": "code",
   "execution_count": 55,
   "metadata": {},
   "outputs": [],
   "source": [
    "keywords = ['python', 'deep learning', 'sql','health','sports','school','life','food','technology','money']\n",
    "\n",
    "f = open('deep session_4주차 과제.csv', 'w')\n",
    "f.write('title,writer,price,price_rate,review,star_score,site_link') # csv파일이라 쉼표로 셀 구분\n",
    "for keyword in keywords:\n",
    "    #print(f'------------------ {keyword} ------------------')\n",
    "    req = requests.get('http://www.yes24.com/searchcorner/Search?keywordAd=&keyword=&domain=ALL&qdomain=%C0%FC%C3%BC&query=' + keyword)\n",
    "    soup = BeautifulSoup(req.text, 'html.parser')\n",
    "    books = soup.select('td.goods_infogrp')\n",
    "    for book in books[:20]:\n",
    "        title = book.select_one('p.goods_name a').text\n",
    "        try:\n",
    "            writer = book.select_one('div.goods_info a').text\n",
    "        except:\n",
    "            writer = '정보없음'\n",
    "        price = book.select_one('div.goods_price em').text + '원'\n",
    "        try:\n",
    "            price_rate = book.select_one('div.goods_rating > span.gd_reviewCount > text').text\n",
    "        except:\n",
    "            price_rate = '정보없음'\n",
    "        try:\n",
    "            review = book.select_one('div.goods_rating > span.gd_reviewCount > a em.txC_blue').text\n",
    "        except:\n",
    "            review = '정보없음'\n",
    "        try:\n",
    "            star_score = book.select_one('div.goods_rating > span.gd_rating > em.yes_b').text\n",
    "        except:\n",
    "            star_score = '정보없음'\n",
    "        link = 'http://www.yes24.com' + book.select_one('p.goods_name.goods_icon a').attrs['href']\n",
    "        f.write('\\n' + str(title).replace(',','') +','+str(writer).replace(',','')+','+str(price).replace(',','')+','+str(price_rate).replace(',','')+','+str(review).replace(',','')+','+str(star_score).replace(',','')+','+str(link).replace(',',''))\n",
    "f.close()"
   ]
  },
  {
   "cell_type": "code",
   "execution_count": null,
   "metadata": {},
   "outputs": [],
   "source": [
    "#파일저장하기.xlsx"
   ]
  },
  {
   "cell_type": "code",
   "execution_count": 76,
   "metadata": {},
   "outputs": [],
   "source": [
    "import openpyxl"
   ]
  },
  {
   "cell_type": "code",
   "execution_count": 77,
   "metadata": {},
   "outputs": [],
   "source": [
    "wb = openpyxl.Workbook()\n",
    "sheet = wb.active\n",
    "sheet.title = 'yes24 book'"
   ]
  },
  {
   "cell_type": "code",
   "execution_count": 78,
   "metadata": {},
   "outputs": [],
   "source": [
    "keywords = ['python', 'deep learning', 'sql','health','sports','school','life','food','technology','money']\n",
    "sheet.append(['title','writer','price','price_rate','review','star_score','link'])\n",
    "#f = open('deep session_4주차 과제.csv', 'w')\n",
    "#f.write('title,writer,price,price_rate,review,star_score,site_link') # csv파일이라 쉼표로 셀 구분\n",
    "for keyword in keywords:\n",
    "    #print(f'------------------ {keyword} ------------------')\n",
    "    req = requests.get('http://www.yes24.com/searchcorner/Search?keywordAd=&keyword=&domain=ALL&qdomain=%C0%FC%C3%BC&query=' + keyword)\n",
    "    soup = BeautifulSoup(req.text, 'html.parser')\n",
    "    books = soup.select('td.goods_infogrp')\n",
    "    for book in books[:20]:\n",
    "        title = book.select_one('p.goods_name a').text\n",
    "        try:\n",
    "            writer = book.select_one('div.goods_info a').text\n",
    "        except:\n",
    "            writer = '정보없음'\n",
    "        price = book.select_one('div.goods_price em').text + '원'\n",
    "        try:\n",
    "            price_rate = book.select_one('div.goods_rating > span.gd_reviewCount > text').text\n",
    "        except:\n",
    "            price_rate = '정보없음'\n",
    "        try:\n",
    "            review = book.select_one('div.goods_rating > span.gd_reviewCount > a em.txC_blue').text\n",
    "        except:\n",
    "            review = '정보없음'\n",
    "        try:\n",
    "            star_score = book.select_one('div.goods_rating > span.gd_rating > em.yes_b').text\n",
    "        except:\n",
    "            star_score = '정보없음'\n",
    "        link = 'http://www.yes24.com' + book.select_one('p.goods_name.goods_icon a').attrs['href']\n",
    "        sheet.append([str(title).replace(',','') ,str(writer).replace(',',''),str(price).replace(',',''),str(price_rate).replace(',',''),str(review).replace(',',''),str(star_score).replace(',',''),str(link).replace(',','')])"
   ]
  },
  {
   "cell_type": "code",
   "execution_count": 79,
   "metadata": {},
   "outputs": [],
   "source": [
    "wb.save('Deep session_4주차과제2.xlsx')"
   ]
  },
  {
   "cell_type": "code",
   "execution_count": 71,
   "metadata": {},
   "outputs": [],
   "source": [
    "try:\n",
    "    wb = openpyxl.load_work('Deep session_4주차과제2.xlsx')\n",
    "    sheet = wb.active\n",
    "except:\n",
    "    wb = openpyxl.Workbook()\n",
    "    sheet = wb.active"
   ]
  }
 ],
 "metadata": {
  "kernelspec": {
   "display_name": "Python 3",
   "language": "python",
   "name": "python3"
  },
  "language_info": {
   "codemirror_mode": {
    "name": "ipython",
    "version": 3
   },
   "file_extension": ".py",
   "mimetype": "text/x-python",
   "name": "python",
   "nbconvert_exporter": "python",
   "pygments_lexer": "ipython3",
   "version": "3.8.5"
  }
 },
 "nbformat": 4,
 "nbformat_minor": 2
}
