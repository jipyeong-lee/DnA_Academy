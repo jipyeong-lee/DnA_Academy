{
 "cells": [
  {
   "cell_type": "markdown",
   "metadata": {},
   "source": [
    "# Applying Algorithm with MNIST (MLP model)\n",
    "\n",
    "<font color = \"#CC3D3D\"><p>\n",
    "- [Module Import](#Module-Import)\n",
    "- [Device Checking](#Device-Checking)\n",
    "- [Data Downloading](#Data-Downloading)\n",
    "- [Build Model](#Build-Model)\n",
    "- [Model Train, Test](#Model-Train,-Test)"
   ]
  },
  {
   "cell_type": "markdown",
   "metadata": {},
   "source": [
    "## Module Import"
   ]
  },
  {
   "cell_type": "code",
   "execution_count": 1,
   "metadata": {},
   "outputs": [],
   "source": [
    "import numpy as np\n",
    "import matplotlib.pyplot as plt\n",
    "\n",
    "import torch\n",
    "import torch.nn as nn\n",
    "import torch.nn.functional as F \n",
    "from torchvision import transforms, datasets\n",
    "import torch.nn.init as init\n",
    "import random "
   ]
  },
  {
   "cell_type": "markdown",
   "metadata": {},
   "source": [
    "## Device Checking "
   ]
  },
  {
   "cell_type": "code",
   "execution_count": 2,
   "metadata": {},
   "outputs": [
    {
     "name": "stdout",
     "output_type": "stream",
     "text": [
      "Using PyTorch version:  1.8.0 DEVICE: cuda\n"
     ]
    }
   ],
   "source": [
    "if torch.cuda.is_available():\n",
    "    DEVICE = torch.device('cuda')\n",
    "else:\n",
    "    DEVICE = torch.device('cpu')\n",
    "print('Using PyTorch version: ', torch.__version__, 'DEVICE:', DEVICE)\n",
    "if DEVICE == 'cuda':\n",
    "    torch.cuda.manual_seed_all(777)"
   ]
  },
  {
   "cell_type": "markdown",
   "metadata": {},
   "source": [
    "## Data Downloading "
   ]
  },
  {
   "cell_type": "markdown",
   "metadata": {},
   "source": [
    "#### Hyper parameter"
   ]
  },
  {
   "cell_type": "code",
   "execution_count": 3,
   "metadata": {},
   "outputs": [],
   "source": [
    "BATCH_SIZE = 32  # MNIST train dataset - 60000, batch_size - 32, batch_num - 1875(60000/32)\n",
    "EPOCHS = 10\n",
    "Learning_Rate = 0.01  "
   ]
  },
  {
   "cell_type": "code",
   "execution_count": 4,
   "metadata": {
    "scrolled": false
   },
   "outputs": [],
   "source": [
    "train_dataset = datasets.MNIST(root = \"../data/MNIST\",\n",
    "                               train = True,   \n",
    "                               download = True,\n",
    "                               transform = transforms.ToTensor())\n",
    "\n",
    "test_dataset = datasets.MNIST(root = \"../data/MNIST\",\n",
    "                              train = False, \n",
    "                              transform = transforms.ToTensor())\n",
    "\n",
    "train_loader = torch.utils.data.DataLoader(dataset = train_dataset,\n",
    "                                           batch_size = BATCH_SIZE,\n",
    "                                           shuffle = True) \n",
    "\n",
    "test_loader = torch.utils.data.DataLoader(dataset = test_dataset,\n",
    "                                          batch_size = BATCH_SIZE,\n",
    "                                          shuffle = False)"
   ]
  },
  {
   "cell_type": "markdown",
   "metadata": {},
   "source": [
    "#### 데이터 확인"
   ]
  },
  {
   "cell_type": "code",
   "execution_count": 5,
   "metadata": {},
   "outputs": [
    {
     "name": "stdout",
     "output_type": "stream",
     "text": [
      "X_train: torch.Size([32, 1, 28, 28]) type: torch.FloatTensor\n",
      "y_train: torch.Size([32]) type: torch.LongTensor\n"
     ]
    }
   ],
   "source": [
    "for (X_train, y_train) in train_loader:\n",
    "    print('X_train:', X_train.size(), 'type:', X_train.type())\n",
    "    print('y_train:', y_train.size(), 'type:', y_train.type())  # [Mini-Batch, Channel, Height, Weight]  \n",
    "    break\n",
    "# 32개의 이미지가 1개의 Mini-Batch를 구성하고 있고 가로 28개, 세로 28개의 픽셀로 구성돼 있으며 \n",
    "# 채녈이 1이므로 Gray Scale(흑백이미지)로 이루어진 이미지 데이터"
   ]
  },
  {
   "cell_type": "markdown",
   "metadata": {},
   "source": [
    "#### 실제 MNIST 데이터 확인"
   ]
  },
  {
   "cell_type": "code",
   "execution_count": 6,
   "metadata": {},
   "outputs": [
    {
     "data": {
      "image/png": "[encoded data removed]",
      "text/plain": [
       "<Figure size 720x72 with 10 Axes>"
      ]
     },
     "metadata": {
      "needs_background": "light"
     },
     "output_type": "display_data"
    }
   ],
   "source": [
    "pltsize = 1\n",
    "plt.figure(figsize=(10 * pltsize, pltsize))\n",
    "for i in range(10):\n",
    "    plt.subplot(1, 10, i + 1)\n",
    "    plt.axis('off')\n",
    "    plt.imshow(X_train[i, :, :, :].numpy().reshape(28, 28), cmap = \"gray_r\")  # [32, 1, 28, 28] -> [28, 28, 1]\n",
    "    plt.title('Class: ' + str(y_train[i].item()))  # 이미지별로 라벨 할당"
   ]
  },
  {
   "cell_type": "markdown",
   "metadata": {},
   "source": [
    "## Build_basic_Model "
   ]
  },
  {
   "cell_type": "code",
   "execution_count": 7,
   "metadata": {},
   "outputs": [],
   "source": [
    "# 딥러닝 모델 함수를 포함하는 nn.Module 클래스를 상속받는 Net클래스\n",
    "class Net(nn.Module):\n",
    "    # Net 클래스의 인스턴스를 생성했을 때 지니게 되는 성질을 정의해주는 메서드\n",
    "    def __init__(self):\n",
    "        super(Net, self).__init__()\n",
    "        self.fc1 = nn.Linear(28 * 28, 512)\n",
    "        self.fc2 = nn.Linear(512, 256)\n",
    "        self.fc3 = nn.Linear(256, 10)  # 0부터 9까지 총 10가지 클래스를 표현하기 위한 Label값을 원-핫 인코딩으로 표현\n",
    "    \n",
    "    # forward propagation 정의    \n",
    "    def forward(self, x):  \n",
    "        x = x.view(-1, 28 * 28)  # MLP 모델은 1차원의 벡터 값을 입력으로 받아야 함\n",
    "        x = self.fc1(x)\n",
    "        x = F.sigmoid(x) # 활성화 함수 \n",
    "    \n",
    "        x = self.fc2(x)\n",
    "        x = F.sigmoid(x)\n",
    "        \n",
    "        x = self.fc3(x)\n",
    "        x = F.log_softmax(x, dim = 1)  # 10가지 경우의 \n",
    "        return x"
   ]
  },
  {
   "cell_type": "code",
   "execution_count": 8,
   "metadata": {},
   "outputs": [
    {
     "name": "stdout",
     "output_type": "stream",
     "text": [
      "Net(\n",
      "  (fc1): Linear(in_features=784, out_features=512, bias=True)\n",
      "  (fc2): Linear(in_features=512, out_features=256, bias=True)\n",
      "  (fc3): Linear(in_features=256, out_features=10, bias=True)\n",
      ")\n"
     ]
    }
   ],
   "source": [
    "model = Net().to(DEVICE)\n",
    "optimizer = torch.optim.Adam(model.parameters(), lr = Learning_Rate) # 옵티마이저 \n",
    "criterion = nn.CrossEntropyLoss() # 비용함수 \n",
    "\n",
    "print(model)"
   ]
  },
  {
   "cell_type": "markdown",
   "metadata": {},
   "source": [
    "## Model Train, Test "
   ]
  },
  {
   "cell_type": "code",
   "execution_count": 9,
   "metadata": {},
   "outputs": [],
   "source": [
    "def train(model, train_loader, optimizer, log_interval):\n",
    "    model.train()            # train을 하겠다고 선언해준다. \n",
    "    train_loss = 0\n",
    "    \n",
    "    for batch_idx, (image, label) in enumerate(train_loader):\n",
    "        image = image.to(DEVICE)\n",
    "        label = label.to(DEVICE)\n",
    "        \n",
    "        optimizer.zero_grad()\n",
    "        \n",
    "        output = model(image)\n",
    "        loss = criterion(output, label)\n",
    "        train_loss += loss.item()\n",
    "        loss.backward()\n",
    "        optimizer.step()\n",
    "        \n",
    "        \n",
    "        if batch_idx % log_interval == 0:\n",
    "            print(\"Train Epoch: {} [{}/{} ({:.0f}%)]\\tTrain Loss: {:.6f}\".format(\n",
    "                epoch, batch_idx * len(image), \n",
    "                len(train_loader.dataset), 100. * batch_idx / len(train_loader), \n",
    "                loss.item()))\n",
    "            \n",
    "    train_loss /= batch_idx\n",
    "    return train_loss"
   ]
  },
  {
   "cell_type": "code",
   "execution_count": 10,
   "metadata": {},
   "outputs": [],
   "source": [
    "def evaluate(model, test_loader):\n",
    "    model.eval()                      # 평가를 한다고 선언해준다. \n",
    "    test_loss = 0\n",
    "    correct = 0\n",
    "    \n",
    "    with torch.no_grad(): \n",
    "        for image, label in test_loader:\n",
    "            image = image.to(DEVICE)\n",
    "            label = label.to(DEVICE)\n",
    "            output = model(image)\n",
    "            test_loss += criterion(output, label).item()\n",
    "            prediction = output.max(1, keepdim = True)[1]\n",
    "            correct += prediction.eq(label.view_as(prediction)).sum().item()\n",
    "            \n",
    "            \n",
    "    test_loss /= len(test_loader.dataset)\n",
    "    test_accuracy = 100. * correct / len(test_loader.dataset)\n",
    "    return test_loss, test_accuracy"
   ]
  },
  {
   "cell_type": "markdown",
   "metadata": {},
   "source": [
    "#### 학습, 테스트 진행 "
   ]
  },
  {
   "cell_type": "code",
   "execution_count": 11,
   "metadata": {
    "scrolled": true
   },
   "outputs": [
    {
     "name": "stderr",
     "output_type": "stream",
     "text": [
      "C:\\Users\\leeji\\anaconda3\\lib\\site-packages\\torch\\nn\\functional.py:1709: UserWarning: nn.functional.sigmoid is deprecated. Use torch.sigmoid instead.\n",
      "  warnings.warn(\"nn.functional.sigmoid is deprecated. Use torch.sigmoid instead.\")\n"
     ]
    },
    {
     "name": "stdout",
     "output_type": "stream",
     "text": [
      "Train Epoch: 1 [0/60000 (0%)]\tTrain Loss: 2.366495\n",
      "Train Epoch: 1 [6400/60000 (11%)]\tTrain Loss: 0.424147\n",
      "Train Epoch: 1 [12800/60000 (21%)]\tTrain Loss: 0.267326\n",
      "Train Epoch: 1 [19200/60000 (32%)]\tTrain Loss: 0.201989\n",
      "Train Epoch: 1 [25600/60000 (43%)]\tTrain Loss: 0.194285\n",
      "Train Epoch: 1 [32000/60000 (53%)]\tTrain Loss: 0.587600\n",
      "Train Epoch: 1 [38400/60000 (64%)]\tTrain Loss: 0.292032\n",
      "Train Epoch: 1 [44800/60000 (75%)]\tTrain Loss: 0.016331\n",
      "Train Epoch: 1 [51200/60000 (85%)]\tTrain Loss: 0.121224\n",
      "Train Epoch: 1 [57600/60000 (96%)]\tTrain Loss: 0.194711\n",
      "\n",
      "[EPOCH: 1], \tTest Loss: 0.0044, \tTest Accuracy: 95.82 % \n",
      "\n",
      "Train Epoch: 2 [0/60000 (0%)]\tTrain Loss: 0.076636\n",
      "Train Epoch: 2 [6400/60000 (11%)]\tTrain Loss: 0.146435\n",
      "Train Epoch: 2 [12800/60000 (21%)]\tTrain Loss: 0.071511\n",
      "Train Epoch: 2 [19200/60000 (32%)]\tTrain Loss: 0.083422\n",
      "Train Epoch: 2 [25600/60000 (43%)]\tTrain Loss: 0.249258\n",
      "Train Epoch: 2 [32000/60000 (53%)]\tTrain Loss: 0.112511\n",
      "Train Epoch: 2 [38400/60000 (64%)]\tTrain Loss: 0.273832\n",
      "Train Epoch: 2 [44800/60000 (75%)]\tTrain Loss: 0.127054\n",
      "Train Epoch: 2 [51200/60000 (85%)]\tTrain Loss: 0.050195\n",
      "Train Epoch: 2 [57600/60000 (96%)]\tTrain Loss: 0.049234\n",
      "\n",
      "[EPOCH: 2], \tTest Loss: 0.0037, \tTest Accuracy: 96.31 % \n",
      "\n",
      "Train Epoch: 3 [0/60000 (0%)]\tTrain Loss: 0.122103\n",
      "Train Epoch: 3 [6400/60000 (11%)]\tTrain Loss: 0.115888\n",
      "Train Epoch: 3 [12800/60000 (21%)]\tTrain Loss: 0.117026\n",
      "Train Epoch: 3 [19200/60000 (32%)]\tTrain Loss: 0.045378\n",
      "Train Epoch: 3 [25600/60000 (43%)]\tTrain Loss: 0.060899\n",
      "Train Epoch: 3 [32000/60000 (53%)]\tTrain Loss: 0.239557\n",
      "Train Epoch: 3 [38400/60000 (64%)]\tTrain Loss: 0.189137\n",
      "Train Epoch: 3 [44800/60000 (75%)]\tTrain Loss: 0.007420\n",
      "Train Epoch: 3 [51200/60000 (85%)]\tTrain Loss: 0.093436\n",
      "Train Epoch: 3 [57600/60000 (96%)]\tTrain Loss: 0.099334\n",
      "\n",
      "[EPOCH: 3], \tTest Loss: 0.0042, \tTest Accuracy: 96.08 % \n",
      "\n",
      "Train Epoch: 4 [0/60000 (0%)]\tTrain Loss: 0.076152\n",
      "Train Epoch: 4 [6400/60000 (11%)]\tTrain Loss: 0.060046\n",
      "Train Epoch: 4 [12800/60000 (21%)]\tTrain Loss: 0.004595\n",
      "Train Epoch: 4 [19200/60000 (32%)]\tTrain Loss: 0.008912\n",
      "Train Epoch: 4 [25600/60000 (43%)]\tTrain Loss: 0.079853\n",
      "Train Epoch: 4 [32000/60000 (53%)]\tTrain Loss: 0.272788\n",
      "Train Epoch: 4 [38400/60000 (64%)]\tTrain Loss: 0.009442\n",
      "Train Epoch: 4 [44800/60000 (75%)]\tTrain Loss: 0.287628\n",
      "Train Epoch: 4 [51200/60000 (85%)]\tTrain Loss: 0.021688\n",
      "Train Epoch: 4 [57600/60000 (96%)]\tTrain Loss: 0.009250\n",
      "\n",
      "[EPOCH: 4], \tTest Loss: 0.0042, \tTest Accuracy: 96.46 % \n",
      "\n",
      "Train Epoch: 5 [0/60000 (0%)]\tTrain Loss: 0.095165\n",
      "Train Epoch: 5 [6400/60000 (11%)]\tTrain Loss: 0.055174\n",
      "Train Epoch: 5 [12800/60000 (21%)]\tTrain Loss: 0.023142\n",
      "Train Epoch: 5 [19200/60000 (32%)]\tTrain Loss: 0.007925\n",
      "Train Epoch: 5 [25600/60000 (43%)]\tTrain Loss: 0.026309\n",
      "Train Epoch: 5 [32000/60000 (53%)]\tTrain Loss: 0.219473\n",
      "Train Epoch: 5 [38400/60000 (64%)]\tTrain Loss: 0.013301\n",
      "Train Epoch: 5 [44800/60000 (75%)]\tTrain Loss: 0.102734\n",
      "Train Epoch: 5 [51200/60000 (85%)]\tTrain Loss: 0.066635\n",
      "Train Epoch: 5 [57600/60000 (96%)]\tTrain Loss: 0.019262\n",
      "\n",
      "[EPOCH: 5], \tTest Loss: 0.0045, \tTest Accuracy: 96.08 % \n",
      "\n",
      "Train Epoch: 6 [0/60000 (0%)]\tTrain Loss: 0.021022\n",
      "Train Epoch: 6 [6400/60000 (11%)]\tTrain Loss: 0.017119\n",
      "Train Epoch: 6 [12800/60000 (21%)]\tTrain Loss: 0.246631\n",
      "Train Epoch: 6 [19200/60000 (32%)]\tTrain Loss: 0.014114\n",
      "Train Epoch: 6 [25600/60000 (43%)]\tTrain Loss: 0.115559\n",
      "Train Epoch: 6 [32000/60000 (53%)]\tTrain Loss: 0.059801\n",
      "Train Epoch: 6 [38400/60000 (64%)]\tTrain Loss: 0.002213\n",
      "Train Epoch: 6 [44800/60000 (75%)]\tTrain Loss: 0.391186\n",
      "Train Epoch: 6 [51200/60000 (85%)]\tTrain Loss: 0.263106\n",
      "Train Epoch: 6 [57600/60000 (96%)]\tTrain Loss: 0.309560\n",
      "\n",
      "[EPOCH: 6], \tTest Loss: 0.0042, \tTest Accuracy: 96.39 % \n",
      "\n",
      "Train Epoch: 7 [0/60000 (0%)]\tTrain Loss: 0.153656\n",
      "Train Epoch: 7 [6400/60000 (11%)]\tTrain Loss: 0.209258\n",
      "Train Epoch: 7 [12800/60000 (21%)]\tTrain Loss: 0.003927\n",
      "Train Epoch: 7 [19200/60000 (32%)]\tTrain Loss: 0.002469\n",
      "Train Epoch: 7 [25600/60000 (43%)]\tTrain Loss: 0.220773\n",
      "Train Epoch: 7 [32000/60000 (53%)]\tTrain Loss: 0.002687\n",
      "Train Epoch: 7 [38400/60000 (64%)]\tTrain Loss: 0.027555\n",
      "Train Epoch: 7 [44800/60000 (75%)]\tTrain Loss: 0.012587\n",
      "Train Epoch: 7 [51200/60000 (85%)]\tTrain Loss: 0.226593\n",
      "Train Epoch: 7 [57600/60000 (96%)]\tTrain Loss: 0.305784\n",
      "\n",
      "[EPOCH: 7], \tTest Loss: 0.0045, \tTest Accuracy: 96.34 % \n",
      "\n",
      "Train Epoch: 8 [0/60000 (0%)]\tTrain Loss: 0.147227\n",
      "Train Epoch: 8 [6400/60000 (11%)]\tTrain Loss: 0.003201\n",
      "Train Epoch: 8 [12800/60000 (21%)]\tTrain Loss: 0.006645\n",
      "Train Epoch: 8 [19200/60000 (32%)]\tTrain Loss: 0.005481\n",
      "Train Epoch: 8 [25600/60000 (43%)]\tTrain Loss: 0.082638\n",
      "Train Epoch: 8 [32000/60000 (53%)]\tTrain Loss: 0.019265\n",
      "Train Epoch: 8 [38400/60000 (64%)]\tTrain Loss: 0.026530\n",
      "Train Epoch: 8 [44800/60000 (75%)]\tTrain Loss: 0.154845\n",
      "Train Epoch: 8 [51200/60000 (85%)]\tTrain Loss: 0.019754\n",
      "Train Epoch: 8 [57600/60000 (96%)]\tTrain Loss: 0.031416\n",
      "\n",
      "[EPOCH: 8], \tTest Loss: 0.0042, \tTest Accuracy: 96.39 % \n",
      "\n",
      "Train Epoch: 9 [0/60000 (0%)]\tTrain Loss: 0.114849\n",
      "Train Epoch: 9 [6400/60000 (11%)]\tTrain Loss: 0.002554\n",
      "Train Epoch: 9 [12800/60000 (21%)]\tTrain Loss: 0.217886\n",
      "Train Epoch: 9 [19200/60000 (32%)]\tTrain Loss: 0.043386\n",
      "Train Epoch: 9 [25600/60000 (43%)]\tTrain Loss: 0.087350\n",
      "Train Epoch: 9 [32000/60000 (53%)]\tTrain Loss: 0.195011\n",
      "Train Epoch: 9 [38400/60000 (64%)]\tTrain Loss: 0.030125\n",
      "Train Epoch: 9 [44800/60000 (75%)]\tTrain Loss: 0.107984\n",
      "Train Epoch: 9 [51200/60000 (85%)]\tTrain Loss: 0.211900\n",
      "Train Epoch: 9 [57600/60000 (96%)]\tTrain Loss: 0.362592\n",
      "\n",
      "[EPOCH: 9], \tTest Loss: 0.0042, \tTest Accuracy: 96.68 % \n",
      "\n",
      "Train Epoch: 10 [0/60000 (0%)]\tTrain Loss: 0.031374\n",
      "Train Epoch: 10 [6400/60000 (11%)]\tTrain Loss: 0.046974\n",
      "Train Epoch: 10 [12800/60000 (21%)]\tTrain Loss: 0.006743\n",
      "Train Epoch: 10 [19200/60000 (32%)]\tTrain Loss: 0.337217\n",
      "Train Epoch: 10 [25600/60000 (43%)]\tTrain Loss: 0.051099\n",
      "Train Epoch: 10 [32000/60000 (53%)]\tTrain Loss: 0.403049\n",
      "Train Epoch: 10 [38400/60000 (64%)]\tTrain Loss: 0.017334\n",
      "Train Epoch: 10 [44800/60000 (75%)]\tTrain Loss: 0.080887\n",
      "Train Epoch: 10 [51200/60000 (85%)]\tTrain Loss: 0.215481\n",
      "Train Epoch: 10 [57600/60000 (96%)]\tTrain Loss: 0.137669\n",
      "\n",
      "[EPOCH: 10], \tTest Loss: 0.0047, \tTest Accuracy: 96.22 % \n",
      "\n"
     ]
    }
   ],
   "source": [
    "train_loss_item = []\n",
    "test_loss_item = []\n",
    "\n",
    "for epoch in range(1, EPOCHS + 1):\n",
    "    train_loss = train(model, train_loader, optimizer, log_interval = 200)\n",
    "    test_loss, test_accuracy = evaluate(model, test_loader)\n",
    "    train_loss_item.append(train_loss)\n",
    "    test_loss_item.append(test_loss)\n",
    "    print(\"\\n[EPOCH: {}], \\tTest Loss: {:.4f}, \\tTest Accuracy: {:.2f} % \\n\".format(\n",
    "        epoch, test_loss, test_accuracy))"
   ]
  },
  {
   "cell_type": "markdown",
   "metadata": {},
   "source": [
    "## Build_algorithm_Model "
   ]
  },
  {
   "cell_type": "markdown",
   "metadata": {},
   "source": [
    "#### apply - BatchNorm, DropOut, ReLU"
   ]
  },
  {
   "cell_type": "code",
   "execution_count": 12,
   "metadata": {},
   "outputs": [],
   "source": [
    "class Net_al(nn.Module):\n",
    "    def __init__(self):\n",
    "        super(Net_al, self).__init__()\n",
    "        self.fc1 = nn.Linear(28 * 28, 512)\n",
    "        self.batch_norm1 = nn.BatchNorm1d(512)                      # batch norm을 사용할 때 size를 맞춰주어야 한다.\n",
    "        \n",
    "        self.fc2 = nn.Linear(512, 256)\n",
    "        self.batch_norm2 = nn.BatchNorm1d(256) \n",
    "        \n",
    "        self.fc3 = nn.Linear(256, 10)\n",
    "        \n",
    "        self.dropout_prob = 0.5                                     # 0.5 비율의 node수를 dropout 하여 학습한다.\n",
    "         \n",
    "        \n",
    "\n",
    "    def forward(self, x):\n",
    "        x = x.view(-1, 28 * 28)                                    # view 함수를 통해 28 * 28 size를 일렬로 펼쳐준다.\n",
    "        x = self.fc1(x)\n",
    "        x = self.batch_norm1(x)\n",
    "        x = F.relu(x) \n",
    "        x = F.dropout(x, training = self.training, p = self.dropout_prob)   # p 값에 dropout_prob가 들어간다.\n",
    "        \n",
    "        x = self.fc2(x)\n",
    "        x = self.batch_norm2(x)\n",
    "        x = F.relu(x)\n",
    "        x = F.dropout(x, training = self.training, p = self.dropout_prob)\n",
    "        \n",
    "        x = self.fc3(x)\n",
    "        x = F.log_softmax(x, dim = 1)    # MNIST data의 차원이 1차원이므로 dim=1로 설정한다.\n",
    "        return x"
   ]
  },
  {
   "cell_type": "code",
   "execution_count": 13,
   "metadata": {},
   "outputs": [],
   "source": [
    "## 같은 코드이지만 다른 스타일로 nn.Sequential을 사용하여 짤 수 있다.\n",
    "\n",
    "drop_prob = 0.5           # drop_prob는 hyper parameter이므로 미리 설정한다.\n",
    "class Net_al(nn.Module):\n",
    "    def __init__(self):\n",
    "        super(Net_al, self).__init__()\n",
    "        \n",
    "        self.layer1 = nn.Sequential(\n",
    "            nn.Linear(28 * 28, 512),\n",
    "            nn.BatchNorm1d(512),\n",
    "            nn.ReLU(),\n",
    "            nn.Dropout(p = drop_prob)\n",
    "        )\n",
    "        \n",
    "        self.layer2 = nn.Sequential(\n",
    "            nn.Linear(512, 256),\n",
    "            nn.BatchNorm1d(256),\n",
    "            nn.ReLU(),\n",
    "            nn.Dropout(p = drop_prob)\n",
    "        )\n",
    "        \n",
    "        self.layer3 = nn.Sequential(\n",
    "            nn.Linear(256, 10),\n",
    "            nn.LogSoftmax(dim = 1)\n",
    "        )\n",
    "        \n",
    "        \n",
    "\n",
    "    def forward(self, x):\n",
    "        x = x.view(-1, 28 * 28)\n",
    "        x = self.layer1(x)\n",
    "        x = self.layer2(x)\n",
    "        x = self.layer3(x)\n",
    "        return x"
   ]
  },
  {
   "cell_type": "markdown",
   "metadata": {},
   "source": [
    "#### apply - He Initialization, Adam Optimizer"
   ]
  },
  {
   "cell_type": "code",
   "execution_count": 14,
   "metadata": {
    "scrolled": false
   },
   "outputs": [
    {
     "name": "stdout",
     "output_type": "stream",
     "text": [
      "Net_al(\n",
      "  (layer1): Sequential(\n",
      "    (0): Linear(in_features=784, out_features=512, bias=True)\n",
      "    (1): BatchNorm1d(512, eps=1e-05, momentum=0.1, affine=True, track_running_stats=True)\n",
      "    (2): ReLU()\n",
      "    (3): Dropout(p=0.5, inplace=False)\n",
      "  )\n",
      "  (layer2): Sequential(\n",
      "    (0): Linear(in_features=512, out_features=256, bias=True)\n",
      "    (1): BatchNorm1d(256, eps=1e-05, momentum=0.1, affine=True, track_running_stats=True)\n",
      "    (2): ReLU()\n",
      "    (3): Dropout(p=0.5, inplace=False)\n",
      "  )\n",
      "  (layer3): Sequential(\n",
      "    (0): Linear(in_features=256, out_features=10, bias=True)\n",
      "    (1): LogSoftmax(dim=1)\n",
      "  )\n",
      ")\n"
     ]
    }
   ],
   "source": [
    "# He initialization\n",
    "def weight_init(m):\n",
    "    if isinstance(m, nn.Linear):                          # m이 nn.Linear이라면 실행해줌\n",
    "        init.kaiming_uniform_(m.weight.data)            # HE initialization을 적용하는 코드\n",
    "\n",
    "model_al = Net_al().to(DEVICE)\n",
    "model_al.apply(weight_init)                                                 # apply 함수를 통해 model에 가중치 초기화함수 적용\n",
    "optimizer = torch.optim.Adam(model_al.parameters(), lr = Learning_Rate)    # 옵티마이저 \n",
    "criterion = nn.CrossEntropyLoss()                                          # 비용함수 \n",
    "\n",
    "print(model_al)"
   ]
  },
  {
   "cell_type": "markdown",
   "metadata": {},
   "source": [
    "#### 알고리즘이 있는 model 학습, 테스트"
   ]
  },
  {
   "cell_type": "code",
   "execution_count": 15,
   "metadata": {
    "scrolled": false
   },
   "outputs": [
    {
     "name": "stdout",
     "output_type": "stream",
     "text": [
      "Train Epoch: 1 [0/60000 (0%)]\tTrain Loss: 2.959459\n",
      "Train Epoch: 1 [6400/60000 (11%)]\tTrain Loss: 0.824352\n",
      "Train Epoch: 1 [12800/60000 (21%)]\tTrain Loss: 0.620122\n",
      "Train Epoch: 1 [19200/60000 (32%)]\tTrain Loss: 0.217175\n",
      "Train Epoch: 1 [25600/60000 (43%)]\tTrain Loss: 0.401572\n",
      "Train Epoch: 1 [32000/60000 (53%)]\tTrain Loss: 0.070856\n",
      "Train Epoch: 1 [38400/60000 (64%)]\tTrain Loss: 0.457302\n",
      "Train Epoch: 1 [44800/60000 (75%)]\tTrain Loss: 0.359630\n",
      "Train Epoch: 1 [51200/60000 (85%)]\tTrain Loss: 0.251777\n",
      "Train Epoch: 1 [57600/60000 (96%)]\tTrain Loss: 0.165015\n",
      "\n",
      "[EPOCH: 1], \tTest Loss: 0.0039, \tTest Accuracy: 96.16 % \n",
      "\n",
      "Train Epoch: 2 [0/60000 (0%)]\tTrain Loss: 0.123113\n",
      "Train Epoch: 2 [6400/60000 (11%)]\tTrain Loss: 0.470857\n",
      "Train Epoch: 2 [12800/60000 (21%)]\tTrain Loss: 0.271360\n",
      "Train Epoch: 2 [19200/60000 (32%)]\tTrain Loss: 0.115568\n",
      "Train Epoch: 2 [25600/60000 (43%)]\tTrain Loss: 0.185269\n",
      "Train Epoch: 2 [32000/60000 (53%)]\tTrain Loss: 0.293502\n",
      "Train Epoch: 2 [38400/60000 (64%)]\tTrain Loss: 0.073592\n",
      "Train Epoch: 2 [44800/60000 (75%)]\tTrain Loss: 0.211666\n",
      "Train Epoch: 2 [51200/60000 (85%)]\tTrain Loss: 0.103565\n",
      "Train Epoch: 2 [57600/60000 (96%)]\tTrain Loss: 0.281128\n",
      "\n",
      "[EPOCH: 2], \tTest Loss: 0.0036, \tTest Accuracy: 96.38 % \n",
      "\n",
      "Train Epoch: 3 [0/60000 (0%)]\tTrain Loss: 0.267971\n",
      "Train Epoch: 3 [6400/60000 (11%)]\tTrain Loss: 0.195678\n",
      "Train Epoch: 3 [12800/60000 (21%)]\tTrain Loss: 0.016857\n",
      "Train Epoch: 3 [19200/60000 (32%)]\tTrain Loss: 0.041961\n",
      "Train Epoch: 3 [25600/60000 (43%)]\tTrain Loss: 0.170759\n",
      "Train Epoch: 3 [32000/60000 (53%)]\tTrain Loss: 0.152905\n",
      "Train Epoch: 3 [38400/60000 (64%)]\tTrain Loss: 0.309236\n",
      "Train Epoch: 3 [44800/60000 (75%)]\tTrain Loss: 0.253937\n",
      "Train Epoch: 3 [51200/60000 (85%)]\tTrain Loss: 0.217773\n",
      "Train Epoch: 3 [57600/60000 (96%)]\tTrain Loss: 0.238247\n",
      "\n",
      "[EPOCH: 3], \tTest Loss: 0.0031, \tTest Accuracy: 96.86 % \n",
      "\n",
      "Train Epoch: 4 [0/60000 (0%)]\tTrain Loss: 0.187337\n",
      "Train Epoch: 4 [6400/60000 (11%)]\tTrain Loss: 0.105887\n",
      "Train Epoch: 4 [12800/60000 (21%)]\tTrain Loss: 0.190304\n",
      "Train Epoch: 4 [19200/60000 (32%)]\tTrain Loss: 0.213297\n",
      "Train Epoch: 4 [25600/60000 (43%)]\tTrain Loss: 0.045441\n",
      "Train Epoch: 4 [32000/60000 (53%)]\tTrain Loss: 0.782667\n",
      "Train Epoch: 4 [38400/60000 (64%)]\tTrain Loss: 0.169141\n",
      "Train Epoch: 4 [44800/60000 (75%)]\tTrain Loss: 0.233971\n",
      "Train Epoch: 4 [51200/60000 (85%)]\tTrain Loss: 0.215921\n",
      "Train Epoch: 4 [57600/60000 (96%)]\tTrain Loss: 0.120992\n",
      "\n",
      "[EPOCH: 4], \tTest Loss: 0.0025, \tTest Accuracy: 97.56 % \n",
      "\n",
      "Train Epoch: 5 [0/60000 (0%)]\tTrain Loss: 0.167760\n",
      "Train Epoch: 5 [6400/60000 (11%)]\tTrain Loss: 0.068966\n",
      "Train Epoch: 5 [12800/60000 (21%)]\tTrain Loss: 0.203758\n",
      "Train Epoch: 5 [19200/60000 (32%)]\tTrain Loss: 0.070280\n",
      "Train Epoch: 5 [25600/60000 (43%)]\tTrain Loss: 0.038194\n",
      "Train Epoch: 5 [32000/60000 (53%)]\tTrain Loss: 0.533818\n",
      "Train Epoch: 5 [38400/60000 (64%)]\tTrain Loss: 0.085806\n",
      "Train Epoch: 5 [44800/60000 (75%)]\tTrain Loss: 0.021282\n",
      "Train Epoch: 5 [51200/60000 (85%)]\tTrain Loss: 0.142276\n",
      "Train Epoch: 5 [57600/60000 (96%)]\tTrain Loss: 0.037668\n",
      "\n",
      "[EPOCH: 5], \tTest Loss: 0.0025, \tTest Accuracy: 97.44 % \n",
      "\n",
      "Train Epoch: 6 [0/60000 (0%)]\tTrain Loss: 0.280713\n",
      "Train Epoch: 6 [6400/60000 (11%)]\tTrain Loss: 0.170475\n",
      "Train Epoch: 6 [12800/60000 (21%)]\tTrain Loss: 0.398704\n",
      "Train Epoch: 6 [19200/60000 (32%)]\tTrain Loss: 0.061746\n",
      "Train Epoch: 6 [25600/60000 (43%)]\tTrain Loss: 0.097787\n",
      "Train Epoch: 6 [32000/60000 (53%)]\tTrain Loss: 0.475778\n",
      "Train Epoch: 6 [38400/60000 (64%)]\tTrain Loss: 0.087464\n",
      "Train Epoch: 6 [44800/60000 (75%)]\tTrain Loss: 0.262430\n",
      "Train Epoch: 6 [51200/60000 (85%)]\tTrain Loss: 0.069906\n",
      "Train Epoch: 6 [57600/60000 (96%)]\tTrain Loss: 0.443448\n",
      "\n",
      "[EPOCH: 6], \tTest Loss: 0.0024, \tTest Accuracy: 97.75 % \n",
      "\n",
      "Train Epoch: 7 [0/60000 (0%)]\tTrain Loss: 0.334883\n",
      "Train Epoch: 7 [6400/60000 (11%)]\tTrain Loss: 0.299627\n",
      "Train Epoch: 7 [12800/60000 (21%)]\tTrain Loss: 0.301951\n",
      "Train Epoch: 7 [19200/60000 (32%)]\tTrain Loss: 0.027549\n",
      "Train Epoch: 7 [25600/60000 (43%)]\tTrain Loss: 0.009567\n",
      "Train Epoch: 7 [32000/60000 (53%)]\tTrain Loss: 0.179711\n",
      "Train Epoch: 7 [38400/60000 (64%)]\tTrain Loss: 0.013543\n",
      "Train Epoch: 7 [44800/60000 (75%)]\tTrain Loss: 0.005443\n",
      "Train Epoch: 7 [51200/60000 (85%)]\tTrain Loss: 0.360150\n",
      "Train Epoch: 7 [57600/60000 (96%)]\tTrain Loss: 0.446622\n",
      "\n",
      "[EPOCH: 7], \tTest Loss: 0.0022, \tTest Accuracy: 97.93 % \n",
      "\n",
      "Train Epoch: 8 [0/60000 (0%)]\tTrain Loss: 0.456327\n",
      "Train Epoch: 8 [6400/60000 (11%)]\tTrain Loss: 0.127227\n",
      "Train Epoch: 8 [12800/60000 (21%)]\tTrain Loss: 0.035274\n",
      "Train Epoch: 8 [19200/60000 (32%)]\tTrain Loss: 0.291076\n",
      "Train Epoch: 8 [25600/60000 (43%)]\tTrain Loss: 0.168974\n",
      "Train Epoch: 8 [32000/60000 (53%)]\tTrain Loss: 0.335553\n",
      "Train Epoch: 8 [38400/60000 (64%)]\tTrain Loss: 0.104532\n",
      "Train Epoch: 8 [44800/60000 (75%)]\tTrain Loss: 0.117390\n",
      "Train Epoch: 8 [51200/60000 (85%)]\tTrain Loss: 0.446576\n",
      "Train Epoch: 8 [57600/60000 (96%)]\tTrain Loss: 0.015340\n",
      "\n",
      "[EPOCH: 8], \tTest Loss: 0.0023, \tTest Accuracy: 97.69 % \n",
      "\n",
      "Train Epoch: 9 [0/60000 (0%)]\tTrain Loss: 0.320887\n",
      "Train Epoch: 9 [6400/60000 (11%)]\tTrain Loss: 0.040684\n",
      "Train Epoch: 9 [12800/60000 (21%)]\tTrain Loss: 0.141286\n",
      "Train Epoch: 9 [19200/60000 (32%)]\tTrain Loss: 0.107659\n",
      "Train Epoch: 9 [25600/60000 (43%)]\tTrain Loss: 0.060684\n",
      "Train Epoch: 9 [32000/60000 (53%)]\tTrain Loss: 0.395570\n",
      "Train Epoch: 9 [38400/60000 (64%)]\tTrain Loss: 0.135382\n",
      "Train Epoch: 9 [44800/60000 (75%)]\tTrain Loss: 0.163129\n",
      "Train Epoch: 9 [51200/60000 (85%)]\tTrain Loss: 0.235813\n",
      "Train Epoch: 9 [57600/60000 (96%)]\tTrain Loss: 0.173081\n",
      "\n",
      "[EPOCH: 9], \tTest Loss: 0.0022, \tTest Accuracy: 97.93 % \n",
      "\n",
      "Train Epoch: 10 [0/60000 (0%)]\tTrain Loss: 0.129869\n",
      "Train Epoch: 10 [6400/60000 (11%)]\tTrain Loss: 0.075919\n",
      "Train Epoch: 10 [12800/60000 (21%)]\tTrain Loss: 0.348696\n",
      "Train Epoch: 10 [19200/60000 (32%)]\tTrain Loss: 0.032162\n",
      "Train Epoch: 10 [25600/60000 (43%)]\tTrain Loss: 0.195952\n",
      "Train Epoch: 10 [32000/60000 (53%)]\tTrain Loss: 0.214186\n",
      "Train Epoch: 10 [38400/60000 (64%)]\tTrain Loss: 0.132879\n",
      "Train Epoch: 10 [44800/60000 (75%)]\tTrain Loss: 0.132689\n",
      "Train Epoch: 10 [51200/60000 (85%)]\tTrain Loss: 0.202362\n",
      "Train Epoch: 10 [57600/60000 (96%)]\tTrain Loss: 0.110757\n",
      "\n",
      "[EPOCH: 10], \tTest Loss: 0.0020, \tTest Accuracy: 97.97 % \n",
      "\n"
     ]
    }
   ],
   "source": [
    "train_loss_item_al = []\n",
    "test_loss_item_al = []\n",
    "\n",
    "for epoch in range(1, EPOCHS + 1):\n",
    "    train_loss = train(model_al, train_loader, optimizer, log_interval = 200)\n",
    "    test_loss, test_accuracy = evaluate(model_al, test_loader)\n",
    "    train_loss_item_al.append(train_loss)\n",
    "    test_loss_item_al.append(test_loss)\n",
    "    print(\"\\n[EPOCH: {}], \\tTest Loss: {:.4f}, \\tTest Accuracy: {:.2f} % \\n\".format(\n",
    "        epoch, test_loss, test_accuracy))"
   ]
  },
  {
   "cell_type": "markdown",
   "metadata": {},
   "source": [
    "### 두 model 비교해보기"
   ]
  },
  {
   "cell_type": "markdown",
   "metadata": {},
   "source": [
    "<font color = \"#CC3D3D\"><p>\n",
    "-[basic model 학습 결과](#학습,-테스트-진행) \n",
    "    \n",
    "-[알고리즘을 적용한 model 학습 결과](#알고리즘이-있는-model-학습,-테스트)"
   ]
  }
 ],
 "metadata": {
  "kernelspec": {
   "display_name": "Python 3",
   "language": "python",
   "name": "python3"
  },
  "language_info": {
   "codemirror_mode": {
    "name": "ipython",
    "version": 3
   },
   "file_extension": ".py",
   "mimetype": "text/x-python",
   "name": "python",
   "nbconvert_exporter": "python",
   "pygments_lexer": "ipython3",
   "version": "3.8.5"
  }
 },
 "nbformat": 4,
 "nbformat_minor": 4
}
