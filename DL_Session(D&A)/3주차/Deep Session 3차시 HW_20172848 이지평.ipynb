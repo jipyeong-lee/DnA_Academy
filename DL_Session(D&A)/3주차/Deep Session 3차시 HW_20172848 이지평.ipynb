{
 "cells": [
  {
   "cell_type": "markdown",
   "metadata": {},
   "source": [
    "# 과제) Cifar10 data를 사용한 모델 성능 향상시키기"
   ]
  },
  {
   "cell_type": "markdown",
   "metadata": {},
   "source": [
    "<font color = \"#CC3D3D\"><p>\n",
    "- [과제코드 작성하기](#과제코드-작성하기)"
   ]
  },
  {
   "cell_type": "markdown",
   "metadata": {},
   "source": [
    "## Module import"
   ]
  },
  {
   "cell_type": "code",
   "execution_count": 1,
   "metadata": {},
   "outputs": [],
   "source": [
    "import numpy as np\n",
    "import matplotlib.pyplot as plt\n",
    "\n",
    "import torch\n",
    "import torch.nn as nn\n",
    "import torch.nn.functional as F \n",
    "import torchvision\n",
    "from torchvision import transforms, datasets\n",
    "import torch.nn.init as init\n",
    "import random"
   ]
  },
  {
   "cell_type": "markdown",
   "metadata": {},
   "source": [
    "## Device Checking"
   ]
  },
  {
   "cell_type": "code",
   "execution_count": 2,
   "metadata": {},
   "outputs": [
    {
     "name": "stdout",
     "output_type": "stream",
     "text": [
      "Using PyTorch version:  1.8.0 DEVICE: cuda\n"
     ]
    }
   ],
   "source": [
    "if torch.cuda.is_available():\n",
    "    DEVICE = torch.device('cuda')\n",
    "else:\n",
    "    DEVICE = torch.device('cpu')\n",
    "print('Using PyTorch version: ', torch.__version__, 'DEVICE:', DEVICE)\n",
    "if DEVICE == 'cuda':\n",
    "    torch.cuda.manual_seed_all(777)"
   ]
  },
  {
   "cell_type": "markdown",
   "metadata": {},
   "source": [
    "## Data Downloading"
   ]
  },
  {
   "cell_type": "markdown",
   "metadata": {},
   "source": [
    "#### Hyper parameter"
   ]
  },
  {
   "cell_type": "code",
   "execution_count": 5,
   "metadata": {},
   "outputs": [],
   "source": [
    "BATCH_SIZE = 32\n",
    "EPOCHS = 10\n",
    "Learning_Rate = 0.01\n",
    "drop_prob = 0.5"
   ]
  },
  {
   "cell_type": "code",
   "execution_count": 6,
   "metadata": {},
   "outputs": [],
   "source": [
    "standardization = transforms.Compose([\n",
    "    transforms.ToTensor(),\n",
    "    transforms.Normalize(mean=[0.4913, 0.4821, 0.4465], std = [0.2470, 0.2434, 0.2615])\n",
    "\n",
    "])"
   ]
  },
  {
   "cell_type": "code",
   "execution_count": 7,
   "metadata": {},
   "outputs": [
    {
     "name": "stdout",
     "output_type": "stream",
     "text": [
      "Downloading https://www.cs.toronto.edu/~kriz/cifar-10-python.tar.gz to ./cifar10\\cifar-10-python.tar.gz\n"
     ]
    },
    {
     "data": {
      "application/vnd.jupyter.widget-view+json": {
       "model_id": "bfee71ebdef1438693ec4d34550bd459",
       "version_major": 2,
       "version_minor": 0
      },
      "text/plain": [
       "HBox(children=(HTML(value=''), FloatProgress(value=0.0, max=170498071.0), HTML(value='')))"
      ]
     },
     "metadata": {},
     "output_type": "display_data"
    },
    {
     "name": "stdout",
     "output_type": "stream",
     "text": [
      "\n",
      "Extracting ./cifar10\\cifar-10-python.tar.gz to ./cifar10\n",
      "Files already downloaded and verified\n"
     ]
    }
   ],
   "source": [
    "train_set = torchvision.datasets.CIFAR10(root='./cifar10',\n",
    "                                        train=True, \n",
    "                                        download=True, \n",
    "                                        transform = standardization)\n",
    "\n",
    "test_set = torchvision.datasets.CIFAR10(root='./cifar10', \n",
    "                                       train=False, \n",
    "                                       download=True, \n",
    "                                       transform = standardization)\n",
    "\n",
    "\n",
    "train_loader = torch.utils.data.DataLoader(train_set, batch_size=BATCH_SIZE,\n",
    "                                          shuffle=True, num_workers=0)\n",
    "\n",
    "test_loader = torch.utils.data.DataLoader(test_set, batch_size=BATCH_SIZE, shuffle=False, num_workers=0)\n",
    "\n",
    "classes = ('plane', 'car', 'bird', 'cat', 'deer', 'dog', 'frog', 'horse', 'ship', 'truck')"
   ]
  },
  {
   "cell_type": "markdown",
   "metadata": {},
   "source": [
    "#### 데이터가 잘 다운되었는지 확인"
   ]
  },
  {
   "cell_type": "code",
   "execution_count": 8,
   "metadata": {
    "scrolled": true
   },
   "outputs": [
    {
     "name": "stdout",
     "output_type": "stream",
     "text": [
      "X_train: torch.Size([32, 3, 32, 32]) type: torch.FloatTensor\n",
      "y_train: torch.Size([32]) type: torch.LongTensor\n",
      "\n",
      "\n",
      "train_set: Dataset CIFAR10\n",
      "    Number of datapoints: 50000\n",
      "    Root location: ./cifar10\n",
      "    Split: Train\n",
      "    StandardTransform\n",
      "Transform: Compose(\n",
      "               ToTensor()\n",
      "               Normalize(mean=[0.4913, 0.4821, 0.4465], std=[0.247, 0.2434, 0.2615])\n",
      "           )\n",
      "\n",
      "\n",
      "test_set: Dataset CIFAR10\n",
      "    Number of datapoints: 10000\n",
      "    Root location: ./cifar10\n",
      "    Split: Test\n",
      "    StandardTransform\n",
      "Transform: Compose(\n",
      "               ToTensor()\n",
      "               Normalize(mean=[0.4913, 0.4821, 0.4465], std=[0.247, 0.2434, 0.2615])\n",
      "           )\n"
     ]
    }
   ],
   "source": [
    "for (X_train, y_train) in train_loader:\n",
    "    print('X_train:', X_train.size(), 'type:', X_train.type())\n",
    "    print('y_train:', y_train.size(), 'type:', y_train.type())\n",
    "    break\n",
    "    \n",
    "print('\\n')\n",
    "print('train_set:', train_set)\n",
    "print('\\n')\n",
    "print('test_set:', test_set)\n",
    "\n",
    "# 이자료는 MNIST와 다르게 Channel이 3개임을 알 수 있다. (R, G, B Channels)"
   ]
  },
  {
   "cell_type": "markdown",
   "metadata": {},
   "source": [
    "#### 실제로 data를 확인해보기"
   ]
  },
  {
   "cell_type": "code",
   "execution_count": 9,
   "metadata": {},
   "outputs": [
    {
     "name": "stderr",
     "output_type": "stream",
     "text": [
      "Clipping input data to the valid range for imshow with RGB data ([0..1] for floats or [0..255] for integers).\n"
     ]
    },
    {
     "data": {
      "image/png": "[encoded data removed]",
      "text/plain": [
       "<Figure size 432x288 with 1 Axes>"
      ]
     },
     "metadata": {
      "needs_background": "light"
     },
     "output_type": "display_data"
    },
    {
     "name": "stdout",
     "output_type": "stream",
     "text": [
      " frog  ship  bird  ship\n"
     ]
    }
   ],
   "source": [
    "def imshow(img):  \n",
    "    npimg = img.numpy()\n",
    "    plt.imshow(np.transpose(npimg, (1, 2, 0)))\n",
    "    plt.show()\n",
    "\n",
    "\n",
    "# 학습용 이미지를 무작위로 가져오기\n",
    "dataiter = iter(train_loader)\n",
    "images, labels = dataiter.next()\n",
    "\n",
    "# 이미지 보여주기\n",
    "imshow(torchvision.utils.make_grid(images))\n",
    "# 정답(label) 출력\n",
    "print(' '.join('%5s' % classes[labels[j]] for j in range(4)))"
   ]
  },
  {
   "cell_type": "markdown",
   "metadata": {},
   "source": [
    "## Build Basic Model"
   ]
  },
  {
   "cell_type": "code",
   "execution_count": 8,
   "metadata": {},
   "outputs": [],
   "source": [
    "class Net(nn.Module):\n",
    "    def __init__(self):\n",
    "        super(Net, self).__init__()\n",
    "        \n",
    "        self.layer1 = nn.Sequential(\n",
    "                    nn.Linear(3 * 32 * 32, 512),\n",
    "                    nn.Sigmoid())\n",
    "        \n",
    "        self.layer2 = nn.Sequential(\n",
    "                    nn.Linear(512, 256),\n",
    "                    nn.Sigmoid())\n",
    "        \n",
    "        self.layer3 = nn.Sequential(\n",
    "                    nn.Linear(256, 10),\n",
    "                    nn.LogSoftmax(dim = 1))\n",
    "        \n",
    "    def forward(self, x):\n",
    "        x = x.view(-1, 3 * 32 * 32)\n",
    "        x = self.layer1(x)\n",
    "        x = self.layer2(x)\n",
    "        x = self.layer3(x)\n",
    "        return x"
   ]
  },
  {
   "cell_type": "code",
   "execution_count": 9,
   "metadata": {},
   "outputs": [
    {
     "name": "stdout",
     "output_type": "stream",
     "text": [
      "Net(\n",
      "  (layer1): Sequential(\n",
      "    (0): Linear(in_features=3072, out_features=512, bias=True)\n",
      "    (1): Sigmoid()\n",
      "  )\n",
      "  (layer2): Sequential(\n",
      "    (0): Linear(in_features=512, out_features=256, bias=True)\n",
      "    (1): Sigmoid()\n",
      "  )\n",
      "  (layer3): Sequential(\n",
      "    (0): Linear(in_features=256, out_features=10, bias=True)\n",
      "    (1): LogSoftmax(dim=1)\n",
      "  )\n",
      ")\n"
     ]
    }
   ],
   "source": [
    "model = Net().to(DEVICE)\n",
    "optimizer = torch.optim.SGD(model.parameters(), lr = Learning_Rate)  \n",
    "criterion = nn.CrossEntropyLoss()  \n",
    "\n",
    "print(model)"
   ]
  },
  {
   "cell_type": "markdown",
   "metadata": {},
   "source": [
    "## Model Train, Test"
   ]
  },
  {
   "cell_type": "code",
   "execution_count": 16,
   "metadata": {},
   "outputs": [],
   "source": [
    "def train(model, train_loader, optimizer, log_interval):\n",
    "    model.train()            # train을 하겠다고 선언해준다. \n",
    "    \n",
    "    for batch_idx, (image, label) in enumerate(train_loader):\n",
    "        image = image.to(DEVICE)\n",
    "        label = label.to(DEVICE)\n",
    "        \n",
    "        optimizer.zero_grad()\n",
    "        \n",
    "        output = model(image)\n",
    "        loss = criterion(output, label)\n",
    "    \n",
    "        loss.backward()\n",
    "        optimizer.step()\n",
    "        \n",
    "        \n",
    "        if batch_idx % log_interval == 0:\n",
    "            print(\"Train Epoch: {} [{}/{} ({:.0f}%)]\\tTrain Loss: {:.6f}\".format(\n",
    "                epoch, batch_idx * len(image), \n",
    "                len(train_loader.dataset), 100. * batch_idx / len(train_loader), \n",
    "                loss.item()))"
   ]
  },
  {
   "cell_type": "code",
   "execution_count": 17,
   "metadata": {},
   "outputs": [],
   "source": [
    "def evaluate(model, test_loader):\n",
    "    model.eval()                      # 평가를 한다고 선언해준다. \n",
    "    test_loss = 0\n",
    "    correct = 0\n",
    "    \n",
    "    with torch.no_grad(): \n",
    "        for image, label in test_loader:\n",
    "            image = image.to(DEVICE)\n",
    "            label = label.to(DEVICE)\n",
    "            output = model(image)\n",
    "            test_loss += criterion(output, label).item()\n",
    "            prediction = output.max(1, keepdim = True)[1]\n",
    "            correct += prediction.eq(label.view_as(prediction)).sum().item()\n",
    "            \n",
    "    test_loss /= len(test_loader.dataset)\n",
    "    test_accuracy = 100. * correct / len(test_loader.dataset)\n",
    "    return test_loss, test_accuracy"
   ]
  },
  {
   "cell_type": "markdown",
   "metadata": {},
   "source": [
    "## 학습, 테스트 진행"
   ]
  },
  {
   "cell_type": "code",
   "execution_count": 12,
   "metadata": {
    "scrolled": true
   },
   "outputs": [
    {
     "name": "stdout",
     "output_type": "stream",
     "text": [
      "Train Epoch: 1 [0/50000 (0%)]\tTrain Loss: 2.340000\n",
      "Train Epoch: 1 [6400/50000 (13%)]\tTrain Loss: 2.282292\n",
      "Train Epoch: 1 [12800/50000 (26%)]\tTrain Loss: 2.323937\n",
      "Train Epoch: 1 [19200/50000 (38%)]\tTrain Loss: 2.307219\n",
      "Train Epoch: 1 [25600/50000 (51%)]\tTrain Loss: 2.285362\n",
      "Train Epoch: 1 [32000/50000 (64%)]\tTrain Loss: 2.301730\n",
      "Train Epoch: 1 [38400/50000 (77%)]\tTrain Loss: 2.284976\n",
      "Train Epoch: 1 [44800/50000 (90%)]\tTrain Loss: 2.287122\n",
      "\n",
      "[EPOCH: 1], \tTest Loss: 0.0718, \tTest Accuracy: 15.20 % \n",
      "\n",
      "Train Epoch: 2 [0/50000 (0%)]\tTrain Loss: 2.283570\n",
      "Train Epoch: 2 [6400/50000 (13%)]\tTrain Loss: 2.284820\n",
      "Train Epoch: 2 [12800/50000 (26%)]\tTrain Loss: 2.295300\n",
      "Train Epoch: 2 [19200/50000 (38%)]\tTrain Loss: 2.294395\n",
      "Train Epoch: 2 [25600/50000 (51%)]\tTrain Loss: 2.266618\n",
      "Train Epoch: 2 [32000/50000 (64%)]\tTrain Loss: 2.271042\n",
      "Train Epoch: 2 [38400/50000 (77%)]\tTrain Loss: 2.294543\n",
      "Train Epoch: 2 [44800/50000 (90%)]\tTrain Loss: 2.241453\n",
      "\n",
      "[EPOCH: 2], \tTest Loss: 0.0706, \tTest Accuracy: 17.26 % \n",
      "\n",
      "Train Epoch: 3 [0/50000 (0%)]\tTrain Loss: 2.285545\n",
      "Train Epoch: 3 [6400/50000 (13%)]\tTrain Loss: 2.240343\n",
      "Train Epoch: 3 [12800/50000 (26%)]\tTrain Loss: 2.241402\n",
      "Train Epoch: 3 [19200/50000 (38%)]\tTrain Loss: 2.221201\n",
      "Train Epoch: 3 [25600/50000 (51%)]\tTrain Loss: 2.156719\n",
      "Train Epoch: 3 [32000/50000 (64%)]\tTrain Loss: 2.165738\n",
      "Train Epoch: 3 [38400/50000 (77%)]\tTrain Loss: 2.186184\n",
      "Train Epoch: 3 [44800/50000 (90%)]\tTrain Loss: 2.218874\n",
      "\n",
      "[EPOCH: 3], \tTest Loss: 0.0672, \tTest Accuracy: 20.85 % \n",
      "\n",
      "Train Epoch: 4 [0/50000 (0%)]\tTrain Loss: 2.143474\n",
      "Train Epoch: 4 [6400/50000 (13%)]\tTrain Loss: 2.130772\n",
      "Train Epoch: 4 [12800/50000 (26%)]\tTrain Loss: 2.078523\n",
      "Train Epoch: 4 [19200/50000 (38%)]\tTrain Loss: 2.085933\n",
      "Train Epoch: 4 [25600/50000 (51%)]\tTrain Loss: 2.123244\n",
      "Train Epoch: 4 [32000/50000 (64%)]\tTrain Loss: 2.135732\n",
      "Train Epoch: 4 [38400/50000 (77%)]\tTrain Loss: 1.932478\n",
      "Train Epoch: 4 [44800/50000 (90%)]\tTrain Loss: 1.956730\n",
      "\n",
      "[EPOCH: 4], \tTest Loss: 0.0648, \tTest Accuracy: 21.45 % \n",
      "\n",
      "Train Epoch: 5 [0/50000 (0%)]\tTrain Loss: 1.997774\n",
      "Train Epoch: 5 [6400/50000 (13%)]\tTrain Loss: 2.199983\n",
      "Train Epoch: 5 [12800/50000 (26%)]\tTrain Loss: 1.976463\n",
      "Train Epoch: 5 [19200/50000 (38%)]\tTrain Loss: 2.109093\n",
      "Train Epoch: 5 [25600/50000 (51%)]\tTrain Loss: 2.027301\n",
      "Train Epoch: 5 [32000/50000 (64%)]\tTrain Loss: 2.007665\n",
      "Train Epoch: 5 [38400/50000 (77%)]\tTrain Loss: 2.152897\n",
      "Train Epoch: 5 [44800/50000 (90%)]\tTrain Loss: 1.933896\n",
      "\n",
      "[EPOCH: 5], \tTest Loss: 0.0634, \tTest Accuracy: 25.35 % \n",
      "\n",
      "Train Epoch: 6 [0/50000 (0%)]\tTrain Loss: 2.071976\n",
      "Train Epoch: 6 [6400/50000 (13%)]\tTrain Loss: 1.984579\n",
      "Train Epoch: 6 [12800/50000 (26%)]\tTrain Loss: 2.178539\n",
      "Train Epoch: 6 [19200/50000 (38%)]\tTrain Loss: 1.970065\n",
      "Train Epoch: 6 [25600/50000 (51%)]\tTrain Loss: 1.798496\n",
      "Train Epoch: 6 [32000/50000 (64%)]\tTrain Loss: 1.800244\n",
      "Train Epoch: 6 [38400/50000 (77%)]\tTrain Loss: 2.115659\n",
      "Train Epoch: 6 [44800/50000 (90%)]\tTrain Loss: 2.082349\n",
      "\n",
      "[EPOCH: 6], \tTest Loss: 0.0621, \tTest Accuracy: 27.50 % \n",
      "\n",
      "Train Epoch: 7 [0/50000 (0%)]\tTrain Loss: 2.157839\n",
      "Train Epoch: 7 [6400/50000 (13%)]\tTrain Loss: 1.973965\n",
      "Train Epoch: 7 [12800/50000 (26%)]\tTrain Loss: 1.918116\n",
      "Train Epoch: 7 [19200/50000 (38%)]\tTrain Loss: 1.860528\n",
      "Train Epoch: 7 [25600/50000 (51%)]\tTrain Loss: 2.067585\n",
      "Train Epoch: 7 [32000/50000 (64%)]\tTrain Loss: 1.955702\n",
      "Train Epoch: 7 [38400/50000 (77%)]\tTrain Loss: 1.949797\n",
      "Train Epoch: 7 [44800/50000 (90%)]\tTrain Loss: 2.010803\n",
      "\n",
      "[EPOCH: 7], \tTest Loss: 0.0613, \tTest Accuracy: 26.89 % \n",
      "\n",
      "Train Epoch: 8 [0/50000 (0%)]\tTrain Loss: 2.007451\n",
      "Train Epoch: 8 [6400/50000 (13%)]\tTrain Loss: 1.782749\n",
      "Train Epoch: 8 [12800/50000 (26%)]\tTrain Loss: 1.942213\n",
      "Train Epoch: 8 [19200/50000 (38%)]\tTrain Loss: 1.889042\n",
      "Train Epoch: 8 [25600/50000 (51%)]\tTrain Loss: 1.784066\n",
      "Train Epoch: 8 [32000/50000 (64%)]\tTrain Loss: 1.840013\n",
      "Train Epoch: 8 [38400/50000 (77%)]\tTrain Loss: 2.019390\n",
      "Train Epoch: 8 [44800/50000 (90%)]\tTrain Loss: 2.131935\n",
      "\n",
      "[EPOCH: 8], \tTest Loss: 0.0605, \tTest Accuracy: 28.97 % \n",
      "\n",
      "Train Epoch: 9 [0/50000 (0%)]\tTrain Loss: 1.959291\n",
      "Train Epoch: 9 [6400/50000 (13%)]\tTrain Loss: 1.857146\n",
      "Train Epoch: 9 [12800/50000 (26%)]\tTrain Loss: 1.687703\n",
      "Train Epoch: 9 [19200/50000 (38%)]\tTrain Loss: 1.752756\n",
      "Train Epoch: 9 [25600/50000 (51%)]\tTrain Loss: 1.841782\n",
      "Train Epoch: 9 [32000/50000 (64%)]\tTrain Loss: 1.844429\n",
      "Train Epoch: 9 [38400/50000 (77%)]\tTrain Loss: 2.121353\n",
      "Train Epoch: 9 [44800/50000 (90%)]\tTrain Loss: 1.900923\n",
      "\n",
      "[EPOCH: 9], \tTest Loss: 0.0599, \tTest Accuracy: 31.15 % \n",
      "\n",
      "Train Epoch: 10 [0/50000 (0%)]\tTrain Loss: 1.781178\n",
      "Train Epoch: 10 [6400/50000 (13%)]\tTrain Loss: 1.715403\n",
      "Train Epoch: 10 [12800/50000 (26%)]\tTrain Loss: 1.838682\n",
      "Train Epoch: 10 [19200/50000 (38%)]\tTrain Loss: 2.119223\n",
      "Train Epoch: 10 [25600/50000 (51%)]\tTrain Loss: 1.932886\n",
      "Train Epoch: 10 [32000/50000 (64%)]\tTrain Loss: 1.919046\n",
      "Train Epoch: 10 [38400/50000 (77%)]\tTrain Loss: 1.800503\n",
      "Train Epoch: 10 [44800/50000 (90%)]\tTrain Loss: 1.996781\n",
      "\n",
      "[EPOCH: 10], \tTest Loss: 0.0596, \tTest Accuracy: 30.81 % \n",
      "\n"
     ]
    }
   ],
   "source": [
    "for epoch in range(1, EPOCHS + 1):\n",
    "    train_loss = train(model, train_loader, optimizer, log_interval = 200)\n",
    "    test_loss, test_accuracy = evaluate(model, test_loader)\n",
    "    print(\"\\n[EPOCH: {}], \\tTest Loss: {:.4f}, \\tTest Accuracy: {:.2f} % \\n\".format(\n",
    "        epoch, test_loss, test_accuracy))"
   ]
  },
  {
   "cell_type": "markdown",
   "metadata": {},
   "source": [
    "# 과제코드 작성하기"
   ]
  },
  {
   "cell_type": "markdown",
   "metadata": {},
   "source": [
    "### 배운 5가지 알고리즘을 모두 활용해 Test Accuracy를 올리시오."
   ]
  },
  {
   "cell_type": "code",
   "execution_count": 10,
   "metadata": {},
   "outputs": [],
   "source": [
    "BATCH_SIZE = 64\n",
    "EPOCHS = 10\n",
    "Learning_Rate = 0.01\n",
    "drop_prob = 0.3"
   ]
  },
  {
   "cell_type": "code",
   "execution_count": 11,
   "metadata": {},
   "outputs": [],
   "source": [
    "train_loader = torch.utils.data.DataLoader(train_set, batch_size=BATCH_SIZE,\n",
    "                                          shuffle=True, num_workers=0)\n",
    "\n",
    "test_loader = torch.utils.data.DataLoader(test_set, batch_size=BATCH_SIZE, shuffle=False, num_workers=0)"
   ]
  },
  {
   "cell_type": "code",
   "execution_count": 12,
   "metadata": {},
   "outputs": [],
   "source": [
    "class MishFunction(torch.autograd.Function):\n",
    "    @staticmethod\n",
    "    def forward(ctx, x):\n",
    "        ctx.save_for_backward(x)\n",
    "        return x * torch.tanh(F.softplus(x))   # x * tanh(ln(1 + exp(x)))\n",
    "\n",
    "    @staticmethod\n",
    "    def backward(ctx, grad_output):\n",
    "        x = ctx.saved_variables[0]\n",
    "        sigmoid = torch.sigmoid(x)\n",
    "        tanh_sp = torch.tanh(F.softplus(x)) \n",
    "        return grad_output * (tanh_sp + x * sigmoid * (1 - tanh_sp * tanh_sp))\n",
    "\n",
    "class Mish(nn.Module):\n",
    "    def forward(self, x):\n",
    "        return MishFunction.apply(x)\n",
    "\n",
    "def to_Mish(model):\n",
    "    for child_name, child in model.named_children():\n",
    "        if isinstance(child, nn.ReLU):\n",
    "            setattr(model, child_name, Mish())\n",
    "        else:\n",
    "            to_Mish(child)"
   ]
  },
  {
   "cell_type": "code",
   "execution_count": 13,
   "metadata": {},
   "outputs": [],
   "source": [
    "# code here\n",
    "## 같은 코드이지만 다른 스타일로 nn.Sequential을 사용하여 짤 수 있다.\n",
    "\n",
    "class Net_al(nn.Module):\n",
    "    def __init__(self):\n",
    "        super(Net_al, self).__init__()\n",
    "\n",
    "        self.layer1 = nn.Sequential(\n",
    "            nn.Linear(3 * 32 * 32, 1024),\n",
    "            nn.BatchNorm1d(1024),\n",
    "            Mish(),\n",
    "            nn.Dropout(p = drop_prob)\n",
    "        )\n",
    "      \n",
    "        self.layer2 = nn.Sequential(\n",
    "            nn.Linear(1024, 512),\n",
    "            nn.BatchNorm1d(512),\n",
    "            Mish(),\n",
    "            nn.Dropout(p = drop_prob)\n",
    "        )\n",
    "\n",
    "        self.layer3 = nn.Sequential(\n",
    "            nn.Linear(512, 256),\n",
    "            nn.BatchNorm1d(256),\n",
    "            Mish(),\n",
    "            nn.Dropout(p = drop_prob)\n",
    "        )\n",
    "        \n",
    "       # self.layer5 = nn.Sequential(\n",
    "        #    nn.Linear(256, 128),\n",
    "         #   nn.BatchNorm1d(128),\n",
    "         #   Mish(),\n",
    "        #    nn.Dropout(p = drop_prob)\n",
    "       # )\n",
    "        \n",
    "        self.layer6 = nn.Sequential(\n",
    "            nn.Linear(256, 10),\n",
    "            nn.LogSoftmax(dim = 1)\n",
    "        )\n",
    "        \n",
    "        \n",
    "    def forward(self, x):\n",
    "        x = x.view(-1, 3 * 32 * 32)\n",
    "        x = self.layer1(x)\n",
    "        x = self.layer2(x)\n",
    "        x = self.layer3(x)\n",
    "      #  x = self.layer4(x)\n",
    "     #   x = self.layer5(x)\n",
    "        x = self.layer6(x)\n",
    "        return x"
   ]
  },
  {
   "cell_type": "code",
   "execution_count": 14,
   "metadata": {},
   "outputs": [
    {
     "name": "stdout",
     "output_type": "stream",
     "text": [
      "Net_al(\n",
      "  (layer1): Sequential(\n",
      "    (0): Linear(in_features=3072, out_features=1024, bias=True)\n",
      "    (1): BatchNorm1d(1024, eps=1e-05, momentum=0.1, affine=True, track_running_stats=True)\n",
      "    (2): Mish()\n",
      "    (3): Dropout(p=0.3, inplace=False)\n",
      "  )\n",
      "  (layer2): Sequential(\n",
      "    (0): Linear(in_features=1024, out_features=512, bias=True)\n",
      "    (1): BatchNorm1d(512, eps=1e-05, momentum=0.1, affine=True, track_running_stats=True)\n",
      "    (2): Mish()\n",
      "    (3): Dropout(p=0.3, inplace=False)\n",
      "  )\n",
      "  (layer3): Sequential(\n",
      "    (0): Linear(in_features=512, out_features=256, bias=True)\n",
      "    (1): BatchNorm1d(256, eps=1e-05, momentum=0.1, affine=True, track_running_stats=True)\n",
      "    (2): Mish()\n",
      "    (3): Dropout(p=0.3, inplace=False)\n",
      "  )\n",
      "  (layer6): Sequential(\n",
      "    (0): Linear(in_features=256, out_features=10, bias=True)\n",
      "    (1): LogSoftmax(dim=1)\n",
      "  )\n",
      ")\n"
     ]
    }
   ],
   "source": [
    "# He initialization\n",
    "def weight_init(m):\n",
    "    if isinstance(m, nn.Linear):                          # m이 nn.Linear이라면 실행해줌\n",
    "        init.kaiming_uniform_(m.weight.data)            # HE initialization을 적용하는 코드\n",
    "\n",
    "model_al = Net_al().to(DEVICE)\n",
    "model_al.apply(weight_init)                                                 # apply 함수를 통해 model에 가중치 초기화함수 적용\n",
    "#optimizer = RAdam(model_al.parameters(), lr = Learning_Rate)               # 옵티마이저1\n",
    "optimizer = torch.optim.Adamax(model_al.parameters(), lr = Learning_Rate)   # 옵티마이저2 \n",
    "\n",
    "criterion = nn.CrossEntropyLoss()                                          # 비용함수 \n",
    "\n",
    "print(model_al)"
   ]
  },
  {
   "cell_type": "code",
   "execution_count": 18,
   "metadata": {},
   "outputs": [
    {
     "name": "stderr",
     "output_type": "stream",
     "text": [
      "<ipython-input-12-37dd77e3a775>:9: DeprecationWarning: 'saved_variables' is deprecated; use 'saved_tensors'\n",
      "  x = ctx.saved_variables[0]\n"
     ]
    },
    {
     "name": "stdout",
     "output_type": "stream",
     "text": [
      "Train Epoch: 1 [0/50000 (0%)]\tTrain Loss: 2.596777\n",
      "Train Epoch: 1 [12800/50000 (26%)]\tTrain Loss: 1.683484\n",
      "Train Epoch: 1 [25600/50000 (51%)]\tTrain Loss: 1.678872\n",
      "Train Epoch: 1 [38400/50000 (77%)]\tTrain Loss: 1.774112\n",
      "\n",
      "[EPOCH: 1], \tTest Loss: 0.0240, \tTest Accuracy: 45.46 % \n",
      "\n",
      "Train Epoch: 2 [0/50000 (0%)]\tTrain Loss: 1.802967\n",
      "Train Epoch: 2 [12800/50000 (26%)]\tTrain Loss: 1.503605\n",
      "Train Epoch: 2 [25600/50000 (51%)]\tTrain Loss: 1.739144\n",
      "Train Epoch: 2 [38400/50000 (77%)]\tTrain Loss: 1.472763\n",
      "\n",
      "[EPOCH: 2], \tTest Loss: 0.0224, \tTest Accuracy: 48.86 % \n",
      "\n",
      "Train Epoch: 3 [0/50000 (0%)]\tTrain Loss: 1.544734\n",
      "Train Epoch: 3 [12800/50000 (26%)]\tTrain Loss: 1.536254\n",
      "Train Epoch: 3 [25600/50000 (51%)]\tTrain Loss: 1.583714\n",
      "Train Epoch: 3 [38400/50000 (77%)]\tTrain Loss: 1.442070\n",
      "\n",
      "[EPOCH: 3], \tTest Loss: 0.0216, \tTest Accuracy: 49.76 % \n",
      "\n",
      "Train Epoch: 4 [0/50000 (0%)]\tTrain Loss: 1.224954\n",
      "Train Epoch: 4 [12800/50000 (26%)]\tTrain Loss: 1.477067\n",
      "Train Epoch: 4 [25600/50000 (51%)]\tTrain Loss: 1.319779\n",
      "Train Epoch: 4 [38400/50000 (77%)]\tTrain Loss: 1.686828\n",
      "\n",
      "[EPOCH: 4], \tTest Loss: 0.0209, \tTest Accuracy: 52.38 % \n",
      "\n",
      "Train Epoch: 5 [0/50000 (0%)]\tTrain Loss: 1.362488\n",
      "Train Epoch: 5 [12800/50000 (26%)]\tTrain Loss: 1.303564\n",
      "Train Epoch: 5 [25600/50000 (51%)]\tTrain Loss: 1.289028\n",
      "Train Epoch: 5 [38400/50000 (77%)]\tTrain Loss: 1.354050\n",
      "\n",
      "[EPOCH: 5], \tTest Loss: 0.0205, \tTest Accuracy: 52.73 % \n",
      "\n",
      "Train Epoch: 6 [0/50000 (0%)]\tTrain Loss: 1.416184\n",
      "Train Epoch: 6 [12800/50000 (26%)]\tTrain Loss: 0.958099\n",
      "Train Epoch: 6 [25600/50000 (51%)]\tTrain Loss: 1.658723\n",
      "Train Epoch: 6 [38400/50000 (77%)]\tTrain Loss: 1.247705\n",
      "\n",
      "[EPOCH: 6], \tTest Loss: 0.0199, \tTest Accuracy: 54.29 % \n",
      "\n",
      "Train Epoch: 7 [0/50000 (0%)]\tTrain Loss: 1.330359\n",
      "Train Epoch: 7 [12800/50000 (26%)]\tTrain Loss: 1.259107\n",
      "Train Epoch: 7 [25600/50000 (51%)]\tTrain Loss: 1.508118\n",
      "Train Epoch: 7 [38400/50000 (77%)]\tTrain Loss: 1.454540\n",
      "\n",
      "[EPOCH: 7], \tTest Loss: 0.0199, \tTest Accuracy: 54.79 % \n",
      "\n",
      "Train Epoch: 8 [0/50000 (0%)]\tTrain Loss: 1.201673\n",
      "Train Epoch: 8 [12800/50000 (26%)]\tTrain Loss: 1.256896\n",
      "Train Epoch: 8 [25600/50000 (51%)]\tTrain Loss: 1.067804\n",
      "Train Epoch: 8 [38400/50000 (77%)]\tTrain Loss: 1.252149\n",
      "\n",
      "[EPOCH: 8], \tTest Loss: 0.0196, \tTest Accuracy: 55.82 % \n",
      "\n",
      "Train Epoch: 9 [0/50000 (0%)]\tTrain Loss: 1.035781\n",
      "Train Epoch: 9 [12800/50000 (26%)]\tTrain Loss: 1.403010\n",
      "Train Epoch: 9 [25600/50000 (51%)]\tTrain Loss: 1.353301\n",
      "Train Epoch: 9 [38400/50000 (77%)]\tTrain Loss: 1.174716\n",
      "\n",
      "[EPOCH: 9], \tTest Loss: 0.0190, \tTest Accuracy: 56.35 % \n",
      "\n",
      "Train Epoch: 10 [0/50000 (0%)]\tTrain Loss: 1.087506\n",
      "Train Epoch: 10 [12800/50000 (26%)]\tTrain Loss: 0.983639\n",
      "Train Epoch: 10 [25600/50000 (51%)]\tTrain Loss: 1.151218\n",
      "Train Epoch: 10 [38400/50000 (77%)]\tTrain Loss: 1.447126\n",
      "\n",
      "[EPOCH: 10], \tTest Loss: 0.0191, \tTest Accuracy: 56.31 % \n",
      "\n"
     ]
    }
   ],
   "source": [
    "train_loss_item_al = []\n",
    "test_loss_item_al = []\n",
    "\n",
    "for epoch in range(1, EPOCHS + 1):\n",
    "    train_loss = train(model_al, train_loader, optimizer, log_interval = 200)\n",
    "    test_loss, test_accuracy = evaluate(model_al, test_loader)\n",
    "    train_loss_item_al.append(train_loss)\n",
    "    test_loss_item_al.append(test_loss)\n",
    "    print(\"\\n[EPOCH: {}], \\tTest Loss: {:.4f}, \\tTest Accuracy: {:.2f} % \\n\".format(\n",
    "        epoch, test_loss, test_accuracy))\n",
    "\n",
    "\n",
    "# 64 - Adamax - 0.01 - mish - 0.3 - 10 : 56.89\n",
    "# 64 - Adamax - 0.01 - mish - 0.3 - 10 : 56.89\n",
    "# 56.88 / "
   ]
  },
  {
   "cell_type": "markdown",
   "metadata": {},
   "source": [
    "## CNN 적용"
   ]
  },
  {
   "cell_type": "code",
   "execution_count": 86,
   "metadata": {},
   "outputs": [],
   "source": [
    "BATCH_SIZE = 128\n",
    "EPOCHS = 10\n",
    "Learning_Rate = 0.01\n",
    "drop_prob = 0.3"
   ]
  },
  {
   "cell_type": "code",
   "execution_count": 89,
   "metadata": {},
   "outputs": [],
   "source": [
    "# code here\n",
    "## 같은 코드이지만 다른 스타일로 nn.Sequential을 사용하여 짤 수 있다.\n",
    "\n",
    "drop_prob = 0.3           # drop_prob는 hyper parameter이므로 미리 설정한다.\n",
    "class Net_al(nn.Module):\n",
    "    def __init__(self):\n",
    "        super(Net_al, self).__init__()\n",
    "        \n",
    "        self.layer1 = nn.Sequential(\n",
    "            nn.Conv2d(3, 32, kernel_size=3, stride=1, padding=1),\n",
    "            nn.BatchNorm2d(32),\n",
    "            Mish(),\n",
    "            nn.MaxPool2d(kernel_size=2, stride=2)\n",
    "        )\n",
    "        \n",
    "        self.layer2 = nn.Sequential(\n",
    "            nn.Conv2d(32, 64, kernel_size=3, stride=1, padding=1),\n",
    "            nn.BatchNorm2d(64),\n",
    "            Mish(),\n",
    "            nn.MaxPool2d(kernel_size=2, stride=2)\n",
    "        )\n",
    "        \n",
    "        self.layer3 = nn.Sequential(\n",
    "            nn.Conv2d(64, 128, kernel_size=3, stride=1, padding=1),\n",
    "            nn.BatchNorm2d(128),\n",
    "            Mish(),\n",
    "            nn.MaxPool2d(kernel_size=2, stride=2)\n",
    "        )\n",
    "        \n",
    "        self.layer4 = nn.Sequential(\n",
    "            nn.Conv2d(128, 256, kernel_size=3, stride=1, padding=1),\n",
    "            nn.BatchNorm2d(256),\n",
    "            Mish(),\n",
    "            nn.MaxPool2d(kernel_size=2, stride=2, padding=1)\n",
    "        )\n",
    "        \n",
    "        self.fc1 = nn.Linear(3*3*256, 256, bias=True)\n",
    "        nn.init.xavier_uniform_(self.fc1.weight)\n",
    "\n",
    "        self.layer5 = nn.Sequential(\n",
    "            self.fc1,\n",
    "            nn.BatchNorm1d(256),\n",
    "            Mish(),\n",
    "            nn.Dropout(p = drop_prob)\n",
    "        )\n",
    "        \n",
    "        # L5 Final FC 512 inputs -> 10 outputs\n",
    "        self.fc2 = nn.Linear(256, 10, bias=True)\n",
    "        nn.init.xavier_uniform_(self.fc2.weight)\n",
    "        \n",
    "        self.layer6 = nn.Sequential(\n",
    "            self.fc2,\n",
    "            nn.LogSoftmax(dim=1)\n",
    "        )\n",
    "        \n",
    "        \n",
    "    def forward(self, x):\n",
    "        out = self.layer1(x)\n",
    "        out = self.layer2(out)\n",
    "        out = self.layer3(out)\n",
    "        out = self.layer4(out)\n",
    "        out = out.view(out.size(0), -1)   # Flatten them for FC\n",
    "        out = self.layer5(out)\n",
    "        out = self.layer6(out)\n",
    "        return out"
   ]
  },
  {
   "cell_type": "code",
   "execution_count": 90,
   "metadata": {},
   "outputs": [
    {
     "name": "stdout",
     "output_type": "stream",
     "text": [
      "Net_al(\n",
      "  (layer1): Sequential(\n",
      "    (0): Conv2d(3, 32, kernel_size=(3, 3), stride=(1, 1), padding=(1, 1))\n",
      "    (1): BatchNorm2d(32, eps=1e-05, momentum=0.1, affine=True, track_running_stats=True)\n",
      "    (2): Mish()\n",
      "    (3): MaxPool2d(kernel_size=2, stride=2, padding=0, dilation=1, ceil_mode=False)\n",
      "  )\n",
      "  (layer2): Sequential(\n",
      "    (0): Conv2d(32, 64, kernel_size=(3, 3), stride=(1, 1), padding=(1, 1))\n",
      "    (1): BatchNorm2d(64, eps=1e-05, momentum=0.1, affine=True, track_running_stats=True)\n",
      "    (2): Mish()\n",
      "    (3): MaxPool2d(kernel_size=2, stride=2, padding=0, dilation=1, ceil_mode=False)\n",
      "  )\n",
      "  (layer3): Sequential(\n",
      "    (0): Conv2d(64, 128, kernel_size=(3, 3), stride=(1, 1), padding=(1, 1))\n",
      "    (1): BatchNorm2d(128, eps=1e-05, momentum=0.1, affine=True, track_running_stats=True)\n",
      "    (2): Mish()\n",
      "    (3): MaxPool2d(kernel_size=2, stride=2, padding=0, dilation=1, ceil_mode=False)\n",
      "  )\n",
      "  (layer4): Sequential(\n",
      "    (0): Conv2d(128, 256, kernel_size=(3, 3), stride=(1, 1), padding=(1, 1))\n",
      "    (1): BatchNorm2d(256, eps=1e-05, momentum=0.1, affine=True, track_running_stats=True)\n",
      "    (2): Mish()\n",
      "    (3): MaxPool2d(kernel_size=2, stride=2, padding=1, dilation=1, ceil_mode=False)\n",
      "  )\n",
      "  (fc1): Linear(in_features=2304, out_features=256, bias=True)\n",
      "  (layer5): Sequential(\n",
      "    (0): Linear(in_features=2304, out_features=256, bias=True)\n",
      "    (1): BatchNorm1d(256, eps=1e-05, momentum=0.1, affine=True, track_running_stats=True)\n",
      "    (2): Mish()\n",
      "    (3): Dropout(p=0.3, inplace=False)\n",
      "  )\n",
      "  (fc2): Linear(in_features=256, out_features=10, bias=True)\n",
      "  (layer6): Sequential(\n",
      "    (0): Linear(in_features=256, out_features=10, bias=True)\n",
      "    (1): LogSoftmax(dim=1)\n",
      "  )\n",
      ")\n"
     ]
    }
   ],
   "source": [
    "# He initialization\n",
    "def weight_init(m):\n",
    "    if isinstance(m, nn.Linear):                          # m이 nn.Linear이라면 실행해줌\n",
    "        init.kaiming_uniform_(m.weight.data)            # HE initialization을 적용하는 코드\n",
    "\n",
    "model_al = Net_al().to(DEVICE)\n",
    "model_al.apply(weight_init)                                                 # apply 함수를 통해 model에 가중치 초기화함수 적용\n",
    "optimizer = torch.optim.Adam(model_al.parameters(), lr = Learning_Rate)    # 옵티마이저 \n",
    "criterion = nn.CrossEntropyLoss()                                          # 비용함수 \n",
    "\n",
    "print(model_al)"
   ]
  },
  {
   "cell_type": "code",
   "execution_count": 92,
   "metadata": {},
   "outputs": [
    {
     "name": "stderr",
     "output_type": "stream",
     "text": [
      "<ipython-input-12-37dd77e3a775>:9: DeprecationWarning: 'saved_variables' is deprecated; use 'saved_tensors'\n",
      "  x = ctx.saved_variables[0]\n"
     ]
    },
    {
     "name": "stdout",
     "output_type": "stream",
     "text": [
      "Train Epoch: 1 [0/50000 (0%)]\tTrain Loss: 0.126381\n",
      "Train Epoch: 1 [12800/50000 (26%)]\tTrain Loss: 0.104113\n",
      "Train Epoch: 1 [25600/50000 (51%)]\tTrain Loss: 0.207518\n",
      "Train Epoch: 1 [38400/50000 (77%)]\tTrain Loss: 0.286908\n",
      "\n",
      "[EPOCH: 1], \tTest Loss: 0.0165, \tTest Accuracy: 76.97 % \n",
      "\n",
      "Train Epoch: 2 [0/50000 (0%)]\tTrain Loss: 0.058691\n",
      "Train Epoch: 2 [12800/50000 (26%)]\tTrain Loss: 0.111682\n",
      "Train Epoch: 2 [25600/50000 (51%)]\tTrain Loss: 0.064466\n",
      "Train Epoch: 2 [38400/50000 (77%)]\tTrain Loss: 0.147541\n"
     ]
    },
    {
     "ename": "KeyboardInterrupt",
     "evalue": "",
     "output_type": "error",
     "traceback": [
      "\u001b[1;31m---------------------------------------------------------------------------\u001b[0m",
      "\u001b[1;31mKeyboardInterrupt\u001b[0m                         Traceback (most recent call last)",
      "\u001b[1;32m<ipython-input-92-2c62c5d67ad3>\u001b[0m in \u001b[0;36m<module>\u001b[1;34m\u001b[0m\n\u001b[0;32m      4\u001b[0m \u001b[1;32mfor\u001b[0m \u001b[0mepoch\u001b[0m \u001b[1;32min\u001b[0m \u001b[0mrange\u001b[0m\u001b[1;33m(\u001b[0m\u001b[1;36m1\u001b[0m\u001b[1;33m,\u001b[0m \u001b[0mEPOCHS\u001b[0m \u001b[1;33m+\u001b[0m \u001b[1;36m1\u001b[0m\u001b[1;33m)\u001b[0m\u001b[1;33m:\u001b[0m\u001b[1;33m\u001b[0m\u001b[1;33m\u001b[0m\u001b[0m\n\u001b[0;32m      5\u001b[0m     \u001b[0mtrain_loss\u001b[0m \u001b[1;33m=\u001b[0m \u001b[0mtrain\u001b[0m\u001b[1;33m(\u001b[0m\u001b[0mmodel_al\u001b[0m\u001b[1;33m,\u001b[0m \u001b[0mtrain_loader\u001b[0m\u001b[1;33m,\u001b[0m \u001b[0moptimizer\u001b[0m\u001b[1;33m,\u001b[0m \u001b[0mlog_interval\u001b[0m \u001b[1;33m=\u001b[0m \u001b[1;36m200\u001b[0m\u001b[1;33m)\u001b[0m\u001b[1;33m\u001b[0m\u001b[1;33m\u001b[0m\u001b[0m\n\u001b[1;32m----> 6\u001b[1;33m     \u001b[0mtest_loss\u001b[0m\u001b[1;33m,\u001b[0m \u001b[0mtest_accuracy\u001b[0m \u001b[1;33m=\u001b[0m \u001b[0mevaluate\u001b[0m\u001b[1;33m(\u001b[0m\u001b[0mmodel_al\u001b[0m\u001b[1;33m,\u001b[0m \u001b[0mtest_loader\u001b[0m\u001b[1;33m)\u001b[0m\u001b[1;33m\u001b[0m\u001b[1;33m\u001b[0m\u001b[0m\n\u001b[0m\u001b[0;32m      7\u001b[0m     \u001b[0mtrain_loss_item_al\u001b[0m\u001b[1;33m.\u001b[0m\u001b[0mappend\u001b[0m\u001b[1;33m(\u001b[0m\u001b[0mtrain_loss\u001b[0m\u001b[1;33m)\u001b[0m\u001b[1;33m\u001b[0m\u001b[1;33m\u001b[0m\u001b[0m\n\u001b[0;32m      8\u001b[0m     \u001b[0mtest_loss_item_al\u001b[0m\u001b[1;33m.\u001b[0m\u001b[0mappend\u001b[0m\u001b[1;33m(\u001b[0m\u001b[0mtest_loss\u001b[0m\u001b[1;33m)\u001b[0m\u001b[1;33m\u001b[0m\u001b[1;33m\u001b[0m\u001b[0m\n",
      "\u001b[1;32m<ipython-input-17-7cd82d179977>\u001b[0m in \u001b[0;36mevaluate\u001b[1;34m(model, test_loader)\u001b[0m\n\u001b[0;32m      9\u001b[0m             \u001b[0mlabel\u001b[0m \u001b[1;33m=\u001b[0m \u001b[0mlabel\u001b[0m\u001b[1;33m.\u001b[0m\u001b[0mto\u001b[0m\u001b[1;33m(\u001b[0m\u001b[0mDEVICE\u001b[0m\u001b[1;33m)\u001b[0m\u001b[1;33m\u001b[0m\u001b[1;33m\u001b[0m\u001b[0m\n\u001b[0;32m     10\u001b[0m             \u001b[0moutput\u001b[0m \u001b[1;33m=\u001b[0m \u001b[0mmodel\u001b[0m\u001b[1;33m(\u001b[0m\u001b[0mimage\u001b[0m\u001b[1;33m)\u001b[0m\u001b[1;33m\u001b[0m\u001b[1;33m\u001b[0m\u001b[0m\n\u001b[1;32m---> 11\u001b[1;33m             \u001b[0mtest_loss\u001b[0m \u001b[1;33m+=\u001b[0m \u001b[0mcriterion\u001b[0m\u001b[1;33m(\u001b[0m\u001b[0moutput\u001b[0m\u001b[1;33m,\u001b[0m \u001b[0mlabel\u001b[0m\u001b[1;33m)\u001b[0m\u001b[1;33m.\u001b[0m\u001b[0mitem\u001b[0m\u001b[1;33m(\u001b[0m\u001b[1;33m)\u001b[0m\u001b[1;33m\u001b[0m\u001b[1;33m\u001b[0m\u001b[0m\n\u001b[0m\u001b[0;32m     12\u001b[0m             \u001b[0mprediction\u001b[0m \u001b[1;33m=\u001b[0m \u001b[0moutput\u001b[0m\u001b[1;33m.\u001b[0m\u001b[0mmax\u001b[0m\u001b[1;33m(\u001b[0m\u001b[1;36m1\u001b[0m\u001b[1;33m,\u001b[0m \u001b[0mkeepdim\u001b[0m \u001b[1;33m=\u001b[0m \u001b[1;32mTrue\u001b[0m\u001b[1;33m)\u001b[0m\u001b[1;33m[\u001b[0m\u001b[1;36m1\u001b[0m\u001b[1;33m]\u001b[0m\u001b[1;33m\u001b[0m\u001b[1;33m\u001b[0m\u001b[0m\n\u001b[0;32m     13\u001b[0m             \u001b[0mcorrect\u001b[0m \u001b[1;33m+=\u001b[0m \u001b[0mprediction\u001b[0m\u001b[1;33m.\u001b[0m\u001b[0meq\u001b[0m\u001b[1;33m(\u001b[0m\u001b[0mlabel\u001b[0m\u001b[1;33m.\u001b[0m\u001b[0mview_as\u001b[0m\u001b[1;33m(\u001b[0m\u001b[0mprediction\u001b[0m\u001b[1;33m)\u001b[0m\u001b[1;33m)\u001b[0m\u001b[1;33m.\u001b[0m\u001b[0msum\u001b[0m\u001b[1;33m(\u001b[0m\u001b[1;33m)\u001b[0m\u001b[1;33m.\u001b[0m\u001b[0mitem\u001b[0m\u001b[1;33m(\u001b[0m\u001b[1;33m)\u001b[0m\u001b[1;33m\u001b[0m\u001b[1;33m\u001b[0m\u001b[0m\n",
      "\u001b[1;31mKeyboardInterrupt\u001b[0m: "
     ]
    }
   ],
   "source": [
    "train_loss_item_al = []\n",
    "test_loss_item_al = []\n",
    "\n",
    "for epoch in range(1, EPOCHS + 1):\n",
    "    train_loss = train(model_al, train_loader, optimizer, log_interval = 200)\n",
    "    test_loss, test_accuracy = evaluate(model_al, test_loader)\n",
    "    train_loss_item_al.append(train_loss)\n",
    "    test_loss_item_al.append(test_loss)\n",
    "    print(\"\\n[EPOCH: {}], \\tTest Loss: {:.4f}, \\tTest Accuracy: {:.2f} % \\n\".format(\n",
    "        epoch, test_loss, test_accuracy))\n",
    "    \n",
    "# 78.64\n",
    "# 78.84"
   ]
  },
  {
   "cell_type": "code",
   "execution_count": null,
   "metadata": {},
   "outputs": [],
   "source": []
  }
 ],
 "metadata": {
  "kernelspec": {
   "display_name": "Python 3",
   "language": "python",
   "name": "python3"
  },
  "language_info": {
   "codemirror_mode": {
    "name": "ipython",
    "version": 3
   },
   "file_extension": ".py",
   "mimetype": "text/x-python",
   "name": "python",
   "nbconvert_exporter": "python",
   "pygments_lexer": "ipython3",
   "version": "3.8.5"
  }
 },
 "nbformat": 4,
 "nbformat_minor": 4
}
