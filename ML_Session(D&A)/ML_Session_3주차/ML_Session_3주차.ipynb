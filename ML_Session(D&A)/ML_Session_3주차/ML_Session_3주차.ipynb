{
 "cells": [
  {
   "cell_type": "markdown",
   "metadata": {
    "colab_type": "text",
    "id": "SHfCkZVjVBqa"
   },
   "source": [
    "## SciKit-Learn 사용법"
   ]
  },
  {
   "cell_type": "code",
   "execution_count": 1,
   "metadata": {
    "colab": {},
    "colab_type": "code",
    "id": "H7N46aq817x7"
   },
   "outputs": [],
   "source": [
    "# 데이터 분리\n",
    "from sklearn.model_selection import train_test_split\n",
    "# 사이킷런 내장 데이터셋\n",
    "from sklearn.datasets import load_iris, load_boston\n",
    "# K-Fold\n",
    "from sklearn.model_selection import KFold\n",
    "# 평가지표 구하기\n",
    "from sklearn.metrics import roc_auc_score\n",
    "# 모델 생성\n",
    "from sklearn.neighbors import KNeighborsClassifier\n",
    "from sklearn.svm import LinearSVC\n",
    "from sklearn.tree import DecisionTreeClassifier\n",
    "from sklearn.ensemble import RandomForestClassifier, VotingClassifier\n",
    "# 데이터스케일링\n",
    "from sklearn.preprocessing import StandardScaler, MinMaxScaler"
   ]
  },
  {
   "cell_type": "markdown",
   "metadata": {
    "colab_type": "text",
    "id": "vuDTwsZg18bi"
   },
   "source": []
  },
  {
   "cell_type": "code",
   "execution_count": 2,
   "metadata": {
    "colab": {},
    "colab_type": "code",
    "id": "GpfGEEZaa-wh"
   },
   "outputs": [],
   "source": [
    "import pandas as pd\n",
    "import numpy as np\n",
    "import matplotlib.pyplot as plt\n",
    "%matplotlib inline\n",
    "plt.rc('font',family='Malgun Gothic')"
   ]
  },
  {
   "cell_type": "code",
   "execution_count": 3,
   "metadata": {
    "colab": {},
    "colab_type": "code",
    "id": "-IpMJGkNa-wk"
   },
   "outputs": [],
   "source": [
    "from sklearn.datasets import load_breast_cancer\n",
    "data = load_breast_cancer()"
   ]
  },
  {
   "cell_type": "code",
   "execution_count": 4,
   "metadata": {
    "colab": {},
    "colab_type": "code",
    "id": "wlvN47sXa-wm"
   },
   "outputs": [],
   "source": [
    "from sklearn.model_selection import train_test_split\n",
    "\n",
    "X_train, X_test, y_train, y_test = train_test_split(data.data, data.target, stratify=data.target, random_state=66)"
   ]
  },
  {
   "cell_type": "markdown",
   "metadata": {
    "colab_type": "text",
    "id": "j67iNFatW0XK"
   },
   "source": [
    "## LR"
   ]
  },
  {
   "cell_type": "code",
   "execution_count": 5,
   "metadata": {
    "colab": {},
    "colab_type": "code",
    "id": "PHVUWjUDW8_2"
   },
   "outputs": [],
   "source": [
    "from sklearn.linear_model import LogisticRegression\n",
    "lr = LogisticRegression()\n",
    "# 다항회귀\n",
    "# LogisticREgression(multi_class='multinomial')"
   ]
  },
  {
   "cell_type": "code",
   "execution_count": 6,
   "metadata": {
    "colab": {
     "base_uri": "https://localhost:8080/",
     "height": 254
    },
    "colab_type": "code",
    "id": "QHLkS73BXIZQ",
    "outputId": "8ee3f37f-2bcf-4221-f151-0002dfa769d3"
   },
   "outputs": [
    {
     "name": "stderr",
     "output_type": "stream",
     "text": [
      "C:\\Users\\leeji\\Anaconda3\\lib\\site-packages\\sklearn\\linear_model\\_logistic.py:762: ConvergenceWarning: lbfgs failed to converge (status=1):\n",
      "STOP: TOTAL NO. of ITERATIONS REACHED LIMIT.\n",
      "\n",
      "Increase the number of iterations (max_iter) or scale the data as shown in:\n",
      "    https://scikit-learn.org/stable/modules/preprocessing.html\n",
      "Please also refer to the documentation for alternative solver options:\n",
      "    https://scikit-learn.org/stable/modules/linear_model.html#logistic-regression\n",
      "  n_iter_i = _check_optimize_result(\n"
     ]
    },
    {
     "data": {
      "text/plain": [
       "LogisticRegression()"
      ]
     },
     "execution_count": 6,
     "metadata": {},
     "output_type": "execute_result"
    }
   ],
   "source": [
    "lr.fit(X_train, y_train)"
   ]
  },
  {
   "cell_type": "code",
   "execution_count": 8,
   "metadata": {
    "colab": {
     "base_uri": "https://localhost:8080/",
     "height": 35
    },
    "colab_type": "code",
    "id": "WD17TNieXSY1",
    "outputId": "6fc81cf0-7be1-47ea-c950-4a117e141fba"
   },
   "outputs": [
    {
     "data": {
      "text/plain": [
       "0.9370629370629371"
      ]
     },
     "execution_count": 8,
     "metadata": {},
     "output_type": "execute_result"
    }
   ],
   "source": [
    "lr.score(X_test, y_test)"
   ]
  },
  {
   "cell_type": "markdown",
   "metadata": {
    "colab_type": "text",
    "id": "CXIO10Daa-wo"
   },
   "source": [
    "## KNN"
   ]
  },
  {
   "cell_type": "code",
   "execution_count": 9,
   "metadata": {
    "colab": {},
    "colab_type": "code",
    "id": "Qc6-US2ca-wp"
   },
   "outputs": [],
   "source": [
    "from sklearn.neighbors import KNeighborsClassifier\n",
    "knn = KNeighborsClassifier(n_neighbors=3)"
   ]
  },
  {
   "cell_type": "code",
   "execution_count": 10,
   "metadata": {
    "colab": {
     "base_uri": "https://localhost:8080/",
     "height": 72
    },
    "colab_type": "code",
    "id": "hU3odoLca-wr",
    "outputId": "d0e8c872-cd11-4d0e-b56d-8a2a2e066119"
   },
   "outputs": [
    {
     "data": {
      "text/plain": [
       "KNeighborsClassifier(n_neighbors=3)"
      ]
     },
     "execution_count": 10,
     "metadata": {},
     "output_type": "execute_result"
    }
   ],
   "source": [
    "knn.fit(X_train, y_train)"
   ]
  },
  {
   "cell_type": "code",
   "execution_count": 11,
   "metadata": {
    "colab": {
     "base_uri": "https://localhost:8080/",
     "height": 35
    },
    "colab_type": "code",
    "id": "FJtTwHQ_a-wu",
    "outputId": "7a1622bd-df51-44a1-bd59-420af4e9ca16"
   },
   "outputs": [
    {
     "data": {
      "text/plain": [
       "0.9230769230769231"
      ]
     },
     "execution_count": 11,
     "metadata": {},
     "output_type": "execute_result"
    }
   ],
   "source": [
    "knn.score(X_test, y_test)"
   ]
  },
  {
   "cell_type": "code",
   "execution_count": 12,
   "metadata": {
    "colab": {
     "base_uri": "https://localhost:8080/",
     "height": 880
    },
    "colab_type": "code",
    "id": "ULE8kM6Ca-wy",
    "outputId": "0a6f7301-6946-4eb9-c55c-af1edb0c2a70"
   },
   "outputs": [
    {
     "data": {
      "image/png": "[encoded data removed]",
      "text/plain": [
       "<Figure size 432x288 with 1 Axes>"
      ]
     },
     "metadata": {
      "needs_background": "light"
     },
     "output_type": "display_data"
    }
   ],
   "source": [
    "train_acc = []\n",
    "test_acc = []\n",
    "\n",
    "for n in range(1,11):\n",
    "    knn = KNeighborsClassifier(n_neighbors=n)\n",
    "    knn.fit(X_train,y_train)\n",
    "    train_acc.append(knn.score(X_train,y_train))\n",
    "    test_acc.append(knn.score(X_test,y_test))\n",
    "\n",
    "plt.plot([i for i in range(1,11)],train_acc,label='훈련 정확도')\n",
    "plt.plot([i for i in range(1,11)],test_acc,label='테스트 정확도')\n",
    "plt.ylabel('정확도')\n",
    "plt.xlabel('n_neighbors')\n",
    "plt.legend()\n",
    "plt.show()"
   ]
  },
  {
   "cell_type": "markdown",
   "metadata": {
    "colab_type": "text",
    "id": "QXs5hwzYa-w0"
   },
   "source": [
    "## SVM"
   ]
  },
  {
   "cell_type": "code",
   "execution_count": 13,
   "metadata": {
    "colab": {
     "base_uri": "https://localhost:8080/",
     "height": 90
    },
    "colab_type": "code",
    "id": "1b_ZNWDga-w1",
    "outputId": "6f1f6abc-f394-4782-a9de-28dd2caabf31"
   },
   "outputs": [
    {
     "name": "stdout",
     "output_type": "stream",
     "text": [
      "0.9248826291079812\n",
      "0.9230769230769231\n"
     ]
    },
    {
     "name": "stderr",
     "output_type": "stream",
     "text": [
      "C:\\Users\\leeji\\Anaconda3\\lib\\site-packages\\sklearn\\svm\\_base.py:976: ConvergenceWarning: Liblinear failed to converge, increase the number of iterations.\n",
      "  warnings.warn(\"Liblinear failed to converge, increase \"\n"
     ]
    }
   ],
   "source": [
    "from sklearn.svm import LinearSVC\n",
    "\n",
    "svm = LinearSVC()\n",
    "svm.fit(X_train, y_train)\n",
    "print(svm.score(X_train, y_train))\n",
    "print(svm.score(X_test, y_test))"
   ]
  },
  {
   "cell_type": "markdown",
   "metadata": {
    "colab_type": "text",
    "id": "EHJa60ACa-w3"
   },
   "source": [
    "## 결정 트리"
   ]
  },
  {
   "cell_type": "code",
   "execution_count": 14,
   "metadata": {
    "colab": {
     "base_uri": "https://localhost:8080/",
     "height": 54
    },
    "colab_type": "code",
    "id": "6Rgch2Iea-w3",
    "outputId": "125e9823-218b-4304-ccfe-cfc957bc936d"
   },
   "outputs": [
    {
     "name": "stdout",
     "output_type": "stream",
     "text": [
      "1.0\n",
      "0.9300699300699301\n"
     ]
    }
   ],
   "source": [
    "from sklearn.tree import DecisionTreeClassifier\n",
    "\n",
    "tree = DecisionTreeClassifier(random_state=10)\n",
    "tree.fit(X_train, y_train)\n",
    "print(tree.score(X_train, y_train))\n",
    "print(tree.score(X_test, y_test))"
   ]
  },
  {
   "cell_type": "code",
   "execution_count": 15,
   "metadata": {
    "colab": {},
    "colab_type": "code",
    "id": "jfwpUqrEa-w5"
   },
   "outputs": [],
   "source": [
    "from sklearn.tree import export_graphviz\n",
    "export_graphviz(tree,out_file='tree.dot',class_names=['악성','양성'],feature_names=data.feature_names,impurity=False,filled=True)"
   ]
  },
  {
   "cell_type": "code",
   "execution_count": 16,
   "metadata": {
    "colab": {
     "base_uri": "https://localhost:8080/",
     "height": 35
    },
    "colab_type": "code",
    "id": "gNKtd8SWa-w7",
    "outputId": "5567edb9-559f-4626-f074-09ac51dccb6b"
   },
   "outputs": [],
   "source": [
    "# 주피터 환경에서 실행되지 않으면 코랩으로 실행해주세요!\n",
    "# !pip install graphviz"
   ]
  },
  {
   "cell_type": "code",
   "execution_count": 18,
   "metadata": {
    "colab": {
     "base_uri": "https://localhost:8080/",
     "height": 815
    },
    "colab_type": "code",
    "id": "esGdbYfva-w-",
    "outputId": "cd688866-9f7a-42bd-b0be-bc3d58d12f07"
   },
   "outputs": [
    {
     "data": {
      "image/svg+xml": [
       "<?xml version=\"1.0\" encoding=\"UTF-8\" standalone=\"no\"?>\r\n",
       "<!DOCTYPE svg PUBLIC \"-//W3C//DTD SVG 1.1//EN\"\r\n",
       " \"http://www.w3.org/Graphics/SVG/1.1/DTD/svg11.dtd\">\r\n",
       "<!-- Generated by graphviz version 2.44.1 (20200629.0846)\r\n",
       " -->\r\n",
       "<!-- Title: Tree Pages: 1 -->\r\n",
       "<svg width=\"1219pt\" height=\"581pt\"\r\n",
       " viewBox=\"0.00 0.00 1219.00 581.00\" xmlns=\"http://www.w3.org/2000/svg\" xmlns:xlink=\"http://www.w3.org/1999/xlink\">\r\n",
       "<g id=\"graph0\" class=\"graph\" transform=\"scale(1 1) rotate(0) translate(4 577)\">\r\n",
       "<title>Tree</title>\r\n",
       "<polygon fill=\"white\" stroke=\"transparent\" points=\"-4,4 -4,-577 1215,-577 1215,4 -4,4\"/>\r\n",
       "<!-- 0 -->\r\n",
       "<g id=\"node1\" class=\"node\">\r\n",
       "<title>0</title>\r\n",
       "<polygon fill=\"#afd7f4\" stroke=\"black\" points=\"596.5,-573 431.5,-573 431.5,-505 596.5,-505 596.5,-573\"/>\r\n",
       "<text text-anchor=\"middle\" x=\"514\" y=\"-557.8\" font-family=\"Times New Roman,serif\" font-size=\"14.00\">worst perimeter &lt;= 105.95</text>\r\n",
       "<text text-anchor=\"middle\" x=\"514\" y=\"-542.8\" font-family=\"Times New Roman,serif\" font-size=\"14.00\">samples = 426</text>\r\n",
       "<text text-anchor=\"middle\" x=\"514\" y=\"-527.8\" font-family=\"Times New Roman,serif\" font-size=\"14.00\">value = [159, 267]</text>\r\n",
       "<text text-anchor=\"middle\" x=\"514\" y=\"-512.8\" font-family=\"Times New Roman,serif\" font-size=\"14.00\">class = 양성</text>\r\n",
       "</g>\r\n",
       "<!-- 1 -->\r\n",
       "<g id=\"node2\" class=\"node\">\r\n",
       "<title>1</title>\r\n",
       "<polygon fill=\"#41a1e6\" stroke=\"black\" points=\"489.5,-469 298.5,-469 298.5,-401 489.5,-401 489.5,-469\"/>\r\n",
       "<text text-anchor=\"middle\" x=\"394\" y=\"-453.8\" font-family=\"Times New Roman,serif\" font-size=\"14.00\">worst concave points &lt;= 0.142</text>\r\n",
       "<text text-anchor=\"middle\" x=\"394\" y=\"-438.8\" font-family=\"Times New Roman,serif\" font-size=\"14.00\">samples = 257</text>\r\n",
       "<text text-anchor=\"middle\" x=\"394\" y=\"-423.8\" font-family=\"Times New Roman,serif\" font-size=\"14.00\">value = [10, 247]</text>\r\n",
       "<text text-anchor=\"middle\" x=\"394\" y=\"-408.8\" font-family=\"Times New Roman,serif\" font-size=\"14.00\">class = 양성</text>\r\n",
       "</g>\r\n",
       "<!-- 0&#45;&gt;1 -->\r\n",
       "<g id=\"edge1\" class=\"edge\">\r\n",
       "<title>0&#45;&gt;1</title>\r\n",
       "<path fill=\"none\" stroke=\"black\" d=\"M475.04,-504.88C464.14,-495.62 452.18,-485.45 440.88,-475.85\"/>\r\n",
       "<polygon fill=\"black\" stroke=\"black\" points=\"443.06,-473.11 433.18,-469.3 438.53,-478.44 443.06,-473.11\"/>\r\n",
       "<text text-anchor=\"middle\" x=\"435.2\" y=\"-490.52\" font-family=\"Times New Roman,serif\" font-size=\"14.00\">True</text>\r\n",
       "</g>\r\n",
       "<!-- 12 -->\r\n",
       "<g id=\"node13\" class=\"node\">\r\n",
       "<title>12</title>\r\n",
       "<polygon fill=\"#e89254\" stroke=\"black\" points=\"753.5,-469 588.5,-469 588.5,-401 753.5,-401 753.5,-469\"/>\r\n",
       "<text text-anchor=\"middle\" x=\"671\" y=\"-453.8\" font-family=\"Times New Roman,serif\" font-size=\"14.00\">worst perimeter &lt;= 114.45</text>\r\n",
       "<text text-anchor=\"middle\" x=\"671\" y=\"-438.8\" font-family=\"Times New Roman,serif\" font-size=\"14.00\">samples = 169</text>\r\n",
       "<text text-anchor=\"middle\" x=\"671\" y=\"-423.8\" font-family=\"Times New Roman,serif\" font-size=\"14.00\">value = [149, 20]</text>\r\n",
       "<text text-anchor=\"middle\" x=\"671\" y=\"-408.8\" font-family=\"Times New Roman,serif\" font-size=\"14.00\">class = 악성</text>\r\n",
       "</g>\r\n",
       "<!-- 0&#45;&gt;12 -->\r\n",
       "<g id=\"edge12\" class=\"edge\">\r\n",
       "<title>0&#45;&gt;12</title>\r\n",
       "<path fill=\"none\" stroke=\"black\" d=\"M564.97,-504.88C579.86,-495.21 596.25,-484.56 611.61,-474.59\"/>\r\n",
       "<polygon fill=\"black\" stroke=\"black\" points=\"613.54,-477.51 620.01,-469.12 609.72,-471.64 613.54,-477.51\"/>\r\n",
       "<text text-anchor=\"middle\" x=\"614.82\" y=\"-489.88\" font-family=\"Times New Roman,serif\" font-size=\"14.00\">False</text>\r\n",
       "</g>\r\n",
       "<!-- 2 -->\r\n",
       "<g id=\"node3\" class=\"node\">\r\n",
       "<title>2</title>\r\n",
       "<polygon fill=\"#3b9ee5\" stroke=\"black\" points=\"268,-365 128,-365 128,-297 268,-297 268,-365\"/>\r\n",
       "<text text-anchor=\"middle\" x=\"198\" y=\"-349.8\" font-family=\"Times New Roman,serif\" font-size=\"14.00\">worst radius &lt;= 15.78</text>\r\n",
       "<text text-anchor=\"middle\" x=\"198\" y=\"-334.8\" font-family=\"Times New Roman,serif\" font-size=\"14.00\">samples = 243</text>\r\n",
       "<text text-anchor=\"middle\" x=\"198\" y=\"-319.8\" font-family=\"Times New Roman,serif\" font-size=\"14.00\">value = [2, 241]</text>\r\n",
       "<text text-anchor=\"middle\" x=\"198\" y=\"-304.8\" font-family=\"Times New Roman,serif\" font-size=\"14.00\">class = 양성</text>\r\n",
       "</g>\r\n",
       "<!-- 1&#45;&gt;2 -->\r\n",
       "<g id=\"edge2\" class=\"edge\">\r\n",
       "<title>1&#45;&gt;2</title>\r\n",
       "<path fill=\"none\" stroke=\"black\" d=\"M330.36,-400.88C311.27,-390.95 290.18,-379.97 270.55,-369.76\"/>\r\n",
       "<polygon fill=\"black\" stroke=\"black\" points=\"272.14,-366.64 261.65,-365.12 268.91,-372.85 272.14,-366.64\"/>\r\n",
       "</g>\r\n",
       "<!-- 7 -->\r\n",
       "<g id=\"node8\" class=\"node\">\r\n",
       "<title>7</title>\r\n",
       "<polygon fill=\"#f8e0ce\" stroke=\"black\" points=\"479.5,-365 308.5,-365 308.5,-297 479.5,-297 479.5,-365\"/>\r\n",
       "<text text-anchor=\"middle\" x=\"394\" y=\"-349.8\" font-family=\"Times New Roman,serif\" font-size=\"14.00\">mean smoothness &lt;= 0.108</text>\r\n",
       "<text text-anchor=\"middle\" x=\"394\" y=\"-334.8\" font-family=\"Times New Roman,serif\" font-size=\"14.00\">samples = 14</text>\r\n",
       "<text text-anchor=\"middle\" x=\"394\" y=\"-319.8\" font-family=\"Times New Roman,serif\" font-size=\"14.00\">value = [8, 6]</text>\r\n",
       "<text text-anchor=\"middle\" x=\"394\" y=\"-304.8\" font-family=\"Times New Roman,serif\" font-size=\"14.00\">class = 악성</text>\r\n",
       "</g>\r\n",
       "<!-- 1&#45;&gt;7 -->\r\n",
       "<g id=\"edge7\" class=\"edge\">\r\n",
       "<title>1&#45;&gt;7</title>\r\n",
       "<path fill=\"none\" stroke=\"black\" d=\"M394,-400.88C394,-392.78 394,-383.98 394,-375.47\"/>\r\n",
       "<polygon fill=\"black\" stroke=\"black\" points=\"397.5,-375.3 394,-365.3 390.5,-375.3 397.5,-375.3\"/>\r\n",
       "</g>\r\n",
       "<!-- 3 -->\r\n",
       "<g id=\"node4\" class=\"node\">\r\n",
       "<title>3</title>\r\n",
       "<polygon fill=\"#399de5\" stroke=\"black\" points=\"104,-253.5 0,-253.5 0,-200.5 104,-200.5 104,-253.5\"/>\r\n",
       "<text text-anchor=\"middle\" x=\"52\" y=\"-238.3\" font-family=\"Times New Roman,serif\" font-size=\"14.00\">samples = 231</text>\r\n",
       "<text text-anchor=\"middle\" x=\"52\" y=\"-223.3\" font-family=\"Times New Roman,serif\" font-size=\"14.00\">value = [0, 231]</text>\r\n",
       "<text text-anchor=\"middle\" x=\"52\" y=\"-208.3\" font-family=\"Times New Roman,serif\" font-size=\"14.00\">class = 양성</text>\r\n",
       "</g>\r\n",
       "<!-- 2&#45;&gt;3 -->\r\n",
       "<g id=\"edge3\" class=\"edge\">\r\n",
       "<title>2&#45;&gt;3</title>\r\n",
       "<path fill=\"none\" stroke=\"black\" d=\"M150.6,-296.88C133.44,-284.9 114.12,-271.4 97.16,-259.55\"/>\r\n",
       "<polygon fill=\"black\" stroke=\"black\" points=\"98.73,-256.38 88.53,-253.52 94.72,-262.12 98.73,-256.38\"/>\r\n",
       "</g>\r\n",
       "<!-- 4 -->\r\n",
       "<g id=\"node5\" class=\"node\">\r\n",
       "<title>4</title>\r\n",
       "<polygon fill=\"#61b1ea\" stroke=\"black\" points=\"273.5,-261 122.5,-261 122.5,-193 273.5,-193 273.5,-261\"/>\r\n",
       "<text text-anchor=\"middle\" x=\"198\" y=\"-245.8\" font-family=\"Times New Roman,serif\" font-size=\"14.00\">worst texture &lt;= 29.365</text>\r\n",
       "<text text-anchor=\"middle\" x=\"198\" y=\"-230.8\" font-family=\"Times New Roman,serif\" font-size=\"14.00\">samples = 12</text>\r\n",
       "<text text-anchor=\"middle\" x=\"198\" y=\"-215.8\" font-family=\"Times New Roman,serif\" font-size=\"14.00\">value = [2, 10]</text>\r\n",
       "<text text-anchor=\"middle\" x=\"198\" y=\"-200.8\" font-family=\"Times New Roman,serif\" font-size=\"14.00\">class = 양성</text>\r\n",
       "</g>\r\n",
       "<!-- 2&#45;&gt;4 -->\r\n",
       "<g id=\"edge4\" class=\"edge\">\r\n",
       "<title>2&#45;&gt;4</title>\r\n",
       "<path fill=\"none\" stroke=\"black\" d=\"M198,-296.88C198,-288.78 198,-279.98 198,-271.47\"/>\r\n",
       "<polygon fill=\"black\" stroke=\"black\" points=\"201.5,-271.3 198,-261.3 194.5,-271.3 201.5,-271.3\"/>\r\n",
       "</g>\r\n",
       "<!-- 5 -->\r\n",
       "<g id=\"node6\" class=\"node\">\r\n",
       "<title>5</title>\r\n",
       "<polygon fill=\"#399de5\" stroke=\"black\" points=\"145,-149.5 47,-149.5 47,-96.5 145,-96.5 145,-149.5\"/>\r\n",
       "<text text-anchor=\"middle\" x=\"96\" y=\"-134.3\" font-family=\"Times New Roman,serif\" font-size=\"14.00\">samples = 10</text>\r\n",
       "<text text-anchor=\"middle\" x=\"96\" y=\"-119.3\" font-family=\"Times New Roman,serif\" font-size=\"14.00\">value = [0, 10]</text>\r\n",
       "<text text-anchor=\"middle\" x=\"96\" y=\"-104.3\" font-family=\"Times New Roman,serif\" font-size=\"14.00\">class = 양성</text>\r\n",
       "</g>\r\n",
       "<!-- 4&#45;&gt;5 -->\r\n",
       "<g id=\"edge5\" class=\"edge\">\r\n",
       "<title>4&#45;&gt;5</title>\r\n",
       "<path fill=\"none\" stroke=\"black\" d=\"M164.88,-192.88C153.34,-181.34 140.39,-168.39 128.86,-156.86\"/>\r\n",
       "<polygon fill=\"black\" stroke=\"black\" points=\"131.07,-154.12 121.52,-149.52 126.12,-159.07 131.07,-154.12\"/>\r\n",
       "</g>\r\n",
       "<!-- 6 -->\r\n",
       "<g id=\"node7\" class=\"node\">\r\n",
       "<title>6</title>\r\n",
       "<polygon fill=\"#e58139\" stroke=\"black\" points=\"258.5,-149.5 163.5,-149.5 163.5,-96.5 258.5,-96.5 258.5,-149.5\"/>\r\n",
       "<text text-anchor=\"middle\" x=\"211\" y=\"-134.3\" font-family=\"Times New Roman,serif\" font-size=\"14.00\">samples = 2</text>\r\n",
       "<text text-anchor=\"middle\" x=\"211\" y=\"-119.3\" font-family=\"Times New Roman,serif\" font-size=\"14.00\">value = [2, 0]</text>\r\n",
       "<text text-anchor=\"middle\" x=\"211\" y=\"-104.3\" font-family=\"Times New Roman,serif\" font-size=\"14.00\">class = 악성</text>\r\n",
       "</g>\r\n",
       "<!-- 4&#45;&gt;6 -->\r\n",
       "<g id=\"edge6\" class=\"edge\">\r\n",
       "<title>4&#45;&gt;6</title>\r\n",
       "<path fill=\"none\" stroke=\"black\" d=\"M202.22,-192.88C203.58,-182.22 205.09,-170.35 206.47,-159.52\"/>\r\n",
       "<polygon fill=\"black\" stroke=\"black\" points=\"209.96,-159.88 207.75,-149.52 203.01,-159 209.96,-159.88\"/>\r\n",
       "</g>\r\n",
       "<!-- 8 -->\r\n",
       "<g id=\"node9\" class=\"node\">\r\n",
       "<title>8</title>\r\n",
       "<polygon fill=\"#7bbeee\" stroke=\"black\" points=\"432,-261 292,-261 292,-193 432,-193 432,-261\"/>\r\n",
       "<text text-anchor=\"middle\" x=\"362\" y=\"-245.8\" font-family=\"Times New Roman,serif\" font-size=\"14.00\">worst radius &lt;= 15.59</text>\r\n",
       "<text text-anchor=\"middle\" x=\"362\" y=\"-230.8\" font-family=\"Times New Roman,serif\" font-size=\"14.00\">samples = 8</text>\r\n",
       "<text text-anchor=\"middle\" x=\"362\" y=\"-215.8\" font-family=\"Times New Roman,serif\" font-size=\"14.00\">value = [2, 6]</text>\r\n",
       "<text text-anchor=\"middle\" x=\"362\" y=\"-200.8\" font-family=\"Times New Roman,serif\" font-size=\"14.00\">class = 양성</text>\r\n",
       "</g>\r\n",
       "<!-- 7&#45;&gt;8 -->\r\n",
       "<g id=\"edge8\" class=\"edge\">\r\n",
       "<title>7&#45;&gt;8</title>\r\n",
       "<path fill=\"none\" stroke=\"black\" d=\"M383.61,-296.88C381.01,-288.6 378.19,-279.6 375.46,-270.91\"/>\r\n",
       "<polygon fill=\"black\" stroke=\"black\" points=\"378.78,-269.79 372.45,-261.3 372.1,-271.89 378.78,-269.79\"/>\r\n",
       "</g>\r\n",
       "<!-- 11 -->\r\n",
       "<g id=\"node12\" class=\"node\">\r\n",
       "<title>11</title>\r\n",
       "<polygon fill=\"#e58139\" stroke=\"black\" points=\"545.5,-253.5 450.5,-253.5 450.5,-200.5 545.5,-200.5 545.5,-253.5\"/>\r\n",
       "<text text-anchor=\"middle\" x=\"498\" y=\"-238.3\" font-family=\"Times New Roman,serif\" font-size=\"14.00\">samples = 6</text>\r\n",
       "<text text-anchor=\"middle\" x=\"498\" y=\"-223.3\" font-family=\"Times New Roman,serif\" font-size=\"14.00\">value = [6, 0]</text>\r\n",
       "<text text-anchor=\"middle\" x=\"498\" y=\"-208.3\" font-family=\"Times New Roman,serif\" font-size=\"14.00\">class = 악성</text>\r\n",
       "</g>\r\n",
       "<!-- 7&#45;&gt;11 -->\r\n",
       "<g id=\"edge11\" class=\"edge\">\r\n",
       "<title>7&#45;&gt;11</title>\r\n",
       "<path fill=\"none\" stroke=\"black\" d=\"M427.77,-296.88C439.65,-285.23 452.99,-272.14 464.83,-260.53\"/>\r\n",
       "<polygon fill=\"black\" stroke=\"black\" points=\"467.29,-263.02 471.98,-253.52 462.39,-258.02 467.29,-263.02\"/>\r\n",
       "</g>\r\n",
       "<!-- 9 -->\r\n",
       "<g id=\"node10\" class=\"node\">\r\n",
       "<title>9</title>\r\n",
       "<polygon fill=\"#399de5\" stroke=\"black\" points=\"396.5,-149.5 301.5,-149.5 301.5,-96.5 396.5,-96.5 396.5,-149.5\"/>\r\n",
       "<text text-anchor=\"middle\" x=\"349\" y=\"-134.3\" font-family=\"Times New Roman,serif\" font-size=\"14.00\">samples = 6</text>\r\n",
       "<text text-anchor=\"middle\" x=\"349\" y=\"-119.3\" font-family=\"Times New Roman,serif\" font-size=\"14.00\">value = [0, 6]</text>\r\n",
       "<text text-anchor=\"middle\" x=\"349\" y=\"-104.3\" font-family=\"Times New Roman,serif\" font-size=\"14.00\">class = 양성</text>\r\n",
       "</g>\r\n",
       "<!-- 8&#45;&gt;9 -->\r\n",
       "<g id=\"edge9\" class=\"edge\">\r\n",
       "<title>8&#45;&gt;9</title>\r\n",
       "<path fill=\"none\" stroke=\"black\" d=\"M357.78,-192.88C356.42,-182.22 354.91,-170.35 353.53,-159.52\"/>\r\n",
       "<polygon fill=\"black\" stroke=\"black\" points=\"356.99,-159 352.25,-149.52 350.04,-159.88 356.99,-159\"/>\r\n",
       "</g>\r\n",
       "<!-- 10 -->\r\n",
       "<g id=\"node11\" class=\"node\">\r\n",
       "<title>10</title>\r\n",
       "<polygon fill=\"#e58139\" stroke=\"black\" points=\"509.5,-149.5 414.5,-149.5 414.5,-96.5 509.5,-96.5 509.5,-149.5\"/>\r\n",
       "<text text-anchor=\"middle\" x=\"462\" y=\"-134.3\" font-family=\"Times New Roman,serif\" font-size=\"14.00\">samples = 2</text>\r\n",
       "<text text-anchor=\"middle\" x=\"462\" y=\"-119.3\" font-family=\"Times New Roman,serif\" font-size=\"14.00\">value = [2, 0]</text>\r\n",
       "<text text-anchor=\"middle\" x=\"462\" y=\"-104.3\" font-family=\"Times New Roman,serif\" font-size=\"14.00\">class = 악성</text>\r\n",
       "</g>\r\n",
       "<!-- 8&#45;&gt;10 -->\r\n",
       "<g id=\"edge10\" class=\"edge\">\r\n",
       "<title>8&#45;&gt;10</title>\r\n",
       "<path fill=\"none\" stroke=\"black\" d=\"M394.47,-192.88C405.79,-181.34 418.48,-168.39 429.78,-156.86\"/>\r\n",
       "<polygon fill=\"black\" stroke=\"black\" points=\"432.48,-159.11 436.98,-149.52 427.48,-154.21 432.48,-159.11\"/>\r\n",
       "</g>\r\n",
       "<!-- 13 -->\r\n",
       "<g id=\"node14\" class=\"node\">\r\n",
       "<title>13</title>\r\n",
       "<polygon fill=\"#fbede3\" stroke=\"black\" points=\"738,-365 604,-365 604,-297 738,-297 738,-365\"/>\r\n",
       "<text text-anchor=\"middle\" x=\"671\" y=\"-349.8\" font-family=\"Times New Roman,serif\" font-size=\"14.00\">mean area &lt;= 614.15</text>\r\n",
       "<text text-anchor=\"middle\" x=\"671\" y=\"-334.8\" font-family=\"Times New Roman,serif\" font-size=\"14.00\">samples = 39</text>\r\n",
       "<text text-anchor=\"middle\" x=\"671\" y=\"-319.8\" font-family=\"Times New Roman,serif\" font-size=\"14.00\">value = [21, 18]</text>\r\n",
       "<text text-anchor=\"middle\" x=\"671\" y=\"-304.8\" font-family=\"Times New Roman,serif\" font-size=\"14.00\">class = 악성</text>\r\n",
       "</g>\r\n",
       "<!-- 12&#45;&gt;13 -->\r\n",
       "<g id=\"edge13\" class=\"edge\">\r\n",
       "<title>12&#45;&gt;13</title>\r\n",
       "<path fill=\"none\" stroke=\"black\" d=\"M671,-400.88C671,-392.78 671,-383.98 671,-375.47\"/>\r\n",
       "<polygon fill=\"black\" stroke=\"black\" points=\"674.5,-375.3 671,-365.3 667.5,-375.3 674.5,-375.3\"/>\r\n",
       "</g>\r\n",
       "<!-- 22 -->\r\n",
       "<g id=\"node23\" class=\"node\">\r\n",
       "<title>22</title>\r\n",
       "<polygon fill=\"#e5833c\" stroke=\"black\" points=\"975.5,-365 814.5,-365 814.5,-297 975.5,-297 975.5,-365\"/>\r\n",
       "<text text-anchor=\"middle\" x=\"895\" y=\"-349.8\" font-family=\"Times New Roman,serif\" font-size=\"14.00\">worst concavity &lt;= 0.113</text>\r\n",
       "<text text-anchor=\"middle\" x=\"895\" y=\"-334.8\" font-family=\"Times New Roman,serif\" font-size=\"14.00\">samples = 130</text>\r\n",
       "<text text-anchor=\"middle\" x=\"895\" y=\"-319.8\" font-family=\"Times New Roman,serif\" font-size=\"14.00\">value = [128, 2]</text>\r\n",
       "<text text-anchor=\"middle\" x=\"895\" y=\"-304.8\" font-family=\"Times New Roman,serif\" font-size=\"14.00\">class = 악성</text>\r\n",
       "</g>\r\n",
       "<!-- 12&#45;&gt;22 -->\r\n",
       "<g id=\"edge22\" class=\"edge\">\r\n",
       "<title>12&#45;&gt;22</title>\r\n",
       "<path fill=\"none\" stroke=\"black\" d=\"M743.73,-400.88C765.85,-390.81 790.3,-379.67 812.99,-369.34\"/>\r\n",
       "<polygon fill=\"black\" stroke=\"black\" points=\"814.61,-372.45 822.26,-365.12 811.7,-366.08 814.61,-372.45\"/>\r\n",
       "</g>\r\n",
       "<!-- 14 -->\r\n",
       "<g id=\"node15\" class=\"node\">\r\n",
       "<title>14</title>\r\n",
       "<polygon fill=\"#e58139\" stroke=\"black\" points=\"662,-253.5 564,-253.5 564,-200.5 662,-200.5 662,-253.5\"/>\r\n",
       "<text text-anchor=\"middle\" x=\"613\" y=\"-238.3\" font-family=\"Times New Roman,serif\" font-size=\"14.00\">samples = 15</text>\r\n",
       "<text text-anchor=\"middle\" x=\"613\" y=\"-223.3\" font-family=\"Times New Roman,serif\" font-size=\"14.00\">value = [15, 0]</text>\r\n",
       "<text text-anchor=\"middle\" x=\"613\" y=\"-208.3\" font-family=\"Times New Roman,serif\" font-size=\"14.00\">class = 악성</text>\r\n",
       "</g>\r\n",
       "<!-- 13&#45;&gt;14 -->\r\n",
       "<g id=\"edge14\" class=\"edge\">\r\n",
       "<title>13&#45;&gt;14</title>\r\n",
       "<path fill=\"none\" stroke=\"black\" d=\"M652.17,-296.88C645.92,-285.89 638.94,-273.62 632.63,-262.52\"/>\r\n",
       "<polygon fill=\"black\" stroke=\"black\" points=\"635.5,-260.48 627.51,-253.52 629.41,-263.94 635.5,-260.48\"/>\r\n",
       "</g>\r\n",
       "<!-- 15 -->\r\n",
       "<g id=\"node16\" class=\"node\">\r\n",
       "<title>15</title>\r\n",
       "<polygon fill=\"#7bbeee\" stroke=\"black\" points=\"829.5,-261 680.5,-261 680.5,-193 829.5,-193 829.5,-261\"/>\r\n",
       "<text text-anchor=\"middle\" x=\"755\" y=\"-245.8\" font-family=\"Times New Roman,serif\" font-size=\"14.00\">mean texture &lt;= 20.995</text>\r\n",
       "<text text-anchor=\"middle\" x=\"755\" y=\"-230.8\" font-family=\"Times New Roman,serif\" font-size=\"14.00\">samples = 24</text>\r\n",
       "<text text-anchor=\"middle\" x=\"755\" y=\"-215.8\" font-family=\"Times New Roman,serif\" font-size=\"14.00\">value = [6, 18]</text>\r\n",
       "<text text-anchor=\"middle\" x=\"755\" y=\"-200.8\" font-family=\"Times New Roman,serif\" font-size=\"14.00\">class = 양성</text>\r\n",
       "</g>\r\n",
       "<!-- 13&#45;&gt;15 -->\r\n",
       "<g id=\"edge15\" class=\"edge\">\r\n",
       "<title>13&#45;&gt;15</title>\r\n",
       "<path fill=\"none\" stroke=\"black\" d=\"M698.27,-296.88C705.53,-288.07 713.47,-278.43 721.04,-269.24\"/>\r\n",
       "<polygon fill=\"black\" stroke=\"black\" points=\"723.92,-271.24 727.58,-261.3 718.52,-266.79 723.92,-271.24\"/>\r\n",
       "</g>\r\n",
       "<!-- 16 -->\r\n",
       "<g id=\"node17\" class=\"node\">\r\n",
       "<title>16</title>\r\n",
       "<polygon fill=\"#45a3e7\" stroke=\"black\" points=\"681,-157 541,-157 541,-89 681,-89 681,-157\"/>\r\n",
       "<text text-anchor=\"middle\" x=\"611\" y=\"-141.8\" font-family=\"Times New Roman,serif\" font-size=\"14.00\">worst radius &lt;= 17.54</text>\r\n",
       "<text text-anchor=\"middle\" x=\"611\" y=\"-126.8\" font-family=\"Times New Roman,serif\" font-size=\"14.00\">samples = 17</text>\r\n",
       "<text text-anchor=\"middle\" x=\"611\" y=\"-111.8\" font-family=\"Times New Roman,serif\" font-size=\"14.00\">value = [1, 16]</text>\r\n",
       "<text text-anchor=\"middle\" x=\"611\" y=\"-96.8\" font-family=\"Times New Roman,serif\" font-size=\"14.00\">class = 양성</text>\r\n",
       "</g>\r\n",
       "<!-- 15&#45;&gt;16 -->\r\n",
       "<g id=\"edge16\" class=\"edge\">\r\n",
       "<title>15&#45;&gt;16</title>\r\n",
       "<path fill=\"none\" stroke=\"black\" d=\"M708.25,-192.88C694.92,-183.44 680.27,-173.06 666.47,-163.29\"/>\r\n",
       "<polygon fill=\"black\" stroke=\"black\" points=\"668.19,-160.22 658.01,-157.3 664.15,-165.94 668.19,-160.22\"/>\r\n",
       "</g>\r\n",
       "<!-- 19 -->\r\n",
       "<g id=\"node20\" class=\"node\">\r\n",
       "<title>19</title>\r\n",
       "<polygon fill=\"#efb388\" stroke=\"black\" points=\"843,-157 699,-157 699,-89 843,-89 843,-157\"/>\r\n",
       "<text text-anchor=\"middle\" x=\"771\" y=\"-141.8\" font-family=\"Times New Roman,serif\" font-size=\"14.00\">worst texture &lt;= 30.49</text>\r\n",
       "<text text-anchor=\"middle\" x=\"771\" y=\"-126.8\" font-family=\"Times New Roman,serif\" font-size=\"14.00\">samples = 7</text>\r\n",
       "<text text-anchor=\"middle\" x=\"771\" y=\"-111.8\" font-family=\"Times New Roman,serif\" font-size=\"14.00\">value = [5, 2]</text>\r\n",
       "<text text-anchor=\"middle\" x=\"771\" y=\"-96.8\" font-family=\"Times New Roman,serif\" font-size=\"14.00\">class = 악성</text>\r\n",
       "</g>\r\n",
       "<!-- 15&#45;&gt;19 -->\r\n",
       "<g id=\"edge19\" class=\"edge\">\r\n",
       "<title>15&#45;&gt;19</title>\r\n",
       "<path fill=\"none\" stroke=\"black\" d=\"M760.19,-192.88C761.48,-184.69 762.88,-175.79 764.22,-167.19\"/>\r\n",
       "<polygon fill=\"black\" stroke=\"black\" points=\"767.68,-167.72 765.78,-157.3 760.77,-166.64 767.68,-167.72\"/>\r\n",
       "</g>\r\n",
       "<!-- 17 -->\r\n",
       "<g id=\"node18\" class=\"node\">\r\n",
       "<title>17</title>\r\n",
       "<polygon fill=\"#399de5\" stroke=\"black\" points=\"555,-53 457,-53 457,0 555,0 555,-53\"/>\r\n",
       "<text text-anchor=\"middle\" x=\"506\" y=\"-37.8\" font-family=\"Times New Roman,serif\" font-size=\"14.00\">samples = 16</text>\r\n",
       "<text text-anchor=\"middle\" x=\"506\" y=\"-22.8\" font-family=\"Times New Roman,serif\" font-size=\"14.00\">value = [0, 16]</text>\r\n",
       "<text text-anchor=\"middle\" x=\"506\" y=\"-7.8\" font-family=\"Times New Roman,serif\" font-size=\"14.00\">class = 양성</text>\r\n",
       "</g>\r\n",
       "<!-- 16&#45;&gt;17 -->\r\n",
       "<g id=\"edge17\" class=\"edge\">\r\n",
       "<title>16&#45;&gt;17</title>\r\n",
       "<path fill=\"none\" stroke=\"black\" d=\"M574.28,-88.95C563.91,-79.62 552.64,-69.47 542.29,-60.16\"/>\r\n",
       "<polygon fill=\"black\" stroke=\"black\" points=\"544.37,-57.32 534.6,-53.24 539.69,-62.53 544.37,-57.32\"/>\r\n",
       "</g>\r\n",
       "<!-- 18 -->\r\n",
       "<g id=\"node19\" class=\"node\">\r\n",
       "<title>18</title>\r\n",
       "<polygon fill=\"#e58139\" stroke=\"black\" points=\"668.5,-53 573.5,-53 573.5,0 668.5,0 668.5,-53\"/>\r\n",
       "<text text-anchor=\"middle\" x=\"621\" y=\"-37.8\" font-family=\"Times New Roman,serif\" font-size=\"14.00\">samples = 1</text>\r\n",
       "<text text-anchor=\"middle\" x=\"621\" y=\"-22.8\" font-family=\"Times New Roman,serif\" font-size=\"14.00\">value = [1, 0]</text>\r\n",
       "<text text-anchor=\"middle\" x=\"621\" y=\"-7.8\" font-family=\"Times New Roman,serif\" font-size=\"14.00\">class = 악성</text>\r\n",
       "</g>\r\n",
       "<!-- 16&#45;&gt;18 -->\r\n",
       "<g id=\"edge18\" class=\"edge\">\r\n",
       "<title>16&#45;&gt;18</title>\r\n",
       "<path fill=\"none\" stroke=\"black\" d=\"M614.5,-88.95C615.38,-80.62 616.33,-71.65 617.22,-63.2\"/>\r\n",
       "<polygon fill=\"black\" stroke=\"black\" points=\"620.7,-63.55 618.28,-53.24 613.74,-62.81 620.7,-63.55\"/>\r\n",
       "</g>\r\n",
       "<!-- 20 -->\r\n",
       "<g id=\"node21\" class=\"node\">\r\n",
       "<title>20</title>\r\n",
       "<polygon fill=\"#e58139\" stroke=\"black\" points=\"804.5,-53 709.5,-53 709.5,0 804.5,0 804.5,-53\"/>\r\n",
       "<text text-anchor=\"middle\" x=\"757\" y=\"-37.8\" font-family=\"Times New Roman,serif\" font-size=\"14.00\">samples = 5</text>\r\n",
       "<text text-anchor=\"middle\" x=\"757\" y=\"-22.8\" font-family=\"Times New Roman,serif\" font-size=\"14.00\">value = [5, 0]</text>\r\n",
       "<text text-anchor=\"middle\" x=\"757\" y=\"-7.8\" font-family=\"Times New Roman,serif\" font-size=\"14.00\">class = 악성</text>\r\n",
       "</g>\r\n",
       "<!-- 19&#45;&gt;20 -->\r\n",
       "<g id=\"edge20\" class=\"edge\">\r\n",
       "<title>19&#45;&gt;20</title>\r\n",
       "<path fill=\"none\" stroke=\"black\" d=\"M766.1,-88.95C764.87,-80.62 763.54,-71.65 762.29,-63.2\"/>\r\n",
       "<polygon fill=\"black\" stroke=\"black\" points=\"765.74,-62.62 760.81,-53.24 758.82,-63.64 765.74,-62.62\"/>\r\n",
       "</g>\r\n",
       "<!-- 21 -->\r\n",
       "<g id=\"node22\" class=\"node\">\r\n",
       "<title>21</title>\r\n",
       "<polygon fill=\"#399de5\" stroke=\"black\" points=\"917.5,-53 822.5,-53 822.5,0 917.5,0 917.5,-53\"/>\r\n",
       "<text text-anchor=\"middle\" x=\"870\" y=\"-37.8\" font-family=\"Times New Roman,serif\" font-size=\"14.00\">samples = 2</text>\r\n",
       "<text text-anchor=\"middle\" x=\"870\" y=\"-22.8\" font-family=\"Times New Roman,serif\" font-size=\"14.00\">value = [0, 2]</text>\r\n",
       "<text text-anchor=\"middle\" x=\"870\" y=\"-7.8\" font-family=\"Times New Roman,serif\" font-size=\"14.00\">class = 양성</text>\r\n",
       "</g>\r\n",
       "<!-- 19&#45;&gt;21 -->\r\n",
       "<g id=\"edge21\" class=\"edge\">\r\n",
       "<title>19&#45;&gt;21</title>\r\n",
       "<path fill=\"none\" stroke=\"black\" d=\"M805.63,-88.95C815.4,-79.62 826.03,-69.47 835.78,-60.16\"/>\r\n",
       "<polygon fill=\"black\" stroke=\"black\" points=\"838.22,-62.67 843.04,-53.24 833.39,-57.61 838.22,-62.67\"/>\r\n",
       "</g>\r\n",
       "<!-- 23 -->\r\n",
       "<g id=\"node24\" class=\"node\">\r\n",
       "<title>23</title>\r\n",
       "<polygon fill=\"#399de5\" stroke=\"black\" points=\"942.5,-253.5 847.5,-253.5 847.5,-200.5 942.5,-200.5 942.5,-253.5\"/>\r\n",
       "<text text-anchor=\"middle\" x=\"895\" y=\"-238.3\" font-family=\"Times New Roman,serif\" font-size=\"14.00\">samples = 1</text>\r\n",
       "<text text-anchor=\"middle\" x=\"895\" y=\"-223.3\" font-family=\"Times New Roman,serif\" font-size=\"14.00\">value = [0, 1]</text>\r\n",
       "<text text-anchor=\"middle\" x=\"895\" y=\"-208.3\" font-family=\"Times New Roman,serif\" font-size=\"14.00\">class = 양성</text>\r\n",
       "</g>\r\n",
       "<!-- 22&#45;&gt;23 -->\r\n",
       "<g id=\"edge23\" class=\"edge\">\r\n",
       "<title>22&#45;&gt;23</title>\r\n",
       "<path fill=\"none\" stroke=\"black\" d=\"M895,-296.88C895,-286.33 895,-274.6 895,-263.85\"/>\r\n",
       "<polygon fill=\"black\" stroke=\"black\" points=\"898.5,-263.52 895,-253.52 891.5,-263.52 898.5,-263.52\"/>\r\n",
       "</g>\r\n",
       "<!-- 24 -->\r\n",
       "<g id=\"node25\" class=\"node\">\r\n",
       "<title>24</title>\r\n",
       "<polygon fill=\"#e5823b\" stroke=\"black\" points=\"1089.5,-261 960.5,-261 960.5,-193 1089.5,-193 1089.5,-261\"/>\r\n",
       "<text text-anchor=\"middle\" x=\"1025\" y=\"-245.8\" font-family=\"Times New Roman,serif\" font-size=\"14.00\">radius error &lt;= 0.24</text>\r\n",
       "<text text-anchor=\"middle\" x=\"1025\" y=\"-230.8\" font-family=\"Times New Roman,serif\" font-size=\"14.00\">samples = 129</text>\r\n",
       "<text text-anchor=\"middle\" x=\"1025\" y=\"-215.8\" font-family=\"Times New Roman,serif\" font-size=\"14.00\">value = [128, 1]</text>\r\n",
       "<text text-anchor=\"middle\" x=\"1025\" y=\"-200.8\" font-family=\"Times New Roman,serif\" font-size=\"14.00\">class = 악성</text>\r\n",
       "</g>\r\n",
       "<!-- 22&#45;&gt;24 -->\r\n",
       "<g id=\"edge24\" class=\"edge\">\r\n",
       "<title>22&#45;&gt;24</title>\r\n",
       "<path fill=\"none\" stroke=\"black\" d=\"M937.21,-296.88C949.13,-287.53 962.22,-277.26 974.57,-267.57\"/>\r\n",
       "<polygon fill=\"black\" stroke=\"black\" points=\"976.85,-270.23 982.56,-261.3 972.53,-264.72 976.85,-270.23\"/>\r\n",
       "</g>\r\n",
       "<!-- 25 -->\r\n",
       "<g id=\"node26\" class=\"node\">\r\n",
       "<title>25</title>\r\n",
       "<polygon fill=\"#f2c09c\" stroke=\"black\" points=\"1089,-157 949,-157 949,-89 1089,-89 1089,-157\"/>\r\n",
       "<text text-anchor=\"middle\" x=\"1019\" y=\"-141.8\" font-family=\"Times New Roman,serif\" font-size=\"14.00\">texture error &lt;= 0.644</text>\r\n",
       "<text text-anchor=\"middle\" x=\"1019\" y=\"-126.8\" font-family=\"Times New Roman,serif\" font-size=\"14.00\">samples = 3</text>\r\n",
       "<text text-anchor=\"middle\" x=\"1019\" y=\"-111.8\" font-family=\"Times New Roman,serif\" font-size=\"14.00\">value = [2, 1]</text>\r\n",
       "<text text-anchor=\"middle\" x=\"1019\" y=\"-96.8\" font-family=\"Times New Roman,serif\" font-size=\"14.00\">class = 악성</text>\r\n",
       "</g>\r\n",
       "<!-- 24&#45;&gt;25 -->\r\n",
       "<g id=\"edge25\" class=\"edge\">\r\n",
       "<title>24&#45;&gt;25</title>\r\n",
       "<path fill=\"none\" stroke=\"black\" d=\"M1023.05,-192.88C1022.58,-184.78 1022.06,-175.98 1021.56,-167.47\"/>\r\n",
       "<polygon fill=\"black\" stroke=\"black\" points=\"1025.04,-167.08 1020.96,-157.3 1018.05,-167.49 1025.04,-167.08\"/>\r\n",
       "</g>\r\n",
       "<!-- 28 -->\r\n",
       "<g id=\"node29\" class=\"node\">\r\n",
       "<title>28</title>\r\n",
       "<polygon fill=\"#e58139\" stroke=\"black\" points=\"1211,-149.5 1107,-149.5 1107,-96.5 1211,-96.5 1211,-149.5\"/>\r\n",
       "<text text-anchor=\"middle\" x=\"1159\" y=\"-134.3\" font-family=\"Times New Roman,serif\" font-size=\"14.00\">samples = 126</text>\r\n",
       "<text text-anchor=\"middle\" x=\"1159\" y=\"-119.3\" font-family=\"Times New Roman,serif\" font-size=\"14.00\">value = [126, 0]</text>\r\n",
       "<text text-anchor=\"middle\" x=\"1159\" y=\"-104.3\" font-family=\"Times New Roman,serif\" font-size=\"14.00\">class = 악성</text>\r\n",
       "</g>\r\n",
       "<!-- 24&#45;&gt;28 -->\r\n",
       "<g id=\"edge28\" class=\"edge\">\r\n",
       "<title>24&#45;&gt;28</title>\r\n",
       "<path fill=\"none\" stroke=\"black\" d=\"M1068.51,-192.88C1084.11,-181.01 1101.66,-167.65 1117.12,-155.88\"/>\r\n",
       "<polygon fill=\"black\" stroke=\"black\" points=\"1119.64,-158.36 1125.47,-149.52 1115.4,-152.79 1119.64,-158.36\"/>\r\n",
       "</g>\r\n",
       "<!-- 26 -->\r\n",
       "<g id=\"node27\" class=\"node\">\r\n",
       "<title>26</title>\r\n",
       "<polygon fill=\"#399de5\" stroke=\"black\" points=\"1056.5,-53 961.5,-53 961.5,0 1056.5,0 1056.5,-53\"/>\r\n",
       "<text text-anchor=\"middle\" x=\"1009\" y=\"-37.8\" font-family=\"Times New Roman,serif\" font-size=\"14.00\">samples = 1</text>\r\n",
       "<text text-anchor=\"middle\" x=\"1009\" y=\"-22.8\" font-family=\"Times New Roman,serif\" font-size=\"14.00\">value = [0, 1]</text>\r\n",
       "<text text-anchor=\"middle\" x=\"1009\" y=\"-7.8\" font-family=\"Times New Roman,serif\" font-size=\"14.00\">class = 양성</text>\r\n",
       "</g>\r\n",
       "<!-- 25&#45;&gt;26 -->\r\n",
       "<g id=\"edge26\" class=\"edge\">\r\n",
       "<title>25&#45;&gt;26</title>\r\n",
       "<path fill=\"none\" stroke=\"black\" d=\"M1015.5,-88.95C1014.62,-80.62 1013.67,-71.65 1012.78,-63.2\"/>\r\n",
       "<polygon fill=\"black\" stroke=\"black\" points=\"1016.26,-62.81 1011.72,-53.24 1009.3,-63.55 1016.26,-62.81\"/>\r\n",
       "</g>\r\n",
       "<!-- 27 -->\r\n",
       "<g id=\"node28\" class=\"node\">\r\n",
       "<title>27</title>\r\n",
       "<polygon fill=\"#e58139\" stroke=\"black\" points=\"1169.5,-53 1074.5,-53 1074.5,0 1169.5,0 1169.5,-53\"/>\r\n",
       "<text text-anchor=\"middle\" x=\"1122\" y=\"-37.8\" font-family=\"Times New Roman,serif\" font-size=\"14.00\">samples = 2</text>\r\n",
       "<text text-anchor=\"middle\" x=\"1122\" y=\"-22.8\" font-family=\"Times New Roman,serif\" font-size=\"14.00\">value = [2, 0]</text>\r\n",
       "<text text-anchor=\"middle\" x=\"1122\" y=\"-7.8\" font-family=\"Times New Roman,serif\" font-size=\"14.00\">class = 악성</text>\r\n",
       "</g>\r\n",
       "<!-- 25&#45;&gt;27 -->\r\n",
       "<g id=\"edge27\" class=\"edge\">\r\n",
       "<title>25&#45;&gt;27</title>\r\n",
       "<path fill=\"none\" stroke=\"black\" d=\"M1055.02,-88.95C1065.19,-79.62 1076.25,-69.47 1086.4,-60.16\"/>\r\n",
       "<polygon fill=\"black\" stroke=\"black\" points=\"1088.95,-62.58 1093.95,-53.24 1084.21,-57.42 1088.95,-62.58\"/>\r\n",
       "</g>\r\n",
       "</g>\r\n",
       "</svg>\r\n"
      ],
      "text/plain": [
       "<graphviz.files.Source at 0x2181f849250>"
      ]
     },
     "metadata": {},
     "output_type": "display_data"
    }
   ],
   "source": [
    "import graphviz\n",
    "with open('tree.dot', encoding='UTF8') as f:\n",
    "  dot_graph = f.read()\n",
    "display(graphviz.Source(dot_graph))"
   ]
  }
 ],
 "metadata": {
  "colab": {
   "collapsed_sections": [],
   "name": "ML_Session_3주차.ipynb",
   "provenance": []
  },
  "kernelspec": {
   "display_name": "Python 3",
   "language": "python",
   "name": "python3"
  },
  "language_info": {
   "codemirror_mode": {
    "name": "ipython",
    "version": 3
   },
   "file_extension": ".py",
   "mimetype": "text/x-python",
   "name": "python",
   "nbconvert_exporter": "python",
   "pygments_lexer": "ipython3",
   "version": "3.8.3"
  }
 },
 "nbformat": 4,
 "nbformat_minor": 1
}
