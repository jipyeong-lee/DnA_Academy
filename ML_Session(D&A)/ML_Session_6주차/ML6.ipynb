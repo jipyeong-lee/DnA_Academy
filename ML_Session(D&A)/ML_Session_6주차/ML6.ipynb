{
 "cells": [
  {
   "cell_type": "code",
   "execution_count": 1,
   "metadata": {},
   "outputs": [],
   "source": [
    "import numpy as np\n",
    "import pandas as pd\n",
    "import matplotlib.pyplot as plt\n",
    "import seaborn as sns\n",
    "import warnings\n",
    "from sklearn.datasets import load_breast_cancer\n",
    "from sklearn.model_selection import train_test_split, cross_val_score, StratifiedKFold\n",
    "from sklearn.tree import DecisionTreeClassifier\n",
    "from sklearn.linear_model import LogisticRegression\n",
    "from sklearn.neighbors import KNeighborsClassifier\n",
    "from sklearn.svm import SVC\n",
    "from sklearn.metrics import accuracy_score, roc_auc_score, log_loss\n",
    "warnings.filterwarnings(action='ignore')\n",
    "%matplotlib inline"
   ]
  },
  {
   "cell_type": "code",
   "execution_count": 2,
   "metadata": {},
   "outputs": [],
   "source": [
    "data = load_breast_cancer().data\n",
    "target = load_breast_cancer().target"
   ]
  },
  {
   "cell_type": "code",
   "execution_count": 3,
   "metadata": {},
   "outputs": [],
   "source": [
    "data = (data - data.mean(axis = 0)) / data.std(axis = 0)"
   ]
  },
  {
   "cell_type": "code",
   "execution_count": 4,
   "metadata": {},
   "outputs": [],
   "source": [
    "clfs = []\n",
    "dt = DecisionTreeClassifier(random_state = 317); clfs.append(dt)\n",
    "lr = LogisticRegression(random_state = 317); clfs.append(lr)\n",
    "knn = KNeighborsClassifier(); clfs.append(knn)\n",
    "svm = SVC(probability = True, random_state = 317); clfs.append(svm)"
   ]
  },
  {
   "cell_type": "markdown",
   "metadata": {},
   "source": [
    "# Holdout"
   ]
  },
  {
   "cell_type": "code",
   "execution_count": 5,
   "metadata": {},
   "outputs": [],
   "source": [
    "X_train, X_val, y_train, y_val = train_test_split(data, target, test_size=0.2, stratify = target, random_state=725)"
   ]
  },
  {
   "cell_type": "code",
   "execution_count": 6,
   "metadata": {},
   "outputs": [
    {
     "name": "stdout",
     "output_type": "stream",
     "text": [
      "model : DecisionTreeClassifier\n",
      "\t\t\t\tlogloss : 3.3327, accuracy : 0.9035\n",
      "model : LogisticRegression\n",
      "\t\t\t\tlogloss : 0.3030, accuracy : 0.9912\n",
      "model : KNeighborsClassifier\n",
      "\t\t\t\tlogloss : 0.9089, accuracy : 0.9737\n",
      "model : SVC\n",
      "\t\t\t\tlogloss : 0.3030, accuracy : 0.9912\n"
     ]
    }
   ],
   "source": [
    "pred_results=[]             \n",
    "for clf in clfs:\n",
    "    clf.fit(X_train, y_train)\n",
    "    pred_proba = clf.predict_proba(X_val)[:, 1]\n",
    "    pred = clf.predict(X_val)\n",
    "    name = type(clf).__name__\n",
    "    pred_results.append(pd.Series(pred_proba, name = name))\n",
    "    print('model : %s\\n\\t\\t\\t\\tlogloss : %.4f, accuracy : %.4f'%(name, log_loss(y_val, pred), accuracy_score(y_val, pred)))"
   ]
  },
  {
   "cell_type": "code",
   "execution_count": 7,
   "metadata": {
    "scrolled": false
   },
   "outputs": [
    {
     "data": {
      "image/png": "[encoded data removed]",
      "text/plain": [
       "<Figure size 576x432 with 2 Axes>"
      ]
     },
     "metadata": {
      "needs_background": "light"
     },
     "output_type": "display_data"
    }
   ],
   "source": [
    "results=pd.concat(pred_results, axis=1)\n",
    "plt.figure(figsize=(8,6))\n",
    "sns.heatmap(results.corr(), annot=True, cmap='Blues')\n",
    "plt.title('Correlation between models')\n",
    "plt.show()"
   ]
  },
  {
   "cell_type": "markdown",
   "metadata": {},
   "source": [
    "# CrossValidation"
   ]
  },
  {
   "cell_type": "code",
   "execution_count": 8,
   "metadata": {},
   "outputs": [],
   "source": [
    "kfold = StratifiedKFold(n_splits = 4, random_state = 317)"
   ]
  },
  {
   "cell_type": "code",
   "execution_count": 9,
   "metadata": {},
   "outputs": [
    {
     "name": "stdout",
     "output_type": "stream",
     "text": [
      "model : DecisionTreeClassifier\n",
      "\t\t\t\taccuracy : 0.896336\n",
      "model : LogisticRegression\n",
      "\t\t\t\taccuracy : 0.977162\n",
      "model : KNeighborsClassifier\n",
      "\t\t\t\taccuracy : 0.964863\n",
      "model : SVC\n",
      "\t\t\t\taccuracy : 0.973653\n"
     ]
    }
   ],
   "source": [
    "for clf in clfs:\n",
    "    score = cross_val_score(clf, data, target, cv = kfold, scoring = 'accuracy').mean()\n",
    "    name = type(clf).__name__\n",
    "    print('model : %s\\n\\t\\t\\t\\taccuracy : %f'%(name, score))"
   ]
  },
  {
   "cell_type": "code",
   "execution_count": 10,
   "metadata": {},
   "outputs": [
    {
     "name": "stdout",
     "output_type": "stream",
     "text": [
      "model : DecisionTreeClassifier\n",
      "\t\t\t\taccuracy : 0.920917\n",
      "model : LogisticRegression\n",
      "\t\t\t\taccuracy : 0.971452\n",
      "model : KNeighborsClassifier\n",
      "\t\t\t\taccuracy : 0.958295\n",
      "model : SVC\n",
      "\t\t\t\taccuracy : 0.967066\n"
     ]
    }
   ],
   "source": [
    "clf_names=[type(clf).__name__ for clf in clfs]\n",
    "for clf in clfs:\n",
    "    score = []\n",
    "    for train_idx, val_idx in kfold.split(X_train, y_train):\n",
    "        t, v = data[train_idx], data[val_idx]\n",
    "        y_t, y_v = target[train_idx], target[val_idx]\n",
    "        clf.fit(t, y_t)\n",
    "        pred=clf.predict(v)\n",
    "        acc = accuracy_score(y_v, pred)\n",
    "        \n",
    "        score.append(acc)\n",
    "\n",
    "    score = np.mean(score)\n",
    "    name = type(clf).__name__\n",
    "    print('model : %s\\n\\t\\t\\t\\taccuracy : %f'%(name, score))"
   ]
  },
  {
   "cell_type": "code",
   "execution_count": 11,
   "metadata": {},
   "outputs": [],
   "source": [
    "from sklearn.model_selection import GridSearchCV"
   ]
  },
  {
   "cell_type": "code",
   "execution_count": 12,
   "metadata": {},
   "outputs": [],
   "source": [
    "seed = [317, 725, 923]"
   ]
  },
  {
   "cell_type": "code",
   "execution_count": 13,
   "metadata": {
    "scrolled": true
   },
   "outputs": [
    {
     "name": "stdout",
     "output_type": "stream",
     "text": [
      "LogisticRegression(C=0.5, max_iter=50, random_state=317)\n",
      "0.9789101743327095\n"
     ]
    }
   ],
   "source": [
    "lr_params = {'C': [0.05, 0.1, 0.5, 1, 5, 10],\n",
    "            'max_iter' : [50, 100, 150],\n",
    "            'random_state' : seed}\n",
    "grid=GridSearchCV(lr, lr_params, scoring='accuracy', cv=kfold, n_jobs=-1)\n",
    "grid.fit(data, target)\n",
    "lr=grid.best_estimator_\n",
    "print(grid.best_estimator_)\n",
    "print(grid.best_score_)"
   ]
  },
  {
   "cell_type": "code",
   "execution_count": 14,
   "metadata": {},
   "outputs": [
    {
     "name": "stdout",
     "output_type": "stream",
     "text": [
      "DecisionTreeClassifier(criterion='entropy', max_depth=5, max_features=0.8,\n",
      "                       random_state=725)\n",
      "0.9490052201319806\n"
     ]
    }
   ],
   "source": [
    "dt_params={'criterion' : ['gini', 'entropy'],\n",
    "          'max_depth' : [3,4,5,6],\n",
    "          'max_features' : [0.8, 0.9, 1],\n",
    "          'min_samples_split' : [2,3,4],\n",
    "          'class_weight' : [None, 'balanced'],\n",
    "          'random_state' : seed}\n",
    "grid=GridSearchCV(dt, dt_params, scoring='accuracy', cv=kfold, n_jobs=-1)\n",
    "grid.fit(data, target)\n",
    "dt=grid.best_estimator_\n",
    "print(grid.best_estimator_)\n",
    "print(grid.best_score_)"
   ]
  },
  {
   "cell_type": "code",
   "execution_count": 15,
   "metadata": {},
   "outputs": [
    {
     "name": "stdout",
     "output_type": "stream",
     "text": [
      "SVC(C=10, gamma=0.01, probability=True, random_state=317)\n",
      "0.9824436127253029\n"
     ]
    }
   ],
   "source": [
    "svc_params={'C' : [0.01, 0.1, 1, 10],\n",
    "            'gamma' : [0.001, 0.01, 0.1, 1, 10],\n",
    "            'random_state' : seed}\n",
    "grid=GridSearchCV(svm, svc_params, scoring='accuracy', cv=kfold, n_jobs=-1)\n",
    "grid.fit(data, target)\n",
    "svm=grid.best_estimator_\n",
    "print(grid.best_estimator_)\n",
    "print(grid.best_score_)"
   ]
  },
  {
   "cell_type": "code",
   "execution_count": 16,
   "metadata": {},
   "outputs": [
    {
     "name": "stdout",
     "output_type": "stream",
     "text": [
      "KNeighborsClassifier(leaf_size=15, n_neighbors=3, p=1)\n",
      "0.9719048557076726\n"
     ]
    }
   ],
   "source": [
    "knn_params={'n_neighbors' : [3, 5, 7, 10, 30, 50, 70, 100],\n",
    "           'weights' : ['uniform', 'distance'],\n",
    "           'p' : [1,2],\n",
    "           'leaf_size' : [15, 30]}\n",
    "grid=GridSearchCV(knn, knn_params, scoring='accuracy', cv=kfold, n_jobs=-1)\n",
    "grid.fit(data, target)\n",
    "knn=grid.best_estimator_\n",
    "print(grid.best_estimator_)\n",
    "print(grid.best_score_)"
   ]
  },
  {
   "cell_type": "code",
   "execution_count": 17,
   "metadata": {},
   "outputs": [],
   "source": [
    "clfs = []; clfs.append(dt); clfs.append(lr); clfs.append(knn); clfs.append(svm)"
   ]
  },
  {
   "cell_type": "code",
   "execution_count": 18,
   "metadata": {},
   "outputs": [
    {
     "name": "stdout",
     "output_type": "stream",
     "text": [
      "model : DecisionTreeClassifier\n",
      "\t\t\t\taccuracy : 0.949005\n",
      "model : LogisticRegression\n",
      "\t\t\t\taccuracy : 0.978910\n",
      "model : KNeighborsClassifier\n",
      "\t\t\t\taccuracy : 0.971905\n",
      "model : SVC\n",
      "\t\t\t\taccuracy : 0.982444\n"
     ]
    }
   ],
   "source": [
    "for clf in clfs:\n",
    "    score = cross_val_score(clf, data, target, cv = kfold, scoring = 'accuracy').mean()\n",
    "    name = type(clf).__name__\n",
    "    print('model : %s\\n\\t\\t\\t\\taccuracy : %f'%(name, score))"
   ]
  },
  {
   "cell_type": "markdown",
   "metadata": {},
   "source": [
    "# HardVoting\n",
    "#### 평가지표가 acc, recall, precision...등일 경우 사용함"
   ]
  },
  {
   "cell_type": "code",
   "execution_count": 19,
   "metadata": {},
   "outputs": [],
   "source": [
    "from sklearn.ensemble import VotingClassifier"
   ]
  },
  {
   "cell_type": "code",
   "execution_count": 20,
   "metadata": {
    "scrolled": true
   },
   "outputs": [],
   "source": [
    "voting = VotingClassifier(\n",
    "    estimators = [(type(clf).__name__, clf) for clf in clfs], voting = 'hard')"
   ]
  },
  {
   "cell_type": "code",
   "execution_count": 21,
   "metadata": {},
   "outputs": [
    {
     "name": "stdout",
     "output_type": "stream",
     "text": [
      "0.9859524278538363\n"
     ]
    }
   ],
   "source": [
    "score = cross_val_score(voting, data, target, cv = kfold, scoring = 'accuracy').mean()\n",
    "print(score)"
   ]
  },
  {
   "cell_type": "markdown",
   "metadata": {},
   "source": [
    "# SoftVoting(Averaging)\n",
    "#### 평가지표가 roc_auc, logloss, mse...등일 경우 사용함"
   ]
  },
  {
   "cell_type": "code",
   "execution_count": 22,
   "metadata": {},
   "outputs": [
    {
     "name": "stdout",
     "output_type": "stream",
     "text": [
      "model : DecisionTreeClassifier\n",
      "\t\t\t\trocauc : 0.951331\tlogloss : 1.535627\n",
      "model : LogisticRegression\n",
      "\t\t\t\trocauc : 0.995778\tlogloss : 0.081312\n",
      "model : KNeighborsClassifier\n",
      "\t\t\t\trocauc : 0.985543\tlogloss : 0.350789\n",
      "model : SVC\n",
      "\t\t\t\trocauc : 0.996834\tlogloss : 0.069183\n"
     ]
    }
   ],
   "source": [
    "for clf in clfs:\n",
    "    score_auc = cross_val_score(clf, data, target, cv = kfold, scoring = 'roc_auc').mean()\n",
    "    score_logloss = cross_val_score(clf, data, target, cv = kfold, scoring = 'neg_log_loss').mean()\n",
    "    name = type(clf).__name__\n",
    "    print('model : %s\\n\\t\\t\\t\\trocauc : %f\\tlogloss : %f'%(name, score_auc, -score_logloss))"
   ]
  },
  {
   "cell_type": "code",
   "execution_count": 23,
   "metadata": {},
   "outputs": [],
   "source": [
    "averaging = VotingClassifier(\n",
    "    estimators = [(type(clf).__name__, clf) for clf in clfs], voting = 'soft')"
   ]
  },
  {
   "cell_type": "code",
   "execution_count": 24,
   "metadata": {
    "scrolled": false
   },
   "outputs": [
    {
     "name": "stdout",
     "output_type": "stream",
     "text": [
      "roc_auc : 0.996357736791275\n",
      "logloss : 0.07818130496798802\n"
     ]
    }
   ],
   "source": [
    "score = cross_val_score(averaging, data, target, cv = kfold, scoring = 'roc_auc').mean()\n",
    "print(\"roc_auc :\", score)\n",
    "score = cross_val_score(averaging, data, target, cv = kfold, scoring = 'neg_log_loss').mean()\n",
    "print(\"logloss :\", -score)"
   ]
  },
  {
   "cell_type": "code",
   "execution_count": 25,
   "metadata": {},
   "outputs": [],
   "source": [
    "pred_results=[]             \n",
    "for clf in clfs:\n",
    "    clf.fit(X_train, y_train)\n",
    "    pred_proba = clf.predict_proba(X_val)[:, 1]\n",
    "    name = type(clf).__name__\n",
    "    pred_results.append(pd.Series(pred_proba, name = name))\n",
    "results=pd.concat(pred_results, axis=1)"
   ]
  },
  {
   "cell_type": "code",
   "execution_count": 26,
   "metadata": {
    "scrolled": false
   },
   "outputs": [
    {
     "data": {
      "text/html": [
       "<div>\n",
       "<style scoped>\n",
       "    .dataframe tbody tr th:only-of-type {\n",
       "        vertical-align: middle;\n",
       "    }\n",
       "\n",
       "    .dataframe tbody tr th {\n",
       "        vertical-align: top;\n",
       "    }\n",
       "\n",
       "    .dataframe thead th {\n",
       "        text-align: right;\n",
       "    }\n",
       "</style>\n",
       "<table border=\"1\" class=\"dataframe\">\n",
       "  <thead>\n",
       "    <tr style=\"text-align: right;\">\n",
       "      <th></th>\n",
       "      <th>DecisionTreeClassifier</th>\n",
       "      <th>LogisticRegression</th>\n",
       "      <th>KNeighborsClassifier</th>\n",
       "      <th>SVC</th>\n",
       "    </tr>\n",
       "  </thead>\n",
       "  <tbody>\n",
       "    <tr>\n",
       "      <th>0</th>\n",
       "      <td>0.0</td>\n",
       "      <td>1.340373e-04</td>\n",
       "      <td>0.0</td>\n",
       "      <td>0.000147</td>\n",
       "    </tr>\n",
       "    <tr>\n",
       "      <th>1</th>\n",
       "      <td>1.0</td>\n",
       "      <td>9.984057e-01</td>\n",
       "      <td>1.0</td>\n",
       "      <td>0.999996</td>\n",
       "    </tr>\n",
       "    <tr>\n",
       "      <th>2</th>\n",
       "      <td>1.0</td>\n",
       "      <td>9.991722e-01</td>\n",
       "      <td>1.0</td>\n",
       "      <td>1.000000</td>\n",
       "    </tr>\n",
       "    <tr>\n",
       "      <th>3</th>\n",
       "      <td>1.0</td>\n",
       "      <td>9.953819e-01</td>\n",
       "      <td>1.0</td>\n",
       "      <td>0.999993</td>\n",
       "    </tr>\n",
       "    <tr>\n",
       "      <th>4</th>\n",
       "      <td>0.0</td>\n",
       "      <td>1.318273e-07</td>\n",
       "      <td>0.0</td>\n",
       "      <td>0.000004</td>\n",
       "    </tr>\n",
       "    <tr>\n",
       "      <th>...</th>\n",
       "      <td>...</td>\n",
       "      <td>...</td>\n",
       "      <td>...</td>\n",
       "      <td>...</td>\n",
       "    </tr>\n",
       "    <tr>\n",
       "      <th>109</th>\n",
       "      <td>1.0</td>\n",
       "      <td>9.868335e-01</td>\n",
       "      <td>1.0</td>\n",
       "      <td>0.996774</td>\n",
       "    </tr>\n",
       "    <tr>\n",
       "      <th>110</th>\n",
       "      <td>0.0</td>\n",
       "      <td>3.093669e-02</td>\n",
       "      <td>0.0</td>\n",
       "      <td>0.045400</td>\n",
       "    </tr>\n",
       "    <tr>\n",
       "      <th>111</th>\n",
       "      <td>0.0</td>\n",
       "      <td>5.486711e-04</td>\n",
       "      <td>0.0</td>\n",
       "      <td>0.000275</td>\n",
       "    </tr>\n",
       "    <tr>\n",
       "      <th>112</th>\n",
       "      <td>0.0</td>\n",
       "      <td>1.269281e-03</td>\n",
       "      <td>0.0</td>\n",
       "      <td>0.000456</td>\n",
       "    </tr>\n",
       "    <tr>\n",
       "      <th>113</th>\n",
       "      <td>0.0</td>\n",
       "      <td>3.679855e-04</td>\n",
       "      <td>0.0</td>\n",
       "      <td>0.000653</td>\n",
       "    </tr>\n",
       "  </tbody>\n",
       "</table>\n",
       "<p>114 rows × 4 columns</p>\n",
       "</div>"
      ],
      "text/plain": [
       "     DecisionTreeClassifier  LogisticRegression  KNeighborsClassifier  \\\n",
       "0                       0.0        1.340373e-04                   0.0   \n",
       "1                       1.0        9.984057e-01                   1.0   \n",
       "2                       1.0        9.991722e-01                   1.0   \n",
       "3                       1.0        9.953819e-01                   1.0   \n",
       "4                       0.0        1.318273e-07                   0.0   \n",
       "..                      ...                 ...                   ...   \n",
       "109                     1.0        9.868335e-01                   1.0   \n",
       "110                     0.0        3.093669e-02                   0.0   \n",
       "111                     0.0        5.486711e-04                   0.0   \n",
       "112                     0.0        1.269281e-03                   0.0   \n",
       "113                     0.0        3.679855e-04                   0.0   \n",
       "\n",
       "          SVC  \n",
       "0    0.000147  \n",
       "1    0.999996  \n",
       "2    1.000000  \n",
       "3    0.999993  \n",
       "4    0.000004  \n",
       "..        ...  \n",
       "109  0.996774  \n",
       "110  0.045400  \n",
       "111  0.000275  \n",
       "112  0.000456  \n",
       "113  0.000653  \n",
       "\n",
       "[114 rows x 4 columns]"
      ]
     },
     "execution_count": 26,
     "metadata": {},
     "output_type": "execute_result"
    }
   ],
   "source": [
    "results"
   ]
  },
  {
   "cell_type": "code",
   "execution_count": 27,
   "metadata": {},
   "outputs": [
    {
     "data": {
      "text/plain": [
       "0      7.026108e-05\n",
       "1      9.996005e-01\n",
       "2      9.997930e-01\n",
       "3      9.988437e-01\n",
       "4      9.948362e-07\n",
       "           ...     \n",
       "109    9.959018e-01\n",
       "110    1.908422e-02\n",
       "111    2.059055e-04\n",
       "112    4.313762e-04\n",
       "113    2.551965e-04\n",
       "Length: 114, dtype: float64"
      ]
     },
     "execution_count": 27,
     "metadata": {},
     "output_type": "execute_result"
    }
   ],
   "source": [
    "results.mean(axis = 1)"
   ]
  },
  {
   "cell_type": "code",
   "execution_count": 28,
   "metadata": {},
   "outputs": [
    {
     "data": {
      "text/plain": [
       "array([0.        , 0.99960022, 0.99979298, 0.99884172, 0.        ,\n",
       "       0.        , 0.        , 0.96996075, 0.99994159, 0.        ,\n",
       "       0.        , 0.99994978, 0.98875028, 0.98094578, 0.        ,\n",
       "       0.99998064, 0.97391153, 0.99983041, 0.        , 0.99936829,\n",
       "       0.99983503, 0.        , 0.99809822, 0.        , 0.99922143,\n",
       "       0.99842668, 0.99988026, 0.        , 0.99571365, 0.99999917,\n",
       "       0.        , 0.99995461, 0.99131601, 0.99394245, 0.9895499 ,\n",
       "       0.9998462 , 0.        , 0.98060454, 0.        , 0.        ,\n",
       "       0.        , 0.99660159, 0.        , 0.8514601 , 0.99949813,\n",
       "       0.        , 0.        , 0.95396278, 0.98535085, 0.99938582,\n",
       "       0.        , 0.96441035, 0.96760091, 0.99986741, 0.        ,\n",
       "       0.99958712, 0.        , 0.99999716, 0.        , 0.99907583,\n",
       "       0.99774764, 0.99829954, 0.        , 0.99996048, 0.        ,\n",
       "       0.99984622, 0.59029827, 0.74439251, 0.99981763, 0.        ,\n",
       "       0.        , 0.99997124, 0.99928394, 0.99983971, 0.99894773,\n",
       "       0.87764813, 0.99964989, 0.99887178, 0.54414249, 0.9999127 ,\n",
       "       0.        , 0.        , 0.        , 0.        , 0.99803996,\n",
       "       0.        , 0.99897013, 0.66338563, 0.79832539, 0.        ,\n",
       "       0.99998522, 0.99992105, 0.        , 0.99322475, 0.        ,\n",
       "       0.        , 0.        , 0.        , 0.99958105, 0.90201208,\n",
       "       0.        , 0.81409908, 0.99994401, 0.        , 0.99383919,\n",
       "       0.99770456, 0.        , 0.99960215, 0.99990521, 0.99588715,\n",
       "       0.        , 0.        , 0.        , 0.        ])"
      ]
     },
     "execution_count": 28,
     "metadata": {},
     "output_type": "execute_result"
    }
   ],
   "source": [
    "from scipy.stats.mstats import gmean\n",
    "\n",
    "gmean(results, axis = 1)"
   ]
  },
  {
   "cell_type": "markdown",
   "metadata": {},
   "source": [
    "# RandomForest"
   ]
  },
  {
   "cell_type": "code",
   "execution_count": 29,
   "metadata": {},
   "outputs": [],
   "source": [
    "from sklearn.ensemble import RandomForestClassifier"
   ]
  },
  {
   "cell_type": "code",
   "execution_count": 32,
   "metadata": {},
   "outputs": [
    {
     "name": "stdout",
     "output_type": "stream",
     "text": [
      "0.11057665819409027\n",
      "0.955985095482068\n"
     ]
    }
   ],
   "source": [
    "rf = RandomForestClassifier(random_state = 317)\n",
    "rf.fit(X_train, y_train)\n",
    "pred = rf.predict_proba(X_val)\n",
    "score = log_loss(y_val, pred)\n",
    "cv_score = cross_val_score(rf, X_train, y_train, cv = kfold).mean()\n",
    "print(score)\n",
    "print(cv_score)"
   ]
  },
  {
   "cell_type": "code",
   "execution_count": 33,
   "metadata": {},
   "outputs": [
    {
     "name": "stdout",
     "output_type": "stream",
     "text": [
      "Fitting 4 folds for each of 72 candidates, totalling 288 fits\n"
     ]
    },
    {
     "name": "stderr",
     "output_type": "stream",
     "text": [
      "[Parallel(n_jobs=-1)]: Using backend LokyBackend with 8 concurrent workers.\n",
      "[Parallel(n_jobs=-1)]: Done  34 tasks      | elapsed:    4.0s\n",
      "[Parallel(n_jobs=-1)]: Done 184 tasks      | elapsed:   19.7s\n",
      "[Parallel(n_jobs=-1)]: Done 288 out of 288 | elapsed:   31.3s finished\n"
     ]
    },
    {
     "name": "stdout",
     "output_type": "stream",
     "text": [
      "RandomForestClassifier(criterion='entropy', max_depth=6, min_samples_split=3,\n",
      "                       n_estimators=300, random_state=317)\n",
      "0.9929810614090876\n"
     ]
    }
   ],
   "source": [
    "rf_params={'max_depth' : [3,4,5,6],\n",
    "           'min_samples_split' : [3, 5, 7],\n",
    "           'min_samples_leaf' : [1, 3, 5],\n",
    "           'n_estimators' : [300],\n",
    "           'criterion' : ['gini', 'entropy']}\n",
    "grid=GridSearchCV(rf, rf_params, scoring='roc_auc', cv=kfold, n_jobs=-1, verbose = 1)\n",
    "grid.fit(data, target)\n",
    "rf=grid.best_estimator_\n",
    "print(grid.best_estimator_)\n",
    "print(grid.best_score_)"
   ]
  },
  {
   "cell_type": "markdown",
   "metadata": {},
   "source": [
    "# BaggingClassifier"
   ]
  },
  {
   "cell_type": "code",
   "execution_count": 34,
   "metadata": {},
   "outputs": [],
   "source": [
    "from sklearn.ensemble import BaggingClassifier"
   ]
  },
  {
   "cell_type": "code",
   "execution_count": 35,
   "metadata": {},
   "outputs": [],
   "source": [
    "bagging = BaggingClassifier(base_estimator = lr,\n",
    "                           n_estimators = 100, random_state = 317)"
   ]
  },
  {
   "cell_type": "code",
   "execution_count": 36,
   "metadata": {},
   "outputs": [
    {
     "data": {
      "text/plain": [
       "0.9957759168963324"
      ]
     },
     "execution_count": 36,
     "metadata": {},
     "output_type": "execute_result"
    }
   ],
   "source": [
    "cross_val_score(bagging, data, target, scoring = 'roc_auc', cv = kfold).mean()"
   ]
  },
  {
   "cell_type": "code",
   "execution_count": null,
   "metadata": {},
   "outputs": [],
   "source": []
  }
 ],
 "metadata": {
  "kernelspec": {
   "display_name": "Python 3",
   "language": "python",
   "name": "python3"
  },
  "language_info": {
   "codemirror_mode": {
    "name": "ipython",
    "version": 3
   },
   "file_extension": ".py",
   "mimetype": "text/x-python",
   "name": "python",
   "nbconvert_exporter": "python",
   "pygments_lexer": "ipython3",
   "version": "3.8.3"
  }
 },
 "nbformat": 4,
 "nbformat_minor": 4
}
