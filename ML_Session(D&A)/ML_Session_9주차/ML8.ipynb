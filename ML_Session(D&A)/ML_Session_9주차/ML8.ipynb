{
 "cells": [
  {
   "cell_type": "code",
   "execution_count": 2,
   "metadata": {
    "colab": {
     "base_uri": "https://localhost:8080/"
    },
    "executionInfo": {
     "elapsed": 650,
     "status": "ok",
     "timestamp": 1605687739458,
     "user": {
      "displayName": "오주영",
      "photoUrl": "",
      "userId": "01432920996987882215"
     },
     "user_tz": -540
    },
    "id": "4b0oVIC0JM_5",
    "outputId": "41c03427-5986-4507-9106-eedb9e95d7ef"
   },
   "outputs": [
    {
     "ename": "NameError",
     "evalue": "name 'drive' is not defined",
     "output_type": "error",
     "traceback": [
      "\u001b[1;31m---------------------------------------------------------------------------\u001b[0m",
      "\u001b[1;31mNameError\u001b[0m                                 Traceback (most recent call last)",
      "\u001b[1;32m<ipython-input-2-0882547171e5>\u001b[0m in \u001b[0;36m<module>\u001b[1;34m\u001b[0m\n\u001b[0;32m      9\u001b[0m \u001b[1;32mimport\u001b[0m \u001b[0mrandom\u001b[0m\u001b[1;33m\u001b[0m\u001b[1;33m\u001b[0m\u001b[0m\n\u001b[0;32m     10\u001b[0m \u001b[1;33m\u001b[0m\u001b[0m\n\u001b[1;32m---> 11\u001b[1;33m \u001b[0mdrive\u001b[0m\u001b[1;33m.\u001b[0m\u001b[0mmount\u001b[0m\u001b[1;33m(\u001b[0m\u001b[1;34m'/content/drive'\u001b[0m\u001b[1;33m)\u001b[0m\u001b[1;33m\u001b[0m\u001b[1;33m\u001b[0m\u001b[0m\n\u001b[0m\u001b[0;32m     12\u001b[0m \u001b[0mwarnings\u001b[0m\u001b[1;33m.\u001b[0m\u001b[0mfilterwarnings\u001b[0m\u001b[1;33m(\u001b[0m\u001b[1;34m'ignore'\u001b[0m\u001b[1;33m)\u001b[0m\u001b[1;33m\u001b[0m\u001b[1;33m\u001b[0m\u001b[0m\n\u001b[0;32m     13\u001b[0m \u001b[0mget_ipython\u001b[0m\u001b[1;33m(\u001b[0m\u001b[1;33m)\u001b[0m\u001b[1;33m.\u001b[0m\u001b[0mrun_line_magic\u001b[0m\u001b[1;33m(\u001b[0m\u001b[1;34m'matplotlib'\u001b[0m\u001b[1;33m,\u001b[0m \u001b[1;34m'inline'\u001b[0m\u001b[1;33m)\u001b[0m\u001b[1;33m\u001b[0m\u001b[1;33m\u001b[0m\u001b[0m\n",
      "\u001b[1;31mNameError\u001b[0m: name 'drive' is not defined"
     ]
    }
   ],
   "source": [
    "import pandas as pd\n",
    "import numpy as np\n",
    "import matplotlib.pyplot as plt\n",
    "from google.colab import drive\n",
    "from matplotlib import font_manager, rc\n",
    "from tqdm import tqdm\n",
    "import warnings\n",
    "import seaborn as sns\n",
    "import random\n",
    "\n",
    "drive.mount('/content/drive')\n",
    "warnings.filterwarnings('ignore')\n",
    "%matplotlib inline"
   ]
  },
  {
   "cell_type": "code",
   "execution_count": 2,
   "metadata": {
    "executionInfo": {
     "elapsed": 9028,
     "status": "ok",
     "timestamp": 1605686000461,
     "user": {
      "displayName": "오주영",
      "photoUrl": "",
      "userId": "01432920996987882215"
     },
     "user_tz": -540
    },
    "id": "oi3zTuitiy-L"
   },
   "outputs": [],
   "source": [
    "cust_train = pd.read_csv('/content/drive/My Drive/Colab Notebooks/2020-2ml competition/ML_dataset/cust_train.csv')\n",
    "cust_test = pd.read_csv('/content/drive/My Drive/Colab Notebooks/2020-2ml competition/ML_dataset/cust_test.csv')\n",
    "product_train = pd.read_csv('/content/drive/My Drive/Colab Notebooks/2020-2ml competition/ML_dataset/product_train.csv')\n",
    "product_test = pd.read_csv('/content/drive/My Drive/Colab Notebooks/2020-2ml competition/ML_dataset/product_test.csv')\n",
    "session_train = pd.read_csv('/content/drive/My Drive/Colab Notebooks/2020-2ml competition/ML_dataset/session_train.csv')\n",
    "session_test = pd.read_csv('/content/drive/My Drive/Colab Notebooks/2020-2ml competition/ML_dataset/session_test.csv')\n",
    "master = pd.read_csv('/content/drive/My Drive/Colab Notebooks/2020-2ml competition/ML_dataset/master.csv')"
   ]
  },
  {
   "cell_type": "code",
   "execution_count": 3,
   "metadata": {
    "executionInfo": {
     "elapsed": 8884,
     "status": "ok",
     "timestamp": 1605686000463,
     "user": {
      "displayName": "오주영",
      "photoUrl": "",
      "userId": "01432920996987882215"
     },
     "user_tz": -540
    },
    "id": "LISzVP2zx83O"
   },
   "outputs": [],
   "source": [
    "label = cust_train.LABEL\n",
    "label = label.map({\"F20\" : 0, \"F30\" : 1, \"F40\" : 2, \"M20\" : 3, \"M30\" : 4, \"M40\" : 5})"
   ]
  },
  {
   "cell_type": "code",
   "execution_count": 4,
   "metadata": {
    "executionInfo": {
     "elapsed": 11721,
     "status": "ok",
     "timestamp": 1605686003475,
     "user": {
      "displayName": "오주영",
      "photoUrl": "",
      "userId": "01432920996987882215"
     },
     "user_tz": -540
    },
    "id": "WXcsciDPW6Bb"
   },
   "outputs": [],
   "source": [
    "train = pd.merge(product_train, session_train, on = ['CLNT_ID','SESS_ID'])\n",
    "train = pd.merge(train, master, on = 'PD_C')"
   ]
  },
  {
   "cell_type": "code",
   "execution_count": 5,
   "metadata": {
    "executionInfo": {
     "elapsed": 12585,
     "status": "ok",
     "timestamp": 1605686004497,
     "user": {
      "displayName": "오주영",
      "photoUrl": "",
      "userId": "01432920996987882215"
     },
     "user_tz": -540
    },
    "id": "w3Jw9TWwW6hM"
   },
   "outputs": [],
   "source": [
    "test = pd.merge(product_test, session_test, on = ['CLNT_ID','SESS_ID'])\n",
    "test = pd.merge(test, master, on = 'PD_C')"
   ]
  },
  {
   "cell_type": "markdown",
   "metadata": {
    "id": "QFd7_Um1SSfV"
   },
   "source": [
    "#TDM"
   ]
  },
  {
   "cell_type": "code",
   "execution_count": 6,
   "metadata": {
    "executionInfo": {
     "elapsed": 13046,
     "status": "ok",
     "timestamp": 1605686005295,
     "user": {
      "displayName": "오주영",
      "photoUrl": "",
      "userId": "01432920996987882215"
     },
     "user_tz": -540
    },
    "id": "H8mMU1rQ-DNU"
   },
   "outputs": [],
   "source": [
    "train['CLAC3_NM'] = train['CLAC3_NM'].apply(lambda x : x + \" \")\n",
    "test['CLAC3_NM'] = test['CLAC3_NM'].apply(lambda x : x + \" \")"
   ]
  },
  {
   "cell_type": "code",
   "execution_count": 7,
   "metadata": {
    "executionInfo": {
     "elapsed": 88095,
     "status": "ok",
     "timestamp": 1605686081751,
     "user": {
      "displayName": "오주영",
      "photoUrl": "",
      "userId": "01432920996987882215"
     },
     "user_tz": -540
    },
    "id": "bVLWQXQF9HIa"
   },
   "outputs": [],
   "source": [
    "sentences_train = train.groupby(\"CLNT_ID\")[\"CLAC3_NM\"].sum()\n",
    "sentences_test = train.groupby(\"CLNT_ID\")[\"CLAC3_NM\"].sum()"
   ]
  },
  {
   "cell_type": "code",
   "execution_count": 8,
   "metadata": {
    "executionInfo": {
     "elapsed": 87854,
     "status": "ok",
     "timestamp": 1605686081754,
     "user": {
      "displayName": "오주영",
      "photoUrl": "",
      "userId": "01432920996987882215"
     },
     "user_tz": -540
    },
    "id": "oyOMi17v-0Cw"
   },
   "outputs": [],
   "source": [
    "from sklearn.feature_extraction.text import CountVectorizer"
   ]
  },
  {
   "cell_type": "code",
   "execution_count": 9,
   "metadata": {
    "executionInfo": {
     "elapsed": 89972,
     "status": "ok",
     "timestamp": 1605686084229,
     "user": {
      "displayName": "오주영",
      "photoUrl": "",
      "userId": "01432920996987882215"
     },
     "user_tz": -540
    },
    "id": "C_5xyqrs9Hk1"
   },
   "outputs": [],
   "source": [
    "cv = CountVectorizer() # max_features를 통해 빈도수 기준 상위 n개의 단어만 선택 가능\n",
    "tdm = cv.fit_transform(sentences_train)"
   ]
  },
  {
   "cell_type": "code",
   "execution_count": 10,
   "metadata": {
    "colab": {
     "base_uri": "https://localhost:8080/"
    },
    "executionInfo": {
     "elapsed": 88949,
     "status": "ok",
     "timestamp": 1605686084231,
     "user": {
      "displayName": "오주영",
      "photoUrl": "",
      "userId": "01432920996987882215"
     },
     "user_tz": -540
    },
    "id": "X_AaY-i9Svgi",
    "outputId": "29b98afa-2f2b-4ae7-804c-93d74277c5f1"
   },
   "outputs": [
    {
     "data": {
      "text/plain": [
       "(263104, 1051)"
      ]
     },
     "execution_count": 10,
     "metadata": {
      "tags": []
     },
     "output_type": "execute_result"
    }
   ],
   "source": [
    "tdm.shape"
   ]
  },
  {
   "cell_type": "code",
   "execution_count": 11,
   "metadata": {
    "colab": {
     "base_uri": "https://localhost:8080/"
    },
    "executionInfo": {
     "elapsed": 88709,
     "status": "ok",
     "timestamp": 1605686084234,
     "user": {
      "displayName": "오주영",
      "photoUrl": "",
      "userId": "01432920996987882215"
     },
     "user_tz": -540
    },
    "id": "lHG-NOuQS73z",
    "outputId": "92ccbd63-020e-4487-e2c8-71db9f0b3cff"
   },
   "outputs": [
    {
     "data": {
      "text/plain": [
       "['홍삼절편', '홍삼정', '화장대', '화장솜', '환풍기', '후드', '훈련', '휴대폰', '흔들말', '힙색']"
      ]
     },
     "execution_count": 11,
     "metadata": {
      "tags": []
     },
     "output_type": "execute_result"
    }
   ],
   "source": [
    "#단어 목록\n",
    "cv.get_feature_names()[-10:]"
   ]
  },
  {
   "cell_type": "code",
   "execution_count": 12,
   "metadata": {
    "colab": {
     "base_uri": "https://localhost:8080/"
    },
    "executionInfo": {
     "elapsed": 88481,
     "status": "ok",
     "timestamp": 1605686084235,
     "user": {
      "displayName": "오주영",
      "photoUrl": "",
      "userId": "01432920996987882215"
     },
     "user_tz": -540
    },
    "id": "48G1clE8_FmA",
    "outputId": "52eab1ff-6b25-44bf-9e0d-9e05d8719ffa"
   },
   "outputs": [
    {
     "data": {
      "text/plain": [
       "2633517"
      ]
     },
     "execution_count": 12,
     "metadata": {
      "tags": []
     },
     "output_type": "execute_result"
    }
   ],
   "source": [
    "#전체 단어 개수\n",
    "tdm.sum()"
   ]
  },
  {
   "cell_type": "code",
   "execution_count": 13,
   "metadata": {
    "colab": {
     "base_uri": "https://localhost:8080/"
    },
    "executionInfo": {
     "elapsed": 88303,
     "status": "ok",
     "timestamp": 1605686084239,
     "user": {
      "displayName": "오주영",
      "photoUrl": "",
      "userId": "01432920996987882215"
     },
     "user_tz": -540
    },
    "id": "cucgxVyp_kSE",
    "outputId": "3f049479-a616-417d-b95a-97cdc30b9447"
   },
   "outputs": [
    {
     "data": {
      "text/plain": [
       "matrix([[   68,   657, 28673, ...,   178,   301,    80]], dtype=int64)"
      ]
     },
     "execution_count": 13,
     "metadata": {
      "tags": []
     },
     "output_type": "execute_result"
    }
   ],
   "source": [
    "#단어별 빈도수\n",
    "tdm.sum(axis = 0)"
   ]
  },
  {
   "cell_type": "code",
   "execution_count": 14,
   "metadata": {
    "colab": {
     "base_uri": "https://localhost:8080/",
     "height": 392
    },
    "executionInfo": {
     "elapsed": 88128,
     "status": "ok",
     "timestamp": 1605686084240,
     "user": {
      "displayName": "오주영",
      "photoUrl": "",
      "userId": "01432920996987882215"
     },
     "user_tz": -540
    },
    "id": "vGUCFYa-TpW2",
    "outputId": "80c52ed0-f55b-4e71-b772-ab82508f4fee"
   },
   "outputs": [
    {
     "data": {
      "text/html": [
       "<div>\n",
       "<style scoped>\n",
       "    .dataframe tbody tr th:only-of-type {\n",
       "        vertical-align: middle;\n",
       "    }\n",
       "\n",
       "    .dataframe tbody tr th {\n",
       "        vertical-align: top;\n",
       "    }\n",
       "\n",
       "    .dataframe thead th {\n",
       "        text-align: right;\n",
       "    }\n",
       "</style>\n",
       "<table border=\"1\" class=\"dataframe\">\n",
       "  <thead>\n",
       "    <tr style=\"text-align: right;\">\n",
       "      <th></th>\n",
       "      <th>단어</th>\n",
       "      <th>빈도</th>\n",
       "    </tr>\n",
       "  </thead>\n",
       "  <tbody>\n",
       "    <tr>\n",
       "      <th>194</th>\n",
       "      <td>남성티셔츠</td>\n",
       "      <td>124877</td>\n",
       "    </tr>\n",
       "    <tr>\n",
       "      <th>636</th>\n",
       "      <td>여성원피스</td>\n",
       "      <td>71922</td>\n",
       "    </tr>\n",
       "    <tr>\n",
       "      <th>657</th>\n",
       "      <td>여성티셔츠</td>\n",
       "      <td>61117</td>\n",
       "    </tr>\n",
       "    <tr>\n",
       "      <th>584</th>\n",
       "      <td>여성남방셔츠</td>\n",
       "      <td>54394</td>\n",
       "    </tr>\n",
       "    <tr>\n",
       "      <th>186</th>\n",
       "      <td>남성캐주얼바지</td>\n",
       "      <td>44622</td>\n",
       "    </tr>\n",
       "    <tr>\n",
       "      <th>...</th>\n",
       "      <td>...</td>\n",
       "      <td>...</td>\n",
       "    </tr>\n",
       "    <tr>\n",
       "      <th>51</th>\n",
       "      <td>과실주병</td>\n",
       "      <td>2</td>\n",
       "    </tr>\n",
       "    <tr>\n",
       "      <th>76</th>\n",
       "      <td>기타남성화</td>\n",
       "      <td>1</td>\n",
       "    </tr>\n",
       "    <tr>\n",
       "      <th>424</th>\n",
       "      <td>석류</td>\n",
       "      <td>1</td>\n",
       "    </tr>\n",
       "    <tr>\n",
       "      <th>216</th>\n",
       "      <td>냉동디저트</td>\n",
       "      <td>1</td>\n",
       "    </tr>\n",
       "    <tr>\n",
       "      <th>382</th>\n",
       "      <td>볶음반찬</td>\n",
       "      <td>1</td>\n",
       "    </tr>\n",
       "  </tbody>\n",
       "</table>\n",
       "<p>1051 rows × 2 columns</p>\n",
       "</div>"
      ],
      "text/plain": [
       "          단어      빈도\n",
       "194    남성티셔츠  124877\n",
       "636    여성원피스   71922\n",
       "657    여성티셔츠   61117\n",
       "584   여성남방셔츠   54394\n",
       "186  남성캐주얼바지   44622\n",
       "..       ...     ...\n",
       "51      과실주병       2\n",
       "76     기타남성화       1\n",
       "424       석류       1\n",
       "216    냉동디저트       1\n",
       "382     볶음반찬       1\n",
       "\n",
       "[1051 rows x 2 columns]"
      ]
     },
     "execution_count": 14,
     "metadata": {
      "tags": []
     },
     "output_type": "execute_result"
    }
   ],
   "source": [
    "word_count=pd.DataFrame({\n",
    "    '단어': cv.get_feature_names(),\n",
    "    '빈도': tdm.sum(axis=0).flat                \n",
    "}); word_count.sort_values(by = \"빈도\", ascending = False)"
   ]
  },
  {
   "cell_type": "code",
   "execution_count": 16,
   "metadata": {
    "executionInfo": {
     "elapsed": 674,
     "status": "ok",
     "timestamp": 1605686155020,
     "user": {
      "displayName": "오주영",
      "photoUrl": "",
      "userId": "01432920996987882215"
     },
     "user_tz": -540
    },
    "id": "2XvwjCHXTpfQ"
   },
   "outputs": [],
   "source": [
    "from lightgbm import LGBMClassifier\n",
    "from sklearn.model_selection import train_test_split, GridSearchCV, StratifiedKFold, cross_val_score\n",
    "from sklearn.metrics import log_loss"
   ]
  },
  {
   "cell_type": "code",
   "execution_count": 16,
   "metadata": {
    "executionInfo": {
     "elapsed": 81655,
     "status": "ok",
     "timestamp": 1605685985146,
     "user": {
      "displayName": "오주영",
      "photoUrl": "",
      "userId": "01432920996987882215"
     },
     "user_tz": -540
    },
    "id": "6FN-Xj8vTpc3"
   },
   "outputs": [],
   "source": [
    "#kfold = StratifiedKFold(n_splits = 4, random_state = 317)\n",
    "#lgb = LGBMClassifier(random_state = 317)\n",
    "#cross_val_score(lgb, tdm, label, scoring = 'neg')"
   ]
  },
  {
   "cell_type": "markdown",
   "metadata": {
    "id": "8s5goxxDWv6o"
   },
   "source": [
    "#TF-IDF"
   ]
  },
  {
   "cell_type": "code",
   "execution_count": 17,
   "metadata": {
    "executionInfo": {
     "elapsed": 667,
     "status": "ok",
     "timestamp": 1605686205628,
     "user": {
      "displayName": "오주영",
      "photoUrl": "",
      "userId": "01432920996987882215"
     },
     "user_tz": -540
    },
    "id": "sCrjXF_yWvK8"
   },
   "outputs": [],
   "source": [
    "from sklearn.feature_extraction.text import TfidfVectorizer"
   ]
  },
  {
   "cell_type": "code",
   "execution_count": 18,
   "metadata": {
    "executionInfo": {
     "elapsed": 2966,
     "status": "ok",
     "timestamp": 1605686275269,
     "user": {
      "displayName": "오주영",
      "photoUrl": "",
      "userId": "01432920996987882215"
     },
     "user_tz": -540
    },
    "id": "hoeq1lpgVwOf"
   },
   "outputs": [],
   "source": [
    "tfidf = TfidfVectorizer() # max_features를 통해 빈도수 기준 상위 n개의 단어만 선택 가능\n",
    "tdm = tfidf.fit_transform(sentences_train)"
   ]
  },
  {
   "cell_type": "code",
   "execution_count": 19,
   "metadata": {
    "colab": {
     "base_uri": "https://localhost:8080/"
    },
    "executionInfo": {
     "elapsed": 435,
     "status": "ok",
     "timestamp": 1605686279144,
     "user": {
      "displayName": "오주영",
      "photoUrl": "",
      "userId": "01432920996987882215"
     },
     "user_tz": -540
    },
    "id": "61DmrkuGVwtX",
    "outputId": "6d32e267-846b-4d14-e26b-fab551a895ab"
   },
   "outputs": [
    {
     "data": {
      "text/plain": [
       "(263104, 1051)"
      ]
     },
     "execution_count": 19,
     "metadata": {
      "tags": []
     },
     "output_type": "execute_result"
    }
   ],
   "source": [
    "tdm.shape"
   ]
  },
  {
   "cell_type": "code",
   "execution_count": 20,
   "metadata": {
    "colab": {
     "base_uri": "https://localhost:8080/",
     "height": 392
    },
    "executionInfo": {
     "elapsed": 1063,
     "status": "ok",
     "timestamp": 1605686317735,
     "user": {
      "displayName": "오주영",
      "photoUrl": "",
      "userId": "01432920996987882215"
     },
     "user_tz": -540
    },
    "id": "6535nwnNVwze",
    "outputId": "a9faef89-aaf2-4237-d328-a4ce2d554ed2"
   },
   "outputs": [
    {
     "data": {
      "text/html": [
       "<div>\n",
       "<style scoped>\n",
       "    .dataframe tbody tr th:only-of-type {\n",
       "        vertical-align: middle;\n",
       "    }\n",
       "\n",
       "    .dataframe tbody tr th {\n",
       "        vertical-align: top;\n",
       "    }\n",
       "\n",
       "    .dataframe thead th {\n",
       "        text-align: right;\n",
       "    }\n",
       "</style>\n",
       "<table border=\"1\" class=\"dataframe\">\n",
       "  <thead>\n",
       "    <tr style=\"text-align: right;\">\n",
       "      <th></th>\n",
       "      <th>단어</th>\n",
       "      <th>가중빈도</th>\n",
       "    </tr>\n",
       "  </thead>\n",
       "  <tbody>\n",
       "    <tr>\n",
       "      <th>194</th>\n",
       "      <td>남성티셔츠</td>\n",
       "      <td>16513.397020</td>\n",
       "    </tr>\n",
       "    <tr>\n",
       "      <th>636</th>\n",
       "      <td>여성원피스</td>\n",
       "      <td>9673.948469</td>\n",
       "    </tr>\n",
       "    <tr>\n",
       "      <th>657</th>\n",
       "      <td>여성티셔츠</td>\n",
       "      <td>7841.932994</td>\n",
       "    </tr>\n",
       "    <tr>\n",
       "      <th>584</th>\n",
       "      <td>여성남방셔츠</td>\n",
       "      <td>7512.575650</td>\n",
       "    </tr>\n",
       "    <tr>\n",
       "      <th>961</th>\n",
       "      <td>트레이닝화</td>\n",
       "      <td>7031.521906</td>\n",
       "    </tr>\n",
       "    <tr>\n",
       "      <th>...</th>\n",
       "      <td>...</td>\n",
       "      <td>...</td>\n",
       "    </tr>\n",
       "    <tr>\n",
       "      <th>411</th>\n",
       "      <td>산림욕기</td>\n",
       "      <td>0.751323</td>\n",
       "    </tr>\n",
       "    <tr>\n",
       "      <th>243</th>\n",
       "      <td>닭안심</td>\n",
       "      <td>0.498217</td>\n",
       "    </tr>\n",
       "    <tr>\n",
       "      <th>71</th>\n",
       "      <td>기타광학기기</td>\n",
       "      <td>0.437721</td>\n",
       "    </tr>\n",
       "    <tr>\n",
       "      <th>216</th>\n",
       "      <td>냉동디저트</td>\n",
       "      <td>0.207629</td>\n",
       "    </tr>\n",
       "    <tr>\n",
       "      <th>382</th>\n",
       "      <td>볶음반찬</td>\n",
       "      <td>0.148997</td>\n",
       "    </tr>\n",
       "  </tbody>\n",
       "</table>\n",
       "<p>1051 rows × 2 columns</p>\n",
       "</div>"
      ],
      "text/plain": [
       "         단어          가중빈도\n",
       "194   남성티셔츠  16513.397020\n",
       "636   여성원피스   9673.948469\n",
       "657   여성티셔츠   7841.932994\n",
       "584  여성남방셔츠   7512.575650\n",
       "961   트레이닝화   7031.521906\n",
       "..      ...           ...\n",
       "411    산림욕기      0.751323\n",
       "243     닭안심      0.498217\n",
       "71   기타광학기기      0.437721\n",
       "216   냉동디저트      0.207629\n",
       "382    볶음반찬      0.148997\n",
       "\n",
       "[1051 rows x 2 columns]"
      ]
     },
     "execution_count": 20,
     "metadata": {
      "tags": []
     },
     "output_type": "execute_result"
    }
   ],
   "source": [
    "word_count=pd.DataFrame({\n",
    "    '단어': tfidf.get_feature_names(),\n",
    "    '가중빈도': tdm.sum(axis=0).flat\n",
    "}); word_count.sort_values(by = \"가중빈도\", ascending = False)"
   ]
  },
  {
   "cell_type": "code",
   "execution_count": null,
   "metadata": {
    "id": "UBxBoHIEVwyA"
   },
   "outputs": [],
   "source": [
    "#lgb = LGBMClassifier(random_state = 317)\n",
    "#cross_val_score(lgb, tdm, label, scoring = 'neg')"
   ]
  },
  {
   "cell_type": "markdown",
   "metadata": {
    "id": "3MapSy_aXhor"
   },
   "source": [
    "#Word2Vec"
   ]
  },
  {
   "cell_type": "markdown",
   "metadata": {
    "id": "iN9jE83UXkIQ"
   },
   "source": [
    "word2vec model의 input은 단어들의 list of list임\n",
    "\n",
    "참고 : https://radimrehurek.com/gensim/models/word2vec.html"
   ]
  },
  {
   "cell_type": "code",
   "execution_count": 75,
   "metadata": {
    "executionInfo": {
     "elapsed": 667,
     "status": "ok",
     "timestamp": 1605687973014,
     "user": {
      "displayName": "오주영",
      "photoUrl": "",
      "userId": "01432920996987882215"
     },
     "user_tz": -540
    },
    "id": "OHeLwZ17VwnO"
   },
   "outputs": [],
   "source": [
    "corpus = ['I have a dream that one day this nation will rise up and live out the true meaning of its creed We hold these truths to be self evident that all men are created equal',\n",
    "          'I have a dream that one day on the red hills of Georgia the sons of former slaves and the sons of former slave owners will be able to sit down together at the table of brotherhood',\n",
    "          'I have a dream that one day even the state of Mississippi a state sweltering with the heat of injustice sweltering with the heat of oppression will be transformed into an oasis of freedom and justice',\n",
    "          'I have a dream that my four little children will one day live in a nation where they will not be judged by the color of their skin but by the content of their character',\n",
    "          'I have a dream today']"
   ]
  },
  {
   "cell_type": "code",
   "execution_count": 76,
   "metadata": {
    "executionInfo": {
     "elapsed": 610,
     "status": "ok",
     "timestamp": 1605687974060,
     "user": {
      "displayName": "오주영",
      "photoUrl": "",
      "userId": "01432920996987882215"
     },
     "user_tz": -540
    },
    "id": "4ZJKiY5kYqVF"
   },
   "outputs": [],
   "source": [
    "w2v_input = [sentence.split() for sentence in corpus]"
   ]
  },
  {
   "cell_type": "code",
   "execution_count": 77,
   "metadata": {
    "colab": {
     "base_uri": "https://localhost:8080/"
    },
    "executionInfo": {
     "elapsed": 706,
     "status": "ok",
     "timestamp": 1605687977119,
     "user": {
      "displayName": "오주영",
      "photoUrl": "",
      "userId": "01432920996987882215"
     },
     "user_tz": -540
    },
    "id": "XZNq1RGLYqb4",
    "outputId": "73ab49f3-bae2-4f1c-f272-43d316bd315d"
   },
   "outputs": [
    {
     "data": {
      "text/plain": [
       "['I',\n",
       " 'have',\n",
       " 'a',\n",
       " 'dream',\n",
       " 'that',\n",
       " 'one',\n",
       " 'day',\n",
       " 'this',\n",
       " 'nation',\n",
       " 'will',\n",
       " 'rise',\n",
       " 'up',\n",
       " 'and',\n",
       " 'live',\n",
       " 'out',\n",
       " 'the',\n",
       " 'true',\n",
       " 'meaning',\n",
       " 'of',\n",
       " 'its',\n",
       " 'creed',\n",
       " 'We',\n",
       " 'hold',\n",
       " 'these',\n",
       " 'truths',\n",
       " 'to',\n",
       " 'be',\n",
       " 'self',\n",
       " 'evident',\n",
       " 'that',\n",
       " 'all',\n",
       " 'men',\n",
       " 'are',\n",
       " 'created',\n",
       " 'equal']"
      ]
     },
     "execution_count": 77,
     "metadata": {
      "tags": []
     },
     "output_type": "execute_result"
    }
   ],
   "source": [
    "w2v_input[0]"
   ]
  },
  {
   "cell_type": "code",
   "execution_count": 78,
   "metadata": {
    "executionInfo": {
     "elapsed": 894,
     "status": "ok",
     "timestamp": 1605687981565,
     "user": {
      "displayName": "오주영",
      "photoUrl": "",
      "userId": "01432920996987882215"
     },
     "user_tz": -540
    },
    "id": "0UtnUIGGYqaj"
   },
   "outputs": [],
   "source": [
    "from gensim.models import word2vec\n",
    "w2v = word2vec.Word2Vec(sentences = w2v_input, size = 2, window = 3, min_count = 1, sg = 1)  # sg = 1 : skip-gram, sg = 0 : cbow"
   ]
  },
  {
   "cell_type": "code",
   "execution_count": 79,
   "metadata": {
    "executionInfo": {
     "elapsed": 693,
     "status": "ok",
     "timestamp": 1605687982878,
     "user": {
      "displayName": "오주영",
      "photoUrl": "",
      "userId": "01432920996987882215"
     },
     "user_tz": -540
    },
    "id": "Izeh7TQRaoUS"
   },
   "outputs": [],
   "source": [
    "wv = w2v.wv\n",
    "vocabs = wv.vocab.keys()\n",
    "word_vectors = [wv[v] for v in vocabs] "
   ]
  },
  {
   "cell_type": "code",
   "execution_count": 80,
   "metadata": {
    "colab": {
     "base_uri": "https://localhost:8080/"
    },
    "executionInfo": {
     "elapsed": 602,
     "status": "ok",
     "timestamp": 1605687983882,
     "user": {
      "displayName": "오주영",
      "photoUrl": "",
      "userId": "01432920996987882215"
     },
     "user_tz": -540
    },
    "id": "l7MkudgSbBBD",
    "outputId": "230392b6-c165-4072-8a7d-69b8fe89736f"
   },
   "outputs": [
    {
     "data": {
      "text/plain": [
       "[array([ 0.20773827, -0.13830578], dtype=float32),\n",
       " array([-0.01951139, -0.2015026 ], dtype=float32),\n",
       " array([-0.1341778 ,  0.16476859], dtype=float32),\n",
       " array([ 0.2464986 , -0.22593853], dtype=float32),\n",
       " array([-0.0737688 , -0.20751806], dtype=float32),\n",
       " array([ 0.00214465, -0.10361077], dtype=float32),\n",
       " array([0.19314362, 0.18546565], dtype=float32),\n",
       " array([-0.11859644,  0.07446624], dtype=float32),\n",
       " array([-0.00932872, -0.11310409], dtype=float32),\n",
       " array([-0.01695367, -0.02442928], dtype=float32),\n",
       " array([0.14659576, 0.02056159], dtype=float32),\n",
       " array([ 0.17073305, -0.19230117], dtype=float32),\n",
       " array([-0.17689575, -0.24137183], dtype=float32),\n",
       " array([-0.18115504,  0.07188667], dtype=float32),\n",
       " array([-0.09192587, -0.2067751 ], dtype=float32),\n",
       " array([ 0.19021648, -0.19326508], dtype=float32),\n",
       " array([ 0.23953976, -0.19432305], dtype=float32),\n",
       " array([-0.15934336, -0.08878317], dtype=float32),\n",
       " array([-0.13540798, -0.09611336], dtype=float32),\n",
       " array([-0.00882648, -0.09570005], dtype=float32),\n",
       " array([-0.16564788,  0.02195146], dtype=float32),\n",
       " array([-0.12030231,  0.01587922], dtype=float32),\n",
       " array([-0.07348162,  0.20350464], dtype=float32),\n",
       " array([-0.12201672, -0.02912311], dtype=float32),\n",
       " array([0.0012546 , 0.01469015], dtype=float32),\n",
       " array([ 0.04698245, -0.22650227], dtype=float32),\n",
       " array([ 0.10232707, -0.11574487], dtype=float32),\n",
       " array([-0.088648  , -0.03003627], dtype=float32),\n",
       " array([ 0.15574934, -0.06022206], dtype=float32),\n",
       " array([-0.06337576, -0.18588391], dtype=float32),\n",
       " array([-0.10048721,  0.07367145], dtype=float32),\n",
       " array([-0.09285057, -0.19190362], dtype=float32),\n",
       " array([-0.09218019,  0.04013765], dtype=float32),\n",
       " array([-0.14270636,  0.0763906 ], dtype=float32),\n",
       " array([0.127232  , 0.09197693], dtype=float32),\n",
       " array([ 0.12559544, -0.1604291 ], dtype=float32),\n",
       " array([-0.03198189, -0.10858091], dtype=float32),\n",
       " array([-0.07898657, -0.0118771 ], dtype=float32),\n",
       " array([-0.15063854, -0.09492922], dtype=float32),\n",
       " array([0.04249445, 0.03941315], dtype=float32),\n",
       " array([-0.150111  , -0.01225404], dtype=float32),\n",
       " array([-0.21746774, -0.12867673], dtype=float32),\n",
       " array([-0.04711062, -0.08963859], dtype=float32),\n",
       " array([ 0.17205942, -0.0069232 ], dtype=float32),\n",
       " array([-0.04349309, -0.25021732], dtype=float32),\n",
       " array([-0.23326246, -0.187227  ], dtype=float32),\n",
       " array([-0.08627297,  0.2160208 ], dtype=float32),\n",
       " array([ 0.1391984 , -0.22283125], dtype=float32),\n",
       " array([-0.07498085, -0.25010398], dtype=float32),\n",
       " array([-0.21302253,  0.11411645], dtype=float32),\n",
       " array([-0.05564638, -0.03666176], dtype=float32),\n",
       " array([ 0.08870781, -0.01314762], dtype=float32),\n",
       " array([ 0.15722151, -0.03997958], dtype=float32),\n",
       " array([0.05106026, 0.09217214], dtype=float32),\n",
       " array([-0.19004352,  0.18792924], dtype=float32),\n",
       " array([ 0.15098093, -0.09816582], dtype=float32),\n",
       " array([0.21943872, 0.19469538], dtype=float32),\n",
       " array([-0.19658653, -0.01440266], dtype=float32),\n",
       " array([0.14888377, 0.2410611 ], dtype=float32),\n",
       " array([0.14735608, 0.19160941], dtype=float32),\n",
       " array([ 0.00471852, -0.15802427], dtype=float32),\n",
       " array([ 0.02765455, -0.07077371], dtype=float32),\n",
       " array([ 0.16241577, -0.05938418], dtype=float32),\n",
       " array([ 0.10642264, -0.06964858], dtype=float32),\n",
       " array([-0.04384053,  0.24022222], dtype=float32),\n",
       " array([-0.21147841,  0.10263065], dtype=float32),\n",
       " array([-0.24163026,  0.0853256 ], dtype=float32),\n",
       " array([0.09735688, 0.07355881], dtype=float32),\n",
       " array([-0.12355154, -0.22131436], dtype=float32),\n",
       " array([0.2464786 , 0.23823078], dtype=float32),\n",
       " array([-0.0298682 ,  0.23996045], dtype=float32),\n",
       " array([0.00309333, 0.07614638], dtype=float32),\n",
       " array([-0.03062052,  0.029896  ], dtype=float32),\n",
       " array([ 0.00972244, -0.12813163], dtype=float32),\n",
       " array([ 0.0147042 , -0.00903515], dtype=float32),\n",
       " array([-0.02529159, -0.00567641], dtype=float32),\n",
       " array([-0.21590652,  0.11565267], dtype=float32),\n",
       " array([-0.23688963, -0.01677493], dtype=float32),\n",
       " array([-0.05675621,  0.159339  ], dtype=float32),\n",
       " array([-0.03190997, -0.16844395], dtype=float32),\n",
       " array([-0.09854053, -0.14967276], dtype=float32)]"
      ]
     },
     "execution_count": 80,
     "metadata": {
      "tags": []
     },
     "output_type": "execute_result"
    }
   ],
   "source": [
    "word_vectors"
   ]
  },
  {
   "cell_type": "code",
   "execution_count": 81,
   "metadata": {
    "colab": {
     "base_uri": "https://localhost:8080/"
    },
    "executionInfo": {
     "elapsed": 650,
     "status": "ok",
     "timestamp": 1605687987636,
     "user": {
      "displayName": "오주영",
      "photoUrl": "",
      "userId": "01432920996987882215"
     },
     "user_tz": -540
    },
    "id": "X8mjqOTpYqSE",
    "outputId": "8f9f401b-27e7-4520-8d28-abb12389d393"
   },
   "outputs": [
    {
     "data": {
      "text/plain": [
       "array([ 0.2464986 , -0.22593853], dtype=float32)"
      ]
     },
     "execution_count": 81,
     "metadata": {
      "tags": []
     },
     "output_type": "execute_result"
    }
   ],
   "source": [
    "wv['dream']"
   ]
  },
  {
   "cell_type": "code",
   "execution_count": 84,
   "metadata": {
    "colab": {
     "base_uri": "https://localhost:8080/"
    },
    "executionInfo": {
     "elapsed": 688,
     "status": "ok",
     "timestamp": 1605688009641,
     "user": {
      "displayName": "오주영",
      "photoUrl": "",
      "userId": "01432920996987882215"
     },
     "user_tz": -540
    },
    "id": "yuR3TEoEZ4vH",
    "outputId": "af491192-e457-4c24-b8c3-62ba6ae291e4"
   },
   "outputs": [
    {
     "data": {
      "text/plain": [
       "[('dream', 0.9981794357299805),\n",
       " ('I', 0.9955689907073975),\n",
       " ('justice', 0.994796872138977),\n",
       " ('heat', 0.9944875240325928),\n",
       " ('the', 0.9937576055526733)]"
      ]
     },
     "execution_count": 84,
     "metadata": {
      "tags": []
     },
     "output_type": "execute_result"
    }
   ],
   "source": [
    "w2v.most_similar(positive = \"true\", topn = 5)"
   ]
  },
  {
   "cell_type": "code",
   "execution_count": 85,
   "metadata": {
    "colab": {
     "base_uri": "https://localhost:8080/"
    },
    "executionInfo": {
     "elapsed": 681,
     "status": "ok",
     "timestamp": 1605688013070,
     "user": {
      "displayName": "오주영",
      "photoUrl": "",
      "userId": "01432920996987882215"
     },
     "user_tz": -540
    },
    "id": "0SczIYBxZ4sK",
    "outputId": "26b7c291-d828-40b4-e92d-fdc2b763a212"
   },
   "outputs": [
    {
     "data": {
      "text/plain": [
       "[('color', 0.9963069558143616),\n",
       " ('evident', 0.9953896403312683),\n",
       " ('heat', 0.9937913417816162),\n",
       " ('I', 0.9925225973129272),\n",
       " ('Mississippi', 0.976761519908905)]"
      ]
     },
     "execution_count": 85,
     "metadata": {
      "tags": []
     },
     "output_type": "execute_result"
    }
   ],
   "source": [
    "w2v.most_similar(positive = [\"freedom\", \"justice\"], topn = 5)"
   ]
  },
  {
   "cell_type": "code",
   "execution_count": 89,
   "metadata": {
    "executionInfo": {
     "elapsed": 719,
     "status": "ok",
     "timestamp": 1605688031908,
     "user": {
      "displayName": "오주영",
      "photoUrl": "",
      "userId": "01432920996987882215"
     },
     "user_tz": -540
    },
    "id": "iAhHr9UtaXZw"
   },
   "outputs": [],
   "source": [
    "def plot_graph(vocabs, x, y):\n",
    "  plt.figure(figsize = (15, 10))\n",
    "  plt.scatter(x, y, marker = 'o')\n",
    "  for i, v in enumerate(vocabs):\n",
    "    plt.annotate(v, xy = (x[i], y[i]))"
   ]
  },
  {
   "cell_type": "code",
   "execution_count": 90,
   "metadata": {
    "executionInfo": {
     "elapsed": 512,
     "status": "ok",
     "timestamp": 1605688032774,
     "user": {
      "displayName": "오주영",
      "photoUrl": "",
      "userId": "01432920996987882215"
     },
     "user_tz": -540
    },
    "id": "E4JO4qU1aXWo"
   },
   "outputs": [],
   "source": [
    "x = np.array(word_vectors)[:, 0]\n",
    "y = np.array(word_vectors)[:, 1]"
   ]
  },
  {
   "cell_type": "code",
   "execution_count": 91,
   "metadata": {
    "colab": {
     "base_uri": "https://localhost:8080/",
     "height": 591
    },
    "executionInfo": {
     "elapsed": 1589,
     "status": "ok",
     "timestamp": 1605688034262,
     "user": {
      "displayName": "오주영",
      "photoUrl": "",
      "userId": "01432920996987882215"
     },
     "user_tz": -540
    },
    "id": "R2IWNhQHaXUW",
    "outputId": "93c5c4c9-996a-4436-b549-e3d7bb9135c0"
   },
   "outputs": [
    {
     "data": {
      "image/png": "[encoded data removed]",
      "text/plain": [
       "<Figure size 1080x720 with 1 Axes>"
      ]
     },
     "metadata": {
      "needs_background": "light",
      "tags": []
     },
     "output_type": "display_data"
    }
   ],
   "source": [
    "plot_graph(vocabs, x, y)"
   ]
  },
  {
   "cell_type": "code",
   "execution_count": null,
   "metadata": {
    "id": "pkZLdn_fb3o3"
   },
   "outputs": [],
   "source": []
  },
  {
   "cell_type": "code",
   "execution_count": 92,
   "metadata": {
    "executionInfo": {
     "elapsed": 29169,
     "status": "ok",
     "timestamp": 1605688085607,
     "user": {
      "displayName": "오주영",
      "photoUrl": "",
      "userId": "01432920996987882215"
     },
     "user_tz": -540
    },
    "id": "Lt29W51FW6mi"
   },
   "outputs": [],
   "source": [
    "train_data = list(train.groupby('CLNT_ID')['CLAC3_NM'].unique())\n",
    "test_data = list(test.groupby('CLNT_ID')['CLAC3_NM'].unique())"
   ]
  },
  {
   "cell_type": "code",
   "execution_count": 93,
   "metadata": {
    "colab": {
     "base_uri": "https://localhost:8080/"
    },
    "executionInfo": {
     "elapsed": 694,
     "status": "ok",
     "timestamp": 1605688086315,
     "user": {
      "displayName": "오주영",
      "photoUrl": "",
      "userId": "01432920996987882215"
     },
     "user_tz": -540
    },
    "id": "OPmOMzTVd2NO",
    "outputId": "4db588bc-07cb-487e-ac48-f626c9b9f645"
   },
   "outputs": [
    {
     "data": {
      "text/plain": [
       "array(['기타요가/필라테스소품 ', '거실수예소품 ', '블랜더 '], dtype=object)"
      ]
     },
     "execution_count": 93,
     "metadata": {
      "tags": []
     },
     "output_type": "execute_result"
    }
   ],
   "source": [
    "train_data[0]"
   ]
  },
  {
   "cell_type": "code",
   "execution_count": 94,
   "metadata": {
    "executionInfo": {
     "elapsed": 670,
     "status": "ok",
     "timestamp": 1605688096675,
     "user": {
      "displayName": "오주영",
      "photoUrl": "",
      "userId": "01432920996987882215"
     },
     "user_tz": -540
    },
    "id": "QobCSyzXW6et"
   },
   "outputs": [],
   "source": [
    "def oversample(x, n):\n",
    "  lst = []\n",
    "  for i in x:\n",
    "    tmp = []\n",
    "    for j in range(n):\n",
    "      random.shuffle(i)\n",
    "      tmp += list(i)\n",
    "    lst.append(tmp)\n",
    "  return lst"
   ]
  },
  {
   "cell_type": "code",
   "execution_count": 95,
   "metadata": {
    "executionInfo": {
     "elapsed": 7241,
     "status": "ok",
     "timestamp": 1605688108923,
     "user": {
      "displayName": "오주영",
      "photoUrl": "",
      "userId": "01432920996987882215"
     },
     "user_tz": -540
    },
    "id": "T0IZBSa1W5-5"
   },
   "outputs": [],
   "source": [
    "w2v_input = oversample(train_data, 5)"
   ]
  },
  {
   "cell_type": "code",
   "execution_count": 96,
   "metadata": {
    "colab": {
     "base_uri": "https://localhost:8080/"
    },
    "executionInfo": {
     "elapsed": 713,
     "status": "ok",
     "timestamp": 1605688110779,
     "user": {
      "displayName": "오주영",
      "photoUrl": "",
      "userId": "01432920996987882215"
     },
     "user_tz": -540
    },
    "id": "Y6XMek5geBGM",
    "outputId": "b5a91bac-5f20-4a71-a5d2-23bbb20127ea"
   },
   "outputs": [
    {
     "data": {
      "text/plain": [
       "['거실수예소품 ',\n",
       " '기타요가/필라테스소품 ',\n",
       " '블랜더 ',\n",
       " '기타요가/필라테스소품 ',\n",
       " '블랜더 ',\n",
       " '거실수예소품 ',\n",
       " '블랜더 ',\n",
       " '기타요가/필라테스소품 ',\n",
       " '거실수예소품 ',\n",
       " '블랜더 ',\n",
       " '거실수예소품 ',\n",
       " '기타요가/필라테스소품 ',\n",
       " '거실수예소품 ',\n",
       " '블랜더 ',\n",
       " '기타요가/필라테스소품 ']"
      ]
     },
     "execution_count": 96,
     "metadata": {
      "tags": []
     },
     "output_type": "execute_result"
    }
   ],
   "source": [
    "w2v_input[0]"
   ]
  },
  {
   "cell_type": "code",
   "execution_count": 98,
   "metadata": {
    "executionInfo": {
     "elapsed": 90871,
     "status": "ok",
     "timestamp": 1605688237688,
     "user": {
      "displayName": "오주영",
      "photoUrl": "",
      "userId": "01432920996987882215"
     },
     "user_tz": -540
    },
    "id": "QMcExlGxujsk"
   },
   "outputs": [],
   "source": [
    "w2v = word2vec.Word2Vec(sentences = w2v_input, size = 30, window = 3, min_count = 1, sg = 1)"
   ]
  },
  {
   "cell_type": "code",
   "execution_count": 99,
   "metadata": {
    "colab": {
     "base_uri": "https://localhost:8080/"
    },
    "executionInfo": {
     "elapsed": 16026,
     "status": "ok",
     "timestamp": 1605688290039,
     "user": {
      "displayName": "오주영",
      "photoUrl": "",
      "userId": "01432920996987882215"
     },
     "user_tz": -540
    },
    "id": "3nVogK7MvELH",
    "outputId": "655782aa-f61d-4e90-ee2e-73e438b4de0c"
   },
   "outputs": [
    {
     "name": "stderr",
     "output_type": "stream",
     "text": [
      "100%|██████████| 263104/263104 [00:15<00:00, 17118.88it/s]\n"
     ]
    }
   ],
   "source": [
    "train_mean_vector = []\n",
    "for words in tqdm(train_data):\n",
    "  tmp = np.zeros(30)\n",
    "  cnt = 0\n",
    "  for word in words:\n",
    "    try:\n",
    "      tmp += w2v[word]\n",
    "      cnt += 1\n",
    "    except:\n",
    "      pass\n",
    "  tmp /= cnt\n",
    "  train_mean_vector.append(tmp)\n",
    "train_mean_vector = np.array(train_mean_vector)"
   ]
  },
  {
   "cell_type": "code",
   "execution_count": 100,
   "metadata": {
    "colab": {
     "base_uri": "https://localhost:8080/"
    },
    "executionInfo": {
     "elapsed": 13911,
     "status": "ok",
     "timestamp": 1605688296884,
     "user": {
      "displayName": "오주영",
      "photoUrl": "",
      "userId": "01432920996987882215"
     },
     "user_tz": -540
    },
    "id": "ZA89S4GtwQdB",
    "outputId": "b9a014f9-0e9d-4f25-bbf1-be55754bf803"
   },
   "outputs": [
    {
     "name": "stderr",
     "output_type": "stream",
     "text": [
      "100%|██████████| 112760/112760 [00:06<00:00, 16696.85it/s]\n"
     ]
    }
   ],
   "source": [
    "test_mean_vector = []\n",
    "for words in tqdm(test_data):\n",
    "  tmp = np.zeros(30)\n",
    "  cnt = 0\n",
    "  for word in words:\n",
    "    try:\n",
    "      tmp += w2v[word]\n",
    "      cnt += 1\n",
    "    except:\n",
    "      pass\n",
    "  tmp /= cnt\n",
    "  test_mean_vector.append(tmp)\n",
    "test_mean_vector = np.array(test_mean_vector)"
   ]
  },
  {
   "cell_type": "code",
   "execution_count": 106,
   "metadata": {
    "executionInfo": {
     "elapsed": 733,
     "status": "ok",
     "timestamp": 1605688461491,
     "user": {
      "displayName": "오주영",
      "photoUrl": "",
      "userId": "01432920996987882215"
     },
     "user_tz": -540
    },
    "id": "YAcQfZBVxd5z"
   },
   "outputs": [],
   "source": [
    "from lightgbm import LGBMClassifier\n",
    "from sklearn.linear_model import LogisticRegression\n",
    "from sklearn.model_selection import train_test_split, GridSearchCV, StratifiedKFold\n",
    "from sklearn.metrics import log_loss"
   ]
  },
  {
   "cell_type": "code",
   "execution_count": 107,
   "metadata": {
    "executionInfo": {
     "elapsed": 698,
     "status": "ok",
     "timestamp": 1605688468353,
     "user": {
      "displayName": "오주영",
      "photoUrl": "",
      "userId": "01432920996987882215"
     },
     "user_tz": -540
    },
    "id": "seURmNqtzWI3"
   },
   "outputs": [],
   "source": [
    "kfold = StratifiedKFold(n_splits = 4, random_state = 317)"
   ]
  },
  {
   "cell_type": "code",
   "execution_count": 108,
   "metadata": {
    "executionInfo": {
     "elapsed": 693,
     "status": "ok",
     "timestamp": 1605688480802,
     "user": {
      "displayName": "오주영",
      "photoUrl": "",
      "userId": "01432920996987882215"
     },
     "user_tz": -540
    },
    "id": "9tPEkP1PfaVb"
   },
   "outputs": [],
   "source": [
    "lgb = LGBMClassifier()\n",
    "lr = LogisticRegression()"
   ]
  },
  {
   "cell_type": "code",
   "execution_count": null,
   "metadata": {
    "id": "6J5sPqR92dOP"
   },
   "outputs": [],
   "source": [
    "lgb_params = {\n",
    "    'max_depth' : [5, 10, -1],\n",
    "    'n_estimators' : [100, 200, 300]\n",
    "}\n",
    "grid = GridSearchCV(lgb, lgb_params, scoring = 'neg_log_loss', cv = kfold, verbose = 1)\n",
    "grid.fit(train_mean_vector, label)\n",
    "print(grid.best_estimator_)\n",
    "print(grid.best_score_)"
   ]
  },
  {
   "cell_type": "code",
   "execution_count": null,
   "metadata": {
    "id": "l7cBonBf3qEV"
   },
   "outputs": [],
   "source": [
    "lr_params = {'C': [0.005, 0.01, 0.05, 0.1, 0.5, 1, 3, 5]}\n",
    "grid = grid = GridSearchCV(lr, lr_params, scoring = 'neg_log_loss', cv = kfold, verbose = 1)\n",
    "grid.fit(train_mean_vector, label)\n",
    "print(grid.best_estimator_)\n",
    "print(grid.best_score_)"
   ]
  },
  {
   "cell_type": "code",
   "execution_count": null,
   "metadata": {
    "id": "l7jZtrDnf-Ru"
   },
   "outputs": [],
   "source": []
  },
  {
   "cell_type": "code",
   "execution_count": null,
   "metadata": {
    "id": "Dfo9FkNtf-ez"
   },
   "outputs": [],
   "source": []
  },
  {
   "cell_type": "code",
   "execution_count": null,
   "metadata": {
    "id": "UOSBDPjt6SjG"
   },
   "outputs": [],
   "source": []
  }
 ],
 "metadata": {
  "colab": {
   "authorship_tag": "ABX9TyN2B2Xj1xd8fKYzDCPoSV0C",
   "collapsed_sections": [],
   "mount_file_id": "1O3g5Z22hQcbLcUiRcX0bUhL4v6FWkaar",
   "name": "ml_notebook.ipynb",
   "provenance": []
  },
  "kernelspec": {
   "display_name": "Python 3",
   "language": "python",
   "name": "python3"
  },
  "language_info": {
   "codemirror_mode": {
    "name": "ipython",
    "version": 3
   },
   "file_extension": ".py",
   "mimetype": "text/x-python",
   "name": "python",
   "nbconvert_exporter": "python",
   "pygments_lexer": "ipython3",
   "version": "3.8.3"
  }
 },
 "nbformat": 4,
 "nbformat_minor": 1
}
