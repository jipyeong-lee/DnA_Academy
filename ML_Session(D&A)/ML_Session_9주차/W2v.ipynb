{
 "cells": [
  {
   "cell_type": "code",
   "execution_count": 1,
   "metadata": {
    "colab": {
     "base_uri": "https://localhost:8080/"
    },
    "id": "4b0oVIC0JM_5",
    "outputId": "a095f642-f5bd-44af-d088-428cf1d72fa4"
   },
   "outputs": [],
   "source": [
    "import pandas as pd\n",
    "import numpy as np\n",
    "import matplotlib.pyplot as plt\n",
    "#from google.colab import drive\n",
    "from matplotlib import font_manager, rc\n",
    "from tqdm import tqdm\n",
    "import warnings\n",
    "import seaborn as sns\n",
    "import random\n",
    "\n",
    "#drive.mount('/content/drive')\n",
    "warnings.filterwarnings('ignore')\n",
    "%matplotlib inline"
   ]
  },
  {
   "cell_type": "code",
   "execution_count": 2,
   "metadata": {
    "id": "oi3zTuitiy-L"
   },
   "outputs": [],
   "source": [
    "cust_train = pd.read_csv('C:/Users/leeji/ML_Session(D&A)/Dataset/cust_train.csv')\n",
    "cust_test = pd.read_csv('C:/Users/leeji/ML_Session(D&A)/Dataset/sample_submission.csv')\n",
    "product_train = pd.read_csv('C:/Users/leeji/ML_Session(D&A)/Dataset/product_train.csv')\n",
    "product_test = pd.read_csv('C:/Users/leeji/ML_Session(D&A)/Dataset/product_test.csv')\n",
    "session_train = pd.read_csv('C:/Users/leeji/ML_Session(D&A)/Dataset/session_train.csv')\n",
    "session_test = pd.read_csv('C:/Users/leeji/ML_Session(D&A)/Dataset/session_test.csv')\n",
    "master = pd.read_csv('C:/Users/leeji/ML_Session(D&A)/Dataset/master.csv')"
   ]
  },
  {
   "cell_type": "code",
   "execution_count": 33,
   "metadata": {
    "id": "MWVkbsgjYUcK"
   },
   "outputs": [],
   "source": [
    "data = pd.read_csv('C:/Users/leeji/ML_Session(D&A)/Dataset/김이조 data 최종.csv', encoding = 'utf-8')\n",
    "data_te = pd.read_csv('C:/Users/leeji/ML_Session(D&A)/Dataset/김이조 data_te 최종.csv', encoding = 'utf-8')"
   ]
  },
  {
   "cell_type": "code",
   "execution_count": 4,
   "metadata": {
    "id": "LISzVP2zx83O"
   },
   "outputs": [],
   "source": [
    "label = cust_train.LABEL\n",
    "label = label.map({\"F20\" : 0, \"F30\" : 1, \"F40\" : 2, \"M20\" : 3, \"M30\" : 4, \"M40\" : 5})"
   ]
  },
  {
   "cell_type": "code",
   "execution_count": 5,
   "metadata": {
    "id": "WXcsciDPW6Bb"
   },
   "outputs": [],
   "source": [
    "train = pd.merge(product_train, session_train, on = ['CLNT_ID','SESS_ID'])\n",
    "train = pd.merge(train, master, on = 'PD_C')\n",
    "#train = pd.merge(train, data, on = 'CLNT_ID')"
   ]
  },
  {
   "cell_type": "code",
   "execution_count": 6,
   "metadata": {
    "id": "w3Jw9TWwW6hM"
   },
   "outputs": [],
   "source": [
    "test = pd.merge(product_test, session_test, on = ['CLNT_ID','SESS_ID'])\n",
    "test = pd.merge(test, master, on = 'PD_C')\n",
    "#test = pd.merge(test, data_te, on = 'CLNT_ID')"
   ]
  },
  {
   "cell_type": "markdown",
   "metadata": {
    "id": "QFd7_Um1SSfV"
   },
   "source": [
    "#TDM"
   ]
  },
  {
   "cell_type": "code",
   "execution_count": 7,
   "metadata": {
    "id": "H8mMU1rQ-DNU"
   },
   "outputs": [],
   "source": [
    "train['CLAC3_NM'] = train['CLAC3_NM'].apply(lambda x : x + \" \")\n",
    "test['CLAC3_NM'] = test['CLAC3_NM'].apply(lambda x : x + \" \")"
   ]
  },
  {
   "cell_type": "code",
   "execution_count": 8,
   "metadata": {
    "id": "bVLWQXQF9HIa"
   },
   "outputs": [],
   "source": [
    "sentences_train = train.groupby(\"CLNT_ID\")[\"CLAC3_NM\"].sum()\n",
    "sentences_test = train.groupby(\"CLNT_ID\")[\"CLAC3_NM\"].sum()"
   ]
  },
  {
   "cell_type": "code",
   "execution_count": 12,
   "metadata": {
    "id": "oyOMi17v-0Cw"
   },
   "outputs": [],
   "source": [
    "from sklearn.feature_extraction.text import CountVectorizer"
   ]
  },
  {
   "cell_type": "code",
   "execution_count": 13,
   "metadata": {
    "id": "C_5xyqrs9Hk1"
   },
   "outputs": [],
   "source": [
    "cv = CountVectorizer() # max_features를 통해 빈도수 기준 상위 n개의 단어만 선택 가능\n",
    "tdm = cv.fit_transform(sentences_train)"
   ]
  },
  {
   "cell_type": "code",
   "execution_count": 14,
   "metadata": {
    "colab": {
     "base_uri": "https://localhost:8080/"
    },
    "id": "X_AaY-i9Svgi",
    "outputId": "bb670583-03eb-400d-a97c-bf2814cfd17b"
   },
   "outputs": [
    {
     "data": {
      "text/plain": [
       "(263104, 1051)"
      ]
     },
     "execution_count": 14,
     "metadata": {},
     "output_type": "execute_result"
    }
   ],
   "source": [
    "tdm.shape"
   ]
  },
  {
   "cell_type": "code",
   "execution_count": 15,
   "metadata": {
    "colab": {
     "base_uri": "https://localhost:8080/"
    },
    "id": "lHG-NOuQS73z",
    "outputId": "96934524-00fa-43c7-8a60-ea09ed9af2eb"
   },
   "outputs": [
    {
     "data": {
      "text/plain": [
       "['홍삼절편', '홍삼정', '화장대', '화장솜', '환풍기', '후드', '훈련', '휴대폰', '흔들말', '힙색']"
      ]
     },
     "execution_count": 15,
     "metadata": {},
     "output_type": "execute_result"
    }
   ],
   "source": [
    "#단어 목록\n",
    "cv.get_feature_names()[-10:]"
   ]
  },
  {
   "cell_type": "code",
   "execution_count": 16,
   "metadata": {
    "colab": {
     "base_uri": "https://localhost:8080/"
    },
    "id": "48G1clE8_FmA",
    "outputId": "1893704c-8881-4c92-83c1-c217e7b9d9b9"
   },
   "outputs": [
    {
     "data": {
      "text/plain": [
       "2633517"
      ]
     },
     "execution_count": 16,
     "metadata": {},
     "output_type": "execute_result"
    }
   ],
   "source": [
    "#전체 단어 개수\n",
    "tdm.sum()"
   ]
  },
  {
   "cell_type": "code",
   "execution_count": 17,
   "metadata": {
    "colab": {
     "base_uri": "https://localhost:8080/"
    },
    "id": "cucgxVyp_kSE",
    "outputId": "cfd63ab9-aa44-4892-9605-b7b33713b677"
   },
   "outputs": [
    {
     "data": {
      "text/plain": [
       "matrix([[   68,   657, 28673, ...,   178,   301,    80]], dtype=int64)"
      ]
     },
     "execution_count": 17,
     "metadata": {},
     "output_type": "execute_result"
    }
   ],
   "source": [
    "#단어별 빈도수\n",
    "tdm.sum(axis = 0)"
   ]
  },
  {
   "cell_type": "code",
   "execution_count": 18,
   "metadata": {
    "colab": {
     "base_uri": "https://localhost:8080/",
     "height": 419
    },
    "id": "vGUCFYa-TpW2",
    "outputId": "e1255227-e94f-4105-8d50-d06177d90fdc"
   },
   "outputs": [
    {
     "data": {
      "text/html": [
       "<div>\n",
       "<style scoped>\n",
       "    .dataframe tbody tr th:only-of-type {\n",
       "        vertical-align: middle;\n",
       "    }\n",
       "\n",
       "    .dataframe tbody tr th {\n",
       "        vertical-align: top;\n",
       "    }\n",
       "\n",
       "    .dataframe thead th {\n",
       "        text-align: right;\n",
       "    }\n",
       "</style>\n",
       "<table border=\"1\" class=\"dataframe\">\n",
       "  <thead>\n",
       "    <tr style=\"text-align: right;\">\n",
       "      <th></th>\n",
       "      <th>단어</th>\n",
       "      <th>빈도</th>\n",
       "    </tr>\n",
       "  </thead>\n",
       "  <tbody>\n",
       "    <tr>\n",
       "      <th>194</th>\n",
       "      <td>남성티셔츠</td>\n",
       "      <td>124877</td>\n",
       "    </tr>\n",
       "    <tr>\n",
       "      <th>636</th>\n",
       "      <td>여성원피스</td>\n",
       "      <td>71922</td>\n",
       "    </tr>\n",
       "    <tr>\n",
       "      <th>657</th>\n",
       "      <td>여성티셔츠</td>\n",
       "      <td>61117</td>\n",
       "    </tr>\n",
       "    <tr>\n",
       "      <th>584</th>\n",
       "      <td>여성남방셔츠</td>\n",
       "      <td>54394</td>\n",
       "    </tr>\n",
       "    <tr>\n",
       "      <th>186</th>\n",
       "      <td>남성캐주얼바지</td>\n",
       "      <td>44622</td>\n",
       "    </tr>\n",
       "    <tr>\n",
       "      <th>...</th>\n",
       "      <td>...</td>\n",
       "      <td>...</td>\n",
       "    </tr>\n",
       "    <tr>\n",
       "      <th>51</th>\n",
       "      <td>과실주병</td>\n",
       "      <td>2</td>\n",
       "    </tr>\n",
       "    <tr>\n",
       "      <th>76</th>\n",
       "      <td>기타남성화</td>\n",
       "      <td>1</td>\n",
       "    </tr>\n",
       "    <tr>\n",
       "      <th>424</th>\n",
       "      <td>석류</td>\n",
       "      <td>1</td>\n",
       "    </tr>\n",
       "    <tr>\n",
       "      <th>216</th>\n",
       "      <td>냉동디저트</td>\n",
       "      <td>1</td>\n",
       "    </tr>\n",
       "    <tr>\n",
       "      <th>382</th>\n",
       "      <td>볶음반찬</td>\n",
       "      <td>1</td>\n",
       "    </tr>\n",
       "  </tbody>\n",
       "</table>\n",
       "<p>1051 rows × 2 columns</p>\n",
       "</div>"
      ],
      "text/plain": [
       "          단어      빈도\n",
       "194    남성티셔츠  124877\n",
       "636    여성원피스   71922\n",
       "657    여성티셔츠   61117\n",
       "584   여성남방셔츠   54394\n",
       "186  남성캐주얼바지   44622\n",
       "..       ...     ...\n",
       "51      과실주병       2\n",
       "76     기타남성화       1\n",
       "424       석류       1\n",
       "216    냉동디저트       1\n",
       "382     볶음반찬       1\n",
       "\n",
       "[1051 rows x 2 columns]"
      ]
     },
     "execution_count": 18,
     "metadata": {},
     "output_type": "execute_result"
    }
   ],
   "source": [
    "word_count=pd.DataFrame({\n",
    "    '단어': cv.get_feature_names(),\n",
    "    '빈도': tdm.sum(axis=0).flat                \n",
    "}); word_count.sort_values(by = \"빈도\", ascending = False)"
   ]
  },
  {
   "cell_type": "code",
   "execution_count": 19,
   "metadata": {
    "id": "2XvwjCHXTpfQ"
   },
   "outputs": [],
   "source": [
    "from lightgbm import LGBMClassifier\n",
    "from sklearn.model_selection import train_test_split, GridSearchCV, StratifiedKFold, cross_val_score\n",
    "from sklearn.metrics import log_loss"
   ]
  },
  {
   "cell_type": "code",
   "execution_count": null,
   "metadata": {
    "id": "6FN-Xj8vTpc3"
   },
   "outputs": [],
   "source": [
    "#kfold = StratifiedKFold(n_splits = 4, random_state = 317)\n",
    "#lgb = LGBMClassifier(random_state = 317)\n",
    "#cross_val_score(lgb, tdm, label, scoring = 'neg_log_loss')"
   ]
  },
  {
   "cell_type": "markdown",
   "metadata": {
    "id": "8s5goxxDWv6o"
   },
   "source": [
    "# TF-IDF"
   ]
  },
  {
   "cell_type": "code",
   "execution_count": 20,
   "metadata": {
    "id": "sCrjXF_yWvK8"
   },
   "outputs": [],
   "source": [
    "from sklearn.feature_extraction.text import TfidfVectorizer"
   ]
  },
  {
   "cell_type": "code",
   "execution_count": 21,
   "metadata": {
    "id": "hoeq1lpgVwOf"
   },
   "outputs": [],
   "source": [
    "tfidf = TfidfVectorizer() # max_features를 통해 빈도수 기준 상위 n개의 단어만 선택 가능\n",
    "tdm = tfidf.fit_transform(sentences_train)"
   ]
  },
  {
   "cell_type": "code",
   "execution_count": 22,
   "metadata": {
    "colab": {
     "base_uri": "https://localhost:8080/"
    },
    "id": "61DmrkuGVwtX",
    "outputId": "0e6d9ca9-ec56-45d5-ba86-a259f8095a43"
   },
   "outputs": [
    {
     "data": {
      "text/plain": [
       "(263104, 1051)"
      ]
     },
     "execution_count": 22,
     "metadata": {},
     "output_type": "execute_result"
    }
   ],
   "source": [
    "tdm.shape"
   ]
  },
  {
   "cell_type": "code",
   "execution_count": 23,
   "metadata": {
    "colab": {
     "base_uri": "https://localhost:8080/",
     "height": 419
    },
    "id": "6535nwnNVwze",
    "outputId": "eac7367b-3183-4a83-a14d-4e5038e79848"
   },
   "outputs": [
    {
     "data": {
      "text/html": [
       "<div>\n",
       "<style scoped>\n",
       "    .dataframe tbody tr th:only-of-type {\n",
       "        vertical-align: middle;\n",
       "    }\n",
       "\n",
       "    .dataframe tbody tr th {\n",
       "        vertical-align: top;\n",
       "    }\n",
       "\n",
       "    .dataframe thead th {\n",
       "        text-align: right;\n",
       "    }\n",
       "</style>\n",
       "<table border=\"1\" class=\"dataframe\">\n",
       "  <thead>\n",
       "    <tr style=\"text-align: right;\">\n",
       "      <th></th>\n",
       "      <th>단어</th>\n",
       "      <th>가중빈도</th>\n",
       "    </tr>\n",
       "  </thead>\n",
       "  <tbody>\n",
       "    <tr>\n",
       "      <th>194</th>\n",
       "      <td>남성티셔츠</td>\n",
       "      <td>16513.397020</td>\n",
       "    </tr>\n",
       "    <tr>\n",
       "      <th>636</th>\n",
       "      <td>여성원피스</td>\n",
       "      <td>9673.948469</td>\n",
       "    </tr>\n",
       "    <tr>\n",
       "      <th>657</th>\n",
       "      <td>여성티셔츠</td>\n",
       "      <td>7841.932994</td>\n",
       "    </tr>\n",
       "    <tr>\n",
       "      <th>584</th>\n",
       "      <td>여성남방셔츠</td>\n",
       "      <td>7512.575650</td>\n",
       "    </tr>\n",
       "    <tr>\n",
       "      <th>961</th>\n",
       "      <td>트레이닝화</td>\n",
       "      <td>7031.521906</td>\n",
       "    </tr>\n",
       "    <tr>\n",
       "      <th>...</th>\n",
       "      <td>...</td>\n",
       "      <td>...</td>\n",
       "    </tr>\n",
       "    <tr>\n",
       "      <th>411</th>\n",
       "      <td>산림욕기</td>\n",
       "      <td>0.751323</td>\n",
       "    </tr>\n",
       "    <tr>\n",
       "      <th>243</th>\n",
       "      <td>닭안심</td>\n",
       "      <td>0.498217</td>\n",
       "    </tr>\n",
       "    <tr>\n",
       "      <th>71</th>\n",
       "      <td>기타광학기기</td>\n",
       "      <td>0.437721</td>\n",
       "    </tr>\n",
       "    <tr>\n",
       "      <th>216</th>\n",
       "      <td>냉동디저트</td>\n",
       "      <td>0.207629</td>\n",
       "    </tr>\n",
       "    <tr>\n",
       "      <th>382</th>\n",
       "      <td>볶음반찬</td>\n",
       "      <td>0.148997</td>\n",
       "    </tr>\n",
       "  </tbody>\n",
       "</table>\n",
       "<p>1051 rows × 2 columns</p>\n",
       "</div>"
      ],
      "text/plain": [
       "         단어          가중빈도\n",
       "194   남성티셔츠  16513.397020\n",
       "636   여성원피스   9673.948469\n",
       "657   여성티셔츠   7841.932994\n",
       "584  여성남방셔츠   7512.575650\n",
       "961   트레이닝화   7031.521906\n",
       "..      ...           ...\n",
       "411    산림욕기      0.751323\n",
       "243     닭안심      0.498217\n",
       "71   기타광학기기      0.437721\n",
       "216   냉동디저트      0.207629\n",
       "382    볶음반찬      0.148997\n",
       "\n",
       "[1051 rows x 2 columns]"
      ]
     },
     "execution_count": 23,
     "metadata": {},
     "output_type": "execute_result"
    }
   ],
   "source": [
    "word_count=pd.DataFrame({\n",
    "    '단어': tfidf.get_feature_names(),\n",
    "    '가중빈도': tdm.sum(axis=0).flat\n",
    "}); word_count.sort_values(by = \"가중빈도\", ascending = False)"
   ]
  },
  {
   "cell_type": "code",
   "execution_count": null,
   "metadata": {
    "id": "UBxBoHIEVwyA"
   },
   "outputs": [],
   "source": [
    "#lgb = LGBMClassifier(random_state = 317)\n",
    "#cross_val_score(lgb, tdm, label, scoring = 'neg')"
   ]
  },
  {
   "cell_type": "markdown",
   "metadata": {
    "id": "3MapSy_aXhor"
   },
   "source": [
    "# Word2Vec"
   ]
  },
  {
   "cell_type": "markdown",
   "metadata": {
    "id": "iN9jE83UXkIQ"
   },
   "source": [
    "word2vec model의 input은 단어들의 list of list임\n",
    "\n",
    "참고 : https://radimrehurek.com/gensim/models/word2vec.html"
   ]
  },
  {
   "cell_type": "code",
   "execution_count": 9,
   "metadata": {
    "id": "OHeLwZ17VwnO"
   },
   "outputs": [],
   "source": [
    "corpus = ['I have a dream that one day this nation will rise up and live out the true meaning of its creed We hold these truths to be self evident that all men are created equal',\n",
    "          'I have a dream that one day on the red hills of Georgia the sons of former slaves and the sons of former slave owners will be able to sit down together at the table of brotherhood',\n",
    "          'I have a dream that one day even the state of Mississippi a state sweltering with the heat of injustice sweltering with the heat of oppression will be transformed into an oasis of freedom and justice',\n",
    "          'I have a dream that my four little children will one day live in a nation where they will not be judged by the color of their skin but by the content of their character',\n",
    "          'I have a dream today']"
   ]
  },
  {
   "cell_type": "code",
   "execution_count": 10,
   "metadata": {
    "id": "4ZJKiY5kYqVF"
   },
   "outputs": [],
   "source": [
    "w2v_input = [sentence.split() for sentence in corpus]"
   ]
  },
  {
   "cell_type": "code",
   "execution_count": 11,
   "metadata": {
    "colab": {
     "base_uri": "https://localhost:8080/"
    },
    "id": "XZNq1RGLYqb4",
    "outputId": "0a7be613-177a-457d-c065-fcb2c0c181a4"
   },
   "outputs": [
    {
     "data": {
      "text/plain": [
       "['I',\n",
       " 'have',\n",
       " 'a',\n",
       " 'dream',\n",
       " 'that',\n",
       " 'one',\n",
       " 'day',\n",
       " 'this',\n",
       " 'nation',\n",
       " 'will',\n",
       " 'rise',\n",
       " 'up',\n",
       " 'and',\n",
       " 'live',\n",
       " 'out',\n",
       " 'the',\n",
       " 'true',\n",
       " 'meaning',\n",
       " 'of',\n",
       " 'its',\n",
       " 'creed',\n",
       " 'We',\n",
       " 'hold',\n",
       " 'these',\n",
       " 'truths',\n",
       " 'to',\n",
       " 'be',\n",
       " 'self',\n",
       " 'evident',\n",
       " 'that',\n",
       " 'all',\n",
       " 'men',\n",
       " 'are',\n",
       " 'created',\n",
       " 'equal']"
      ]
     },
     "execution_count": 11,
     "metadata": {},
     "output_type": "execute_result"
    }
   ],
   "source": [
    "w2v_input[0]"
   ]
  },
  {
   "cell_type": "code",
   "execution_count": 12,
   "metadata": {
    "id": "0UtnUIGGYqaj"
   },
   "outputs": [],
   "source": [
    "from gensim.models import word2vec\n",
    "w2v = word2vec.Word2Vec(sentences = w2v_input, size = 2, window = 3, min_count = 1, sg = 1)  # sg = 1 : skip-gram, sg = 0 : cbow"
   ]
  },
  {
   "cell_type": "code",
   "execution_count": 13,
   "metadata": {
    "id": "Izeh7TQRaoUS"
   },
   "outputs": [],
   "source": [
    "wv = w2v.wv\n",
    "vocabs = wv.vocab.keys()\n",
    "word_vectors = [wv[v] for v in vocabs] "
   ]
  },
  {
   "cell_type": "code",
   "execution_count": 14,
   "metadata": {
    "colab": {
     "base_uri": "https://localhost:8080/"
    },
    "id": "l7MkudgSbBBD",
    "outputId": "55d6ef11-d95f-449e-da11-d4193364e27a"
   },
   "outputs": [
    {
     "data": {
      "text/plain": [
       "[array([-0.12413784, -0.01235597], dtype=float32),\n",
       " array([-0.08278859, -0.05260142], dtype=float32),\n",
       " array([ 0.23210362, -0.15811434], dtype=float32),\n",
       " array([ 0.13988474, -0.1589639 ], dtype=float32),\n",
       " array([-0.13378045, -0.17181993], dtype=float32),\n",
       " array([ 0.08770199, -0.01920976], dtype=float32),\n",
       " array([-0.12550712, -0.00913675], dtype=float32),\n",
       " array([ 0.02855793, -0.00150925], dtype=float32),\n",
       " array([-0.06510313, -0.14789099], dtype=float32),\n",
       " array([-0.20387319, -0.22306919], dtype=float32),\n",
       " array([0.08627716, 0.04623099], dtype=float32),\n",
       " array([0.07677064, 0.22279234], dtype=float32),\n",
       " array([-0.06575815, -0.11538727], dtype=float32),\n",
       " array([ 0.21902223, -0.18234982], dtype=float32),\n",
       " array([-0.02125044,  0.1623453 ], dtype=float32),\n",
       " array([ 0.11849468, -0.22777052], dtype=float32),\n",
       " array([-0.05075562, -0.10318302], dtype=float32),\n",
       " array([-0.19133207, -0.22568402], dtype=float32),\n",
       " array([-0.19664527, -0.19463693], dtype=float32),\n",
       " array([-0.20630834, -0.1197089 ], dtype=float32),\n",
       " array([-0.13796513,  0.24491608], dtype=float32),\n",
       " array([0.18451126, 0.11393701], dtype=float32),\n",
       " array([0.12752685, 0.18963553], dtype=float32),\n",
       " array([-0.07583901, -0.08858886], dtype=float32),\n",
       " array([-0.03603558, -0.00543498], dtype=float32),\n",
       " array([-0.18097508,  0.165654  ], dtype=float32),\n",
       " array([-0.12767458,  0.22365068], dtype=float32),\n",
       " array([ 0.24944401, -0.12487321], dtype=float32),\n",
       " array([-0.02321346, -0.21766788], dtype=float32),\n",
       " array([-0.16009344, -0.17720968], dtype=float32),\n",
       " array([-0.08831849, -0.20890324], dtype=float32),\n",
       " array([-0.2407471 ,  0.01738938], dtype=float32),\n",
       " array([-0.06681257, -0.10616449], dtype=float32),\n",
       " array([0.13519068, 0.1720513 ], dtype=float32),\n",
       " array([-0.13218254,  0.02607563], dtype=float32),\n",
       " array([ 0.00756963, -0.16269587], dtype=float32),\n",
       " array([ 0.15723526, -0.08624496], dtype=float32),\n",
       " array([-0.08352458,  0.23853043], dtype=float32),\n",
       " array([0.09602661, 0.2268152 ], dtype=float32),\n",
       " array([-0.2397498,  0.2293213], dtype=float32),\n",
       " array([0.15888397, 0.19382808], dtype=float32),\n",
       " array([ 0.00691825, -0.15068759], dtype=float32),\n",
       " array([ 0.15599349, -0.227728  ], dtype=float32),\n",
       " array([ 0.22310685, -0.25092265], dtype=float32),\n",
       " array([0.21641357, 0.13135141], dtype=float32),\n",
       " array([ 0.06258539, -0.15787414], dtype=float32),\n",
       " array([ 0.21055889, -0.1642298 ], dtype=float32),\n",
       " array([-0.12974358, -0.22291936], dtype=float32),\n",
       " array([-0.13619128, -0.01902187], dtype=float32),\n",
       " array([0.0103312, 0.1882447], dtype=float32),\n",
       " array([0.13651383, 0.15866542], dtype=float32),\n",
       " array([0.17085108, 0.12918317], dtype=float32),\n",
       " array([-0.01722124,  0.13929364], dtype=float32),\n",
       " array([0.20207453, 0.13219878], dtype=float32),\n",
       " array([-0.11455454, -0.09349246], dtype=float32),\n",
       " array([-0.04922162, -0.05024142], dtype=float32),\n",
       " array([-0.22400811,  0.15992072], dtype=float32),\n",
       " array([ 0.17243719, -0.12606417], dtype=float32),\n",
       " array([-0.06560158, -0.24287757], dtype=float32),\n",
       " array([-0.15912862,  0.18818878], dtype=float32),\n",
       " array([0.02224378, 0.14088419], dtype=float32),\n",
       " array([-0.129462  , -0.09618875], dtype=float32),\n",
       " array([0.17512783, 0.04684547], dtype=float32),\n",
       " array([ 0.06734525, -0.08271505], dtype=float32),\n",
       " array([-0.03987968,  0.09575738], dtype=float32),\n",
       " array([ 0.16726428, -0.00270734], dtype=float32),\n",
       " array([-0.09494312,  0.15775593], dtype=float32),\n",
       " array([-0.0056151 , -0.11402167], dtype=float32),\n",
       " array([ 0.14166166, -0.1911951 ], dtype=float32),\n",
       " array([0.19663574, 0.03996988], dtype=float32),\n",
       " array([-0.21934894,  0.11818381], dtype=float32),\n",
       " array([-0.09991736, -0.14274569], dtype=float32),\n",
       " array([-0.17616476, -0.16718142], dtype=float32),\n",
       " array([ 0.09334586, -0.05068014], dtype=float32),\n",
       " array([-0.16890648,  0.18781738], dtype=float32),\n",
       " array([0.12034522, 0.07169696], dtype=float32),\n",
       " array([ 0.04245629, -0.18290846], dtype=float32),\n",
       " array([-0.11673269, -0.09955775], dtype=float32),\n",
       " array([-0.24108581,  0.0626153 ], dtype=float32),\n",
       " array([0.21454312, 0.11173707], dtype=float32),\n",
       " array([ 0.02582755, -0.15636036], dtype=float32)]"
      ]
     },
     "execution_count": 14,
     "metadata": {},
     "output_type": "execute_result"
    }
   ],
   "source": [
    "word_vectors"
   ]
  },
  {
   "cell_type": "code",
   "execution_count": 15,
   "metadata": {
    "colab": {
     "base_uri": "https://localhost:8080/"
    },
    "id": "X8mjqOTpYqSE",
    "outputId": "f95f9312-6fd0-48b7-bb75-f73b6c12377e"
   },
   "outputs": [
    {
     "data": {
      "text/plain": [
       "array([ 0.13988474, -0.1589639 ], dtype=float32)"
      ]
     },
     "execution_count": 15,
     "metadata": {},
     "output_type": "execute_result"
    }
   ],
   "source": [
    "wv['dream']"
   ]
  },
  {
   "cell_type": "code",
   "execution_count": 16,
   "metadata": {
    "colab": {
     "base_uri": "https://localhost:8080/"
    },
    "id": "yuR3TEoEZ4vH",
    "outputId": "160a7230-e362-42df-ad3d-b4bf19d973cf"
   },
   "outputs": [
    {
     "data": {
      "text/plain": [
       "[('nation', 0.9990985989570618),\n",
       " ('men', 0.99836665391922),\n",
       " ('and', 0.9981498122215271),\n",
       " ('at', 0.9975546598434448),\n",
       " ('created', 0.9945384860038757)]"
      ]
     },
     "execution_count": 16,
     "metadata": {},
     "output_type": "execute_result"
    }
   ],
   "source": [
    "w2v.most_similar(positive = \"true\", topn = 5)"
   ]
  },
  {
   "cell_type": "code",
   "execution_count": 17,
   "metadata": {
    "colab": {
     "base_uri": "https://localhost:8080/"
    },
    "id": "0SczIYBxZ4sK",
    "outputId": "0163f7b5-aaba-49c1-ec7a-b15f9cdd2e63"
   },
   "outputs": [
    {
     "data": {
      "text/plain": [
       "[('one', 0.9952586889266968),\n",
       " ('self', 0.9886081218719482),\n",
       " ('by', 0.9830552935600281),\n",
       " ('hills', 0.9822580218315125),\n",
       " ('this', 0.9663265347480774)]"
      ]
     },
     "execution_count": 17,
     "metadata": {},
     "output_type": "execute_result"
    }
   ],
   "source": [
    "w2v.most_similar(positive = [\"freedom\", \"justice\"], topn = 5)"
   ]
  },
  {
   "cell_type": "code",
   "execution_count": 18,
   "metadata": {
    "id": "iAhHr9UtaXZw"
   },
   "outputs": [],
   "source": [
    "def plot_graph(vocabs, x, y):\n",
    "  plt.figure(figsize = (15, 10))\n",
    "  plt.scatter(x, y, marker = 'o')\n",
    "  for i, v in enumerate(vocabs):\n",
    "    plt.annotate(v, xy = (x[i], y[i]))"
   ]
  },
  {
   "cell_type": "code",
   "execution_count": 19,
   "metadata": {
    "id": "E4JO4qU1aXWo"
   },
   "outputs": [],
   "source": [
    "x = np.array(word_vectors)[:, 0]\n",
    "y = np.array(word_vectors)[:, 1]"
   ]
  },
  {
   "cell_type": "code",
   "execution_count": 20,
   "metadata": {
    "colab": {
     "base_uri": "https://localhost:8080/",
     "height": 592
    },
    "id": "R2IWNhQHaXUW",
    "outputId": "666cfcce-1bef-48be-fd55-f7599124c0e5"
   },
   "outputs": [
    {
     "data": {
      "image/png": "[encoded data removed]",
      "text/plain": [
       "<Figure size 1080x720 with 1 Axes>"
      ]
     },
     "metadata": {
      "needs_background": "light"
     },
     "output_type": "display_data"
    }
   ],
   "source": [
    "plot_graph(vocabs, x, y)"
   ]
  },
  {
   "cell_type": "code",
   "execution_count": 21,
   "metadata": {
    "id": "Lt29W51FW6mi"
   },
   "outputs": [],
   "source": [
    "train_data = list(train.groupby('CLNT_ID')['CLAC3_NM'].unique())\n",
    "test_data = list(test.groupby('CLNT_ID')['CLAC3_NM'].unique())"
   ]
  },
  {
   "cell_type": "code",
   "execution_count": 22,
   "metadata": {
    "colab": {
     "base_uri": "https://localhost:8080/"
    },
    "id": "OPmOMzTVd2NO",
    "outputId": "c8c33095-5145-4ddb-859f-f454c780e605"
   },
   "outputs": [
    {
     "data": {
      "text/plain": [
       "array(['기타요가/필라테스소품 ', '거실수예소품 ', '블랜더 '], dtype=object)"
      ]
     },
     "execution_count": 22,
     "metadata": {},
     "output_type": "execute_result"
    }
   ],
   "source": [
    "train_data[0]"
   ]
  },
  {
   "cell_type": "code",
   "execution_count": 39,
   "metadata": {
    "colab": {
     "base_uri": "https://localhost:8080/"
    },
    "id": "xoPQ2jLKAl5J",
    "outputId": "6a140e3a-64c0-437e-a683-2bc0b50db608"
   },
   "outputs": [],
   "source": [
    "#from google.colab import drive\n",
    "#drive.mount('/content/drive')"
   ]
  },
  {
   "cell_type": "code",
   "execution_count": 23,
   "metadata": {
    "id": "QobCSyzXW6et"
   },
   "outputs": [],
   "source": [
    "def oversample(x, n):\n",
    "  lst = []\n",
    "  for i in x:\n",
    "    tmp = []\n",
    "    for j in range(n):\n",
    "      random.shuffle(i)\n",
    "      tmp += list(i)\n",
    "    lst.append(tmp)\n",
    "  return lst"
   ]
  },
  {
   "cell_type": "code",
   "execution_count": 24,
   "metadata": {
    "id": "T0IZBSa1W5-5"
   },
   "outputs": [],
   "source": [
    "w2v_input = oversample(train_data, 5)"
   ]
  },
  {
   "cell_type": "code",
   "execution_count": 25,
   "metadata": {
    "colab": {
     "base_uri": "https://localhost:8080/"
    },
    "id": "Y6XMek5geBGM",
    "outputId": "b25dbc90-d8d5-4407-ffc1-0ac02077e401"
   },
   "outputs": [
    {
     "data": {
      "text/plain": [
       "['거실수예소품 ',\n",
       " '기타요가/필라테스소품 ',\n",
       " '블랜더 ',\n",
       " '블랜더 ',\n",
       " '기타요가/필라테스소품 ',\n",
       " '거실수예소품 ',\n",
       " '거실수예소품 ',\n",
       " '기타요가/필라테스소품 ',\n",
       " '블랜더 ',\n",
       " '블랜더 ',\n",
       " '기타요가/필라테스소품 ',\n",
       " '거실수예소품 ',\n",
       " '기타요가/필라테스소품 ',\n",
       " '블랜더 ',\n",
       " '거실수예소품 ']"
      ]
     },
     "execution_count": 25,
     "metadata": {},
     "output_type": "execute_result"
    }
   ],
   "source": [
    "w2v_input[0]"
   ]
  },
  {
   "cell_type": "code",
   "execution_count": 26,
   "metadata": {
    "id": "QMcExlGxujsk"
   },
   "outputs": [],
   "source": [
    "w2v = word2vec.Word2Vec(sentences = w2v_input, size = 30, window = 5, min_count = 1, sg = 1)"
   ]
  },
  {
   "cell_type": "code",
   "execution_count": 27,
   "metadata": {
    "colab": {
     "base_uri": "https://localhost:8080/"
    },
    "id": "3nVogK7MvELH",
    "outputId": "a4f5aa35-2172-4d7a-ff8a-348dad9f0513"
   },
   "outputs": [
    {
     "name": "stderr",
     "output_type": "stream",
     "text": [
      "100%|███████████████████████████████████████████████████████████████████████| 263104/263104 [00:08<00:00, 31454.05it/s]\n"
     ]
    }
   ],
   "source": [
    "train_mean_vector = []\n",
    "for words in tqdm(train_data):\n",
    "  tmp = np.zeros(30)\n",
    "  cnt = 0\n",
    "  for word in words:\n",
    "    try:\n",
    "      tmp += w2v[word]\n",
    "      cnt += 1\n",
    "    except:\n",
    "      pass\n",
    "  tmp /= cnt\n",
    "  train_mean_vector.append(tmp)\n",
    "train_mean_vector = np.array(train_mean_vector)"
   ]
  },
  {
   "cell_type": "code",
   "execution_count": 28,
   "metadata": {
    "colab": {
     "base_uri": "https://localhost:8080/"
    },
    "id": "ZA89S4GtwQdB",
    "outputId": "1ce217cb-3d60-4bb7-eb9e-4aa50c7480b5"
   },
   "outputs": [
    {
     "name": "stderr",
     "output_type": "stream",
     "text": [
      "100%|███████████████████████████████████████████████████████████████████████| 112760/112760 [00:03<00:00, 31542.47it/s]\n"
     ]
    }
   ],
   "source": [
    "test_mean_vector = []\n",
    "for words in tqdm(test_data):\n",
    "  tmp = np.zeros(30)\n",
    "  cnt = 0\n",
    "  for word in words:\n",
    "    try:\n",
    "      tmp += w2v[word]\n",
    "      cnt += 1\n",
    "    except:\n",
    "      pass\n",
    "  tmp /= cnt\n",
    "  test_mean_vector.append(tmp)\n",
    "test_mean_vector = np.array(test_mean_vector)"
   ]
  },
  {
   "cell_type": "code",
   "execution_count": 34,
   "metadata": {
    "colab": {
     "base_uri": "https://localhost:8080/",
     "height": 439
    },
    "id": "64DaEsh-dsTX",
    "outputId": "c6e72df6-18ce-4b92-bbb0-205ec0ff57f5"
   },
   "outputs": [
    {
     "data": {
      "text/html": [
       "<div>\n",
       "<style scoped>\n",
       "    .dataframe tbody tr th:only-of-type {\n",
       "        vertical-align: middle;\n",
       "    }\n",
       "\n",
       "    .dataframe tbody tr th {\n",
       "        vertical-align: top;\n",
       "    }\n",
       "\n",
       "    .dataframe thead th {\n",
       "        text-align: right;\n",
       "    }\n",
       "</style>\n",
       "<table border=\"1\" class=\"dataframe\">\n",
       "  <thead>\n",
       "    <tr style=\"text-align: right;\">\n",
       "      <th></th>\n",
       "      <th>CLNT_ID</th>\n",
       "      <th>0</th>\n",
       "      <th>1</th>\n",
       "      <th>2</th>\n",
       "      <th>3</th>\n",
       "      <th>4</th>\n",
       "      <th>5</th>\n",
       "      <th>6</th>\n",
       "      <th>7</th>\n",
       "      <th>8</th>\n",
       "      <th>...</th>\n",
       "      <th>20</th>\n",
       "      <th>21</th>\n",
       "      <th>22</th>\n",
       "      <th>23</th>\n",
       "      <th>24</th>\n",
       "      <th>25</th>\n",
       "      <th>26</th>\n",
       "      <th>27</th>\n",
       "      <th>28</th>\n",
       "      <th>29</th>\n",
       "    </tr>\n",
       "  </thead>\n",
       "  <tbody>\n",
       "    <tr>\n",
       "      <th>0</th>\n",
       "      <td>0</td>\n",
       "      <td>-0.104231</td>\n",
       "      <td>-0.307691</td>\n",
       "      <td>-0.325131</td>\n",
       "      <td>-0.295482</td>\n",
       "      <td>0.149259</td>\n",
       "      <td>-0.308996</td>\n",
       "      <td>0.363759</td>\n",
       "      <td>0.328972</td>\n",
       "      <td>0.198383</td>\n",
       "      <td>...</td>\n",
       "      <td>0.087582</td>\n",
       "      <td>-0.088024</td>\n",
       "      <td>-0.159992</td>\n",
       "      <td>0.258658</td>\n",
       "      <td>0.440188</td>\n",
       "      <td>-0.165662</td>\n",
       "      <td>0.319151</td>\n",
       "      <td>0.253657</td>\n",
       "      <td>-0.015248</td>\n",
       "      <td>0.042252</td>\n",
       "    </tr>\n",
       "    <tr>\n",
       "      <th>1</th>\n",
       "      <td>1</td>\n",
       "      <td>-0.355491</td>\n",
       "      <td>-0.442936</td>\n",
       "      <td>0.053072</td>\n",
       "      <td>-0.056084</td>\n",
       "      <td>0.301866</td>\n",
       "      <td>-0.044792</td>\n",
       "      <td>0.148642</td>\n",
       "      <td>-0.369166</td>\n",
       "      <td>-0.070209</td>\n",
       "      <td>...</td>\n",
       "      <td>-0.038260</td>\n",
       "      <td>-0.170425</td>\n",
       "      <td>0.044154</td>\n",
       "      <td>0.108660</td>\n",
       "      <td>-0.168045</td>\n",
       "      <td>0.035758</td>\n",
       "      <td>0.299824</td>\n",
       "      <td>0.249283</td>\n",
       "      <td>-0.228840</td>\n",
       "      <td>-0.161608</td>\n",
       "    </tr>\n",
       "    <tr>\n",
       "      <th>2</th>\n",
       "      <td>2</td>\n",
       "      <td>-0.661490</td>\n",
       "      <td>-0.602716</td>\n",
       "      <td>-0.142504</td>\n",
       "      <td>-0.294435</td>\n",
       "      <td>0.303006</td>\n",
       "      <td>0.363046</td>\n",
       "      <td>0.374131</td>\n",
       "      <td>-0.470263</td>\n",
       "      <td>-0.595346</td>\n",
       "      <td>...</td>\n",
       "      <td>0.079379</td>\n",
       "      <td>-0.378129</td>\n",
       "      <td>0.244942</td>\n",
       "      <td>0.239091</td>\n",
       "      <td>-0.074294</td>\n",
       "      <td>-0.250940</td>\n",
       "      <td>0.195867</td>\n",
       "      <td>0.528235</td>\n",
       "      <td>0.039386</td>\n",
       "      <td>0.060661</td>\n",
       "    </tr>\n",
       "    <tr>\n",
       "      <th>3</th>\n",
       "      <td>3</td>\n",
       "      <td>-0.709240</td>\n",
       "      <td>-0.411581</td>\n",
       "      <td>-0.449419</td>\n",
       "      <td>0.076079</td>\n",
       "      <td>0.481682</td>\n",
       "      <td>0.196769</td>\n",
       "      <td>0.046090</td>\n",
       "      <td>0.060719</td>\n",
       "      <td>-0.210701</td>\n",
       "      <td>...</td>\n",
       "      <td>0.711208</td>\n",
       "      <td>-0.018229</td>\n",
       "      <td>-0.647786</td>\n",
       "      <td>-0.025195</td>\n",
       "      <td>-0.309270</td>\n",
       "      <td>0.138736</td>\n",
       "      <td>0.120840</td>\n",
       "      <td>0.053097</td>\n",
       "      <td>0.343193</td>\n",
       "      <td>0.167369</td>\n",
       "    </tr>\n",
       "    <tr>\n",
       "      <th>4</th>\n",
       "      <td>4</td>\n",
       "      <td>-0.474848</td>\n",
       "      <td>-0.470432</td>\n",
       "      <td>-0.172139</td>\n",
       "      <td>-0.112168</td>\n",
       "      <td>0.339516</td>\n",
       "      <td>-0.043442</td>\n",
       "      <td>0.039945</td>\n",
       "      <td>-0.139169</td>\n",
       "      <td>-0.066232</td>\n",
       "      <td>...</td>\n",
       "      <td>0.270052</td>\n",
       "      <td>-0.354628</td>\n",
       "      <td>-0.134732</td>\n",
       "      <td>-0.095096</td>\n",
       "      <td>-0.114295</td>\n",
       "      <td>-0.027225</td>\n",
       "      <td>0.407822</td>\n",
       "      <td>0.104000</td>\n",
       "      <td>0.023027</td>\n",
       "      <td>-0.116049</td>\n",
       "    </tr>\n",
       "    <tr>\n",
       "      <th>...</th>\n",
       "      <td>...</td>\n",
       "      <td>...</td>\n",
       "      <td>...</td>\n",
       "      <td>...</td>\n",
       "      <td>...</td>\n",
       "      <td>...</td>\n",
       "      <td>...</td>\n",
       "      <td>...</td>\n",
       "      <td>...</td>\n",
       "      <td>...</td>\n",
       "      <td>...</td>\n",
       "      <td>...</td>\n",
       "      <td>...</td>\n",
       "      <td>...</td>\n",
       "      <td>...</td>\n",
       "      <td>...</td>\n",
       "      <td>...</td>\n",
       "      <td>...</td>\n",
       "      <td>...</td>\n",
       "      <td>...</td>\n",
       "      <td>...</td>\n",
       "    </tr>\n",
       "    <tr>\n",
       "      <th>263099</th>\n",
       "      <td>263099</td>\n",
       "      <td>-0.516724</td>\n",
       "      <td>-0.632216</td>\n",
       "      <td>0.015858</td>\n",
       "      <td>-0.246969</td>\n",
       "      <td>0.441177</td>\n",
       "      <td>-0.225542</td>\n",
       "      <td>-0.146643</td>\n",
       "      <td>-0.169569</td>\n",
       "      <td>0.284160</td>\n",
       "      <td>...</td>\n",
       "      <td>0.240569</td>\n",
       "      <td>-0.345196</td>\n",
       "      <td>0.188761</td>\n",
       "      <td>-0.075105</td>\n",
       "      <td>-0.294823</td>\n",
       "      <td>-0.166732</td>\n",
       "      <td>0.484126</td>\n",
       "      <td>0.306658</td>\n",
       "      <td>-0.001813</td>\n",
       "      <td>-0.117206</td>\n",
       "    </tr>\n",
       "    <tr>\n",
       "      <th>263100</th>\n",
       "      <td>263100</td>\n",
       "      <td>-0.529808</td>\n",
       "      <td>-0.468030</td>\n",
       "      <td>-0.055274</td>\n",
       "      <td>-0.112656</td>\n",
       "      <td>0.408200</td>\n",
       "      <td>-0.093268</td>\n",
       "      <td>-0.028910</td>\n",
       "      <td>-0.211623</td>\n",
       "      <td>0.003809</td>\n",
       "      <td>...</td>\n",
       "      <td>0.226394</td>\n",
       "      <td>-0.416946</td>\n",
       "      <td>-0.087349</td>\n",
       "      <td>-0.042010</td>\n",
       "      <td>0.115425</td>\n",
       "      <td>-0.186954</td>\n",
       "      <td>0.414579</td>\n",
       "      <td>0.240150</td>\n",
       "      <td>0.039714</td>\n",
       "      <td>-0.288996</td>\n",
       "    </tr>\n",
       "    <tr>\n",
       "      <th>263101</th>\n",
       "      <td>263101</td>\n",
       "      <td>-0.465265</td>\n",
       "      <td>-0.427703</td>\n",
       "      <td>-0.107391</td>\n",
       "      <td>0.187763</td>\n",
       "      <td>0.006851</td>\n",
       "      <td>0.001314</td>\n",
       "      <td>0.591835</td>\n",
       "      <td>-0.158683</td>\n",
       "      <td>0.028870</td>\n",
       "      <td>...</td>\n",
       "      <td>0.438008</td>\n",
       "      <td>-0.308551</td>\n",
       "      <td>0.054166</td>\n",
       "      <td>-0.006384</td>\n",
       "      <td>0.205758</td>\n",
       "      <td>-0.286142</td>\n",
       "      <td>0.257977</td>\n",
       "      <td>0.211593</td>\n",
       "      <td>0.087610</td>\n",
       "      <td>-0.069652</td>\n",
       "    </tr>\n",
       "    <tr>\n",
       "      <th>263102</th>\n",
       "      <td>263102</td>\n",
       "      <td>-0.437655</td>\n",
       "      <td>0.375295</td>\n",
       "      <td>-0.402381</td>\n",
       "      <td>0.341987</td>\n",
       "      <td>-0.057620</td>\n",
       "      <td>-0.064854</td>\n",
       "      <td>-0.014663</td>\n",
       "      <td>0.428013</td>\n",
       "      <td>0.034861</td>\n",
       "      <td>...</td>\n",
       "      <td>0.416461</td>\n",
       "      <td>-0.340243</td>\n",
       "      <td>0.578091</td>\n",
       "      <td>0.349753</td>\n",
       "      <td>0.010684</td>\n",
       "      <td>-0.076173</td>\n",
       "      <td>0.154955</td>\n",
       "      <td>0.005353</td>\n",
       "      <td>0.079855</td>\n",
       "      <td>-0.504506</td>\n",
       "    </tr>\n",
       "    <tr>\n",
       "      <th>263103</th>\n",
       "      <td>263103</td>\n",
       "      <td>-0.385810</td>\n",
       "      <td>-0.368603</td>\n",
       "      <td>-0.160702</td>\n",
       "      <td>-0.011832</td>\n",
       "      <td>0.339431</td>\n",
       "      <td>0.024171</td>\n",
       "      <td>0.338706</td>\n",
       "      <td>-0.044404</td>\n",
       "      <td>-0.014642</td>\n",
       "      <td>...</td>\n",
       "      <td>0.142965</td>\n",
       "      <td>-0.268482</td>\n",
       "      <td>0.173763</td>\n",
       "      <td>0.044556</td>\n",
       "      <td>0.269227</td>\n",
       "      <td>-0.422877</td>\n",
       "      <td>0.212165</td>\n",
       "      <td>0.325544</td>\n",
       "      <td>-0.233215</td>\n",
       "      <td>-0.103179</td>\n",
       "    </tr>\n",
       "  </tbody>\n",
       "</table>\n",
       "<p>263104 rows × 31 columns</p>\n",
       "</div>"
      ],
      "text/plain": [
       "        CLNT_ID         0         1         2         3         4         5  \\\n",
       "0             0 -0.104231 -0.307691 -0.325131 -0.295482  0.149259 -0.308996   \n",
       "1             1 -0.355491 -0.442936  0.053072 -0.056084  0.301866 -0.044792   \n",
       "2             2 -0.661490 -0.602716 -0.142504 -0.294435  0.303006  0.363046   \n",
       "3             3 -0.709240 -0.411581 -0.449419  0.076079  0.481682  0.196769   \n",
       "4             4 -0.474848 -0.470432 -0.172139 -0.112168  0.339516 -0.043442   \n",
       "...         ...       ...       ...       ...       ...       ...       ...   \n",
       "263099   263099 -0.516724 -0.632216  0.015858 -0.246969  0.441177 -0.225542   \n",
       "263100   263100 -0.529808 -0.468030 -0.055274 -0.112656  0.408200 -0.093268   \n",
       "263101   263101 -0.465265 -0.427703 -0.107391  0.187763  0.006851  0.001314   \n",
       "263102   263102 -0.437655  0.375295 -0.402381  0.341987 -0.057620 -0.064854   \n",
       "263103   263103 -0.385810 -0.368603 -0.160702 -0.011832  0.339431  0.024171   \n",
       "\n",
       "               6         7         8  ...        20        21        22  \\\n",
       "0       0.363759  0.328972  0.198383  ...  0.087582 -0.088024 -0.159992   \n",
       "1       0.148642 -0.369166 -0.070209  ... -0.038260 -0.170425  0.044154   \n",
       "2       0.374131 -0.470263 -0.595346  ...  0.079379 -0.378129  0.244942   \n",
       "3       0.046090  0.060719 -0.210701  ...  0.711208 -0.018229 -0.647786   \n",
       "4       0.039945 -0.139169 -0.066232  ...  0.270052 -0.354628 -0.134732   \n",
       "...          ...       ...       ...  ...       ...       ...       ...   \n",
       "263099 -0.146643 -0.169569  0.284160  ...  0.240569 -0.345196  0.188761   \n",
       "263100 -0.028910 -0.211623  0.003809  ...  0.226394 -0.416946 -0.087349   \n",
       "263101  0.591835 -0.158683  0.028870  ...  0.438008 -0.308551  0.054166   \n",
       "263102 -0.014663  0.428013  0.034861  ...  0.416461 -0.340243  0.578091   \n",
       "263103  0.338706 -0.044404 -0.014642  ...  0.142965 -0.268482  0.173763   \n",
       "\n",
       "              23        24        25        26        27        28        29  \n",
       "0       0.258658  0.440188 -0.165662  0.319151  0.253657 -0.015248  0.042252  \n",
       "1       0.108660 -0.168045  0.035758  0.299824  0.249283 -0.228840 -0.161608  \n",
       "2       0.239091 -0.074294 -0.250940  0.195867  0.528235  0.039386  0.060661  \n",
       "3      -0.025195 -0.309270  0.138736  0.120840  0.053097  0.343193  0.167369  \n",
       "4      -0.095096 -0.114295 -0.027225  0.407822  0.104000  0.023027 -0.116049  \n",
       "...          ...       ...       ...       ...       ...       ...       ...  \n",
       "263099 -0.075105 -0.294823 -0.166732  0.484126  0.306658 -0.001813 -0.117206  \n",
       "263100 -0.042010  0.115425 -0.186954  0.414579  0.240150  0.039714 -0.288996  \n",
       "263101 -0.006384  0.205758 -0.286142  0.257977  0.211593  0.087610 -0.069652  \n",
       "263102  0.349753  0.010684 -0.076173  0.154955  0.005353  0.079855 -0.504506  \n",
       "263103  0.044556  0.269227 -0.422877  0.212165  0.325544 -0.233215 -0.103179  \n",
       "\n",
       "[263104 rows x 31 columns]"
      ]
     },
     "execution_count": 34,
     "metadata": {},
     "output_type": "execute_result"
    }
   ],
   "source": [
    "train_mean_vector = pd.DataFrame(train_mean_vector).reset_index()\n",
    "train_mean_vector.rename(columns = {'index' : 'CLNT_ID'}, inplace = True);train_mean_vector"
   ]
  },
  {
   "cell_type": "code",
   "execution_count": 35,
   "metadata": {
    "colab": {
     "base_uri": "https://localhost:8080/",
     "height": 439
    },
    "id": "UwDLL_msV_wI",
    "outputId": "66941d1f-d532-46e8-ff6f-a6e95c159d8d"
   },
   "outputs": [
    {
     "data": {
      "text/html": [
       "<div>\n",
       "<style scoped>\n",
       "    .dataframe tbody tr th:only-of-type {\n",
       "        vertical-align: middle;\n",
       "    }\n",
       "\n",
       "    .dataframe tbody tr th {\n",
       "        vertical-align: top;\n",
       "    }\n",
       "\n",
       "    .dataframe thead th {\n",
       "        text-align: right;\n",
       "    }\n",
       "</style>\n",
       "<table border=\"1\" class=\"dataframe\">\n",
       "  <thead>\n",
       "    <tr style=\"text-align: right;\">\n",
       "      <th></th>\n",
       "      <th>CLNT_ID</th>\n",
       "      <th>0</th>\n",
       "      <th>1</th>\n",
       "      <th>2</th>\n",
       "      <th>3</th>\n",
       "      <th>4</th>\n",
       "      <th>5</th>\n",
       "      <th>6</th>\n",
       "      <th>7</th>\n",
       "      <th>8</th>\n",
       "      <th>...</th>\n",
       "      <th>20</th>\n",
       "      <th>21</th>\n",
       "      <th>22</th>\n",
       "      <th>23</th>\n",
       "      <th>24</th>\n",
       "      <th>25</th>\n",
       "      <th>26</th>\n",
       "      <th>27</th>\n",
       "      <th>28</th>\n",
       "      <th>29</th>\n",
       "    </tr>\n",
       "  </thead>\n",
       "  <tbody>\n",
       "    <tr>\n",
       "      <th>0</th>\n",
       "      <td>0</td>\n",
       "      <td>-0.175768</td>\n",
       "      <td>-0.235880</td>\n",
       "      <td>-0.244112</td>\n",
       "      <td>-0.257655</td>\n",
       "      <td>0.385833</td>\n",
       "      <td>-0.060835</td>\n",
       "      <td>0.246069</td>\n",
       "      <td>-0.587408</td>\n",
       "      <td>0.059130</td>\n",
       "      <td>...</td>\n",
       "      <td>-0.228854</td>\n",
       "      <td>0.098512</td>\n",
       "      <td>0.544907</td>\n",
       "      <td>0.096479</td>\n",
       "      <td>-0.150461</td>\n",
       "      <td>-0.026280</td>\n",
       "      <td>0.247753</td>\n",
       "      <td>-0.007145</td>\n",
       "      <td>0.220467</td>\n",
       "      <td>-0.339662</td>\n",
       "    </tr>\n",
       "    <tr>\n",
       "      <th>1</th>\n",
       "      <td>1</td>\n",
       "      <td>-0.213071</td>\n",
       "      <td>-0.451825</td>\n",
       "      <td>0.010422</td>\n",
       "      <td>-0.309698</td>\n",
       "      <td>0.404226</td>\n",
       "      <td>-0.020480</td>\n",
       "      <td>0.244386</td>\n",
       "      <td>-0.324116</td>\n",
       "      <td>0.007574</td>\n",
       "      <td>...</td>\n",
       "      <td>-0.282747</td>\n",
       "      <td>-0.148571</td>\n",
       "      <td>-0.357923</td>\n",
       "      <td>0.000750</td>\n",
       "      <td>-0.462207</td>\n",
       "      <td>-0.127292</td>\n",
       "      <td>0.144982</td>\n",
       "      <td>0.293351</td>\n",
       "      <td>0.051583</td>\n",
       "      <td>-0.321015</td>\n",
       "    </tr>\n",
       "    <tr>\n",
       "      <th>2</th>\n",
       "      <td>2</td>\n",
       "      <td>-0.406215</td>\n",
       "      <td>-0.647750</td>\n",
       "      <td>0.421914</td>\n",
       "      <td>0.300044</td>\n",
       "      <td>0.516290</td>\n",
       "      <td>0.150654</td>\n",
       "      <td>0.158917</td>\n",
       "      <td>-0.719012</td>\n",
       "      <td>-0.140396</td>\n",
       "      <td>...</td>\n",
       "      <td>0.237847</td>\n",
       "      <td>-0.077386</td>\n",
       "      <td>0.152279</td>\n",
       "      <td>-0.105256</td>\n",
       "      <td>0.171160</td>\n",
       "      <td>0.090897</td>\n",
       "      <td>0.709079</td>\n",
       "      <td>0.414894</td>\n",
       "      <td>-0.643780</td>\n",
       "      <td>-0.132290</td>\n",
       "    </tr>\n",
       "    <tr>\n",
       "      <th>3</th>\n",
       "      <td>3</td>\n",
       "      <td>-0.507793</td>\n",
       "      <td>-0.835580</td>\n",
       "      <td>-0.167034</td>\n",
       "      <td>-0.017492</td>\n",
       "      <td>0.504386</td>\n",
       "      <td>0.231848</td>\n",
       "      <td>0.360239</td>\n",
       "      <td>-0.475797</td>\n",
       "      <td>-0.351207</td>\n",
       "      <td>...</td>\n",
       "      <td>0.298664</td>\n",
       "      <td>-0.561690</td>\n",
       "      <td>0.171463</td>\n",
       "      <td>0.012840</td>\n",
       "      <td>-0.093677</td>\n",
       "      <td>-0.516391</td>\n",
       "      <td>0.286688</td>\n",
       "      <td>0.613834</td>\n",
       "      <td>-0.079550</td>\n",
       "      <td>0.379215</td>\n",
       "    </tr>\n",
       "    <tr>\n",
       "      <th>4</th>\n",
       "      <td>4</td>\n",
       "      <td>-0.128678</td>\n",
       "      <td>-0.481901</td>\n",
       "      <td>-0.151767</td>\n",
       "      <td>-0.306383</td>\n",
       "      <td>0.485800</td>\n",
       "      <td>0.095479</td>\n",
       "      <td>0.199239</td>\n",
       "      <td>-0.366877</td>\n",
       "      <td>-0.059386</td>\n",
       "      <td>...</td>\n",
       "      <td>0.090178</td>\n",
       "      <td>-0.337345</td>\n",
       "      <td>-0.154565</td>\n",
       "      <td>0.085362</td>\n",
       "      <td>-0.366527</td>\n",
       "      <td>-0.025986</td>\n",
       "      <td>0.194777</td>\n",
       "      <td>0.221387</td>\n",
       "      <td>0.008957</td>\n",
       "      <td>-0.184206</td>\n",
       "    </tr>\n",
       "    <tr>\n",
       "      <th>...</th>\n",
       "      <td>...</td>\n",
       "      <td>...</td>\n",
       "      <td>...</td>\n",
       "      <td>...</td>\n",
       "      <td>...</td>\n",
       "      <td>...</td>\n",
       "      <td>...</td>\n",
       "      <td>...</td>\n",
       "      <td>...</td>\n",
       "      <td>...</td>\n",
       "      <td>...</td>\n",
       "      <td>...</td>\n",
       "      <td>...</td>\n",
       "      <td>...</td>\n",
       "      <td>...</td>\n",
       "      <td>...</td>\n",
       "      <td>...</td>\n",
       "      <td>...</td>\n",
       "      <td>...</td>\n",
       "      <td>...</td>\n",
       "      <td>...</td>\n",
       "    </tr>\n",
       "    <tr>\n",
       "      <th>112755</th>\n",
       "      <td>112755</td>\n",
       "      <td>-0.597254</td>\n",
       "      <td>-0.684982</td>\n",
       "      <td>-0.269449</td>\n",
       "      <td>-0.183370</td>\n",
       "      <td>-0.157534</td>\n",
       "      <td>0.101635</td>\n",
       "      <td>0.319182</td>\n",
       "      <td>-0.340214</td>\n",
       "      <td>0.563602</td>\n",
       "      <td>...</td>\n",
       "      <td>-0.319455</td>\n",
       "      <td>-0.564637</td>\n",
       "      <td>0.241941</td>\n",
       "      <td>0.294874</td>\n",
       "      <td>-0.188439</td>\n",
       "      <td>0.548680</td>\n",
       "      <td>-0.073295</td>\n",
       "      <td>0.302453</td>\n",
       "      <td>-0.359784</td>\n",
       "      <td>-0.350235</td>\n",
       "    </tr>\n",
       "    <tr>\n",
       "      <th>112756</th>\n",
       "      <td>112756</td>\n",
       "      <td>-0.588889</td>\n",
       "      <td>0.028017</td>\n",
       "      <td>-0.087350</td>\n",
       "      <td>-0.235589</td>\n",
       "      <td>0.295692</td>\n",
       "      <td>-0.452788</td>\n",
       "      <td>0.192350</td>\n",
       "      <td>-0.175828</td>\n",
       "      <td>-0.013725</td>\n",
       "      <td>...</td>\n",
       "      <td>0.185338</td>\n",
       "      <td>-0.314757</td>\n",
       "      <td>-0.117435</td>\n",
       "      <td>-0.088020</td>\n",
       "      <td>-0.096710</td>\n",
       "      <td>-0.344094</td>\n",
       "      <td>0.620857</td>\n",
       "      <td>0.250045</td>\n",
       "      <td>-0.097768</td>\n",
       "      <td>-0.380722</td>\n",
       "    </tr>\n",
       "    <tr>\n",
       "      <th>112757</th>\n",
       "      <td>112757</td>\n",
       "      <td>-0.708448</td>\n",
       "      <td>-0.288184</td>\n",
       "      <td>0.002658</td>\n",
       "      <td>0.008601</td>\n",
       "      <td>0.087198</td>\n",
       "      <td>0.023573</td>\n",
       "      <td>0.131697</td>\n",
       "      <td>-0.253483</td>\n",
       "      <td>-0.167552</td>\n",
       "      <td>...</td>\n",
       "      <td>0.205661</td>\n",
       "      <td>-0.398189</td>\n",
       "      <td>-0.112928</td>\n",
       "      <td>0.136424</td>\n",
       "      <td>0.216325</td>\n",
       "      <td>-0.353010</td>\n",
       "      <td>0.425047</td>\n",
       "      <td>0.402037</td>\n",
       "      <td>0.058810</td>\n",
       "      <td>-0.247008</td>\n",
       "    </tr>\n",
       "    <tr>\n",
       "      <th>112758</th>\n",
       "      <td>112758</td>\n",
       "      <td>-0.372067</td>\n",
       "      <td>-1.026817</td>\n",
       "      <td>0.156390</td>\n",
       "      <td>0.161125</td>\n",
       "      <td>0.602365</td>\n",
       "      <td>-0.034540</td>\n",
       "      <td>-0.263244</td>\n",
       "      <td>-0.057729</td>\n",
       "      <td>-0.053883</td>\n",
       "      <td>...</td>\n",
       "      <td>0.697624</td>\n",
       "      <td>-0.647891</td>\n",
       "      <td>-0.029672</td>\n",
       "      <td>0.624218</td>\n",
       "      <td>-0.175953</td>\n",
       "      <td>0.118835</td>\n",
       "      <td>0.230283</td>\n",
       "      <td>0.051373</td>\n",
       "      <td>-0.489322</td>\n",
       "      <td>-0.226539</td>\n",
       "    </tr>\n",
       "    <tr>\n",
       "      <th>112759</th>\n",
       "      <td>112759</td>\n",
       "      <td>-0.626325</td>\n",
       "      <td>-0.232304</td>\n",
       "      <td>0.133754</td>\n",
       "      <td>0.142532</td>\n",
       "      <td>0.325263</td>\n",
       "      <td>-0.398479</td>\n",
       "      <td>0.177746</td>\n",
       "      <td>-0.372825</td>\n",
       "      <td>-0.045285</td>\n",
       "      <td>...</td>\n",
       "      <td>0.540749</td>\n",
       "      <td>0.067526</td>\n",
       "      <td>-0.133406</td>\n",
       "      <td>0.299391</td>\n",
       "      <td>0.291049</td>\n",
       "      <td>-0.193463</td>\n",
       "      <td>0.219144</td>\n",
       "      <td>0.031050</td>\n",
       "      <td>0.382904</td>\n",
       "      <td>-0.549396</td>\n",
       "    </tr>\n",
       "  </tbody>\n",
       "</table>\n",
       "<p>112760 rows × 31 columns</p>\n",
       "</div>"
      ],
      "text/plain": [
       "        CLNT_ID         0         1         2         3         4         5  \\\n",
       "0             0 -0.175768 -0.235880 -0.244112 -0.257655  0.385833 -0.060835   \n",
       "1             1 -0.213071 -0.451825  0.010422 -0.309698  0.404226 -0.020480   \n",
       "2             2 -0.406215 -0.647750  0.421914  0.300044  0.516290  0.150654   \n",
       "3             3 -0.507793 -0.835580 -0.167034 -0.017492  0.504386  0.231848   \n",
       "4             4 -0.128678 -0.481901 -0.151767 -0.306383  0.485800  0.095479   \n",
       "...         ...       ...       ...       ...       ...       ...       ...   \n",
       "112755   112755 -0.597254 -0.684982 -0.269449 -0.183370 -0.157534  0.101635   \n",
       "112756   112756 -0.588889  0.028017 -0.087350 -0.235589  0.295692 -0.452788   \n",
       "112757   112757 -0.708448 -0.288184  0.002658  0.008601  0.087198  0.023573   \n",
       "112758   112758 -0.372067 -1.026817  0.156390  0.161125  0.602365 -0.034540   \n",
       "112759   112759 -0.626325 -0.232304  0.133754  0.142532  0.325263 -0.398479   \n",
       "\n",
       "               6         7         8  ...        20        21        22  \\\n",
       "0       0.246069 -0.587408  0.059130  ... -0.228854  0.098512  0.544907   \n",
       "1       0.244386 -0.324116  0.007574  ... -0.282747 -0.148571 -0.357923   \n",
       "2       0.158917 -0.719012 -0.140396  ...  0.237847 -0.077386  0.152279   \n",
       "3       0.360239 -0.475797 -0.351207  ...  0.298664 -0.561690  0.171463   \n",
       "4       0.199239 -0.366877 -0.059386  ...  0.090178 -0.337345 -0.154565   \n",
       "...          ...       ...       ...  ...       ...       ...       ...   \n",
       "112755  0.319182 -0.340214  0.563602  ... -0.319455 -0.564637  0.241941   \n",
       "112756  0.192350 -0.175828 -0.013725  ...  0.185338 -0.314757 -0.117435   \n",
       "112757  0.131697 -0.253483 -0.167552  ...  0.205661 -0.398189 -0.112928   \n",
       "112758 -0.263244 -0.057729 -0.053883  ...  0.697624 -0.647891 -0.029672   \n",
       "112759  0.177746 -0.372825 -0.045285  ...  0.540749  0.067526 -0.133406   \n",
       "\n",
       "              23        24        25        26        27        28        29  \n",
       "0       0.096479 -0.150461 -0.026280  0.247753 -0.007145  0.220467 -0.339662  \n",
       "1       0.000750 -0.462207 -0.127292  0.144982  0.293351  0.051583 -0.321015  \n",
       "2      -0.105256  0.171160  0.090897  0.709079  0.414894 -0.643780 -0.132290  \n",
       "3       0.012840 -0.093677 -0.516391  0.286688  0.613834 -0.079550  0.379215  \n",
       "4       0.085362 -0.366527 -0.025986  0.194777  0.221387  0.008957 -0.184206  \n",
       "...          ...       ...       ...       ...       ...       ...       ...  \n",
       "112755  0.294874 -0.188439  0.548680 -0.073295  0.302453 -0.359784 -0.350235  \n",
       "112756 -0.088020 -0.096710 -0.344094  0.620857  0.250045 -0.097768 -0.380722  \n",
       "112757  0.136424  0.216325 -0.353010  0.425047  0.402037  0.058810 -0.247008  \n",
       "112758  0.624218 -0.175953  0.118835  0.230283  0.051373 -0.489322 -0.226539  \n",
       "112759  0.299391  0.291049 -0.193463  0.219144  0.031050  0.382904 -0.549396  \n",
       "\n",
       "[112760 rows x 31 columns]"
      ]
     },
     "execution_count": 35,
     "metadata": {},
     "output_type": "execute_result"
    }
   ],
   "source": [
    "test_mean_vector = pd.DataFrame(test_mean_vector).reset_index()\n",
    "test_mean_vector.rename(columns = {'index' : 'CLNT_ID'}, inplace = True);test_mean_vector"
   ]
  },
  {
   "cell_type": "code",
   "execution_count": null,
   "metadata": {
    "id": "crxg8U_Qh8-K"
   },
   "outputs": [],
   "source": [
    "#from sklearn.feature_selection import SelectFromModel\n",
    "#smf = SelectFromModel(lgb, threshold='mean')\n",
    "#smf.fit(train_mean_vector2, label)\n",
    "#X_new1 = smf.transform(train_mean_vector2)\n",
    "#X_te_new1 = smf.transform(test_mean_vector2)"
   ]
  },
  {
   "cell_type": "code",
   "execution_count": null,
   "metadata": {
    "id": "xExWPDtZofm2"
   },
   "outputs": [],
   "source": [
    "#X_new1 = pd.DataFrame(X_new1).reset_index()"
   ]
  },
  {
   "cell_type": "code",
   "execution_count": null,
   "metadata": {
    "colab": {
     "base_uri": "https://localhost:8080/"
    },
    "id": "JOGtbOtzx9Dd",
    "outputId": "d6508181-8ce0-4e22-efc6-9fb49154eae6"
   },
   "outputs": [
    {
     "data": {
      "text/plain": [
       "array([[0.00000e+00, 8.65000e+04, 4.32500e+04, ..., 6.30000e+01,\n",
       "        6.30000e+01, 6.30000e+01],\n",
       "       [1.00000e+00, 1.27600e+06, 7.97500e+04, ..., 9.20000e+01,\n",
       "        1.10000e+02, 1.26000e+02],\n",
       "       [2.00000e+00, 5.60000e+05, 5.09090e+04, ..., 7.60000e+01,\n",
       "        2.34000e+02, 2.50000e+02],\n",
       "       ...,\n",
       "       [2.63101e+05, 1.35600e+05, 3.39000e+04, ..., 7.30000e+01,\n",
       "        7.30000e+01, 7.30000e+01],\n",
       "       [2.63102e+05, 5.94000e+04, 3.96000e+03, ..., 1.55000e+02,\n",
       "        1.55000e+02, 1.55000e+02],\n",
       "       [2.63103e+05, 2.96120e+06, 6.16920e+04, ..., 2.60000e+01,\n",
       "        2.03000e+02, 3.88000e+02]])"
      ]
     },
     "execution_count": 83,
     "metadata": {
      "tags": []
     },
     "output_type": "execute_result"
    }
   ],
   "source": [
    "#X_new1"
   ]
  },
  {
   "cell_type": "code",
   "execution_count": 36,
   "metadata": {
    "colab": {
     "base_uri": "https://localhost:8080/"
    },
    "id": "GzQE-ofA2mNd",
    "outputId": "412476e5-4e75-4169-a889-e840f95920b6"
   },
   "outputs": [
    {
     "data": {
      "text/plain": [
       "(263104, 227)"
      ]
     },
     "execution_count": 36,
     "metadata": {},
     "output_type": "execute_result"
    }
   ],
   "source": [
    "train_mean_vector1 = pd.merge(data, train_mean_vector, on='CLNT_ID'); train_mean_vector1.shape"
   ]
  },
  {
   "cell_type": "code",
   "execution_count": 37,
   "metadata": {
    "id": "vXAfVIVxLwmj"
   },
   "outputs": [],
   "source": [
    "test_mean_vector['CLNT_ID'] = test_mean_vector['CLNT_ID']+263104\n",
    "test_mean_vector1 = pd.merge(data_te, test_mean_vector, on='CLNT_ID')"
   ]
  },
  {
   "cell_type": "code",
   "execution_count": 39,
   "metadata": {
    "colab": {
     "base_uri": "https://localhost:8080/",
     "height": 575
    },
    "id": "mjv47g7LMvR6",
    "outputId": "589372a5-1d61-46d6-d4fa-2790361ffdcd"
   },
   "outputs": [
    {
     "data": {
      "text/plain": [
       "(112760, 227)"
      ]
     },
     "execution_count": 39,
     "metadata": {},
     "output_type": "execute_result"
    }
   ],
   "source": [
    "test_mean_vector1.shape"
   ]
  },
  {
   "cell_type": "code",
   "execution_count": 42,
   "metadata": {
    "id": "AU17hkTGME4k"
   },
   "outputs": [],
   "source": [
    "train_mean_vector2 = train_mean_vector1.drop('CLNT_ID', axis=1, inplace=False)\n",
    "test_mean_vector2 = test_mean_vector1.drop('CLNT_ID', axis=1, inplace=False)"
   ]
  },
  {
   "cell_type": "code",
   "execution_count": 45,
   "metadata": {},
   "outputs": [],
   "source": [
    "train_mean_vector2.to_csv('C:/Users/leeji/ML_Session(D&A)/ML_Session_9주차/data_w2v.csv',index=False)\n",
    "test_mean_vector2.to_csv('C:/Users/leeji/ML_Session(D&A)/ML_Session_9주차/data_te_w2v.csv',index=False)"
   ]
  },
  {
   "cell_type": "code",
   "execution_count": 29,
   "metadata": {
    "id": "YAcQfZBVxd5z"
   },
   "outputs": [],
   "source": [
    "from lightgbm import LGBMClassifier\n",
    "from sklearn.linear_model import LogisticRegression\n",
    "from sklearn.model_selection import train_test_split, GridSearchCV, StratifiedKFold\n",
    "from sklearn.metrics import log_loss"
   ]
  },
  {
   "cell_type": "code",
   "execution_count": 30,
   "metadata": {
    "id": "seURmNqtzWI3"
   },
   "outputs": [],
   "source": [
    "kfold = StratifiedKFold(n_splits = 4, random_state = 317)"
   ]
  },
  {
   "cell_type": "code",
   "execution_count": 31,
   "metadata": {
    "id": "9tPEkP1PfaVb"
   },
   "outputs": [],
   "source": [
    "lgb = LGBMClassifier()\n",
    "lr = LogisticRegression()"
   ]
  },
  {
   "cell_type": "code",
   "execution_count": 43,
   "metadata": {
    "colab": {
     "base_uri": "https://localhost:8080/"
    },
    "id": "yOauN_Yo4LsX",
    "outputId": "4b154189-064c-438d-daea-9e2ae18471ee"
   },
   "outputs": [
    {
     "name": "stdout",
     "output_type": "stream",
     "text": [
      "교차 검증별 정확도: [-1.196  -1.2007 -1.2015 -1.2006 -1.2026]\n",
      "평균 검증 정확도: -1.2003\n"
     ]
    }
   ],
   "source": [
    "# cross_val_score()로 교차 검증 정확도 확인\n",
    "from sklearn.model_selection import cross_val_score\n",
    "\n",
    "scores = cross_val_score(lgb, train_mean_vector2, label, scoring='neg_log_loss', cv=5)\n",
    "print('교차 검증별 정확도:', np.round(scores, 4))\n",
    "print('평균 검증 정확도:', np.round(np.mean(scores), 4))"
   ]
  },
  {
   "cell_type": "code",
   "execution_count": null,
   "metadata": {
    "colab": {
     "base_uri": "https://localhost:8080/"
    },
    "id": "llhAper-V4IL",
    "outputId": "d7ccedf7-833d-4b20-9b72-ab66ca5270a0"
   },
   "outputs": [
    {
     "name": "stdout",
     "output_type": "stream",
     "text": [
      "교차 검증별 정확도: [-1.1996 -1.2036 -1.2037 -1.2024 -1.2052]\n",
      "평균 검증 정확도: -1.2029\n"
     ]
    }
   ],
   "source": [
    "scores = cross_val_score(lgb, X_new1, label, scoring='neg_log_loss', cv=5)\n",
    "print('교차 검증별 정확도:', np.round(scores, 4))\n",
    "print('평균 검증 정확도:', np.round(np.mean(scores), 4))"
   ]
  },
  {
   "cell_type": "code",
   "execution_count": 44,
   "metadata": {
    "colab": {
     "base_uri": "https://localhost:8080/"
    },
    "id": "6J5sPqR92dOP",
    "outputId": "290f720d-4ec7-4e2c-df64-addc682a9758"
   },
   "outputs": [
    {
     "name": "stdout",
     "output_type": "stream",
     "text": [
      "Fitting 4 folds for each of 9 candidates, totalling 36 fits\n"
     ]
    },
    {
     "name": "stderr",
     "output_type": "stream",
     "text": [
      "[Parallel(n_jobs=1)]: Using backend SequentialBackend with 1 concurrent workers.\n"
     ]
    },
    {
     "name": "stdout",
     "output_type": "stream",
     "text": [
      "[LightGBM] [Warning] Accuracy may be bad since you didn't set num_leaves and 2^max_depth > num_leaves\n",
      "[LightGBM] [Warning] Accuracy may be bad since you didn't set num_leaves and 2^max_depth > num_leaves\n",
      "[LightGBM] [Warning] Accuracy may be bad since you didn't set num_leaves and 2^max_depth > num_leaves\n",
      "[LightGBM] [Warning] Accuracy may be bad since you didn't set num_leaves and 2^max_depth > num_leaves\n",
      "[LightGBM] [Warning] Accuracy may be bad since you didn't set num_leaves and 2^max_depth > num_leaves\n",
      "[LightGBM] [Warning] Accuracy may be bad since you didn't set num_leaves and 2^max_depth > num_leaves\n",
      "[LightGBM] [Warning] Accuracy may be bad since you didn't set num_leaves and 2^max_depth > num_leaves\n",
      "[LightGBM] [Warning] Accuracy may be bad since you didn't set num_leaves and 2^max_depth > num_leaves\n",
      "[LightGBM] [Warning] Accuracy may be bad since you didn't set num_leaves and 2^max_depth > num_leaves\n",
      "[LightGBM] [Warning] Accuracy may be bad since you didn't set num_leaves and 2^max_depth > num_leaves\n",
      "[LightGBM] [Warning] Accuracy may be bad since you didn't set num_leaves and 2^max_depth > num_leaves\n",
      "[LightGBM] [Warning] Accuracy may be bad since you didn't set num_leaves and 2^max_depth > num_leaves\n",
      "[LightGBM] [Warning] Accuracy may be bad since you didn't set num_leaves and 2^max_depth > num_leaves\n",
      "[LightGBM] [Warning] Accuracy may be bad since you didn't set num_leaves and 2^max_depth > num_leaves\n",
      "[LightGBM] [Warning] Accuracy may be bad since you didn't set num_leaves and 2^max_depth > num_leaves\n",
      "[LightGBM] [Warning] Accuracy may be bad since you didn't set num_leaves and 2^max_depth > num_leaves\n",
      "[LightGBM] [Warning] Accuracy may be bad since you didn't set num_leaves and 2^max_depth > num_leaves\n",
      "[LightGBM] [Warning] Accuracy may be bad since you didn't set num_leaves and 2^max_depth > num_leaves\n",
      "[LightGBM] [Warning] Accuracy may be bad since you didn't set num_leaves and 2^max_depth > num_leaves\n",
      "[LightGBM] [Warning] Accuracy may be bad since you didn't set num_leaves and 2^max_depth > num_leaves\n",
      "[LightGBM] [Warning] Accuracy may be bad since you didn't set num_leaves and 2^max_depth > num_leaves\n"
     ]
    },
    {
     "ename": "KeyboardInterrupt",
     "evalue": "",
     "output_type": "error",
     "traceback": [
      "\u001b[1;31m---------------------------------------------------------------------------\u001b[0m",
      "\u001b[1;31mKeyboardInterrupt\u001b[0m                         Traceback (most recent call last)",
      "\u001b[1;32m<ipython-input-44-5abb0acd7b3c>\u001b[0m in \u001b[0;36m<module>\u001b[1;34m\u001b[0m\n\u001b[0;32m      4\u001b[0m }\n\u001b[0;32m      5\u001b[0m \u001b[0mgrid\u001b[0m \u001b[1;33m=\u001b[0m \u001b[0mGridSearchCV\u001b[0m\u001b[1;33m(\u001b[0m\u001b[0mlgb\u001b[0m\u001b[1;33m,\u001b[0m \u001b[0mlgb_params\u001b[0m\u001b[1;33m,\u001b[0m \u001b[0mscoring\u001b[0m \u001b[1;33m=\u001b[0m \u001b[1;34m'neg_log_loss'\u001b[0m\u001b[1;33m,\u001b[0m \u001b[0mcv\u001b[0m \u001b[1;33m=\u001b[0m \u001b[0mkfold\u001b[0m\u001b[1;33m,\u001b[0m \u001b[0mverbose\u001b[0m \u001b[1;33m=\u001b[0m \u001b[1;36m1\u001b[0m\u001b[1;33m)\u001b[0m\u001b[1;33m\u001b[0m\u001b[1;33m\u001b[0m\u001b[0m\n\u001b[1;32m----> 6\u001b[1;33m \u001b[0mgrid\u001b[0m\u001b[1;33m.\u001b[0m\u001b[0mfit\u001b[0m\u001b[1;33m(\u001b[0m\u001b[0mtrain_mean_vector2\u001b[0m\u001b[1;33m,\u001b[0m \u001b[0mlabel\u001b[0m\u001b[1;33m)\u001b[0m\u001b[1;33m\u001b[0m\u001b[1;33m\u001b[0m\u001b[0m\n\u001b[0m\u001b[0;32m      7\u001b[0m \u001b[0mprint\u001b[0m\u001b[1;33m(\u001b[0m\u001b[0mgrid\u001b[0m\u001b[1;33m.\u001b[0m\u001b[0mbest_estimator_\u001b[0m\u001b[1;33m)\u001b[0m\u001b[1;33m\u001b[0m\u001b[1;33m\u001b[0m\u001b[0m\n\u001b[0;32m      8\u001b[0m \u001b[0mprint\u001b[0m\u001b[1;33m(\u001b[0m\u001b[0mgrid\u001b[0m\u001b[1;33m.\u001b[0m\u001b[0mbest_score_\u001b[0m\u001b[1;33m)\u001b[0m\u001b[1;33m\u001b[0m\u001b[1;33m\u001b[0m\u001b[0m\n",
      "\u001b[1;32m~\\Anaconda3\\lib\\site-packages\\sklearn\\utils\\validation.py\u001b[0m in \u001b[0;36minner_f\u001b[1;34m(*args, **kwargs)\u001b[0m\n\u001b[0;32m     71\u001b[0m                           FutureWarning)\n\u001b[0;32m     72\u001b[0m         \u001b[0mkwargs\u001b[0m\u001b[1;33m.\u001b[0m\u001b[0mupdate\u001b[0m\u001b[1;33m(\u001b[0m\u001b[1;33m{\u001b[0m\u001b[0mk\u001b[0m\u001b[1;33m:\u001b[0m \u001b[0marg\u001b[0m \u001b[1;32mfor\u001b[0m \u001b[0mk\u001b[0m\u001b[1;33m,\u001b[0m \u001b[0marg\u001b[0m \u001b[1;32min\u001b[0m \u001b[0mzip\u001b[0m\u001b[1;33m(\u001b[0m\u001b[0msig\u001b[0m\u001b[1;33m.\u001b[0m\u001b[0mparameters\u001b[0m\u001b[1;33m,\u001b[0m \u001b[0margs\u001b[0m\u001b[1;33m)\u001b[0m\u001b[1;33m}\u001b[0m\u001b[1;33m)\u001b[0m\u001b[1;33m\u001b[0m\u001b[1;33m\u001b[0m\u001b[0m\n\u001b[1;32m---> 73\u001b[1;33m         \u001b[1;32mreturn\u001b[0m \u001b[0mf\u001b[0m\u001b[1;33m(\u001b[0m\u001b[1;33m**\u001b[0m\u001b[0mkwargs\u001b[0m\u001b[1;33m)\u001b[0m\u001b[1;33m\u001b[0m\u001b[1;33m\u001b[0m\u001b[0m\n\u001b[0m\u001b[0;32m     74\u001b[0m     \u001b[1;32mreturn\u001b[0m \u001b[0minner_f\u001b[0m\u001b[1;33m\u001b[0m\u001b[1;33m\u001b[0m\u001b[0m\n\u001b[0;32m     75\u001b[0m \u001b[1;33m\u001b[0m\u001b[0m\n",
      "\u001b[1;32m~\\Anaconda3\\lib\\site-packages\\sklearn\\model_selection\\_search.py\u001b[0m in \u001b[0;36mfit\u001b[1;34m(self, X, y, groups, **fit_params)\u001b[0m\n\u001b[0;32m    734\u001b[0m                 \u001b[1;32mreturn\u001b[0m \u001b[0mresults\u001b[0m\u001b[1;33m\u001b[0m\u001b[1;33m\u001b[0m\u001b[0m\n\u001b[0;32m    735\u001b[0m \u001b[1;33m\u001b[0m\u001b[0m\n\u001b[1;32m--> 736\u001b[1;33m             \u001b[0mself\u001b[0m\u001b[1;33m.\u001b[0m\u001b[0m_run_search\u001b[0m\u001b[1;33m(\u001b[0m\u001b[0mevaluate_candidates\u001b[0m\u001b[1;33m)\u001b[0m\u001b[1;33m\u001b[0m\u001b[1;33m\u001b[0m\u001b[0m\n\u001b[0m\u001b[0;32m    737\u001b[0m \u001b[1;33m\u001b[0m\u001b[0m\n\u001b[0;32m    738\u001b[0m         \u001b[1;31m# For multi-metric evaluation, store the best_index_, best_params_ and\u001b[0m\u001b[1;33m\u001b[0m\u001b[1;33m\u001b[0m\u001b[1;33m\u001b[0m\u001b[0m\n",
      "\u001b[1;32m~\\Anaconda3\\lib\\site-packages\\sklearn\\model_selection\\_search.py\u001b[0m in \u001b[0;36m_run_search\u001b[1;34m(self, evaluate_candidates)\u001b[0m\n\u001b[0;32m   1186\u001b[0m     \u001b[1;32mdef\u001b[0m \u001b[0m_run_search\u001b[0m\u001b[1;33m(\u001b[0m\u001b[0mself\u001b[0m\u001b[1;33m,\u001b[0m \u001b[0mevaluate_candidates\u001b[0m\u001b[1;33m)\u001b[0m\u001b[1;33m:\u001b[0m\u001b[1;33m\u001b[0m\u001b[1;33m\u001b[0m\u001b[0m\n\u001b[0;32m   1187\u001b[0m         \u001b[1;34m\"\"\"Search all candidates in param_grid\"\"\"\u001b[0m\u001b[1;33m\u001b[0m\u001b[1;33m\u001b[0m\u001b[0m\n\u001b[1;32m-> 1188\u001b[1;33m         \u001b[0mevaluate_candidates\u001b[0m\u001b[1;33m(\u001b[0m\u001b[0mParameterGrid\u001b[0m\u001b[1;33m(\u001b[0m\u001b[0mself\u001b[0m\u001b[1;33m.\u001b[0m\u001b[0mparam_grid\u001b[0m\u001b[1;33m)\u001b[0m\u001b[1;33m)\u001b[0m\u001b[1;33m\u001b[0m\u001b[1;33m\u001b[0m\u001b[0m\n\u001b[0m\u001b[0;32m   1189\u001b[0m \u001b[1;33m\u001b[0m\u001b[0m\n\u001b[0;32m   1190\u001b[0m \u001b[1;33m\u001b[0m\u001b[0m\n",
      "\u001b[1;32m~\\Anaconda3\\lib\\site-packages\\sklearn\\model_selection\\_search.py\u001b[0m in \u001b[0;36mevaluate_candidates\u001b[1;34m(candidate_params)\u001b[0m\n\u001b[0;32m    706\u001b[0m                               n_splits, n_candidates, n_candidates * n_splits))\n\u001b[0;32m    707\u001b[0m \u001b[1;33m\u001b[0m\u001b[0m\n\u001b[1;32m--> 708\u001b[1;33m                 out = parallel(delayed(_fit_and_score)(clone(base_estimator),\n\u001b[0m\u001b[0;32m    709\u001b[0m                                                        \u001b[0mX\u001b[0m\u001b[1;33m,\u001b[0m \u001b[0my\u001b[0m\u001b[1;33m,\u001b[0m\u001b[1;33m\u001b[0m\u001b[1;33m\u001b[0m\u001b[0m\n\u001b[0;32m    710\u001b[0m                                                        \u001b[0mtrain\u001b[0m\u001b[1;33m=\u001b[0m\u001b[0mtrain\u001b[0m\u001b[1;33m,\u001b[0m \u001b[0mtest\u001b[0m\u001b[1;33m=\u001b[0m\u001b[0mtest\u001b[0m\u001b[1;33m,\u001b[0m\u001b[1;33m\u001b[0m\u001b[1;33m\u001b[0m\u001b[0m\n",
      "\u001b[1;32m~\\Anaconda3\\lib\\site-packages\\joblib\\parallel.py\u001b[0m in \u001b[0;36m__call__\u001b[1;34m(self, iterable)\u001b[0m\n\u001b[0;32m   1030\u001b[0m                 \u001b[0mself\u001b[0m\u001b[1;33m.\u001b[0m\u001b[0m_iterating\u001b[0m \u001b[1;33m=\u001b[0m \u001b[0mself\u001b[0m\u001b[1;33m.\u001b[0m\u001b[0m_original_iterator\u001b[0m \u001b[1;32mis\u001b[0m \u001b[1;32mnot\u001b[0m \u001b[1;32mNone\u001b[0m\u001b[1;33m\u001b[0m\u001b[1;33m\u001b[0m\u001b[0m\n\u001b[0;32m   1031\u001b[0m \u001b[1;33m\u001b[0m\u001b[0m\n\u001b[1;32m-> 1032\u001b[1;33m             \u001b[1;32mwhile\u001b[0m \u001b[0mself\u001b[0m\u001b[1;33m.\u001b[0m\u001b[0mdispatch_one_batch\u001b[0m\u001b[1;33m(\u001b[0m\u001b[0miterator\u001b[0m\u001b[1;33m)\u001b[0m\u001b[1;33m:\u001b[0m\u001b[1;33m\u001b[0m\u001b[1;33m\u001b[0m\u001b[0m\n\u001b[0m\u001b[0;32m   1033\u001b[0m                 \u001b[1;32mpass\u001b[0m\u001b[1;33m\u001b[0m\u001b[1;33m\u001b[0m\u001b[0m\n\u001b[0;32m   1034\u001b[0m \u001b[1;33m\u001b[0m\u001b[0m\n",
      "\u001b[1;32m~\\Anaconda3\\lib\\site-packages\\joblib\\parallel.py\u001b[0m in \u001b[0;36mdispatch_one_batch\u001b[1;34m(self, iterator)\u001b[0m\n\u001b[0;32m    845\u001b[0m                 \u001b[1;32mreturn\u001b[0m \u001b[1;32mFalse\u001b[0m\u001b[1;33m\u001b[0m\u001b[1;33m\u001b[0m\u001b[0m\n\u001b[0;32m    846\u001b[0m             \u001b[1;32melse\u001b[0m\u001b[1;33m:\u001b[0m\u001b[1;33m\u001b[0m\u001b[1;33m\u001b[0m\u001b[0m\n\u001b[1;32m--> 847\u001b[1;33m                 \u001b[0mself\u001b[0m\u001b[1;33m.\u001b[0m\u001b[0m_dispatch\u001b[0m\u001b[1;33m(\u001b[0m\u001b[0mtasks\u001b[0m\u001b[1;33m)\u001b[0m\u001b[1;33m\u001b[0m\u001b[1;33m\u001b[0m\u001b[0m\n\u001b[0m\u001b[0;32m    848\u001b[0m                 \u001b[1;32mreturn\u001b[0m \u001b[1;32mTrue\u001b[0m\u001b[1;33m\u001b[0m\u001b[1;33m\u001b[0m\u001b[0m\n\u001b[0;32m    849\u001b[0m \u001b[1;33m\u001b[0m\u001b[0m\n",
      "\u001b[1;32m~\\Anaconda3\\lib\\site-packages\\joblib\\parallel.py\u001b[0m in \u001b[0;36m_dispatch\u001b[1;34m(self, batch)\u001b[0m\n\u001b[0;32m    763\u001b[0m         \u001b[1;32mwith\u001b[0m \u001b[0mself\u001b[0m\u001b[1;33m.\u001b[0m\u001b[0m_lock\u001b[0m\u001b[1;33m:\u001b[0m\u001b[1;33m\u001b[0m\u001b[1;33m\u001b[0m\u001b[0m\n\u001b[0;32m    764\u001b[0m             \u001b[0mjob_idx\u001b[0m \u001b[1;33m=\u001b[0m \u001b[0mlen\u001b[0m\u001b[1;33m(\u001b[0m\u001b[0mself\u001b[0m\u001b[1;33m.\u001b[0m\u001b[0m_jobs\u001b[0m\u001b[1;33m)\u001b[0m\u001b[1;33m\u001b[0m\u001b[1;33m\u001b[0m\u001b[0m\n\u001b[1;32m--> 765\u001b[1;33m             \u001b[0mjob\u001b[0m \u001b[1;33m=\u001b[0m \u001b[0mself\u001b[0m\u001b[1;33m.\u001b[0m\u001b[0m_backend\u001b[0m\u001b[1;33m.\u001b[0m\u001b[0mapply_async\u001b[0m\u001b[1;33m(\u001b[0m\u001b[0mbatch\u001b[0m\u001b[1;33m,\u001b[0m \u001b[0mcallback\u001b[0m\u001b[1;33m=\u001b[0m\u001b[0mcb\u001b[0m\u001b[1;33m)\u001b[0m\u001b[1;33m\u001b[0m\u001b[1;33m\u001b[0m\u001b[0m\n\u001b[0m\u001b[0;32m    766\u001b[0m             \u001b[1;31m# A job can complete so quickly than its callback is\u001b[0m\u001b[1;33m\u001b[0m\u001b[1;33m\u001b[0m\u001b[1;33m\u001b[0m\u001b[0m\n\u001b[0;32m    767\u001b[0m             \u001b[1;31m# called before we get here, causing self._jobs to\u001b[0m\u001b[1;33m\u001b[0m\u001b[1;33m\u001b[0m\u001b[1;33m\u001b[0m\u001b[0m\n",
      "\u001b[1;32m~\\Anaconda3\\lib\\site-packages\\joblib\\_parallel_backends.py\u001b[0m in \u001b[0;36mapply_async\u001b[1;34m(self, func, callback)\u001b[0m\n\u001b[0;32m    206\u001b[0m     \u001b[1;32mdef\u001b[0m \u001b[0mapply_async\u001b[0m\u001b[1;33m(\u001b[0m\u001b[0mself\u001b[0m\u001b[1;33m,\u001b[0m \u001b[0mfunc\u001b[0m\u001b[1;33m,\u001b[0m \u001b[0mcallback\u001b[0m\u001b[1;33m=\u001b[0m\u001b[1;32mNone\u001b[0m\u001b[1;33m)\u001b[0m\u001b[1;33m:\u001b[0m\u001b[1;33m\u001b[0m\u001b[1;33m\u001b[0m\u001b[0m\n\u001b[0;32m    207\u001b[0m         \u001b[1;34m\"\"\"Schedule a func to be run\"\"\"\u001b[0m\u001b[1;33m\u001b[0m\u001b[1;33m\u001b[0m\u001b[0m\n\u001b[1;32m--> 208\u001b[1;33m         \u001b[0mresult\u001b[0m \u001b[1;33m=\u001b[0m \u001b[0mImmediateResult\u001b[0m\u001b[1;33m(\u001b[0m\u001b[0mfunc\u001b[0m\u001b[1;33m)\u001b[0m\u001b[1;33m\u001b[0m\u001b[1;33m\u001b[0m\u001b[0m\n\u001b[0m\u001b[0;32m    209\u001b[0m         \u001b[1;32mif\u001b[0m \u001b[0mcallback\u001b[0m\u001b[1;33m:\u001b[0m\u001b[1;33m\u001b[0m\u001b[1;33m\u001b[0m\u001b[0m\n\u001b[0;32m    210\u001b[0m             \u001b[0mcallback\u001b[0m\u001b[1;33m(\u001b[0m\u001b[0mresult\u001b[0m\u001b[1;33m)\u001b[0m\u001b[1;33m\u001b[0m\u001b[1;33m\u001b[0m\u001b[0m\n",
      "\u001b[1;32m~\\Anaconda3\\lib\\site-packages\\joblib\\_parallel_backends.py\u001b[0m in \u001b[0;36m__init__\u001b[1;34m(self, batch)\u001b[0m\n\u001b[0;32m    570\u001b[0m         \u001b[1;31m# Don't delay the application, to avoid keeping the input\u001b[0m\u001b[1;33m\u001b[0m\u001b[1;33m\u001b[0m\u001b[1;33m\u001b[0m\u001b[0m\n\u001b[0;32m    571\u001b[0m         \u001b[1;31m# arguments in memory\u001b[0m\u001b[1;33m\u001b[0m\u001b[1;33m\u001b[0m\u001b[1;33m\u001b[0m\u001b[0m\n\u001b[1;32m--> 572\u001b[1;33m         \u001b[0mself\u001b[0m\u001b[1;33m.\u001b[0m\u001b[0mresults\u001b[0m \u001b[1;33m=\u001b[0m \u001b[0mbatch\u001b[0m\u001b[1;33m(\u001b[0m\u001b[1;33m)\u001b[0m\u001b[1;33m\u001b[0m\u001b[1;33m\u001b[0m\u001b[0m\n\u001b[0m\u001b[0;32m    573\u001b[0m \u001b[1;33m\u001b[0m\u001b[0m\n\u001b[0;32m    574\u001b[0m     \u001b[1;32mdef\u001b[0m \u001b[0mget\u001b[0m\u001b[1;33m(\u001b[0m\u001b[0mself\u001b[0m\u001b[1;33m)\u001b[0m\u001b[1;33m:\u001b[0m\u001b[1;33m\u001b[0m\u001b[1;33m\u001b[0m\u001b[0m\n",
      "\u001b[1;32m~\\Anaconda3\\lib\\site-packages\\joblib\\parallel.py\u001b[0m in \u001b[0;36m__call__\u001b[1;34m(self)\u001b[0m\n\u001b[0;32m    250\u001b[0m         \u001b[1;31m# change the default number of processes to -1\u001b[0m\u001b[1;33m\u001b[0m\u001b[1;33m\u001b[0m\u001b[1;33m\u001b[0m\u001b[0m\n\u001b[0;32m    251\u001b[0m         \u001b[1;32mwith\u001b[0m \u001b[0mparallel_backend\u001b[0m\u001b[1;33m(\u001b[0m\u001b[0mself\u001b[0m\u001b[1;33m.\u001b[0m\u001b[0m_backend\u001b[0m\u001b[1;33m,\u001b[0m \u001b[0mn_jobs\u001b[0m\u001b[1;33m=\u001b[0m\u001b[0mself\u001b[0m\u001b[1;33m.\u001b[0m\u001b[0m_n_jobs\u001b[0m\u001b[1;33m)\u001b[0m\u001b[1;33m:\u001b[0m\u001b[1;33m\u001b[0m\u001b[1;33m\u001b[0m\u001b[0m\n\u001b[1;32m--> 252\u001b[1;33m             return [func(*args, **kwargs)\n\u001b[0m\u001b[0;32m    253\u001b[0m                     for func, args, kwargs in self.items]\n\u001b[0;32m    254\u001b[0m \u001b[1;33m\u001b[0m\u001b[0m\n",
      "\u001b[1;32m~\\Anaconda3\\lib\\site-packages\\joblib\\parallel.py\u001b[0m in \u001b[0;36m<listcomp>\u001b[1;34m(.0)\u001b[0m\n\u001b[0;32m    250\u001b[0m         \u001b[1;31m# change the default number of processes to -1\u001b[0m\u001b[1;33m\u001b[0m\u001b[1;33m\u001b[0m\u001b[1;33m\u001b[0m\u001b[0m\n\u001b[0;32m    251\u001b[0m         \u001b[1;32mwith\u001b[0m \u001b[0mparallel_backend\u001b[0m\u001b[1;33m(\u001b[0m\u001b[0mself\u001b[0m\u001b[1;33m.\u001b[0m\u001b[0m_backend\u001b[0m\u001b[1;33m,\u001b[0m \u001b[0mn_jobs\u001b[0m\u001b[1;33m=\u001b[0m\u001b[0mself\u001b[0m\u001b[1;33m.\u001b[0m\u001b[0m_n_jobs\u001b[0m\u001b[1;33m)\u001b[0m\u001b[1;33m:\u001b[0m\u001b[1;33m\u001b[0m\u001b[1;33m\u001b[0m\u001b[0m\n\u001b[1;32m--> 252\u001b[1;33m             return [func(*args, **kwargs)\n\u001b[0m\u001b[0;32m    253\u001b[0m                     for func, args, kwargs in self.items]\n\u001b[0;32m    254\u001b[0m \u001b[1;33m\u001b[0m\u001b[0m\n",
      "\u001b[1;32m~\\Anaconda3\\lib\\site-packages\\sklearn\\model_selection\\_validation.py\u001b[0m in \u001b[0;36m_fit_and_score\u001b[1;34m(estimator, X, y, scorer, train, test, verbose, parameters, fit_params, return_train_score, return_parameters, return_n_test_samples, return_times, return_estimator, error_score)\u001b[0m\n\u001b[0;32m    529\u001b[0m             \u001b[0mestimator\u001b[0m\u001b[1;33m.\u001b[0m\u001b[0mfit\u001b[0m\u001b[1;33m(\u001b[0m\u001b[0mX_train\u001b[0m\u001b[1;33m,\u001b[0m \u001b[1;33m**\u001b[0m\u001b[0mfit_params\u001b[0m\u001b[1;33m)\u001b[0m\u001b[1;33m\u001b[0m\u001b[1;33m\u001b[0m\u001b[0m\n\u001b[0;32m    530\u001b[0m         \u001b[1;32melse\u001b[0m\u001b[1;33m:\u001b[0m\u001b[1;33m\u001b[0m\u001b[1;33m\u001b[0m\u001b[0m\n\u001b[1;32m--> 531\u001b[1;33m             \u001b[0mestimator\u001b[0m\u001b[1;33m.\u001b[0m\u001b[0mfit\u001b[0m\u001b[1;33m(\u001b[0m\u001b[0mX_train\u001b[0m\u001b[1;33m,\u001b[0m \u001b[0my_train\u001b[0m\u001b[1;33m,\u001b[0m \u001b[1;33m**\u001b[0m\u001b[0mfit_params\u001b[0m\u001b[1;33m)\u001b[0m\u001b[1;33m\u001b[0m\u001b[1;33m\u001b[0m\u001b[0m\n\u001b[0m\u001b[0;32m    532\u001b[0m \u001b[1;33m\u001b[0m\u001b[0m\n\u001b[0;32m    533\u001b[0m     \u001b[1;32mexcept\u001b[0m \u001b[0mException\u001b[0m \u001b[1;32mas\u001b[0m \u001b[0me\u001b[0m\u001b[1;33m:\u001b[0m\u001b[1;33m\u001b[0m\u001b[1;33m\u001b[0m\u001b[0m\n",
      "\u001b[1;32m~\\Anaconda3\\lib\\site-packages\\lightgbm\\sklearn.py\u001b[0m in \u001b[0;36mfit\u001b[1;34m(self, X, y, sample_weight, init_score, eval_set, eval_names, eval_sample_weight, eval_class_weight, eval_init_score, eval_metric, early_stopping_rounds, verbose, feature_name, categorical_feature, callbacks, init_model)\u001b[0m\n\u001b[0;32m    826\u001b[0m                     \u001b[0mvalid_sets\u001b[0m\u001b[1;33m[\u001b[0m\u001b[0mi\u001b[0m\u001b[1;33m]\u001b[0m \u001b[1;33m=\u001b[0m \u001b[1;33m(\u001b[0m\u001b[0mvalid_x\u001b[0m\u001b[1;33m,\u001b[0m \u001b[0mself\u001b[0m\u001b[1;33m.\u001b[0m\u001b[0m_le\u001b[0m\u001b[1;33m.\u001b[0m\u001b[0mtransform\u001b[0m\u001b[1;33m(\u001b[0m\u001b[0mvalid_y\u001b[0m\u001b[1;33m)\u001b[0m\u001b[1;33m)\u001b[0m\u001b[1;33m\u001b[0m\u001b[1;33m\u001b[0m\u001b[0m\n\u001b[0;32m    827\u001b[0m \u001b[1;33m\u001b[0m\u001b[0m\n\u001b[1;32m--> 828\u001b[1;33m         super(LGBMClassifier, self).fit(X, _y, sample_weight=sample_weight,\n\u001b[0m\u001b[0;32m    829\u001b[0m                                         \u001b[0minit_score\u001b[0m\u001b[1;33m=\u001b[0m\u001b[0minit_score\u001b[0m\u001b[1;33m,\u001b[0m \u001b[0meval_set\u001b[0m\u001b[1;33m=\u001b[0m\u001b[0mvalid_sets\u001b[0m\u001b[1;33m,\u001b[0m\u001b[1;33m\u001b[0m\u001b[1;33m\u001b[0m\u001b[0m\n\u001b[0;32m    830\u001b[0m                                         \u001b[0meval_names\u001b[0m\u001b[1;33m=\u001b[0m\u001b[0meval_names\u001b[0m\u001b[1;33m,\u001b[0m\u001b[1;33m\u001b[0m\u001b[1;33m\u001b[0m\u001b[0m\n",
      "\u001b[1;32m~\\Anaconda3\\lib\\site-packages\\lightgbm\\sklearn.py\u001b[0m in \u001b[0;36mfit\u001b[1;34m(self, X, y, sample_weight, init_score, group, eval_set, eval_names, eval_sample_weight, eval_class_weight, eval_init_score, eval_group, eval_metric, early_stopping_rounds, verbose, feature_name, categorical_feature, callbacks, init_model)\u001b[0m\n\u001b[0;32m    593\u001b[0m             \u001b[0minit_model\u001b[0m \u001b[1;33m=\u001b[0m \u001b[0minit_model\u001b[0m\u001b[1;33m.\u001b[0m\u001b[0mbooster_\u001b[0m\u001b[1;33m\u001b[0m\u001b[1;33m\u001b[0m\u001b[0m\n\u001b[0;32m    594\u001b[0m \u001b[1;33m\u001b[0m\u001b[0m\n\u001b[1;32m--> 595\u001b[1;33m         self._Booster = train(params, train_set,\n\u001b[0m\u001b[0;32m    596\u001b[0m                               \u001b[0mself\u001b[0m\u001b[1;33m.\u001b[0m\u001b[0mn_estimators\u001b[0m\u001b[1;33m,\u001b[0m \u001b[0mvalid_sets\u001b[0m\u001b[1;33m=\u001b[0m\u001b[0mvalid_sets\u001b[0m\u001b[1;33m,\u001b[0m \u001b[0mvalid_names\u001b[0m\u001b[1;33m=\u001b[0m\u001b[0meval_names\u001b[0m\u001b[1;33m,\u001b[0m\u001b[1;33m\u001b[0m\u001b[1;33m\u001b[0m\u001b[0m\n\u001b[0;32m    597\u001b[0m                               \u001b[0mearly_stopping_rounds\u001b[0m\u001b[1;33m=\u001b[0m\u001b[0mearly_stopping_rounds\u001b[0m\u001b[1;33m,\u001b[0m\u001b[1;33m\u001b[0m\u001b[1;33m\u001b[0m\u001b[0m\n",
      "\u001b[1;32m~\\Anaconda3\\lib\\site-packages\\lightgbm\\engine.py\u001b[0m in \u001b[0;36mtrain\u001b[1;34m(params, train_set, num_boost_round, valid_sets, valid_names, fobj, feval, init_model, feature_name, categorical_feature, early_stopping_rounds, evals_result, verbose_eval, learning_rates, keep_training_booster, callbacks)\u001b[0m\n\u001b[0;32m    250\u001b[0m                                     evaluation_result_list=None))\n\u001b[0;32m    251\u001b[0m \u001b[1;33m\u001b[0m\u001b[0m\n\u001b[1;32m--> 252\u001b[1;33m         \u001b[0mbooster\u001b[0m\u001b[1;33m.\u001b[0m\u001b[0mupdate\u001b[0m\u001b[1;33m(\u001b[0m\u001b[0mfobj\u001b[0m\u001b[1;33m=\u001b[0m\u001b[0mfobj\u001b[0m\u001b[1;33m)\u001b[0m\u001b[1;33m\u001b[0m\u001b[1;33m\u001b[0m\u001b[0m\n\u001b[0m\u001b[0;32m    253\u001b[0m \u001b[1;33m\u001b[0m\u001b[0m\n\u001b[0;32m    254\u001b[0m         \u001b[0mevaluation_result_list\u001b[0m \u001b[1;33m=\u001b[0m \u001b[1;33m[\u001b[0m\u001b[1;33m]\u001b[0m\u001b[1;33m\u001b[0m\u001b[1;33m\u001b[0m\u001b[0m\n",
      "\u001b[1;32m~\\Anaconda3\\lib\\site-packages\\lightgbm\\basic.py\u001b[0m in \u001b[0;36mupdate\u001b[1;34m(self, train_set, fobj)\u001b[0m\n\u001b[0;32m   2368\u001b[0m             \u001b[1;32mif\u001b[0m \u001b[0mself\u001b[0m\u001b[1;33m.\u001b[0m\u001b[0m__set_objective_to_none\u001b[0m\u001b[1;33m:\u001b[0m\u001b[1;33m\u001b[0m\u001b[1;33m\u001b[0m\u001b[0m\n\u001b[0;32m   2369\u001b[0m                 \u001b[1;32mraise\u001b[0m \u001b[0mLightGBMError\u001b[0m\u001b[1;33m(\u001b[0m\u001b[1;34m'Cannot update due to null objective function.'\u001b[0m\u001b[1;33m)\u001b[0m\u001b[1;33m\u001b[0m\u001b[1;33m\u001b[0m\u001b[0m\n\u001b[1;32m-> 2370\u001b[1;33m             _safe_call(_LIB.LGBM_BoosterUpdateOneIter(\n\u001b[0m\u001b[0;32m   2371\u001b[0m                 \u001b[0mself\u001b[0m\u001b[1;33m.\u001b[0m\u001b[0mhandle\u001b[0m\u001b[1;33m,\u001b[0m\u001b[1;33m\u001b[0m\u001b[1;33m\u001b[0m\u001b[0m\n\u001b[0;32m   2372\u001b[0m                 ctypes.byref(is_finished)))\n",
      "\u001b[1;31mKeyboardInterrupt\u001b[0m: "
     ]
    }
   ],
   "source": [
    "lgb_params = {\n",
    "    'max_depth' : [5, 10, -1],\n",
    "    'n_estimators' : [100, 200, 300]\n",
    "}\n",
    "grid = GridSearchCV(lgb, lgb_params, scoring = 'neg_log_loss', cv = kfold, verbose = 1)\n",
    "grid.fit(train_mean_vector2, label)\n",
    "print(grid.best_estimator_)\n",
    "print(grid.best_score_)"
   ]
  },
  {
   "cell_type": "code",
   "execution_count": null,
   "metadata": {
    "id": "ToE08YyTxMh-"
   },
   "outputs": [],
   "source": [
    "#submission = pd.read_csv('/content/drive/My Drive/ML_Session_9주차/dataset/sample_submission.csv')"
   ]
  },
  {
   "cell_type": "code",
   "execution_count": null,
   "metadata": {
    "colab": {
     "base_uri": "https://localhost:8080/",
     "height": 419
    },
    "id": "iT66M3NJoVzG",
    "outputId": "284ad174-4092-4d2f-a8b2-32ecb205a336"
   },
   "outputs": [
    {
     "data": {
      "text/html": [
       "<div>\n",
       "<style scoped>\n",
       "    .dataframe tbody tr th:only-of-type {\n",
       "        vertical-align: middle;\n",
       "    }\n",
       "\n",
       "    .dataframe tbody tr th {\n",
       "        vertical-align: top;\n",
       "    }\n",
       "\n",
       "    .dataframe thead th {\n",
       "        text-align: right;\n",
       "    }\n",
       "</style>\n",
       "<table border=\"1\" class=\"dataframe\">\n",
       "  <thead>\n",
       "    <tr style=\"text-align: right;\">\n",
       "      <th></th>\n",
       "      <th>CLNT_ID</th>\n",
       "      <th>F20</th>\n",
       "      <th>F30</th>\n",
       "      <th>F40</th>\n",
       "      <th>M20</th>\n",
       "      <th>M30</th>\n",
       "      <th>M40</th>\n",
       "    </tr>\n",
       "  </thead>\n",
       "  <tbody>\n",
       "    <tr>\n",
       "      <th>0</th>\n",
       "      <td>263104</td>\n",
       "      <td>0.166668</td>\n",
       "      <td>0.350715</td>\n",
       "      <td>0.393862</td>\n",
       "      <td>0.017699</td>\n",
       "      <td>0.025007</td>\n",
       "      <td>0.046049</td>\n",
       "    </tr>\n",
       "    <tr>\n",
       "      <th>1</th>\n",
       "      <td>263105</td>\n",
       "      <td>0.252262</td>\n",
       "      <td>0.463752</td>\n",
       "      <td>0.247723</td>\n",
       "      <td>0.007642</td>\n",
       "      <td>0.011975</td>\n",
       "      <td>0.016645</td>\n",
       "    </tr>\n",
       "    <tr>\n",
       "      <th>2</th>\n",
       "      <td>263106</td>\n",
       "      <td>0.114513</td>\n",
       "      <td>0.303993</td>\n",
       "      <td>0.245152</td>\n",
       "      <td>0.055791</td>\n",
       "      <td>0.110094</td>\n",
       "      <td>0.170458</td>\n",
       "    </tr>\n",
       "    <tr>\n",
       "      <th>3</th>\n",
       "      <td>263107</td>\n",
       "      <td>0.012614</td>\n",
       "      <td>0.727469</td>\n",
       "      <td>0.200745</td>\n",
       "      <td>0.000354</td>\n",
       "      <td>0.030571</td>\n",
       "      <td>0.028247</td>\n",
       "    </tr>\n",
       "    <tr>\n",
       "      <th>4</th>\n",
       "      <td>263108</td>\n",
       "      <td>0.172688</td>\n",
       "      <td>0.448299</td>\n",
       "      <td>0.274940</td>\n",
       "      <td>0.023754</td>\n",
       "      <td>0.043421</td>\n",
       "      <td>0.036900</td>\n",
       "    </tr>\n",
       "    <tr>\n",
       "      <th>...</th>\n",
       "      <td>...</td>\n",
       "      <td>...</td>\n",
       "      <td>...</td>\n",
       "      <td>...</td>\n",
       "      <td>...</td>\n",
       "      <td>...</td>\n",
       "      <td>...</td>\n",
       "    </tr>\n",
       "    <tr>\n",
       "      <th>112755</th>\n",
       "      <td>375859</td>\n",
       "      <td>0.132602</td>\n",
       "      <td>0.226448</td>\n",
       "      <td>0.161495</td>\n",
       "      <td>0.182980</td>\n",
       "      <td>0.202075</td>\n",
       "      <td>0.094401</td>\n",
       "    </tr>\n",
       "    <tr>\n",
       "      <th>112756</th>\n",
       "      <td>375860</td>\n",
       "      <td>0.046844</td>\n",
       "      <td>0.155891</td>\n",
       "      <td>0.763120</td>\n",
       "      <td>0.001083</td>\n",
       "      <td>0.004353</td>\n",
       "      <td>0.028708</td>\n",
       "    </tr>\n",
       "    <tr>\n",
       "      <th>112757</th>\n",
       "      <td>375861</td>\n",
       "      <td>0.054655</td>\n",
       "      <td>0.396863</td>\n",
       "      <td>0.462885</td>\n",
       "      <td>0.004508</td>\n",
       "      <td>0.029988</td>\n",
       "      <td>0.051100</td>\n",
       "    </tr>\n",
       "    <tr>\n",
       "      <th>112758</th>\n",
       "      <td>375862</td>\n",
       "      <td>0.104296</td>\n",
       "      <td>0.194280</td>\n",
       "      <td>0.256952</td>\n",
       "      <td>0.134644</td>\n",
       "      <td>0.154502</td>\n",
       "      <td>0.155326</td>\n",
       "    </tr>\n",
       "    <tr>\n",
       "      <th>112759</th>\n",
       "      <td>375863</td>\n",
       "      <td>0.235945</td>\n",
       "      <td>0.384329</td>\n",
       "      <td>0.287863</td>\n",
       "      <td>0.015414</td>\n",
       "      <td>0.049395</td>\n",
       "      <td>0.027054</td>\n",
       "    </tr>\n",
       "  </tbody>\n",
       "</table>\n",
       "<p>112760 rows × 7 columns</p>\n",
       "</div>"
      ],
      "text/plain": [
       "        CLNT_ID       F20       F30       F40       M20       M30       M40\n",
       "0        263104  0.166668  0.350715  0.393862  0.017699  0.025007  0.046049\n",
       "1        263105  0.252262  0.463752  0.247723  0.007642  0.011975  0.016645\n",
       "2        263106  0.114513  0.303993  0.245152  0.055791  0.110094  0.170458\n",
       "3        263107  0.012614  0.727469  0.200745  0.000354  0.030571  0.028247\n",
       "4        263108  0.172688  0.448299  0.274940  0.023754  0.043421  0.036900\n",
       "...         ...       ...       ...       ...       ...       ...       ...\n",
       "112755   375859  0.132602  0.226448  0.161495  0.182980  0.202075  0.094401\n",
       "112756   375860  0.046844  0.155891  0.763120  0.001083  0.004353  0.028708\n",
       "112757   375861  0.054655  0.396863  0.462885  0.004508  0.029988  0.051100\n",
       "112758   375862  0.104296  0.194280  0.256952  0.134644  0.154502  0.155326\n",
       "112759   375863  0.235945  0.384329  0.287863  0.015414  0.049395  0.027054\n",
       "\n",
       "[112760 rows x 7 columns]"
      ]
     },
     "execution_count": 95,
     "metadata": {
      "tags": []
     },
     "output_type": "execute_result"
    }
   ],
   "source": [
    "pred = grid.predict_proba(test_mean_vector2)\n",
    "submission.loc[:,'F20':'M40'] = pred ; submission"
   ]
  },
  {
   "cell_type": "code",
   "execution_count": null,
   "metadata": {
    "id": "ku9tDre6oYXH"
   },
   "outputs": [],
   "source": [
    "t = pd.Timestamp.now()\n",
    "name = '이지평'\n",
    "fname = f\"{name}_submission_{t.month:11}{t.day:24}{t.hour:19}{t.minute:20}.csv\"\n",
    "submission.to_csv('/content/drive/My Drive/ML_Session_9주차/w2v-lgb.csv',index=False)"
   ]
  },
  {
   "cell_type": "code",
   "execution_count": null,
   "metadata": {
    "colab": {
     "background_save": true,
     "base_uri": "https://localhost:8080/"
    },
    "id": "l7cBonBf3qEV",
    "outputId": "0be9f91b-9392-4502-df3f-4cc10567487a"
   },
   "outputs": [
    {
     "name": "stdout",
     "output_type": "stream",
     "text": [
      "Fitting 4 folds for each of 8 candidates, totalling 32 fits\n"
     ]
    },
    {
     "name": "stderr",
     "output_type": "stream",
     "text": [
      "[Parallel(n_jobs=1)]: Using backend SequentialBackend with 1 concurrent workers.\n",
      "[Parallel(n_jobs=1)]: Done  32 out of  32 | elapsed:  7.8min finished\n"
     ]
    },
    {
     "name": "stdout",
     "output_type": "stream",
     "text": [
      "LogisticRegression(C=0.5, class_weight=None, dual=False, fit_intercept=True,\n",
      "                   intercept_scaling=1, l1_ratio=None, max_iter=100,\n",
      "                   multi_class='auto', n_jobs=5, penalty='l2',\n",
      "                   random_state=None, solver='lbfgs', tol=0.0001, verbose=0,\n",
      "                   warm_start=False)\n",
      "-1.2489118596897988\n"
     ]
    }
   ],
   "source": [
    "lr_params = {'C': [0.005, 0.01, 0.05, 0.1, 0.5, 1, 3, 5]}\n",
    "grid = grid = GridSearchCV(lr, lr_params, scoring = 'neg_log_loss', cv = kfold, verbose = 1)\n",
    "grid.fit(train_mean_vector, label)\n",
    "print(grid.best_estimator_)\n",
    "print(grid.best_score_)"
   ]
  },
  {
   "cell_type": "code",
   "execution_count": null,
   "metadata": {
    "id": "l7jZtrDnf-Ru"
   },
   "outputs": [],
   "source": []
  },
  {
   "cell_type": "code",
   "execution_count": null,
   "metadata": {
    "id": "Dfo9FkNtf-ez"
   },
   "outputs": [],
   "source": []
  },
  {
   "cell_type": "code",
   "execution_count": null,
   "metadata": {
    "id": "UOSBDPjt6SjG"
   },
   "outputs": [],
   "source": []
  }
 ],
 "metadata": {
  "colab": {
   "collapsed_sections": [],
   "name": "W2v.ipynb",
   "provenance": []
  },
  "kernelspec": {
   "display_name": "Python 3",
   "language": "python",
   "name": "python3"
  },
  "language_info": {
   "codemirror_mode": {
    "name": "ipython",
    "version": 3
   },
   "file_extension": ".py",
   "mimetype": "text/x-python",
   "name": "python",
   "nbconvert_exporter": "python",
   "pygments_lexer": "ipython3",
   "version": "3.8.5"
  }
 },
 "nbformat": 4,
 "nbformat_minor": 1
}
